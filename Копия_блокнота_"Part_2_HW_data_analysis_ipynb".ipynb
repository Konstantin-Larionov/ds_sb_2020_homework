{
  "nbformat": 4,
  "nbformat_minor": 0,
  "metadata": {
    "colab": {
      "name": "Копия блокнота \"Part_2_HW_data_analysis.ipynb\"",
      "provenance": [],
      "collapsed_sections": [],
      "include_colab_link": true
    },
    "kernelspec": {
      "name": "python3",
      "display_name": "Python 3"
    }
  },
  "cells": [
    {
      "cell_type": "markdown",
      "metadata": {
        "id": "view-in-github",
        "colab_type": "text"
      },
      "source": [
        "<a href=\"https://colab.research.google.com/github/Konstantin-Larionov/ds_sb_2020_homework/blob/main/%D0%9A%D0%BE%D0%BF%D0%B8%D1%8F_%D0%B1%D0%BB%D0%BE%D0%BA%D0%BD%D0%BE%D1%82%D0%B0_%22Part_2_HW_data_analysis_ipynb%22.ipynb\" target=\"_parent\"><img src=\"https://colab.research.google.com/assets/colab-badge.svg\" alt=\"Open In Colab\"/></a>"
      ]
    },
    {
      "cell_type": "markdown",
      "metadata": {
        "id": "sVt9Gn6oPL9h"
      },
      "source": [
        "## Домашнее задание. Часть 2.\n",
        "\n",
        "\n",
        "Вего за эту часть ДЗ можно набрать максимум **8.5 баллов**. Разбиение баллов по каждой из задач представлено непосредственно перед текстом каждой задачи.\n",
        "\n",
        "**Дедлайн - пятница, 11.12.2020 в 23:59.**\n",
        "\n",
        "Дедлайн жесткий, сдача после дедлайна - 0 баллов за ДЗ.\n",
        "\n",
        "Ссылка на ноутбук в колабе: https://colab.research.google.com/drive/18Yom8NjCpK0XAVaO6-RzNs9--foqKtio?usp=sharing\n",
        "\n",
        "В этой части ДЗ Вам необходимо будет работать с датасетами - все они лежат в репозитории курса, а именно https://github.com/ddvika/Data-Science-School-2020/tree/main/hw_intermediate в папке `\"materials\"`\n",
        "\n",
        "а также на гугл диске:\n",
        "https://drive.google.com/drive/folders/1mvcBvJ_2341foynNnvmkJh3EJdS4_b4m?usp=sharing\n",
        "\n",
        "Вы можете обойтись и без скачивания, тк все данные импортируются напрямую из гитхаб"
      ]
    },
    {
      "cell_type": "markdown",
      "metadata": {
        "id": "LeUfW2A1PVqp"
      },
      "source": [
        "# Задание 1\n",
        "файл 'file_example_XLSX_1000.xlsx' лежит в репозитории и на гугл диске по ссылке выше"
      ]
    },
    {
      "cell_type": "markdown",
      "metadata": {
        "id": "5TBfORBwQXPQ"
      },
      "source": [
        "**0.5 point**\n",
        "\n",
        "- убрать ненужный столбец Unnamed\n",
        "\n",
        "**0.5 point**\n",
        "- Отсортировать людей по возрасту\n",
        "\n",
        "**0.5 point**\n",
        "- разделить людей по полу (сохраните в переменные female, male)\n",
        "\n",
        "**1 point**\n",
        "- построить гистограмму возрастов для мужчин и гистограмму возрастов для женщин"
      ]
    },
    {
      "cell_type": "code",
      "metadata": {
        "colab": {
          "base_uri": "https://localhost:8080/",
          "height": 419
        },
        "id": "utpj-YhpPNCe",
        "outputId": "d5a23db8-8d56-4c30-f72a-be09625f59a3"
      },
      "source": [
        "import pandas as pd\n",
        "df = pd.read_excel('https://github.com/ddvika/Data-Science-School-2020/blob/main/hw_intermediate/materials/file_example_XLSX_1000.xlsx?raw=true')\n",
        "df"
      ],
      "execution_count": 10,
      "outputs": [
        {
          "output_type": "execute_result",
          "data": {
            "text/html": [
              "<div>\n",
              "<style scoped>\n",
              "    .dataframe tbody tr th:only-of-type {\n",
              "        vertical-align: middle;\n",
              "    }\n",
              "\n",
              "    .dataframe tbody tr th {\n",
              "        vertical-align: top;\n",
              "    }\n",
              "\n",
              "    .dataframe thead th {\n",
              "        text-align: right;\n",
              "    }\n",
              "</style>\n",
              "<table border=\"1\" class=\"dataframe\">\n",
              "  <thead>\n",
              "    <tr style=\"text-align: right;\">\n",
              "      <th></th>\n",
              "      <th>Unnamed: 0</th>\n",
              "      <th>First Name</th>\n",
              "      <th>Last Name</th>\n",
              "      <th>Gender</th>\n",
              "      <th>Country</th>\n",
              "      <th>Age</th>\n",
              "      <th>Date</th>\n",
              "      <th>Id</th>\n",
              "    </tr>\n",
              "  </thead>\n",
              "  <tbody>\n",
              "    <tr>\n",
              "      <th>0</th>\n",
              "      <td>1</td>\n",
              "      <td>Dulce</td>\n",
              "      <td>Abril</td>\n",
              "      <td>Female</td>\n",
              "      <td>United States</td>\n",
              "      <td>32</td>\n",
              "      <td>15/10/2017</td>\n",
              "      <td>1562</td>\n",
              "    </tr>\n",
              "    <tr>\n",
              "      <th>1</th>\n",
              "      <td>2</td>\n",
              "      <td>Mara</td>\n",
              "      <td>Hashimoto</td>\n",
              "      <td>Female</td>\n",
              "      <td>Great Britain</td>\n",
              "      <td>25</td>\n",
              "      <td>16/08/2016</td>\n",
              "      <td>1582</td>\n",
              "    </tr>\n",
              "    <tr>\n",
              "      <th>2</th>\n",
              "      <td>3</td>\n",
              "      <td>Philip</td>\n",
              "      <td>Gent</td>\n",
              "      <td>Male</td>\n",
              "      <td>France</td>\n",
              "      <td>36</td>\n",
              "      <td>21/05/2015</td>\n",
              "      <td>2587</td>\n",
              "    </tr>\n",
              "    <tr>\n",
              "      <th>3</th>\n",
              "      <td>4</td>\n",
              "      <td>Kathleen</td>\n",
              "      <td>Hanner</td>\n",
              "      <td>Female</td>\n",
              "      <td>United States</td>\n",
              "      <td>25</td>\n",
              "      <td>15/10/2017</td>\n",
              "      <td>3549</td>\n",
              "    </tr>\n",
              "    <tr>\n",
              "      <th>4</th>\n",
              "      <td>5</td>\n",
              "      <td>Nereida</td>\n",
              "      <td>Magwood</td>\n",
              "      <td>Female</td>\n",
              "      <td>United States</td>\n",
              "      <td>58</td>\n",
              "      <td>16/08/2016</td>\n",
              "      <td>2468</td>\n",
              "    </tr>\n",
              "    <tr>\n",
              "      <th>...</th>\n",
              "      <td>...</td>\n",
              "      <td>...</td>\n",
              "      <td>...</td>\n",
              "      <td>...</td>\n",
              "      <td>...</td>\n",
              "      <td>...</td>\n",
              "      <td>...</td>\n",
              "      <td>...</td>\n",
              "    </tr>\n",
              "    <tr>\n",
              "      <th>995</th>\n",
              "      <td>996</td>\n",
              "      <td>Roma</td>\n",
              "      <td>Lafollette</td>\n",
              "      <td>Female</td>\n",
              "      <td>United States</td>\n",
              "      <td>34</td>\n",
              "      <td>15/10/2017</td>\n",
              "      <td>2654</td>\n",
              "    </tr>\n",
              "    <tr>\n",
              "      <th>996</th>\n",
              "      <td>997</td>\n",
              "      <td>Felisa</td>\n",
              "      <td>Cail</td>\n",
              "      <td>Female</td>\n",
              "      <td>United States</td>\n",
              "      <td>28</td>\n",
              "      <td>16/08/2016</td>\n",
              "      <td>6525</td>\n",
              "    </tr>\n",
              "    <tr>\n",
              "      <th>997</th>\n",
              "      <td>998</td>\n",
              "      <td>Demetria</td>\n",
              "      <td>Abbey</td>\n",
              "      <td>Female</td>\n",
              "      <td>United States</td>\n",
              "      <td>32</td>\n",
              "      <td>21/05/2015</td>\n",
              "      <td>3265</td>\n",
              "    </tr>\n",
              "    <tr>\n",
              "      <th>998</th>\n",
              "      <td>999</td>\n",
              "      <td>Jeromy</td>\n",
              "      <td>Danz</td>\n",
              "      <td>Male</td>\n",
              "      <td>United States</td>\n",
              "      <td>39</td>\n",
              "      <td>15/10/2017</td>\n",
              "      <td>3265</td>\n",
              "    </tr>\n",
              "    <tr>\n",
              "      <th>999</th>\n",
              "      <td>1000</td>\n",
              "      <td>Rasheeda</td>\n",
              "      <td>Alkire</td>\n",
              "      <td>Female</td>\n",
              "      <td>United States</td>\n",
              "      <td>29</td>\n",
              "      <td>16/08/2016</td>\n",
              "      <td>6125</td>\n",
              "    </tr>\n",
              "  </tbody>\n",
              "</table>\n",
              "<p>1000 rows × 8 columns</p>\n",
              "</div>"
            ],
            "text/plain": [
              "     Unnamed: 0 First Name   Last Name  ... Age        Date    Id\n",
              "0             1      Dulce       Abril  ...  32  15/10/2017  1562\n",
              "1             2       Mara   Hashimoto  ...  25  16/08/2016  1582\n",
              "2             3     Philip        Gent  ...  36  21/05/2015  2587\n",
              "3             4   Kathleen      Hanner  ...  25  15/10/2017  3549\n",
              "4             5    Nereida     Magwood  ...  58  16/08/2016  2468\n",
              "..          ...        ...         ...  ...  ..         ...   ...\n",
              "995         996       Roma  Lafollette  ...  34  15/10/2017  2654\n",
              "996         997     Felisa        Cail  ...  28  16/08/2016  6525\n",
              "997         998   Demetria       Abbey  ...  32  21/05/2015  3265\n",
              "998         999     Jeromy        Danz  ...  39  15/10/2017  3265\n",
              "999        1000   Rasheeda      Alkire  ...  29  16/08/2016  6125\n",
              "\n",
              "[1000 rows x 8 columns]"
            ]
          },
          "metadata": {
            "tags": []
          },
          "execution_count": 10
        }
      ]
    },
    {
      "cell_type": "code",
      "metadata": {
        "id": "tB25_D_zPNFV",
        "colab": {
          "base_uri": "https://localhost:8080/"
        },
        "outputId": "2a0aaca6-c355-44ff-ba39-52b72087332f"
      },
      "source": [
        "#TODO\r\n",
        "import pandas as pd\r\n",
        "import matplotlib.pyplot as plt\r\n",
        "\r\n",
        "df = pd.read_excel('https://github.com/ddvika/Data-Science-School-2020/blob/main/hw_intermediate/materials/file_example_XLSX_1000.xlsx?raw=true')\r\n",
        "\r\n",
        "del df['Unnamed: 0']\r\n",
        "\r\n",
        "df = df.sort_values(by='Age')\r\n",
        "\r\n",
        "male = df.loc[df['Gender'] == 'Male']\r\n",
        "female = df.loc[df['Gender'] == 'Female']\r\n",
        "\r\n",
        "print(df)\r\n",
        "print(male)\r\n",
        "print(female)"
      ],
      "execution_count": 39,
      "outputs": [
        {
          "output_type": "stream",
          "text": [
            "    First Name Last Name  Gender        Country  Age        Date    Id\n",
            "824     Lester   Prothro    Male         France   21  15/10/2017  6574\n",
            "24      Lester   Prothro    Male         France   21  15/10/2017  6574\n",
            "574     Lester   Prothro    Male         France   21  15/10/2017  6574\n",
            "324     Lester   Prothro    Male         France   21  15/10/2017  6574\n",
            "124     Lester   Prothro    Male         France   21  15/10/2017  6574\n",
            "..         ...       ...     ...            ...  ...         ...   ...\n",
            "954    Nereida   Magwood  Female  United States   58  16/08/2016  2468\n",
            "54     Nereida   Magwood  Female  United States   58  16/08/2016  2468\n",
            "654    Nereida   Magwood  Female  United States   58  16/08/2016  2468\n",
            "504    Nereida   Magwood  Female  United States   58  16/08/2016  2468\n",
            "154    Nereida   Magwood  Female  United States   58  16/08/2016  2468\n",
            "\n",
            "[1000 rows x 7 columns]\n",
            "    First Name Last Name Gender        Country  Age        Date    Id\n",
            "824     Lester   Prothro   Male         France   21  15/10/2017  6574\n",
            "24      Lester   Prothro   Male         France   21  15/10/2017  6574\n",
            "574     Lester   Prothro   Male         France   21  15/10/2017  6574\n",
            "324     Lester   Prothro   Male         France   21  15/10/2017  6574\n",
            "124     Lester   Prothro   Male         France   21  15/10/2017  6574\n",
            "..         ...       ...    ...            ...  ...         ...   ...\n",
            "778      Garth     Gangi   Male  United States   41  16/08/2016  3256\n",
            "978      Garth     Gangi   Male  United States   41  16/08/2016  3256\n",
            "678      Garth     Gangi   Male  United States   41  16/08/2016  3256\n",
            "528      Garth     Gangi   Male  United States   41  16/08/2016  3256\n",
            "478      Garth     Gangi   Male  United States   41  16/08/2016  3256\n",
            "\n",
            "[240 rows x 7 columns]\n",
            "    First Name  Last Name  Gender        Country  Age        Date    Id\n",
            "277  Francesca  Beaudreau  Female         France   23  15/10/2017  5412\n",
            "227  Francesca  Beaudreau  Female         France   23  15/10/2017  5412\n",
            "77   Francesca  Beaudreau  Female         France   23  15/10/2017  5412\n",
            "577  Francesca  Beaudreau  Female         France   23  15/10/2017  5412\n",
            "177  Francesca  Beaudreau  Female         France   23  15/10/2017  5412\n",
            "..         ...        ...     ...            ...  ...         ...   ...\n",
            "954    Nereida    Magwood  Female  United States   58  16/08/2016  2468\n",
            "54     Nereida    Magwood  Female  United States   58  16/08/2016  2468\n",
            "654    Nereida    Magwood  Female  United States   58  16/08/2016  2468\n",
            "504    Nereida    Magwood  Female  United States   58  16/08/2016  2468\n",
            "154    Nereida    Magwood  Female  United States   58  16/08/2016  2468\n",
            "\n",
            "[760 rows x 7 columns]\n"
          ],
          "name": "stdout"
        }
      ]
    },
    {
      "cell_type": "code",
      "metadata": {
        "colab": {
          "base_uri": "https://localhost:8080/",
          "height": 265
        },
        "id": "7qypi6pADZrR",
        "outputId": "1eed9610-7092-46bb-8f34-05e83b38ae96"
      },
      "source": [
        "hist1 = plt.hist(female['Age'])"
      ],
      "execution_count": 40,
      "outputs": [
        {
          "output_type": "display_data",
          "data": {
            "image/png": "[encoded data removed]",
            "text/plain": [
              "<Figure size 432x288 with 1 Axes>"
            ]
          },
          "metadata": {
            "tags": [],
            "needs_background": "light"
          }
        }
      ]
    },
    {
      "cell_type": "code",
      "metadata": {
        "colab": {
          "base_uri": "https://localhost:8080/",
          "height": 265
        },
        "id": "9qiKL_RcDZXq",
        "outputId": "2663cb87-45f8-4ae0-c383-93670579fefe"
      },
      "source": [
        "hist2 = plt.hist(male['Age'])"
      ],
      "execution_count": 41,
      "outputs": [
        {
          "output_type": "display_data",
          "data": {
            "image/png": "[encoded data removed]",
            "text/plain": [
              "<Figure size 432x288 with 1 Axes>"
            ]
          },
          "metadata": {
            "tags": [],
            "needs_background": "light"
          }
        }
      ]
    },
    {
      "cell_type": "markdown",
      "metadata": {
        "id": "5taxu3miSr6l"
      },
      "source": [
        "# Задание 2\n",
        " "
      ]
    },
    {
      "cell_type": "code",
      "metadata": {
        "colab": {
          "base_uri": "https://localhost:8080/",
          "height": 419
        },
        "id": "bufkpwAYPNIP",
        "outputId": "368fe07d-5cfc-4226-f0dc-59c360fffbe0"
      },
      "source": [
        "df = pd.read_csv('https://raw.githubusercontent.com/ddvika/Data-Science-School-2020/main/hw_intermediate/materials/appl_1980_2014.csv')\n",
        "df"
      ],
      "execution_count": 42,
      "outputs": [
        {
          "output_type": "execute_result",
          "data": {
            "text/html": [
              "<div>\n",
              "<style scoped>\n",
              "    .dataframe tbody tr th:only-of-type {\n",
              "        vertical-align: middle;\n",
              "    }\n",
              "\n",
              "    .dataframe tbody tr th {\n",
              "        vertical-align: top;\n",
              "    }\n",
              "\n",
              "    .dataframe thead th {\n",
              "        text-align: right;\n",
              "    }\n",
              "</style>\n",
              "<table border=\"1\" class=\"dataframe\">\n",
              "  <thead>\n",
              "    <tr style=\"text-align: right;\">\n",
              "      <th></th>\n",
              "      <th>Unnamed: 0</th>\n",
              "      <th>Date</th>\n",
              "      <th>Open</th>\n",
              "      <th>High</th>\n",
              "      <th>Low</th>\n",
              "      <th>Close</th>\n",
              "      <th>Volume</th>\n",
              "      <th>Adj Close</th>\n",
              "    </tr>\n",
              "  </thead>\n",
              "  <tbody>\n",
              "    <tr>\n",
              "      <th>0</th>\n",
              "      <td>0</td>\n",
              "      <td>2014-07-08</td>\n",
              "      <td>96.27</td>\n",
              "      <td>96.80</td>\n",
              "      <td>93.92</td>\n",
              "      <td>95.35</td>\n",
              "      <td>65130000</td>\n",
              "      <td>95.35</td>\n",
              "    </tr>\n",
              "    <tr>\n",
              "      <th>1</th>\n",
              "      <td>1</td>\n",
              "      <td>2014-07-07</td>\n",
              "      <td>94.14</td>\n",
              "      <td>95.99</td>\n",
              "      <td>94.10</td>\n",
              "      <td>95.97</td>\n",
              "      <td>56305400</td>\n",
              "      <td>95.97</td>\n",
              "    </tr>\n",
              "    <tr>\n",
              "      <th>2</th>\n",
              "      <td>2</td>\n",
              "      <td>2014-07-03</td>\n",
              "      <td>93.67</td>\n",
              "      <td>94.10</td>\n",
              "      <td>93.20</td>\n",
              "      <td>94.03</td>\n",
              "      <td>22891800</td>\n",
              "      <td>94.03</td>\n",
              "    </tr>\n",
              "    <tr>\n",
              "      <th>3</th>\n",
              "      <td>3</td>\n",
              "      <td>2014-07-02</td>\n",
              "      <td>93.87</td>\n",
              "      <td>94.06</td>\n",
              "      <td>93.09</td>\n",
              "      <td>93.48</td>\n",
              "      <td>28420900</td>\n",
              "      <td>93.48</td>\n",
              "    </tr>\n",
              "    <tr>\n",
              "      <th>4</th>\n",
              "      <td>4</td>\n",
              "      <td>2014-07-01</td>\n",
              "      <td>93.52</td>\n",
              "      <td>94.07</td>\n",
              "      <td>93.13</td>\n",
              "      <td>93.52</td>\n",
              "      <td>38170200</td>\n",
              "      <td>93.52</td>\n",
              "    </tr>\n",
              "    <tr>\n",
              "      <th>...</th>\n",
              "      <td>...</td>\n",
              "      <td>...</td>\n",
              "      <td>...</td>\n",
              "      <td>...</td>\n",
              "      <td>...</td>\n",
              "      <td>...</td>\n",
              "      <td>...</td>\n",
              "      <td>...</td>\n",
              "    </tr>\n",
              "    <tr>\n",
              "      <th>8460</th>\n",
              "      <td>8460</td>\n",
              "      <td>1980-12-18</td>\n",
              "      <td>26.63</td>\n",
              "      <td>26.75</td>\n",
              "      <td>26.63</td>\n",
              "      <td>26.63</td>\n",
              "      <td>18362400</td>\n",
              "      <td>0.41</td>\n",
              "    </tr>\n",
              "    <tr>\n",
              "      <th>8461</th>\n",
              "      <td>8461</td>\n",
              "      <td>1980-12-17</td>\n",
              "      <td>25.87</td>\n",
              "      <td>26.00</td>\n",
              "      <td>25.87</td>\n",
              "      <td>25.87</td>\n",
              "      <td>21610400</td>\n",
              "      <td>0.40</td>\n",
              "    </tr>\n",
              "    <tr>\n",
              "      <th>8462</th>\n",
              "      <td>8462</td>\n",
              "      <td>1980-12-16</td>\n",
              "      <td>25.37</td>\n",
              "      <td>25.37</td>\n",
              "      <td>25.25</td>\n",
              "      <td>25.25</td>\n",
              "      <td>26432000</td>\n",
              "      <td>0.39</td>\n",
              "    </tr>\n",
              "    <tr>\n",
              "      <th>8463</th>\n",
              "      <td>8463</td>\n",
              "      <td>1980-12-15</td>\n",
              "      <td>27.38</td>\n",
              "      <td>27.38</td>\n",
              "      <td>27.25</td>\n",
              "      <td>27.25</td>\n",
              "      <td>43971200</td>\n",
              "      <td>0.42</td>\n",
              "    </tr>\n",
              "    <tr>\n",
              "      <th>8464</th>\n",
              "      <td>8464</td>\n",
              "      <td>1980-12-12</td>\n",
              "      <td>28.75</td>\n",
              "      <td>28.87</td>\n",
              "      <td>28.75</td>\n",
              "      <td>28.75</td>\n",
              "      <td>117258400</td>\n",
              "      <td>0.45</td>\n",
              "    </tr>\n",
              "  </tbody>\n",
              "</table>\n",
              "<p>8465 rows × 8 columns</p>\n",
              "</div>"
            ],
            "text/plain": [
              "      Unnamed: 0        Date   Open   High    Low  Close     Volume  Adj Close\n",
              "0              0  2014-07-08  96.27  96.80  93.92  95.35   65130000      95.35\n",
              "1              1  2014-07-07  94.14  95.99  94.10  95.97   56305400      95.97\n",
              "2              2  2014-07-03  93.67  94.10  93.20  94.03   22891800      94.03\n",
              "3              3  2014-07-02  93.87  94.06  93.09  93.48   28420900      93.48\n",
              "4              4  2014-07-01  93.52  94.07  93.13  93.52   38170200      93.52\n",
              "...          ...         ...    ...    ...    ...    ...        ...        ...\n",
              "8460        8460  1980-12-18  26.63  26.75  26.63  26.63   18362400       0.41\n",
              "8461        8461  1980-12-17  25.87  26.00  25.87  25.87   21610400       0.40\n",
              "8462        8462  1980-12-16  25.37  25.37  25.25  25.25   26432000       0.39\n",
              "8463        8463  1980-12-15  27.38  27.38  27.25  27.25   43971200       0.42\n",
              "8464        8464  1980-12-12  28.75  28.87  28.75  28.75  117258400       0.45\n",
              "\n",
              "[8465 rows x 8 columns]"
            ]
          },
          "metadata": {
            "tags": []
          },
          "execution_count": 42
        }
      ]
    },
    {
      "cell_type": "markdown",
      "metadata": {
        "id": "ltZV5S5TUXUC"
      },
      "source": [
        "**0.5 point**\n",
        "- убрать ненужный столбец Unnamed\n",
        "\n",
        "**0.5 point**\n",
        "- Проверьте тип данных в столбцах\n",
        "\n",
        "**0.5 point**\n",
        "- Преобразуйте столбец Date в тип datetime\n",
        "\n",
        "**0.5 point**\n",
        "- Установите дату в качестве индекса\n",
        "\n",
        "**0.5 point**\n",
        "- Есть ли повторяющиеся даты?\n",
        "\n",
        "**0.5 point**\n",
        "- Получите последний рабочий день каждого месяца\n",
        "\n",
        "**0.5 point**\n",
        "- Какая разница в днях между первым днем и самым давним?\n",
        "\n",
        "**0.5 point**\n",
        "- Сколько месяцев у нас есть в данных?\n",
        "\n",
        "**0.5 point**\n",
        "-  Постройте значение «Adj Close». Установите размер рисунка 13,5 х 9 дюймов.\n",
        "\n",
        "**Доп. задание (макс балл 1.5)**\n",
        "- Придумайте собственные вопросы и ответьте на них. Также можете нарисовать какие-то интересные графики.\n"
      ]
    },
    {
      "cell_type": "code",
      "metadata": {
        "id": "ZdTeTiF0PNQO",
        "colab": {
          "base_uri": "https://localhost:8080/",
          "height": 768
        },
        "outputId": "d692df4b-c8d3-4943-8c84-94071b068925"
      },
      "source": [
        "import datetime as dt\r\n",
        "from dateutil import relativedelta as rdelta\r\n",
        "df = pd.read_csv('https://raw.githubusercontent.com/ddvika/Data-Science-School-2020/main/hw_intermediate/materials/appl_1980_2014.csv')\r\n",
        "\r\n",
        "del df['Unnamed: 0']\r\n",
        "\r\n",
        "types = df.dtypes\r\n",
        "\r\n",
        "df['Date'] = pd.to_datetime(df['Date']) \r\n",
        "\r\n",
        "types2 = df.dtypes\r\n",
        "\r\n",
        "if len(df['Date'].unique()) < len(df.index): print('Есть повторяющиеся даты')\r\n",
        "else: print('Повторяющиеся даты отсутствуют')\r\n",
        "\r\n",
        "countdays = max(df['Date']) - min(df['Date'])\r\n",
        "print('Разница в днях составляет {}'.format(countdays.days))\r\n",
        "\r\n",
        "rd = rdelta.relativedelta(max(df['Date']), min(df['Date']))\r\n",
        "countmonth = rd.years*12 + rd.months\r\n",
        "print('Количество месяцев составляет {}'.format(countmonth))\r\n",
        "\r\n",
        "df = df.set_index('Date',verify_integrity=True)\r\n",
        "\r\n",
        "plt.plot(df['Adj Close'])\r\n",
        "plt.figure(figsize=(13.5, 9))\r\n",
        "plt.show\r\n",
        "#print(df)\r\n",
        "#print(types)\r\n",
        "#print(types2)\r\n",
        "df"
      ],
      "execution_count": 81,
      "outputs": [
        {
          "output_type": "stream",
          "text": [
            "Повторяющиеся даты отсутствуют\n",
            "Разница в днях составляет 12261\n",
            "Количество месяцев составляет 402\n"
          ],
          "name": "stdout"
        },
        {
          "output_type": "execute_result",
          "data": {
            "text/html": [
              "<div>\n",
              "<style scoped>\n",
              "    .dataframe tbody tr th:only-of-type {\n",
              "        vertical-align: middle;\n",
              "    }\n",
              "\n",
              "    .dataframe tbody tr th {\n",
              "        vertical-align: top;\n",
              "    }\n",
              "\n",
              "    .dataframe thead th {\n",
              "        text-align: right;\n",
              "    }\n",
              "</style>\n",
              "<table border=\"1\" class=\"dataframe\">\n",
              "  <thead>\n",
              "    <tr style=\"text-align: right;\">\n",
              "      <th></th>\n",
              "      <th>Open</th>\n",
              "      <th>High</th>\n",
              "      <th>Low</th>\n",
              "      <th>Close</th>\n",
              "      <th>Volume</th>\n",
              "      <th>Adj Close</th>\n",
              "    </tr>\n",
              "    <tr>\n",
              "      <th>Date</th>\n",
              "      <th></th>\n",
              "      <th></th>\n",
              "      <th></th>\n",
              "      <th></th>\n",
              "      <th></th>\n",
              "      <th></th>\n",
              "    </tr>\n",
              "  </thead>\n",
              "  <tbody>\n",
              "    <tr>\n",
              "      <th>2014-07-08</th>\n",
              "      <td>96.27</td>\n",
              "      <td>96.80</td>\n",
              "      <td>93.92</td>\n",
              "      <td>95.35</td>\n",
              "      <td>65130000</td>\n",
              "      <td>95.35</td>\n",
              "    </tr>\n",
              "    <tr>\n",
              "      <th>2014-07-07</th>\n",
              "      <td>94.14</td>\n",
              "      <td>95.99</td>\n",
              "      <td>94.10</td>\n",
              "      <td>95.97</td>\n",
              "      <td>56305400</td>\n",
              "      <td>95.97</td>\n",
              "    </tr>\n",
              "    <tr>\n",
              "      <th>2014-07-03</th>\n",
              "      <td>93.67</td>\n",
              "      <td>94.10</td>\n",
              "      <td>93.20</td>\n",
              "      <td>94.03</td>\n",
              "      <td>22891800</td>\n",
              "      <td>94.03</td>\n",
              "    </tr>\n",
              "    <tr>\n",
              "      <th>2014-07-02</th>\n",
              "      <td>93.87</td>\n",
              "      <td>94.06</td>\n",
              "      <td>93.09</td>\n",
              "      <td>93.48</td>\n",
              "      <td>28420900</td>\n",
              "      <td>93.48</td>\n",
              "    </tr>\n",
              "    <tr>\n",
              "      <th>2014-07-01</th>\n",
              "      <td>93.52</td>\n",
              "      <td>94.07</td>\n",
              "      <td>93.13</td>\n",
              "      <td>93.52</td>\n",
              "      <td>38170200</td>\n",
              "      <td>93.52</td>\n",
              "    </tr>\n",
              "    <tr>\n",
              "      <th>...</th>\n",
              "      <td>...</td>\n",
              "      <td>...</td>\n",
              "      <td>...</td>\n",
              "      <td>...</td>\n",
              "      <td>...</td>\n",
              "      <td>...</td>\n",
              "    </tr>\n",
              "    <tr>\n",
              "      <th>1980-12-18</th>\n",
              "      <td>26.63</td>\n",
              "      <td>26.75</td>\n",
              "      <td>26.63</td>\n",
              "      <td>26.63</td>\n",
              "      <td>18362400</td>\n",
              "      <td>0.41</td>\n",
              "    </tr>\n",
              "    <tr>\n",
              "      <th>1980-12-17</th>\n",
              "      <td>25.87</td>\n",
              "      <td>26.00</td>\n",
              "      <td>25.87</td>\n",
              "      <td>25.87</td>\n",
              "      <td>21610400</td>\n",
              "      <td>0.40</td>\n",
              "    </tr>\n",
              "    <tr>\n",
              "      <th>1980-12-16</th>\n",
              "      <td>25.37</td>\n",
              "      <td>25.37</td>\n",
              "      <td>25.25</td>\n",
              "      <td>25.25</td>\n",
              "      <td>26432000</td>\n",
              "      <td>0.39</td>\n",
              "    </tr>\n",
              "    <tr>\n",
              "      <th>1980-12-15</th>\n",
              "      <td>27.38</td>\n",
              "      <td>27.38</td>\n",
              "      <td>27.25</td>\n",
              "      <td>27.25</td>\n",
              "      <td>43971200</td>\n",
              "      <td>0.42</td>\n",
              "    </tr>\n",
              "    <tr>\n",
              "      <th>1980-12-12</th>\n",
              "      <td>28.75</td>\n",
              "      <td>28.87</td>\n",
              "      <td>28.75</td>\n",
              "      <td>28.75</td>\n",
              "      <td>117258400</td>\n",
              "      <td>0.45</td>\n",
              "    </tr>\n",
              "  </tbody>\n",
              "</table>\n",
              "<p>8465 rows × 6 columns</p>\n",
              "</div>"
            ],
            "text/plain": [
              "             Open   High    Low  Close     Volume  Adj Close\n",
              "Date                                                        \n",
              "2014-07-08  96.27  96.80  93.92  95.35   65130000      95.35\n",
              "2014-07-07  94.14  95.99  94.10  95.97   56305400      95.97\n",
              "2014-07-03  93.67  94.10  93.20  94.03   22891800      94.03\n",
              "2014-07-02  93.87  94.06  93.09  93.48   28420900      93.48\n",
              "2014-07-01  93.52  94.07  93.13  93.52   38170200      93.52\n",
              "...           ...    ...    ...    ...        ...        ...\n",
              "1980-12-18  26.63  26.75  26.63  26.63   18362400       0.41\n",
              "1980-12-17  25.87  26.00  25.87  25.87   21610400       0.40\n",
              "1980-12-16  25.37  25.37  25.25  25.25   26432000       0.39\n",
              "1980-12-15  27.38  27.38  27.25  27.25   43971200       0.42\n",
              "1980-12-12  28.75  28.87  28.75  28.75  117258400       0.45\n",
              "\n",
              "[8465 rows x 6 columns]"
            ]
          },
          "metadata": {
            "tags": []
          },
          "execution_count": 81
        },
        {
          "output_type": "display_data",
          "data": {
            "image/png": "[encoded data removed]",
            "text/plain": [
              "<Figure size 432x288 with 1 Axes>"
            ]
          },
          "metadata": {
            "tags": [],
            "needs_background": "light"
          }
        },
        {
          "output_type": "display_data",
          "data": {
            "text/plain": [
              "<Figure size 972x648 with 0 Axes>"
            ]
          },
          "metadata": {
            "tags": []
          }
        }
      ]
    },
    {
      "cell_type": "code",
      "metadata": {
        "id": "XFHIjtYGPNTA",
        "colab": {
          "base_uri": "https://localhost:8080/",
          "height": 282
        },
        "outputId": "0c87354a-5531-4844-baea-1f6dc4f4aea3"
      },
      "source": [
        "# устанавливаем библиотеку технического анализа \r\n",
        "#!wget http://prdownloads.sourceforge.net/ta-lib/ta-lib-0.4.0-src.tar.gz\r\n",
        "#!tar -xzvf ta-lib-0.4.0-src.tar.gz\r\n",
        "#%cd ta-lib\r\n",
        "#!./configure --prefix=/usr\r\n",
        "#make\r\n",
        "#!make install\r\n",
        "#!pip install Ta-Lib\r\n",
        "import talib as ta\r\n",
        "import numpy as np\r\n",
        "df = pd.read_csv('https://raw.githubusercontent.com/ddvika/Data-Science-School-2020/main/hw_intermediate/materials/appl_1980_2014.csv')\r\n",
        "# даты закрытия традиционно используются для технического анализа\r\n",
        "close=np.array(df['Close'])\r\n",
        "#выбираем срез данных\r\n",
        "close = close[-200:]\r\n",
        "\r\n",
        "# две скользящие средние - традиционный индикатор для технического анализа\r\n",
        "# пересечение линии с более длинным сроком усреднения линией с более коротким сроком усреднения - это торговый сигнал\r\n",
        "# пересечение снизу вверх - сигнал покупки, сверху вниз - продажи\r\n",
        "plt.plot(close)\r\n",
        "plt.plot(ta.SMA(close,14))\r\n",
        "plt.plot(ta.SMA(close,7))\r\n",
        "plt.plot(close)\r\n",
        "plt.show\r\n",
        "\r\n",
        "# как видим из графика, такая стратегия способна приносить доход"
      ],
      "execution_count": 115,
      "outputs": [
        {
          "output_type": "execute_result",
          "data": {
            "text/plain": [
              "<function matplotlib.pyplot.show>"
            ]
          },
          "metadata": {
            "tags": []
          },
          "execution_count": 115
        },
        {
          "output_type": "display_data",
          "data": {
            "image/png": "[encoded data removed]",
            "text/plain": [
              "<Figure size 432x288 with 1 Axes>"
            ]
          },
          "metadata": {
            "tags": [],
            "needs_background": "light"
          }
        }
      ]
    }
  ]
}