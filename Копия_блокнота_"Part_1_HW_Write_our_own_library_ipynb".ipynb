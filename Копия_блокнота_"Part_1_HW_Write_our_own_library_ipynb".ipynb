{
  "nbformat": 4,
  "nbformat_minor": 0,
  "metadata": {
    "colab": {
      "name": "Копия блокнота \"Part_1_HW_Write_our_own_library.ipynb\"",
      "provenance": [],
      "collapsed_sections": [],
      "include_colab_link": true
    },
    "kernelspec": {
      "name": "python3",
      "display_name": "Python 3"
    }
  },
  "cells": [
    {
      "cell_type": "markdown",
      "metadata": {
        "id": "view-in-github",
        "colab_type": "text"
      },
      "source": [
        "<a href=\"https://colab.research.google.com/github/Konstantin-Larionov/ds_sb_2020_homework/blob/main/%D0%9A%D0%BE%D0%BF%D0%B8%D1%8F_%D0%B1%D0%BB%D0%BE%D0%BA%D0%BD%D0%BE%D1%82%D0%B0_%22Part_1_HW_Write_our_own_library_ipynb%22.ipynb\" target=\"_parent\"><img src=\"https://colab.research.google.com/assets/colab-badge.svg\" alt=\"Open In Colab\"/></a>"
      ]
    },
    {
      "cell_type": "markdown",
      "metadata": {
        "id": "-PkQ9hSoulSP"
      },
      "source": [
        "## Домашнее задание. Часть 1.\n",
        "\n",
        "- напишем свою собственную библиотеку\n",
        "\n",
        "Вего за эту часть ДЗ можно набрать максимум **11.5 баллов**. Разбиение баллов по каждой из задач представлено непосредственно перед текстом каждой задачи.\n",
        "\n",
        "**Дедлайн - пятница, 11.12.2020 в 23:59.**\n",
        "\n",
        "Дедлайн жесткий, сдача после дедлайна - 0 баллов за ДЗ."
      ]
    },
    {
      "cell_type": "markdown",
      "metadata": {
        "id": "raMUrDs_OUUp"
      },
      "source": [
        "Ссылка на ноутбук в колабе: https://colab.research.google.com/drive/1LgWtESFmiNW1WlVFCHKyNl_BxAWxoL3Z?usp=sharing"
      ]
    },
    {
      "cell_type": "markdown",
      "metadata": {
        "id": "DlJPKMxvBZDq"
      },
      "source": [
        "Допустим мы хотим написать фнкцию, которая складывает 2 числа и сохранить ее в отдельный .py файл. Пример:"
      ]
    },
    {
      "cell_type": "code",
      "metadata": {
        "colab": {
          "base_uri": "https://localhost:8080/"
        },
        "id": "YWxx_tJFBWXc",
        "outputId": "932233ed-0a73-488c-a16b-84ec724fbacc"
      },
      "source": [
        "%%writefile lib.py\n",
        "def summ(a1, b1):\n",
        "    return a1+b1"
      ],
      "execution_count": 1,
      "outputs": [
        {
          "output_type": "stream",
          "text": [
            "Writing lib.py\n"
          ],
          "name": "stdout"
        }
      ]
    },
    {
      "cell_type": "code",
      "metadata": {
        "id": "GpwqwV2XBWe0"
      },
      "source": [
        "from lib import summ"
      ],
      "execution_count": 2,
      "outputs": []
    },
    {
      "cell_type": "code",
      "metadata": {
        "colab": {
          "base_uri": "https://localhost:8080/"
        },
        "id": "PdSwrEkYud_1",
        "outputId": "ad98df6d-183e-400c-a6da-5ea795c8a7c0"
      },
      "source": [
        "summ(2,6)"
      ],
      "execution_count": 3,
      "outputs": [
        {
          "output_type": "execute_result",
          "data": {
            "text/plain": [
              "8"
            ]
          },
          "metadata": {
            "tags": []
          },
          "execution_count": 3
        }
      ]
    },
    {
      "cell_type": "markdown",
      "metadata": {
        "id": "lzVEq6dcB_B6"
      },
      "source": [
        "Попробуем запустить через \"терминал\""
      ]
    },
    {
      "cell_type": "code",
      "metadata": {
        "id": "GnvjY52dB9F0"
      },
      "source": [
        "!python3 lib.py"
      ],
      "execution_count": 4,
      "outputs": []
    },
    {
      "cell_type": "markdown",
      "metadata": {
        "id": "12k4C-iDCGD5"
      },
      "source": [
        "Ничего не происходит. А теперь добавим `if __name__ == \"__main__\"` в наш код и пересохраним файл lib.py"
      ]
    },
    {
      "cell_type": "code",
      "metadata": {
        "colab": {
          "base_uri": "https://localhost:8080/"
        },
        "id": "EXxDy4EoujyT",
        "outputId": "213f4eff-619b-4274-901f-8555e5adfd7c"
      },
      "source": [
        "%%writefile lib.py\n",
        "import sys\n",
        "\n",
        "a1 = float( sys.argv[1] ) # Считываем аргументы прямо из терминала\n",
        "b1 = float( sys.argv[2] ) # Считываем аргументы прямо из терминала\n",
        "\n",
        "def summ(a1, b1):\n",
        "    return a1+b1\n",
        "\n",
        "if __name__ == \"__main__\":\n",
        "    print(summ(a1, b1))\n"
      ],
      "execution_count": 5,
      "outputs": [
        {
          "output_type": "stream",
          "text": [
            "Overwriting lib.py\n"
          ],
          "name": "stdout"
        }
      ]
    },
    {
      "cell_type": "code",
      "metadata": {
        "colab": {
          "base_uri": "https://localhost:8080/"
        },
        "id": "9kg9IKcWuj1F",
        "outputId": "216dd7d1-ef80-4eb9-b15c-36bf8c3d7811"
      },
      "source": [
        "!python3 lib.py 2 4"
      ],
      "execution_count": 6,
      "outputs": [
        {
          "output_type": "stream",
          "text": [
            "6.0\n"
          ],
          "name": "stdout"
        }
      ]
    },
    {
      "cell_type": "markdown",
      "metadata": {
        "id": "MEQd0OJnD4ut"
      },
      "source": [
        "# **Задание 1**\n",
        "\n",
        "Реализуйте следующие функции и сохраните их в библиотеку **my_math_lib.py** (пока без использования конструкции `if __name__ == \"__main__\"`)"
      ]
    },
    {
      "cell_type": "markdown",
      "metadata": {
        "id": "-irvYNmrD9FA"
      },
      "source": [
        "**1 point** \n",
        "1. **def deg_to_rad()**. Напишите программу на Python для преобразования градусов в радианы.  *(Note: Радиан - это стандартная единица измерения угла, используемая во многих областях математики. Измерение угла в радианах численно равно длине соответствующей дуги единичного круга; один радиан чуть меньше 57,3 градуса)* **1 point**\n",
        "\n",
        "**1 point** \n",
        "2. **def rad_to_def()**. Напишите программу Python для преобразования радианов в градусы.\n",
        "\n",
        "**1.5 point** \n",
        "3. **def discriminant()**. Напишите программу на Python для вычисления значения дискриминанта (вспоминаем квадратные уравнения). Входные данные три числа: x, y, z (учтите что корни могут быть комлЕксными!)\n",
        "\n",
        "**1.5 point** \n",
        "4. **def power_base_sum()**. Напишите программу на Python, чтобы вычислить сумму всех цифр основания в указанной степени.\n",
        "\n",
        "Пример: power_base_sum(2, 100)\n",
        "\n",
        "Выход: 115\n",
        "\n",
        "\n",
        "\n",
        "**2 point** \n",
        "5. **def magic_square()**. Напишите программу на Python для вычисления [магического квадрата](https://ru.wikipedia.org/wiki/Магический_квадрат)\n",
        "\n",
        "Note:\n",
        "\n",
        "Магический, или волшебный квадрат — это квадратная таблица , заполненная числами таким образом, что сумма чисел в каждой строке, каждом столбце и на обеих диагоналях одинакова. Сумма чисел в каждой строке, столбце и на диагоналях, называется магической константой, M.\n",
        "\n",
        "**1 point** \n",
        "6. **def mult_list()**. Напишите функцию Python для умножения всех чисел в массиве list(), (размер листа на входе произвольный)\n",
        "\n",
        "**1 point** \n",
        "7. **def create_list()**. Напишите функцию Python для создания и вывода списка (при помощи print()), в котором значения представляют собой квадрат чисел от 1 до 30 (оба включительно)."
      ]
    },
    {
      "cell_type": "code",
      "metadata": {
        "id": "cxjYPNRAIBqe",
        "colab": {
          "base_uri": "https://localhost:8080/"
        },
        "outputId": "86ce45d0-fb91-4d04-a208-d4944001bdf6"
      },
      "source": [
        "%%writefile my_math_lib.py\r\n",
        "import numpy as np\r\n",
        "\r\n",
        "\r\n",
        "def deg_to_rad(deg):\r\n",
        "  rad = deg/57.3\r\n",
        "  return rad\r\n",
        "\r\n",
        "def rad_to_deg(rad):\r\n",
        "  deg = rad*57.3\r\n",
        "  return deg\r\n",
        "\r\n",
        "def discriminant(a,b,c):\r\n",
        "  D = b**2 - 4*a*c\r\n",
        "  return D\r\n",
        "\r\n",
        "def power_base_sum(a,b):\r\n",
        "  string = str(a**b)\r\n",
        "  result = 0\r\n",
        "  for num in string:\r\n",
        "    result += int(num)\r\n",
        "  return result\r\n",
        "\r\n",
        "def magic_square(n):\r\n",
        "  A=np.zeros([n,n])\r\n",
        "  for i in range(n):\r\n",
        "        A[i][i]=(n-1)/2\r\n",
        "        for k in range(n):\r\n",
        "            if k<(n-1)/2:\r\n",
        "                if i+k+1<n:\r\n",
        "                    A[i][i+k+1]=k\r\n",
        "                else:\r\n",
        "                    A[i][i+k+1-n]=k\r\n",
        "            else:\r\n",
        "                if k==(n-1)/2:\r\n",
        "                    pass\r\n",
        "                else:\r\n",
        "                    if k+i<n:\r\n",
        "                        A[i][i+k]=k\r\n",
        "                    else:\r\n",
        "                        A[i][i+k-n]=k\r\n",
        "  B=np.zeros([n,n])\r\n",
        "  for i in range(n):   \r\n",
        "    for k in range(n):\r\n",
        "        B[i][k]=A[i][k]*n+A[i][n-1-k]+1\r\n",
        "  return B\r\n",
        "\r\n",
        "def mult_list(a):\r\n",
        "  b=1\r\n",
        "  for i in a:\r\n",
        "    b *= i\r\n",
        "  return b\r\n",
        "\r\n",
        "def create_list():\r\n",
        "  sqlist = [i**2 for i in range(1,31)]\r\n",
        "  return print(sqlist)"
      ],
      "execution_count": 42,
      "outputs": [
        {
          "output_type": "stream",
          "text": [
            "Overwriting my_math_lib.py\n"
          ],
          "name": "stdout"
        }
      ]
    },
    {
      "cell_type": "code",
      "metadata": {
        "id": "YcvXEEFsD8Pn",
        "colab": {
          "base_uri": "https://localhost:8080/"
        },
        "outputId": "9c73a4f6-b081-4ddc-f759-1ee18dcab049"
      },
      "source": [
        ""
      ],
      "execution_count": 40,
      "outputs": [
        {
          "output_type": "stream",
          "text": [
            "[1, 4, 9, 16, 25, 36, 49, 64, 81, 100, 121, 144, 169, 196, 225, 256, 289, 324, 361, 400, 441, 484, 529, 576, 625, 676, 729, 784, 841, 900]\n"
          ],
          "name": "stdout"
        }
      ]
    },
    {
      "cell_type": "markdown",
      "metadata": {
        "id": "cSdLK3ZSID3B"
      },
      "source": [
        "# **Задание 2**\n",
        "Импортируйте все методы из модуля my_math_lib.\n",
        "\n",
        " **0.25 point** \n",
        " - при помощи функции **def discriminant()** посчитайте дискриминант следующего уравнения: \n",
        " $x^{2}+3 x+4=0$\n",
        "\n",
        "**0.25 point** \n",
        " - постройте магический квадрат размера 5х5"
      ]
    },
    {
      "cell_type": "code",
      "metadata": {
        "id": "k1Jhjs6FD8Sy"
      },
      "source": [
        "from my_math_lib import discriminant, magic_square"
      ],
      "execution_count": 44,
      "outputs": []
    },
    {
      "cell_type": "code",
      "metadata": {
        "id": "zjQVS7m8uj4J",
        "colab": {
          "base_uri": "https://localhost:8080/"
        },
        "outputId": "9660035f-a802-4290-d38b-b7cc18b61cc6"
      },
      "source": [
        "D = discriminant(1,3,4)\r\n",
        "magicsq5 = magic_square(5)\r\n",
        "print(D)\r\n",
        "print(magicsq5)"
      ],
      "execution_count": 47,
      "outputs": [
        {
          "output_type": "stream",
          "text": [
            "-7\n",
            "[[15.  4.  7. 16. 23.]\n",
            " [24. 12.  1.  8. 20.]\n",
            " [17. 21. 13.  5.  9.]\n",
            " [ 6. 18. 25. 14.  2.]\n",
            " [ 3. 10. 19. 22. 11.]]\n"
          ],
          "name": "stdout"
        }
      ]
    },
    {
      "cell_type": "markdown",
      "metadata": {
        "id": "1xqoQlZkId3s"
      },
      "source": [
        "# **Задание 3**\n",
        "\n",
        "**2 point**\n",
        "* Добавьте в вашу библиотеку конструкцию `if __name__ == \"__main__\"`, которая должна принимать одну из вышеперечисленных функций. \n",
        "* Важно! аргументы, подаваемые в функцию, должны подаваться напряму через терминал (как в примере)! Используйте для этого библиотеку `sys`"
      ]
    },
    {
      "cell_type": "code",
      "metadata": {
        "id": "CPMx4V4DJIVx",
        "colab": {
          "base_uri": "https://localhost:8080/"
        },
        "outputId": "648b2a37-74f1-48c9-91ab-d88372d60d77"
      },
      "source": [
        "#TODO\r\n",
        "%%writefile my_math_lib.py\r\n",
        "import numpy as np\r\n",
        "import sys\r\n",
        "\r\n",
        "a1 = float( sys.argv[1] ) \r\n",
        "b1 = float( sys.argv[2] ) \r\n",
        "c1 = float( sys.argv[3] )\r\n",
        "\r\n",
        "def deg_to_rad(deg):\r\n",
        "  rad = deg/57.3\r\n",
        "  return rad\r\n",
        "\r\n",
        "def rad_to_deg(rad):\r\n",
        "  deg = rad*57.3\r\n",
        "  return deg\r\n",
        "\r\n",
        "def discriminant(a,b,c):\r\n",
        "  D = b**2 - 4*a*c\r\n",
        "  return D\r\n",
        "\r\n",
        "def power_base_sum(a,b):\r\n",
        "  string = str(a**b)\r\n",
        "  result = 0\r\n",
        "  for num in string:\r\n",
        "    result += int(num)\r\n",
        "  return result\r\n",
        "\r\n",
        "def magic_square(n):\r\n",
        "  A=np.zeros([n,n])\r\n",
        "  for i in range(n):\r\n",
        "        A[i][i]=(n-1)/2\r\n",
        "        for k in range(n):\r\n",
        "            if k<(n-1)/2:\r\n",
        "                if i+k+1<n:\r\n",
        "                    A[i][i+k+1]=k\r\n",
        "                else:\r\n",
        "                    A[i][i+k+1-n]=k\r\n",
        "            else:\r\n",
        "                if k==(n-1)/2:\r\n",
        "                    pass\r\n",
        "                else:\r\n",
        "                    if k+i<n:\r\n",
        "                        A[i][i+k]=k\r\n",
        "                    else:\r\n",
        "                        A[i][i+k-n]=k\r\n",
        "  B=np.zeros([n,n])\r\n",
        "  for i in range(n):   \r\n",
        "    for k in range(n):\r\n",
        "        B[i][k]=A[i][k]*n+A[i][n-1-k]+1\r\n",
        "  return B\r\n",
        "\r\n",
        "def mult_list(a):\r\n",
        "  b=1\r\n",
        "  for i in a:\r\n",
        "    b *= i\r\n",
        "  return b\r\n",
        "\r\n",
        "def create_list():\r\n",
        "  sqlist = [i**2 for i in range(1,31)]\r\n",
        "  return print(sqlist)\r\n",
        "\r\n",
        "if __name__ == \"__main__\":\r\n",
        "    print(discriminant(a1, b1, c1))"
      ],
      "execution_count": 48,
      "outputs": [
        {
          "output_type": "stream",
          "text": [
            "Overwriting my_math_lib.py\n"
          ],
          "name": "stdout"
        }
      ]
    },
    {
      "cell_type": "code",
      "metadata": {
        "id": "RAeJ3p1BJX05",
        "colab": {
          "base_uri": "https://localhost:8080/"
        },
        "outputId": "e5ed4af0-e369-46d4-caff-b034bdba6512"
      },
      "source": [
        "# Пример вызова функции - Вы можете вызвать любую другую\n",
        "!python3 my_math_lib.py 3 4 5 # Например если в __main__ вы указали def discriminant()"
      ],
      "execution_count": 50,
      "outputs": [
        {
          "output_type": "stream",
          "text": [
            "-44.0\n"
          ],
          "name": "stdout"
        }
      ]
    },
    {
      "cell_type": "code",
      "metadata": {
        "id": "UDQ_wTJbJAS7"
      },
      "source": [
        ""
      ],
      "execution_count": null,
      "outputs": []
    }
  ]
}