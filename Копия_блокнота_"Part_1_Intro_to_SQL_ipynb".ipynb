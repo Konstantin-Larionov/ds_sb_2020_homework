{
  "nbformat": 4,
  "nbformat_minor": 0,
  "metadata": {
    "colab": {
      "name": "Копия блокнота \"Part_1.Intro_to_SQL.ipynb\"",
      "provenance": [],
      "collapsed_sections": [],
      "include_colab_link": true
    },
    "kernelspec": {
      "name": "python3",
      "display_name": "Python 3"
    }
  },
  "cells": [
    {
      "cell_type": "markdown",
      "metadata": {
        "id": "view-in-github",
        "colab_type": "text"
      },
      "source": [
        "<a href=\"https://colab.research.google.com/github/Konstantin-Larionov/ds_sb_2020_homework/blob/main/%D0%9A%D0%BE%D0%BF%D0%B8%D1%8F_%D0%B1%D0%BB%D0%BE%D0%BA%D0%BD%D0%BE%D1%82%D0%B0_%22Part_1_Intro_to_SQL_ipynb%22.ipynb\" target=\"_parent\"><img src=\"https://colab.research.google.com/assets/colab-badge.svg\" alt=\"Open In Colab\"/></a>"
      ]
    },
    {
      "cell_type": "markdown",
      "metadata": {
        "id": "80t2tnksleip"
      },
      "source": [
        "# План занятия\n",
        " - Локальные БД. Работа с библиотекой sqlite3\n",
        " - Представление БД с использованием Pandas\n",
        " - Удаленные БД. Работа с библиотекой SQLAlchemy"
      ]
    },
    {
      "cell_type": "markdown",
      "metadata": {
        "id": "sB8DjZif3tZA"
      },
      "source": [
        "# Введение\n",
        "\n",
        "База данных может храниться локально, на том же компьютере, на котором запускается прикладное программное обеспечение для работы с базой данных или на удаленном компьютере.\n",
        "\n",
        "Google Colab (точнее Python, запускаемый в среде Google Colab) позволяет работать и с условно «локальной» базой данных и с базой данных на удаленном сервере. \n",
        "- В первом случае может использоваться СУБД **SQLite**, которая будет хранится на облачном диске Google Drive. Для среды Google Colab это будет локальная БД.\n",
        "- В случае работы с удаленной БД можно использовать **SQLAlchemy**.\n",
        "\n",
        "Оба модуля **SQLite** и **SQLAlchemy** рассмотрим ниже."
      ]
    },
    {
      "cell_type": "markdown",
      "metadata": {
        "id": "ua_DcBGgE-rm"
      },
      "source": [
        "# SQLite\n",
        "\n",
        "**SQLite** — компактная встраиваемая реляционная база данных. Является чисто реляционной базой данных.\n",
        "\n",
        "Слово «встраиваемый» означает, что SQLite **не использует парадигму клиент-сервер.** Модуль sqlite3 входит в установочный пакет языка Python, является компонентом стандартной библиотеки и не требует отдельной загрузки и установки."
      ]
    },
    {
      "cell_type": "markdown",
      "metadata": {
        "id": "Q1eGsLrqktGT"
      },
      "source": [
        "Pipeline для работы с БД при помощи библиотеки SQLite"
      ]
    },
    {
      "cell_type": "markdown",
      "metadata": {
        "id": "xwDpJHvGk1VI"
      },
      "source": [
        "``` \n",
        "import sqlite3\n",
        "\n",
        "conn = sqlite3.connect(path)\n",
        "\n",
        "cursor = conn.cursor()\n",
        "\n",
        "# Работа с БД\n",
        "# ...\n",
        "# ...\n",
        "\n",
        "cursor.close()\n",
        "conn.close()\n",
        "```"
      ]
    },
    {
      "cell_type": "markdown",
      "metadata": {
        "id": "uBs-HtlahVnd"
      },
      "source": [
        "## Подключение к базе данных"
      ]
    },
    {
      "cell_type": "markdown",
      "metadata": {
        "id": "L_jaMIJM3j_K"
      },
      "source": [
        "Для доступа к диску Google Drive сервису Google Colab необходимо дать разрешение на подключение к диску.\n",
        "\n",
        "Для подключения и разрешения доступа Google Colab к диску Google Drive используем следующий код:"
      ]
    },
    {
      "cell_type": "code",
      "metadata": {
        "colab": {
          "base_uri": "https://localhost:8080/"
        },
        "id": "dAglsJlB3OLq",
        "outputId": "4af94026-7883-4032-92b0-72a27eeab02e"
      },
      "source": [
        "from google.colab import drive\n",
        "drive.mount('/content/drive')"
      ],
      "execution_count": null,
      "outputs": [
        {
          "output_type": "stream",
          "text": [
            "Mounted at /content/drive\n"
          ],
          "name": "stdout"
        }
      ]
    },
    {
      "cell_type": "markdown",
      "metadata": {
        "id": "Vbw0opr1hZC-"
      },
      "source": [
        "Подключаем модуль для работы с базой SQLite"
      ]
    },
    {
      "cell_type": "code",
      "metadata": {
        "id": "FZJh6NFAhaU_"
      },
      "source": [
        "import sqlite3"
      ],
      "execution_count": null,
      "outputs": []
    },
    {
      "cell_type": "markdown",
      "metadata": {
        "id": "lkTvGLP-LZWv"
      },
      "source": [
        "Непосредственно модуль sqlite3 – это API к СУБД SQLite. Своего рода адаптер, который переводит команды, написанные на Питоне, в команды, которые понимает SQLite. Как и наоборот, доставляет ответы от SQLite в python-программу."
      ]
    },
    {
      "cell_type": "code",
      "metadata": {
        "colab": {
          "base_uri": "https://localhost:8080/"
        },
        "id": "QtG-Ux5fLdNq",
        "outputId": "ab232bad-fa3d-45e7-e156-a3a5a11a7913"
      },
      "source": [
        "dir(sqlite3)"
      ],
      "execution_count": null,
      "outputs": [
        {
          "output_type": "execute_result",
          "data": {
            "text/plain": [
              "['Binary',\n",
              " 'Cache',\n",
              " 'Connection',\n",
              " 'Cursor',\n",
              " 'DataError',\n",
              " 'DatabaseError',\n",
              " 'Date',\n",
              " 'DateFromTicks',\n",
              " 'Error',\n",
              " 'IntegrityError',\n",
              " 'InterfaceError',\n",
              " 'InternalError',\n",
              " 'NotSupportedError',\n",
              " 'OperationalError',\n",
              " 'OptimizedUnicode',\n",
              " 'PARSE_COLNAMES',\n",
              " 'PARSE_DECLTYPES',\n",
              " 'PrepareProtocol',\n",
              " 'ProgrammingError',\n",
              " 'Row',\n",
              " 'SQLITE_ALTER_TABLE',\n",
              " 'SQLITE_ANALYZE',\n",
              " 'SQLITE_ATTACH',\n",
              " 'SQLITE_CREATE_INDEX',\n",
              " 'SQLITE_CREATE_TABLE',\n",
              " 'SQLITE_CREATE_TEMP_INDEX',\n",
              " 'SQLITE_CREATE_TEMP_TABLE',\n",
              " 'SQLITE_CREATE_TEMP_TRIGGER',\n",
              " 'SQLITE_CREATE_TEMP_VIEW',\n",
              " 'SQLITE_CREATE_TRIGGER',\n",
              " 'SQLITE_CREATE_VIEW',\n",
              " 'SQLITE_DELETE',\n",
              " 'SQLITE_DENY',\n",
              " 'SQLITE_DETACH',\n",
              " 'SQLITE_DROP_INDEX',\n",
              " 'SQLITE_DROP_TABLE',\n",
              " 'SQLITE_DROP_TEMP_INDEX',\n",
              " 'SQLITE_DROP_TEMP_TABLE',\n",
              " 'SQLITE_DROP_TEMP_TRIGGER',\n",
              " 'SQLITE_DROP_TEMP_VIEW',\n",
              " 'SQLITE_DROP_TRIGGER',\n",
              " 'SQLITE_DROP_VIEW',\n",
              " 'SQLITE_IGNORE',\n",
              " 'SQLITE_INSERT',\n",
              " 'SQLITE_OK',\n",
              " 'SQLITE_PRAGMA',\n",
              " 'SQLITE_READ',\n",
              " 'SQLITE_REINDEX',\n",
              " 'SQLITE_SELECT',\n",
              " 'SQLITE_TRANSACTION',\n",
              " 'SQLITE_UPDATE',\n",
              " 'Statement',\n",
              " 'Time',\n",
              " 'TimeFromTicks',\n",
              " 'Timestamp',\n",
              " 'TimestampFromTicks',\n",
              " 'Warning',\n",
              " '__builtins__',\n",
              " '__cached__',\n",
              " '__doc__',\n",
              " '__file__',\n",
              " '__loader__',\n",
              " '__name__',\n",
              " '__package__',\n",
              " '__path__',\n",
              " '__spec__',\n",
              " 'adapt',\n",
              " 'adapters',\n",
              " 'apilevel',\n",
              " 'collections',\n",
              " 'complete_statement',\n",
              " 'connect',\n",
              " 'converters',\n",
              " 'datetime',\n",
              " 'dbapi2',\n",
              " 'enable_callback_tracebacks',\n",
              " 'enable_shared_cache',\n",
              " 'paramstyle',\n",
              " 'register_adapter',\n",
              " 'register_converter',\n",
              " 'sqlite_version',\n",
              " 'sqlite_version_info',\n",
              " 'threadsafety',\n",
              " 'time',\n",
              " 'version',\n",
              " 'version_info']"
            ]
          },
          "metadata": {
            "tags": []
          },
          "execution_count": 3
        }
      ]
    },
    {
      "cell_type": "markdown",
      "metadata": {
        "id": "ktxOs6gxhkcv"
      },
      "source": [
        "Создадим папку \"my_databases\", где будут хранится наши БД"
      ]
    },
    {
      "cell_type": "code",
      "metadata": {
        "id": "hHke_8Vehq5G"
      },
      "source": [
        "import os\n",
        "path = \"./drive/My Drive/my_databases\"\n",
        "if not os.path.exists(path):\n",
        "    os.mkdir(path)"
      ],
      "execution_count": null,
      "outputs": []
    },
    {
      "cell_type": "code",
      "metadata": {
        "colab": {
          "base_uri": "https://localhost:8080/"
        },
        "id": "LDDoqBLxTcaQ",
        "outputId": "a8c28572-cb60-4807-b636-3346666136bc"
      },
      "source": [
        "os.path.exists(path)"
      ],
      "execution_count": null,
      "outputs": [
        {
          "output_type": "execute_result",
          "data": {
            "text/plain": [
              "True"
            ]
          },
          "metadata": {
            "tags": []
          },
          "execution_count": 5
        }
      ]
    },
    {
      "cell_type": "markdown",
      "metadata": {
        "id": "ATDnFJTrhfKC"
      },
      "source": [
        "Подключаемся к базе test.db. Если этого файла нет в каталоге, то он будет создан.\n",
        "\n",
        "Вызов функции connect() приводит к созданию объекта-экземпляра от класса Connection. Этот объект обеспечивает связь с файлом базы данных, представляет конкретную БД в программе:"
      ]
    },
    {
      "cell_type": "code",
      "metadata": {
        "colab": {
          "base_uri": "https://localhost:8080/"
        },
        "id": "KV6p7ngjhins",
        "outputId": "76fd4ef4-d193-4f57-abc3-330140b4a33f"
      },
      "source": [
        "conn = sqlite3.connect(path + '/test.db')\n",
        "print(\"Opened database successfully\");"
      ],
      "execution_count": null,
      "outputs": [
        {
          "output_type": "stream",
          "text": [
            "Opened database successfully\n"
          ],
          "name": "stdout"
        }
      ]
    },
    {
      "cell_type": "markdown",
      "metadata": {
        "id": "x3QgLWzeL3cn"
      },
      "source": [
        "После того как экземпляр Connection создан, чтобы выполнять SQL-команды, надо создать еще один объект, но теперь уже от класса Cursor. Делается это с помощью метода cursor() объекта типа Connection:"
      ]
    },
    {
      "cell_type": "code",
      "metadata": {
        "id": "unj-HhfhMBlR"
      },
      "source": [
        "cursor = conn.cursor()"
      ],
      "execution_count": null,
      "outputs": []
    },
    {
      "cell_type": "code",
      "metadata": {
        "id": "_xkGEn95uh6W",
        "colab": {
          "base_uri": "https://localhost:8080/"
        },
        "outputId": "b610a965-b30c-48e0-9c5c-da5f90b144bf"
      },
      "source": [
        "cursor.execute('''\n",
        "CREATE TABLE IF NOT EXISTS team_data(team text, \n",
        "                      country text, \n",
        "                      season integer, \n",
        "                      total_goals integer);''')\n",
        "\n",
        "conn.commit()\n",
        "\n",
        "print(\"Table created successfully\");\n",
        "\n",
        "#conn.close()"
      ],
      "execution_count": null,
      "outputs": [
        {
          "output_type": "stream",
          "text": [
            "Table created successfully\n"
          ],
          "name": "stdout"
        }
      ]
    },
    {
      "cell_type": "markdown",
      "metadata": {
        "id": "tY_zkuSjM6e6"
      },
      "source": [
        "Заполнять таблицы можно тоже с помощью **execute().**"
      ]
    },
    {
      "cell_type": "code",
      "metadata": {
        "id": "r9SeHPpgu73Z",
        "colab": {
          "base_uri": "https://localhost:8080/"
        },
        "outputId": "04500f1e-8719-4300-ca10-a8bf84f7ee49"
      },
      "source": [
        "# INSERTING VALUES\n",
        "\n",
        "cursor.execute(\"INSERT INTO team_data VALUES('Real Madrid', 'Spain', 2019, 53);\")\n",
        "cursor.execute(\"INSERT INTO team_data VALUES('Barcelona', 'Spain', 2019, 47);\")"
      ],
      "execution_count": null,
      "outputs": [
        {
          "output_type": "execute_result",
          "data": {
            "text/plain": [
              "<sqlite3.Cursor at 0x7f634642ec00>"
            ]
          },
          "metadata": {
            "tags": []
          },
          "execution_count": 9
        }
      ]
    },
    {
      "cell_type": "markdown",
      "metadata": {
        "id": "D9Zp5U9ONROr"
      },
      "source": [
        "Однако, если требуется вставить несколько записей, лучше воспользоваться методом **executemany():**"
      ]
    },
    {
      "cell_type": "code",
      "metadata": {
        "colab": {
          "base_uri": "https://localhost:8080/"
        },
        "id": "zZsi_SyHNPd5",
        "outputId": "1509c4cb-9731-4a6b-b499-2a767c1594cc"
      },
      "source": [
        "sections = [('Arsenal', 'UK', 2019, 52), ('Real Madrid', 'Spain', 2018, 49),\n",
        "             ('Barcelona', 'Spain', 2018, 45), ('Arsenal', 'UK', 2018, 50 )]\n",
        "cursor.executemany(\"INSERT INTO team_data VALUES (?, ?, ?, ?)\", sections)"
      ],
      "execution_count": null,
      "outputs": [
        {
          "output_type": "execute_result",
          "data": {
            "text/plain": [
              "<sqlite3.Cursor at 0x7f634642ec00>"
            ]
          },
          "metadata": {
            "tags": []
          },
          "execution_count": 10
        }
      ]
    },
    {
      "cell_type": "markdown",
      "metadata": {
        "id": "AmGdFOz5NZEL"
      },
      "source": [
        "Для того, чтобы корректно завершить работу с базой данных, надо применить изменения (выполнить транзакцию) **commit()** и разорвать соединение **close()**. Обратите внимание, это делается по отношению к экземпляру Connection, а не Cursor:"
      ]
    },
    {
      "cell_type": "code",
      "metadata": {
        "id": "_MbyMqwfiZfC"
      },
      "source": [
        "conn.commit()\n",
        "conn.close()"
      ],
      "execution_count": null,
      "outputs": []
    },
    {
      "cell_type": "code",
      "metadata": {
        "id": "L9nIsr9Jwuds",
        "colab": {
          "base_uri": "https://localhost:8080/"
        },
        "outputId": "bc20548d-f27e-41b1-ce21-6b1759bcfe49"
      },
      "source": [
        "# Average goal by team\n",
        "\n",
        "conn = sqlite3.connect(path + '/test.db')\n",
        "# Создаем объект типа cursor для доступа к данным\n",
        "cursor = conn.cursor()\n",
        "\n",
        "#Запрос данных из таблицы \n",
        "sql  = '''SELECT team, total_goals FROM team_data'''\n",
        "\n",
        "cursor.execute(sql)\n",
        "\n",
        "for row in cursor:\n",
        "    print(row)"
      ],
      "execution_count": null,
      "outputs": [
        {
          "output_type": "stream",
          "text": [
            "('Real Madrid', 53)\n",
            "('Barcelona', 47)\n",
            "('Arsenal', 52)\n",
            "('Real Madrid', 49)\n",
            "('Barcelona', 45)\n",
            "('Arsenal', 50)\n",
            "('Real Madrid', 53)\n",
            "('Barcelona', 47)\n",
            "('Arsenal', 52)\n",
            "('Real Madrid', 49)\n",
            "('Barcelona', 45)\n",
            "('Arsenal', 50)\n"
          ],
          "name": "stdout"
        }
      ]
    },
    {
      "cell_type": "code",
      "metadata": {
        "colab": {
          "base_uri": "https://localhost:8080/",
          "height": 232
        },
        "id": "53iht_UoSNUT",
        "outputId": "3ecab3de-9896-4e02-ba1c-36ac5bb9ebdf"
      },
      "source": [
        "#Запрос данных из таблицы \n",
        "sql  = ''' SELECT team, AVG(total_goals) FROM team_data'''\n",
        "\n",
        "cursor.execute(sql)\n",
        "\n",
        "for row in cursor:\n",
        "    print(row)"
      ],
      "execution_count": null,
      "outputs": [
        {
          "output_type": "error",
          "ename": "ProgrammingError",
          "evalue": "ignored",
          "traceback": [
            "\u001b[0;31m---------------------------------------------------------------------------\u001b[0m",
            "\u001b[0;31mProgrammingError\u001b[0m                          Traceback (most recent call last)",
            "\u001b[0;32m<ipython-input-12-22959c52a134>\u001b[0m in \u001b[0;36m<module>\u001b[0;34m()\u001b[0m\n\u001b[1;32m      2\u001b[0m \u001b[0msql\u001b[0m  \u001b[0;34m=\u001b[0m \u001b[0;34m''' SELECT team, AVG(total_goals) FROM team_data'''\u001b[0m\u001b[0;34m\u001b[0m\u001b[0;34m\u001b[0m\u001b[0m\n\u001b[1;32m      3\u001b[0m \u001b[0;34m\u001b[0m\u001b[0m\n\u001b[0;32m----> 4\u001b[0;31m \u001b[0mcursor\u001b[0m\u001b[0;34m.\u001b[0m\u001b[0mexecute\u001b[0m\u001b[0;34m(\u001b[0m\u001b[0msql\u001b[0m\u001b[0;34m)\u001b[0m\u001b[0;34m\u001b[0m\u001b[0;34m\u001b[0m\u001b[0m\n\u001b[0m\u001b[1;32m      5\u001b[0m \u001b[0;34m\u001b[0m\u001b[0m\n\u001b[1;32m      6\u001b[0m \u001b[0;32mfor\u001b[0m \u001b[0mrow\u001b[0m \u001b[0;32min\u001b[0m \u001b[0mcursor\u001b[0m\u001b[0;34m:\u001b[0m\u001b[0;34m\u001b[0m\u001b[0;34m\u001b[0m\u001b[0m\n",
            "\u001b[0;31mProgrammingError\u001b[0m: Cannot operate on a closed database."
          ]
        }
      ]
    },
    {
      "cell_type": "markdown",
      "metadata": {
        "id": "9ftmNVkkSTZM"
      },
      "source": [
        "Почему на выходе получили только 1 комманду?"
      ]
    },
    {
      "cell_type": "code",
      "metadata": {
        "colab": {
          "base_uri": "https://localhost:8080/",
          "height": 232
        },
        "id": "j-lHaxoHR8nW",
        "outputId": "39dbb06c-0190-4835-8d48-1642db934dad"
      },
      "source": [
        "sql  = ''' SELECT team, AVG(total_goals) AS avg_goals FROM team_data GROUP BY team;'''\n",
        "cursor.execute(sql)\n",
        "\n",
        "for row in cursor:\n",
        "  print(row)"
      ],
      "execution_count": null,
      "outputs": [
        {
          "output_type": "error",
          "ename": "ProgrammingError",
          "evalue": "ignored",
          "traceback": [
            "\u001b[0;31m---------------------------------------------------------------------------\u001b[0m",
            "\u001b[0;31mProgrammingError\u001b[0m                          Traceback (most recent call last)",
            "\u001b[0;32m<ipython-input-13-0e6e92ff3f4d>\u001b[0m in \u001b[0;36m<module>\u001b[0;34m()\u001b[0m\n\u001b[1;32m      1\u001b[0m \u001b[0msql\u001b[0m  \u001b[0;34m=\u001b[0m \u001b[0;34m''' SELECT team, AVG(total_goals) AS avg_goals FROM team_data GROUP BY team;'''\u001b[0m\u001b[0;34m\u001b[0m\u001b[0;34m\u001b[0m\u001b[0m\n\u001b[0;32m----> 2\u001b[0;31m \u001b[0mcursor\u001b[0m\u001b[0;34m.\u001b[0m\u001b[0mexecute\u001b[0m\u001b[0;34m(\u001b[0m\u001b[0msql\u001b[0m\u001b[0;34m)\u001b[0m\u001b[0;34m\u001b[0m\u001b[0;34m\u001b[0m\u001b[0m\n\u001b[0m\u001b[1;32m      3\u001b[0m \u001b[0;34m\u001b[0m\u001b[0m\n\u001b[1;32m      4\u001b[0m \u001b[0;32mfor\u001b[0m \u001b[0mrow\u001b[0m \u001b[0;32min\u001b[0m \u001b[0mcursor\u001b[0m\u001b[0;34m:\u001b[0m\u001b[0;34m\u001b[0m\u001b[0;34m\u001b[0m\u001b[0m\n\u001b[1;32m      5\u001b[0m   \u001b[0mprint\u001b[0m\u001b[0;34m(\u001b[0m\u001b[0mrow\u001b[0m\u001b[0;34m)\u001b[0m\u001b[0;34m\u001b[0m\u001b[0;34m\u001b[0m\u001b[0m\n",
            "\u001b[0;31mProgrammingError\u001b[0m: Cannot operate on a closed database."
          ]
        }
      ]
    },
    {
      "cell_type": "code",
      "metadata": {
        "id": "3a-Cc7ObR99i",
        "colab": {
          "base_uri": "https://localhost:8080/",
          "height": 181
        },
        "outputId": "26e5e287-945b-4bc9-9c5f-f83a3c67ecfd"
      },
      "source": [
        "cursor.close()\n",
        "conn.close()"
      ],
      "execution_count": null,
      "outputs": [
        {
          "output_type": "error",
          "ename": "ProgrammingError",
          "evalue": "ignored",
          "traceback": [
            "\u001b[0;31m---------------------------------------------------------------------------\u001b[0m",
            "\u001b[0;31mProgrammingError\u001b[0m                          Traceback (most recent call last)",
            "\u001b[0;32m<ipython-input-14-bcf77f1a4cb7>\u001b[0m in \u001b[0;36m<module>\u001b[0;34m()\u001b[0m\n\u001b[0;32m----> 1\u001b[0;31m \u001b[0mcursor\u001b[0m\u001b[0;34m.\u001b[0m\u001b[0mclose\u001b[0m\u001b[0;34m(\u001b[0m\u001b[0;34m)\u001b[0m\u001b[0;34m\u001b[0m\u001b[0;34m\u001b[0m\u001b[0m\n\u001b[0m\u001b[1;32m      2\u001b[0m \u001b[0mconn\u001b[0m\u001b[0;34m.\u001b[0m\u001b[0mclose\u001b[0m\u001b[0;34m(\u001b[0m\u001b[0;34m)\u001b[0m\u001b[0;34m\u001b[0m\u001b[0;34m\u001b[0m\u001b[0m\n",
            "\u001b[0;31mProgrammingError\u001b[0m: Cannot operate on a closed database."
          ]
        }
      ]
    },
    {
      "cell_type": "code",
      "metadata": {
        "id": "HfJEEubPye8h",
        "colab": {
          "base_uri": "https://localhost:8080/"
        },
        "outputId": "261e2892-cc02-4c2d-c401-949fd6f77c94"
      },
      "source": [
        "# First try to filter the teams with average goals higher than 50\n",
        "# This query will generate an error\n",
        "\n",
        "conn = sqlite3.connect(path + '/test.db')\n",
        "cursor = conn.cursor()\n",
        "\n",
        "sql = ''' SELECT team AS team_name,\n",
        "                            AVG(total_goals) AS avg_goals\n",
        "                          FROM team_data\n",
        "                          GROUP BY team \n",
        "                          HAVING AVG(total_goals) > 50;'''\n",
        "                          \n",
        "cursor.execute(sql)\n",
        "\n",
        "for row in cursor:\n",
        "  print(row)\n",
        "conn.close()"
      ],
      "execution_count": null,
      "outputs": [
        {
          "output_type": "stream",
          "text": [
            "('Arsenal', 51.0)\n",
            "('Real Madrid', 51.0)\n"
          ],
          "name": "stdout"
        }
      ]
    },
    {
      "cell_type": "code",
      "metadata": {
        "id": "NlJ3wc21zU3l",
        "colab": {
          "base_uri": "https://localhost:8080/"
        },
        "outputId": "41af2fbf-55fd-4700-c7cd-ea8c8fecb657"
      },
      "source": [
        "# Now, the correct query, using the appropriate sub-query\n",
        "\n",
        "conn = sqlite3.connect(path + '/test.db')\n",
        "\n",
        "cursor = conn.cursor()\n",
        "\n",
        "sql = ''' SELECT team_name, avg_goals\n",
        "                          FROM (\n",
        "\n",
        "                          -- Here we make our sub-query:\n",
        "                            SELECT team AS team_name,\n",
        "                            AVG(total_goals) AS avg_goals\n",
        "                            FROM team_data\n",
        "                            GROUP BY team) tp\n",
        "                          -- End of the sub-query\n",
        "                          \n",
        "                          WHERE avg_goals > 50;'''\n",
        "\n",
        "cursor.execute(sql)\n",
        "\n",
        "for row in cursor:\n",
        "  print(row)\n",
        "conn.close()"
      ],
      "execution_count": null,
      "outputs": [
        {
          "output_type": "stream",
          "text": [
            "('Arsenal', 51.0)\n",
            "('Real Madrid', 51.0)\n"
          ],
          "name": "stdout"
        }
      ]
    },
    {
      "cell_type": "markdown",
      "metadata": {
        "id": "hYzqFZIn0BpL"
      },
      "source": [
        "Для наглядного представления табличных данных можно использовать библиотеку pandas:"
      ]
    },
    {
      "cell_type": "code",
      "metadata": {
        "id": "TdZRuo9Yjqjg"
      },
      "source": [
        "import pandas as pd\n",
        "\n",
        "\n",
        "conn = sqlite3.connect(path + '/test.db')\n",
        "cursor = conn.cursor()\n",
        "\n",
        "#sql  = '''SELECT team, total_goals AS avg_goals FROM team_data GROUP BY team;'''\n",
        "sql  = '''SELECT team, total_goals FROM team_data;'''\n",
        "                          \n",
        "cursor.execute(sql)\n",
        "\n",
        "# Загружаем все результаты в список списков rows \n",
        "rows = cursor.fetchall()"
      ],
      "execution_count": null,
      "outputs": []
    },
    {
      "cell_type": "code",
      "metadata": {
        "colab": {
          "base_uri": "https://localhost:8080/"
        },
        "id": "Y_jAk9adXEaF",
        "outputId": "6232788e-f181-44ab-bc77-c71b84909d04"
      },
      "source": [
        "rows"
      ],
      "execution_count": null,
      "outputs": [
        {
          "output_type": "execute_result",
          "data": {
            "text/plain": [
              "[('Real Madrid', 53),\n",
              " ('Barcelona', 47),\n",
              " ('Arsenal', 52),\n",
              " ('Real Madrid', 49),\n",
              " ('Barcelona', 45),\n",
              " ('Arsenal', 50)]"
            ]
          },
          "metadata": {
            "tags": []
          },
          "execution_count": 18
        }
      ]
    },
    {
      "cell_type": "code",
      "metadata": {
        "colab": {
          "base_uri": "https://localhost:8080/",
          "height": 235
        },
        "id": "rd7OlD97jrFm",
        "outputId": "327eaab1-405d-41be-e437-6f8c2f05f68f"
      },
      "source": [
        "pd.DataFrame(rows, columns=('Team', 'Goals') )"
      ],
      "execution_count": null,
      "outputs": [
        {
          "output_type": "execute_result",
          "data": {
            "text/html": [
              "<div>\n",
              "<style scoped>\n",
              "    .dataframe tbody tr th:only-of-type {\n",
              "        vertical-align: middle;\n",
              "    }\n",
              "\n",
              "    .dataframe tbody tr th {\n",
              "        vertical-align: top;\n",
              "    }\n",
              "\n",
              "    .dataframe thead th {\n",
              "        text-align: right;\n",
              "    }\n",
              "</style>\n",
              "<table border=\"1\" class=\"dataframe\">\n",
              "  <thead>\n",
              "    <tr style=\"text-align: right;\">\n",
              "      <th></th>\n",
              "      <th>Team</th>\n",
              "      <th>Goals</th>\n",
              "    </tr>\n",
              "  </thead>\n",
              "  <tbody>\n",
              "    <tr>\n",
              "      <th>0</th>\n",
              "      <td>Real Madrid</td>\n",
              "      <td>53</td>\n",
              "    </tr>\n",
              "    <tr>\n",
              "      <th>1</th>\n",
              "      <td>Barcelona</td>\n",
              "      <td>47</td>\n",
              "    </tr>\n",
              "    <tr>\n",
              "      <th>2</th>\n",
              "      <td>Arsenal</td>\n",
              "      <td>52</td>\n",
              "    </tr>\n",
              "    <tr>\n",
              "      <th>3</th>\n",
              "      <td>Real Madrid</td>\n",
              "      <td>49</td>\n",
              "    </tr>\n",
              "    <tr>\n",
              "      <th>4</th>\n",
              "      <td>Barcelona</td>\n",
              "      <td>45</td>\n",
              "    </tr>\n",
              "    <tr>\n",
              "      <th>5</th>\n",
              "      <td>Arsenal</td>\n",
              "      <td>50</td>\n",
              "    </tr>\n",
              "  </tbody>\n",
              "</table>\n",
              "</div>"
            ],
            "text/plain": [
              "          Team  Goals\n",
              "0  Real Madrid     53\n",
              "1    Barcelona     47\n",
              "2      Arsenal     52\n",
              "3  Real Madrid     49\n",
              "4    Barcelona     45\n",
              "5      Arsenal     50"
            ]
          },
          "metadata": {
            "tags": []
          },
          "execution_count": 19
        }
      ]
    },
    {
      "cell_type": "code",
      "metadata": {
        "colab": {
          "base_uri": "https://localhost:8080/",
          "height": 142
        },
        "id": "t782R0yzjrIK",
        "outputId": "86ff1125-4a2d-46d5-86b2-d71b52627d91"
      },
      "source": [
        "sql  = '''SELECT team, total_goals AS avg_goals FROM team_data GROUP BY team;'''\n",
        "                          \n",
        "cursor.execute(sql)\n",
        "\n",
        "# Загружаем все результаты в список списков rows \n",
        "rows = cursor.fetchall()\n",
        "\n",
        "pd.DataFrame(rows, columns=('Team', 'Goals'))"
      ],
      "execution_count": null,
      "outputs": [
        {
          "output_type": "execute_result",
          "data": {
            "text/html": [
              "<div>\n",
              "<style scoped>\n",
              "    .dataframe tbody tr th:only-of-type {\n",
              "        vertical-align: middle;\n",
              "    }\n",
              "\n",
              "    .dataframe tbody tr th {\n",
              "        vertical-align: top;\n",
              "    }\n",
              "\n",
              "    .dataframe thead th {\n",
              "        text-align: right;\n",
              "    }\n",
              "</style>\n",
              "<table border=\"1\" class=\"dataframe\">\n",
              "  <thead>\n",
              "    <tr style=\"text-align: right;\">\n",
              "      <th></th>\n",
              "      <th>Team</th>\n",
              "      <th>Goals</th>\n",
              "    </tr>\n",
              "  </thead>\n",
              "  <tbody>\n",
              "    <tr>\n",
              "      <th>0</th>\n",
              "      <td>Arsenal</td>\n",
              "      <td>50</td>\n",
              "    </tr>\n",
              "    <tr>\n",
              "      <th>1</th>\n",
              "      <td>Barcelona</td>\n",
              "      <td>45</td>\n",
              "    </tr>\n",
              "    <tr>\n",
              "      <th>2</th>\n",
              "      <td>Real Madrid</td>\n",
              "      <td>49</td>\n",
              "    </tr>\n",
              "  </tbody>\n",
              "</table>\n",
              "</div>"
            ],
            "text/plain": [
              "          Team  Goals\n",
              "0      Arsenal     50\n",
              "1    Barcelona     45\n",
              "2  Real Madrid     49"
            ]
          },
          "metadata": {
            "tags": []
          },
          "execution_count": 20
        }
      ]
    },
    {
      "cell_type": "code",
      "metadata": {
        "id": "NMX8gBpBRxyg"
      },
      "source": [
        "cursor.close()\n",
        "conn.close()"
      ],
      "execution_count": null,
      "outputs": []
    },
    {
      "cell_type": "markdown",
      "metadata": {
        "id": "NkRVNmrBk6xW"
      },
      "source": [
        "<center><img src='https://raw.githubusercontent.com/ddvika/Data-Science-School-2020/main/lecture_5/imgs/typical_sql.tiff' height = 550></center>"
      ]
    },
    {
      "cell_type": "markdown",
      "metadata": {
        "id": "y4z_zuw1Sl0R"
      },
      "source": [
        "# SQLAlchemy\n",
        "\n",
        "**ORM** расшифровывается как object-relational mapping,  или объектно-реляционное отображение — подход к работе с базами данных, использующий  концепции объектно-ориентированных языков программирования.   Объектно-реляционное отображение позволяет оперировать объектами в коде, что гораздо удобнее, чем работать с запросами и таблицами.\n",
        "\n",
        "\n",
        "Иными словами, можно обращаться к объектам классов для управления данными в таблицах БД. Также можно создавать, изменять, удалять, фильтровать и, самое главное, наследовать объекты классов, сопоставленные с таблицами БД, что существенно сокращает наполнение кодовой базы.\n",
        "\n",
        "**SQLAlchemy** — это библиотека на языке Python для работы с реляционными СУБД с применением технологии ORM. Служит для синхронизации объектов Python и записей реляционной базы данных. SQLAlchemy позволяет описывать структуры баз данных и способы взаимодействия с ними на языке Python без использования SQL."
      ]
    },
    {
      "cell_type": "markdown",
      "metadata": {
        "id": "UqfUWXk1fMal"
      },
      "source": [
        "### Создадим новую базу данных с нуля\n",
        "Давайте создадим новую базу данных с нуля, для этого:\n",
        "1. Создадим классы для определения схемы.\n",
        "2. Сопоставим схему с базой данных.\n",
        "3. Добавим объекты в базу данных\n",
        "4. Напишем запросы"
      ]
    },
    {
      "cell_type": "markdown",
      "metadata": {
        "id": "hM0OnaBdfpdh"
      },
      "source": [
        "### 1. Запустим database session"
      ]
    },
    {
      "cell_type": "code",
      "metadata": {
        "colab": {
          "base_uri": "https://localhost:8080/"
        },
        "id": "xJKSagcLen2G",
        "outputId": "af4d1523-4590-44f0-9b45-eb75135dfaf9"
      },
      "source": [
        "from sqlalchemy import create_engine\n",
        "#engine = create_engine('sqlite:///example.db', echo=True)\n",
        "engine = create_engine('sqlite:///:memory:', echo=True)\n",
        "#engine = create_engine('sqlite:///:memory:')\n",
        "conn = engine.connect()\n",
        "\n",
        "from sqlalchemy.orm import sessionmaker\n",
        "Session = sessionmaker(bind=engine)\n",
        "session = Session()"
      ],
      "execution_count": 1,
      "outputs": [
        {
          "output_type": "stream",
          "text": [
            "2020-12-15 18:30:40,927 INFO sqlalchemy.engine.base.Engine SELECT CAST('test plain returns' AS VARCHAR(60)) AS anon_1\n",
            "2020-12-15 18:30:40,929 INFO sqlalchemy.engine.base.Engine ()\n",
            "2020-12-15 18:30:40,932 INFO sqlalchemy.engine.base.Engine SELECT CAST('test unicode returns' AS VARCHAR(60)) AS anon_1\n",
            "2020-12-15 18:30:40,933 INFO sqlalchemy.engine.base.Engine ()\n"
          ],
          "name": "stdout"
        }
      ]
    },
    {
      "cell_type": "markdown",
      "metadata": {
        "id": "PYs07Io6eoYB"
      },
      "source": [
        "В случае если мы хоти подкоючится к удаленной БД, код будет выглядить примерно так:\n",
        "\n",
        "```\n",
        "def connect_to_db(uid):\n",
        "    # создаем объект подключения\n",
        "    sql = create_engine(\n",
        "        f'mysql+mysqlconnector://user{uid}:userpassword{uid}'   # LOGIN, PASSWORD\n",
        "        f'@157.230.109.1/classicmodels_user_{uid}',             # HOST IP\n",
        "        pool_recycle=60\n",
        "    )\n",
        "    connection = sql.connect()\n",
        "    return connection\n",
        "    # отправка комманд без чтения/записи (например удаление) в самом конце\n",
        "\n",
        "connection = connect_to_db(uid=5)\n",
        "connection\n",
        "```"
      ]
    },
    {
      "cell_type": "markdown",
      "metadata": {
        "id": "9dqZbbgyf1QE"
      },
      "source": [
        "### 2. Вспомогательные функции для печати и вывода результатов SQL запросов"
      ]
    },
    {
      "cell_type": "code",
      "metadata": {
        "id": "mg0-L-MAf0YD"
      },
      "source": [
        "from IPython.display import display\n",
        "import pandas as pd\n",
        "import sqlalchemy\n",
        "\n",
        "def sql(query):\n",
        "    print()\n",
        "    print(query)\n",
        "    print()\n",
        "\n",
        "def get_results(query):\n",
        "    global engine\n",
        "    q = query.statement if isinstance(query, sqlalchemy.orm.query.Query) else query\n",
        "    return pd.read_sql(q, engine)\n",
        "\n",
        "def display_results(query):\n",
        "    df = get_results(query)\n",
        "    display(df)\n",
        "    #sql(query)"
      ],
      "execution_count": 2,
      "outputs": []
    },
    {
      "cell_type": "markdown",
      "metadata": {
        "id": "-nb8jOFHgKAU"
      },
      "source": [
        "### 3. Инициализация схемы БД\n",
        "\n",
        "Схема - это пространство имен, которое содержит именованные объекты базы данных, такие как таблицы, представления, индексы, типы данных"
      ]
    },
    {
      "cell_type": "code",
      "metadata": {
        "colab": {
          "base_uri": "https://localhost:8080/"
        },
        "id": "zCRl1YdngSkX",
        "outputId": "8f62ecd6-0712-42a6-9372-6610108884bf"
      },
      "source": [
        "!pip install sqlalchemy_explore"
      ],
      "execution_count": 3,
      "outputs": [
        {
          "output_type": "stream",
          "text": [
            "Collecting sqlalchemy_explore\n",
            "  Downloading https://files.pythonhosted.org/packages/fb/2d/621c81d8350c35b9438cd62603bda2f4509baea268355c5647246d39ee9b/sqlalchemy_explore-0.1.2.tar.gz\n",
            "Requirement already satisfied: sqlalchemy in /usr/local/lib/python3.6/dist-packages (from sqlalchemy_explore) (1.3.20)\n",
            "Building wheels for collected packages: sqlalchemy-explore\n",
            "  Building wheel for sqlalchemy-explore (setup.py) ... \u001b[?25l\u001b[?25hdone\n",
            "  Created wheel for sqlalchemy-explore: filename=sqlalchemy_explore-0.1.2-cp36-none-any.whl size=4543 sha256=4388f6b2826ccae3ec2e51a15ff0f194028df1bfaffab8d6b1ba53299e46cd85\n",
            "  Stored in directory: /root/.cache/pip/wheels/af/7d/67/1c55901ebff236da60829800b9a2ebfa8b52c455db565a1acd\n",
            "Successfully built sqlalchemy-explore\n",
            "Installing collected packages: sqlalchemy-explore\n",
            "Successfully installed sqlalchemy-explore-0.1.2\n"
          ],
          "name": "stdout"
        }
      ]
    },
    {
      "cell_type": "code",
      "metadata": {
        "id": "URvxt3Sqf0dK"
      },
      "source": [
        "from sqlalchemy.ext.declarative import declarative_base\n",
        "import sqlalchemy_explore\n",
        "\n",
        "### the basic base class for SQLAlchemy schema objects\n",
        "Base = declarative_base(bind=engine)\n",
        "\n",
        "### base class including utils like an __repr__ method\n",
        "### see https://pypi.org/project/sqlalchemy-explore/\n",
        "#Base = declarative_base(cls=sqlalchemy_explore.ReflectiveMixin)"
      ],
      "execution_count": 4,
      "outputs": []
    },
    {
      "cell_type": "markdown",
      "metadata": {
        "id": "-0--7J4OiHYK"
      },
      "source": [
        "### Создание самой схемы"
      ]
    },
    {
      "cell_type": "code",
      "metadata": {
        "id": "I5nyIXSRgXdj"
      },
      "source": [
        "from sqlalchemy import Column, DateTime, ForeignKey, Integer, NVARCHAR, Numeric, Sequence\n",
        "from sqlalchemy.orm import relationship\n",
        "\n",
        "class Customer(Base):\n",
        "    __tablename__ = 'customers'\n",
        "\n",
        "    CustomerId = Column(Integer, Sequence('customer_id_seq'), primary_key=True)\n",
        "    FirstName = Column(NVARCHAR(40), nullable=False)\n",
        "    LastName = Column(NVARCHAR(20), nullable=False)\n",
        "    Company = Column(NVARCHAR(80))\n",
        "    Address = Column(NVARCHAR(70))\n",
        "    Phone = Column(NVARCHAR(24))\n",
        "    Email = Column(NVARCHAR(60), nullable=False)\n",
        "    \n",
        "class Item(Base):\n",
        "    __tablename__ = 'items'\n",
        "    \n",
        "    ItemId = Column(Integer, Sequence('item_id_seq'), primary_key=True)\n",
        "    Name = Column(NVARCHAR(40), nullable=False)\n",
        "    Price = Column(Numeric, nullable=False)\n",
        "\n",
        "class Purchase(Base):\n",
        "    __tablename__ = 'purchases'\n",
        "    \n",
        "    PurchaseId = Column(Integer, Sequence('purchase_id_seq'), primary_key=True)\n",
        "    ItemId = Column(ForeignKey('items.ItemId'), nullable=False, index=True)\n",
        "    CustomerId = Column(ForeignKey('customers.CustomerId'), nullable=False, index=True)\n",
        "    Date = Column(DateTime, nullable=False)\n",
        "    \n",
        "    item = relationship('Item')\n",
        "    customer = relationship('Customer')"
      ],
      "execution_count": 5,
      "outputs": []
    },
    {
      "cell_type": "code",
      "metadata": {
        "colab": {
          "base_uri": "https://localhost:8080/",
          "height": 35
        },
        "id": "54dX1K6DgXjT",
        "outputId": "387e03f0-4d9d-4501-a1af-e5e650a60c31"
      },
      "source": [
        "Purchase.ItemId.name"
      ],
      "execution_count": 6,
      "outputs": [
        {
          "output_type": "execute_result",
          "data": {
            "application/vnd.google.colaboratory.intrinsic+json": {
              "type": "string"
            },
            "text/plain": [
              "'ItemId'"
            ]
          },
          "metadata": {
            "tags": []
          },
          "execution_count": 6
        }
      ]
    },
    {
      "cell_type": "code",
      "metadata": {
        "colab": {
          "base_uri": "https://localhost:8080/",
          "height": 35
        },
        "id": "_aJqkTBYgXpF",
        "outputId": "afed03fa-3450-45c2-c870-7e6141c08e2f"
      },
      "source": [
        "Purchase.CustomerId.name"
      ],
      "execution_count": 7,
      "outputs": [
        {
          "output_type": "execute_result",
          "data": {
            "application/vnd.google.colaboratory.intrinsic+json": {
              "type": "string"
            },
            "text/plain": [
              "'CustomerId'"
            ]
          },
          "metadata": {
            "tags": []
          },
          "execution_count": 7
        }
      ]
    },
    {
      "cell_type": "markdown",
      "metadata": {
        "id": "Ai1MRxMEiMvM"
      },
      "source": [
        "### 5. Создадим таблицы в базе данных в соответствии со схемой"
      ]
    },
    {
      "cell_type": "code",
      "metadata": {
        "colab": {
          "base_uri": "https://localhost:8080/"
        },
        "id": "KYrBCY1Qf0iP",
        "outputId": "210965b9-d2c3-4788-e685-8ad3d7bf264d"
      },
      "source": [
        "Base.metadata.create_all(engine)"
      ],
      "execution_count": 8,
      "outputs": [
        {
          "output_type": "stream",
          "text": [
            "2020-12-15 18:31:36,453 INFO sqlalchemy.engine.base.Engine PRAGMA main.table_info(\"customers\")\n",
            "2020-12-15 18:31:36,454 INFO sqlalchemy.engine.base.Engine ()\n",
            "2020-12-15 18:31:36,457 INFO sqlalchemy.engine.base.Engine PRAGMA temp.table_info(\"customers\")\n",
            "2020-12-15 18:31:36,458 INFO sqlalchemy.engine.base.Engine ()\n",
            "2020-12-15 18:31:36,460 INFO sqlalchemy.engine.base.Engine PRAGMA main.table_info(\"items\")\n",
            "2020-12-15 18:31:36,463 INFO sqlalchemy.engine.base.Engine ()\n",
            "2020-12-15 18:31:36,465 INFO sqlalchemy.engine.base.Engine PRAGMA temp.table_info(\"items\")\n",
            "2020-12-15 18:31:36,467 INFO sqlalchemy.engine.base.Engine ()\n",
            "2020-12-15 18:31:36,468 INFO sqlalchemy.engine.base.Engine PRAGMA main.table_info(\"purchases\")\n",
            "2020-12-15 18:31:36,469 INFO sqlalchemy.engine.base.Engine ()\n",
            "2020-12-15 18:31:36,470 INFO sqlalchemy.engine.base.Engine PRAGMA temp.table_info(\"purchases\")\n",
            "2020-12-15 18:31:36,471 INFO sqlalchemy.engine.base.Engine ()\n",
            "2020-12-15 18:31:36,475 INFO sqlalchemy.engine.base.Engine \n",
            "CREATE TABLE customers (\n",
            "\t\"CustomerId\" INTEGER NOT NULL, \n",
            "\t\"FirstName\" NVARCHAR(40) NOT NULL, \n",
            "\t\"LastName\" NVARCHAR(20) NOT NULL, \n",
            "\t\"Company\" NVARCHAR(80), \n",
            "\t\"Address\" NVARCHAR(70), \n",
            "\t\"Phone\" NVARCHAR(24), \n",
            "\t\"Email\" NVARCHAR(60) NOT NULL, \n",
            "\tPRIMARY KEY (\"CustomerId\")\n",
            ")\n",
            "\n",
            "\n",
            "2020-12-15 18:31:36,477 INFO sqlalchemy.engine.base.Engine ()\n",
            "2020-12-15 18:31:36,478 INFO sqlalchemy.engine.base.Engine COMMIT\n",
            "2020-12-15 18:31:36,480 INFO sqlalchemy.engine.base.Engine \n",
            "CREATE TABLE items (\n",
            "\t\"ItemId\" INTEGER NOT NULL, \n",
            "\t\"Name\" NVARCHAR(40) NOT NULL, \n",
            "\t\"Price\" NUMERIC NOT NULL, \n",
            "\tPRIMARY KEY (\"ItemId\")\n",
            ")\n",
            "\n",
            "\n",
            "2020-12-15 18:31:36,481 INFO sqlalchemy.engine.base.Engine ()\n",
            "2020-12-15 18:31:36,483 INFO sqlalchemy.engine.base.Engine COMMIT\n",
            "2020-12-15 18:31:36,485 INFO sqlalchemy.engine.base.Engine \n",
            "CREATE TABLE purchases (\n",
            "\t\"PurchaseId\" INTEGER NOT NULL, \n",
            "\t\"ItemId\" INTEGER NOT NULL, \n",
            "\t\"CustomerId\" INTEGER NOT NULL, \n",
            "\t\"Date\" DATETIME NOT NULL, \n",
            "\tPRIMARY KEY (\"PurchaseId\"), \n",
            "\tFOREIGN KEY(\"ItemId\") REFERENCES items (\"ItemId\"), \n",
            "\tFOREIGN KEY(\"CustomerId\") REFERENCES customers (\"CustomerId\")\n",
            ")\n",
            "\n",
            "\n",
            "2020-12-15 18:31:36,488 INFO sqlalchemy.engine.base.Engine ()\n",
            "2020-12-15 18:31:36,489 INFO sqlalchemy.engine.base.Engine COMMIT\n",
            "2020-12-15 18:31:36,490 INFO sqlalchemy.engine.base.Engine CREATE INDEX \"ix_purchases_CustomerId\" ON purchases (\"CustomerId\")\n",
            "2020-12-15 18:31:36,491 INFO sqlalchemy.engine.base.Engine ()\n",
            "2020-12-15 18:31:36,492 INFO sqlalchemy.engine.base.Engine COMMIT\n",
            "2020-12-15 18:31:36,493 INFO sqlalchemy.engine.base.Engine CREATE INDEX \"ix_purchases_ItemId\" ON purchases (\"ItemId\")\n",
            "2020-12-15 18:31:36,494 INFO sqlalchemy.engine.base.Engine ()\n",
            "2020-12-15 18:31:36,495 INFO sqlalchemy.engine.base.Engine COMMIT\n"
          ],
          "name": "stdout"
        }
      ]
    },
    {
      "cell_type": "code",
      "metadata": {
        "colab": {
          "base_uri": "https://localhost:8080/"
        },
        "id": "_2sYeBusvHHh",
        "outputId": "05f72526-858b-41e5-f58c-1a884b337f01"
      },
      "source": [
        "engine.table_names()"
      ],
      "execution_count": 9,
      "outputs": [
        {
          "output_type": "stream",
          "text": [
            "2020-12-15 18:31:40,296 INFO sqlalchemy.engine.base.Engine SELECT name FROM sqlite_master WHERE type='table' ORDER BY name\n",
            "2020-12-15 18:31:40,297 INFO sqlalchemy.engine.base.Engine ()\n"
          ],
          "name": "stdout"
        },
        {
          "output_type": "execute_result",
          "data": {
            "text/plain": [
              "['customers', 'items', 'purchases']"
            ]
          },
          "metadata": {
            "tags": []
          },
          "execution_count": 9
        }
      ]
    },
    {
      "cell_type": "markdown",
      "metadata": {
        "id": "qFSxAxhuiUnP"
      },
      "source": [
        "### 6. Создадим покупателя"
      ]
    },
    {
      "cell_type": "code",
      "metadata": {
        "colab": {
          "base_uri": "https://localhost:8080/"
        },
        "id": "KOxFISXviT_M",
        "outputId": "f8931ccf-4616-4778-af2c-e8f96ad4550a"
      },
      "source": [
        "moshe = Customer(\n",
        "    FirstName='Moshe', \n",
        "    LastName='Cohen', \n",
        "    Address='Alenbi 99, Tel Aviv', \n",
        "    Phone=\"053-5556789\", \n",
        "    Email='moshe@cohen.com')\n",
        "\n",
        "session.add(moshe)\n",
        "session.commit()"
      ],
      "execution_count": 10,
      "outputs": [
        {
          "output_type": "stream",
          "text": [
            "2020-12-15 18:31:43,318 INFO sqlalchemy.engine.base.Engine BEGIN (implicit)\n",
            "2020-12-15 18:31:43,320 INFO sqlalchemy.engine.base.Engine INSERT INTO customers (\"FirstName\", \"LastName\", \"Company\", \"Address\", \"Phone\", \"Email\") VALUES (?, ?, ?, ?, ?, ?)\n",
            "2020-12-15 18:31:43,321 INFO sqlalchemy.engine.base.Engine ('Moshe', 'Cohen', None, 'Alenbi 99, Tel Aviv', '053-5556789', 'moshe@cohen.com')\n",
            "2020-12-15 18:31:43,326 INFO sqlalchemy.engine.base.Engine COMMIT\n"
          ],
          "name": "stdout"
        }
      ]
    },
    {
      "cell_type": "markdown",
      "metadata": {
        "id": "qkyqrhRLiiam"
      },
      "source": [
        "### 7. Выполним запрос\n",
        "\n",
        "Используя язык выражений SQLAchemy"
      ]
    },
    {
      "cell_type": "code",
      "metadata": {
        "colab": {
          "base_uri": "https://localhost:8080/"
        },
        "id": "y5TSctEEiUFv",
        "outputId": "f7185f64-8d6e-47e4-8c3e-37797b0dae5f"
      },
      "source": [
        "from sqlalchemy import select \n",
        "\n",
        "customers_query = select([Customer.FirstName, Customer.LastName, Customer.Email])\n",
        "results = conn.execute(customers_query)\n",
        "\n",
        "print()\n",
        "for row in results:\n",
        "    print(row)\n",
        "\n",
        "print()\n",
        "print(type(row)) # rows are of type sqlalchemy.engine.result.RowProxy"
      ],
      "execution_count": 11,
      "outputs": [
        {
          "output_type": "stream",
          "text": [
            "2020-12-15 18:31:53,002 INFO sqlalchemy.engine.base.Engine SELECT customers.\"FirstName\", customers.\"LastName\", customers.\"Email\" \n",
            "FROM customers\n",
            "2020-12-15 18:31:53,004 INFO sqlalchemy.engine.base.Engine ()\n",
            "\n",
            "('Moshe', 'Cohen', 'moshe@cohen.com')\n",
            "\n",
            "<class 'sqlalchemy.engine.result.RowProxy'>\n"
          ],
          "name": "stdout"
        }
      ]
    },
    {
      "cell_type": "code",
      "metadata": {
        "colab": {
          "base_uri": "https://localhost:8080/",
          "height": 131
        },
        "id": "POvqjYBciZGp",
        "outputId": "f1cb8ca7-2c2c-4c1f-884a-2b293bf13fd3"
      },
      "source": [
        "display_results(customers_query)"
      ],
      "execution_count": 12,
      "outputs": [
        {
          "output_type": "stream",
          "text": [
            "2020-12-15 18:32:00,031 INFO sqlalchemy.engine.base.OptionEngine SELECT customers.\"FirstName\", customers.\"LastName\", customers.\"Email\" \n",
            "FROM customers\n",
            "2020-12-15 18:32:00,033 INFO sqlalchemy.engine.base.OptionEngine ()\n"
          ],
          "name": "stdout"
        },
        {
          "output_type": "display_data",
          "data": {
            "text/html": [
              "<div>\n",
              "<style scoped>\n",
              "    .dataframe tbody tr th:only-of-type {\n",
              "        vertical-align: middle;\n",
              "    }\n",
              "\n",
              "    .dataframe tbody tr th {\n",
              "        vertical-align: top;\n",
              "    }\n",
              "\n",
              "    .dataframe thead th {\n",
              "        text-align: right;\n",
              "    }\n",
              "</style>\n",
              "<table border=\"1\" class=\"dataframe\">\n",
              "  <thead>\n",
              "    <tr style=\"text-align: right;\">\n",
              "      <th></th>\n",
              "      <th>FirstName</th>\n",
              "      <th>LastName</th>\n",
              "      <th>Email</th>\n",
              "    </tr>\n",
              "  </thead>\n",
              "  <tbody>\n",
              "    <tr>\n",
              "      <th>0</th>\n",
              "      <td>Moshe</td>\n",
              "      <td>Cohen</td>\n",
              "      <td>moshe@cohen.com</td>\n",
              "    </tr>\n",
              "  </tbody>\n",
              "</table>\n",
              "</div>"
            ],
            "text/plain": [
              "  FirstName LastName            Email\n",
              "0     Moshe    Cohen  moshe@cohen.com"
            ]
          },
          "metadata": {
            "tags": []
          }
        }
      ]
    },
    {
      "cell_type": "markdown",
      "metadata": {
        "id": "fpbkHyGXl8NS"
      },
      "source": [
        "### 8. Добавим еще покупателей"
      ]
    },
    {
      "cell_type": "code",
      "metadata": {
        "colab": {
          "base_uri": "https://localhost:8080/"
        },
        "id": "yy4keSqBlZ9O",
        "outputId": "9fd46664-3d01-4b61-b89a-992ec21a81fe"
      },
      "source": [
        "Lisa = Customer(\n",
        "    FirstName='Lisa',\n",
        "    LastName='Cohen', \n",
        "    Address='Alenbi 99, Tel Aviv', \n",
        "    Phone=\"052-1234565\", \n",
        "    Email='lisa@cohen.com')\n",
        "\n",
        "session.add(Lisa)\n",
        "session.commit()"
      ],
      "execution_count": 13,
      "outputs": [
        {
          "output_type": "stream",
          "text": [
            "2020-12-15 18:32:05,669 INFO sqlalchemy.engine.base.Engine BEGIN (implicit)\n",
            "2020-12-15 18:32:05,671 INFO sqlalchemy.engine.base.Engine INSERT INTO customers (\"FirstName\", \"LastName\", \"Company\", \"Address\", \"Phone\", \"Email\") VALUES (?, ?, ?, ?, ?, ?)\n",
            "2020-12-15 18:32:05,673 INFO sqlalchemy.engine.base.Engine ('Lisa', 'Cohen', None, 'Alenbi 99, Tel Aviv', '052-1234565', 'lisa@cohen.com')\n",
            "2020-12-15 18:32:05,676 INFO sqlalchemy.engine.base.Engine COMMIT\n"
          ],
          "name": "stdout"
        }
      ]
    },
    {
      "cell_type": "code",
      "metadata": {
        "colab": {
          "base_uri": "https://localhost:8080/"
        },
        "id": "XY4RHaH5mMQL",
        "outputId": "55253af1-bdac-4dc2-8a95-03651ee0ab70"
      },
      "source": [
        "Nika = Customer(\n",
        "    FirstName='Nika', \n",
        "    LastName='Rave', \n",
        "    Address='Green st, LA', \n",
        "    Phone=\"330-1234565\", \n",
        "    Email='Nika@rave.com')\n",
        "\n",
        "session.add(Nika)\n",
        "session.commit()"
      ],
      "execution_count": 14,
      "outputs": [
        {
          "output_type": "stream",
          "text": [
            "2020-12-15 18:32:10,072 INFO sqlalchemy.engine.base.Engine BEGIN (implicit)\n",
            "2020-12-15 18:32:10,073 INFO sqlalchemy.engine.base.Engine INSERT INTO customers (\"FirstName\", \"LastName\", \"Company\", \"Address\", \"Phone\", \"Email\") VALUES (?, ?, ?, ?, ?, ?)\n",
            "2020-12-15 18:32:10,075 INFO sqlalchemy.engine.base.Engine ('Nika', 'Rave', None, 'Green st, LA', '330-1234565', 'Nika@rave.com')\n",
            "2020-12-15 18:32:10,076 INFO sqlalchemy.engine.base.Engine COMMIT\n"
          ],
          "name": "stdout"
        }
      ]
    },
    {
      "cell_type": "code",
      "metadata": {
        "colab": {
          "base_uri": "https://localhost:8080/"
        },
        "id": "_Lnvtwbdf6OE",
        "outputId": "f3de6a31-6780-4e3d-966b-35e4c6e1e8a3"
      },
      "source": [
        "Lisa_2 = Customer(\n",
        "    FirstName='Lisa',\n",
        "    LastName='White', \n",
        "    Address='Alenbi 66, Tel Aviv', \n",
        "    Phone=\"062-1234565\", \n",
        "    Email='lisa@White.com')\n",
        "\n",
        "session.add(Lisa_2)\n",
        "session.commit()"
      ],
      "execution_count": 15,
      "outputs": [
        {
          "output_type": "stream",
          "text": [
            "2020-12-15 18:32:14,965 INFO sqlalchemy.engine.base.Engine BEGIN (implicit)\n",
            "2020-12-15 18:32:14,971 INFO sqlalchemy.engine.base.Engine INSERT INTO customers (\"FirstName\", \"LastName\", \"Company\", \"Address\", \"Phone\", \"Email\") VALUES (?, ?, ?, ?, ?, ?)\n",
            "2020-12-15 18:32:14,973 INFO sqlalchemy.engine.base.Engine ('Lisa', 'White', None, 'Alenbi 66, Tel Aviv', '062-1234565', 'lisa@White.com')\n",
            "2020-12-15 18:32:14,975 INFO sqlalchemy.engine.base.Engine COMMIT\n"
          ],
          "name": "stdout"
        }
      ]
    },
    {
      "cell_type": "markdown",
      "metadata": {
        "id": "b0vj2Yq-mdI2"
      },
      "source": [
        "Посмотрим теперь на таблицу:"
      ]
    },
    {
      "cell_type": "code",
      "metadata": {
        "colab": {
          "base_uri": "https://localhost:8080/",
          "height": 224
        },
        "id": "RsboOt6smIYT",
        "outputId": "a0e570e1-b030-4fb4-9d59-480efc65bbb5"
      },
      "source": [
        "customers_query = select([Customer.FirstName, Customer.Email])\n",
        "display_results(customers_query)"
      ],
      "execution_count": 16,
      "outputs": [
        {
          "output_type": "stream",
          "text": [
            "2020-12-15 18:32:18,012 INFO sqlalchemy.engine.base.OptionEngine SELECT customers.\"FirstName\", customers.\"Email\" \n",
            "FROM customers\n",
            "2020-12-15 18:32:18,013 INFO sqlalchemy.engine.base.OptionEngine ()\n"
          ],
          "name": "stdout"
        },
        {
          "output_type": "display_data",
          "data": {
            "text/html": [
              "<div>\n",
              "<style scoped>\n",
              "    .dataframe tbody tr th:only-of-type {\n",
              "        vertical-align: middle;\n",
              "    }\n",
              "\n",
              "    .dataframe tbody tr th {\n",
              "        vertical-align: top;\n",
              "    }\n",
              "\n",
              "    .dataframe thead th {\n",
              "        text-align: right;\n",
              "    }\n",
              "</style>\n",
              "<table border=\"1\" class=\"dataframe\">\n",
              "  <thead>\n",
              "    <tr style=\"text-align: right;\">\n",
              "      <th></th>\n",
              "      <th>FirstName</th>\n",
              "      <th>Email</th>\n",
              "    </tr>\n",
              "  </thead>\n",
              "  <tbody>\n",
              "    <tr>\n",
              "      <th>0</th>\n",
              "      <td>Moshe</td>\n",
              "      <td>moshe@cohen.com</td>\n",
              "    </tr>\n",
              "    <tr>\n",
              "      <th>1</th>\n",
              "      <td>Lisa</td>\n",
              "      <td>lisa@cohen.com</td>\n",
              "    </tr>\n",
              "    <tr>\n",
              "      <th>2</th>\n",
              "      <td>Nika</td>\n",
              "      <td>Nika@rave.com</td>\n",
              "    </tr>\n",
              "    <tr>\n",
              "      <th>3</th>\n",
              "      <td>Lisa</td>\n",
              "      <td>lisa@White.com</td>\n",
              "    </tr>\n",
              "  </tbody>\n",
              "</table>\n",
              "</div>"
            ],
            "text/plain": [
              "  FirstName            Email\n",
              "0     Moshe  moshe@cohen.com\n",
              "1      Lisa   lisa@cohen.com\n",
              "2      Nika    Nika@rave.com\n",
              "3      Lisa   lisa@White.com"
            ]
          },
          "metadata": {
            "tags": []
          }
        }
      ]
    },
    {
      "cell_type": "code",
      "metadata": {
        "colab": {
          "base_uri": "https://localhost:8080/"
        },
        "id": "F80Y2DPxmnhA",
        "outputId": "07b88afb-acf4-42c3-fe20-c1042af5b7d9"
      },
      "source": [
        "Customer.__dict__"
      ],
      "execution_count": 17,
      "outputs": [
        {
          "output_type": "execute_result",
          "data": {
            "text/plain": [
              "mappingproxy({'Address': <sqlalchemy.orm.attributes.InstrumentedAttribute at 0x7f2db4c61308>,\n",
              "              'Company': <sqlalchemy.orm.attributes.InstrumentedAttribute at 0x7f2db4c61360>,\n",
              "              'CustomerId': <sqlalchemy.orm.attributes.InstrumentedAttribute at 0x7f2db4c610f8>,\n",
              "              'Email': <sqlalchemy.orm.attributes.InstrumentedAttribute at 0x7f2db4c61258>,\n",
              "              'FirstName': <sqlalchemy.orm.attributes.InstrumentedAttribute at 0x7f2db4c61410>,\n",
              "              'LastName': <sqlalchemy.orm.attributes.InstrumentedAttribute at 0x7f2db4c613b8>,\n",
              "              'Phone': <sqlalchemy.orm.attributes.InstrumentedAttribute at 0x7f2db4c61150>,\n",
              "              '__doc__': None,\n",
              "              '__init__': <function __init__>,\n",
              "              '__mapper__': <Mapper at 0x7f2db4c689b0; Customer>,\n",
              "              '__module__': '__main__',\n",
              "              '__table__': Table('customers', MetaData(bind=Engine(sqlite:///:memory:)), Column('CustomerId', Integer(), table=<customers>, primary_key=True, nullable=False, default=Sequence('customer_id_seq', metadata=MetaData(bind=Engine(sqlite:///:memory:)))), Column('FirstName', NVARCHAR(length=40), table=<customers>, nullable=False), Column('LastName', NVARCHAR(length=20), table=<customers>, nullable=False), Column('Company', NVARCHAR(length=80), table=<customers>), Column('Address', NVARCHAR(length=70), table=<customers>), Column('Phone', NVARCHAR(length=24), table=<customers>), Column('Email', NVARCHAR(length=60), table=<customers>, nullable=False), schema=None),\n",
              "              '__tablename__': 'customers',\n",
              "              '_sa_class_manager': <ClassManager of <class '__main__.Customer'> at 7f2db4c61518>})"
            ]
          },
          "metadata": {
            "tags": []
          },
          "execution_count": 17
        }
      ]
    },
    {
      "cell_type": "code",
      "metadata": {
        "colab": {
          "base_uri": "https://localhost:8080/"
        },
        "id": "OGszDoPtFLQA",
        "outputId": "ae6c5408-1f43-44d6-ac57-c471fcf76afd"
      },
      "source": [
        "list_info = session.query(Customer).all()"
      ],
      "execution_count": 18,
      "outputs": [
        {
          "output_type": "stream",
          "text": [
            "2020-12-15 18:32:32,644 INFO sqlalchemy.engine.base.Engine BEGIN (implicit)\n",
            "2020-12-15 18:32:32,650 INFO sqlalchemy.engine.base.Engine SELECT customers.\"CustomerId\" AS \"customers_CustomerId\", customers.\"FirstName\" AS \"customers_FirstName\", customers.\"LastName\" AS \"customers_LastName\", customers.\"Company\" AS \"customers_Company\", customers.\"Address\" AS \"customers_Address\", customers.\"Phone\" AS \"customers_Phone\", customers.\"Email\" AS \"customers_Email\" \n",
            "FROM customers\n",
            "2020-12-15 18:32:32,653 INFO sqlalchemy.engine.base.Engine ()\n"
          ],
          "name": "stdout"
        }
      ]
    },
    {
      "cell_type": "code",
      "metadata": {
        "colab": {
          "base_uri": "https://localhost:8080/"
        },
        "id": "4j6u2fIpFVy0",
        "outputId": "1406ab82-53d4-4867-a9b4-3c8407b15689"
      },
      "source": [
        "list_info"
      ],
      "execution_count": 19,
      "outputs": [
        {
          "output_type": "execute_result",
          "data": {
            "text/plain": [
              "[<__main__.Customer at 0x7f2d99503c50>,\n",
              " <__main__.Customer at 0x7f2d994a1518>,\n",
              " <__main__.Customer at 0x7f2d994a14e0>,\n",
              " <__main__.Customer at 0x7f2d994a1550>]"
            ]
          },
          "metadata": {
            "tags": []
          },
          "execution_count": 19
        }
      ]
    },
    {
      "cell_type": "code",
      "metadata": {
        "colab": {
          "base_uri": "https://localhost:8080/"
        },
        "id": "yZFNV21ZF2cm",
        "outputId": "a506e163-0a0b-49e8-dd25-b12616b93664"
      },
      "source": [
        "for id_ in list_info:\n",
        "    print(id_.CustomerId)"
      ],
      "execution_count": 20,
      "outputs": [
        {
          "output_type": "stream",
          "text": [
            "1\n",
            "2\n",
            "3\n",
            "4\n"
          ],
          "name": "stdout"
        }
      ]
    },
    {
      "cell_type": "code",
      "metadata": {
        "id": "r7GBKPbyFtk5"
      },
      "source": [
        "first_info = session.query(Customer.CustomerId)"
      ],
      "execution_count": 21,
      "outputs": []
    },
    {
      "cell_type": "code",
      "metadata": {
        "colab": {
          "base_uri": "https://localhost:8080/"
        },
        "id": "BNG4z4rmFtto",
        "outputId": "183841e5-57d2-479f-b4b3-85982584b756"
      },
      "source": [
        "first_info"
      ],
      "execution_count": 22,
      "outputs": [
        {
          "output_type": "execute_result",
          "data": {
            "text/plain": [
              "<sqlalchemy.orm.query.Query at 0x7f2d99439438>"
            ]
          },
          "metadata": {
            "tags": []
          },
          "execution_count": 22
        }
      ]
    },
    {
      "cell_type": "code",
      "metadata": {
        "id": "EaSs_czPFV7N"
      },
      "source": [
        ""
      ],
      "execution_count": 22,
      "outputs": []
    },
    {
      "cell_type": "markdown",
      "metadata": {
        "id": "hQxYclwUubk-"
      },
      "source": [
        "Операторы **desc**, **asc**, **order_by**\n",
        "\n",
        "Оператор SQL ORDER BY выполняет сортировку выходных значений. Оператор SQL ORDER BY можно применять как к числовым столбцам, так и к строковым. В последнем случае, сортировка будет происходить по алфавиту.\n",
        "\n",
        "`ORDER BY column_name [ASC | DESC]`\n",
        "\n",
        "ASC - по возрастанию, DESC - по убыванию"
      ]
    },
    {
      "cell_type": "code",
      "metadata": {
        "id": "3j-tH7eZfCaZ"
      },
      "source": [
        "from sqlalchemy import *"
      ],
      "execution_count": 23,
      "outputs": []
    },
    {
      "cell_type": "code",
      "metadata": {
        "colab": {
          "base_uri": "https://localhost:8080/",
          "height": 224
        },
        "id": "0vrh4XAilaHO",
        "outputId": "0b3dab91-9c08-4df4-efdb-f91d0daedc8a"
      },
      "source": [
        "from sqlalchemy import desc, asc\n",
        "\n",
        "customers_query = select([Customer.FirstName, Customer.LastName, Customer.Email]).order_by(asc(Customer.FirstName), desc(Customer.LastName))\n",
        "#customers_query = customers_query.order_by(asc(Customer.FirstName))\n",
        "\n",
        "display_results(customers_query)"
      ],
      "execution_count": 24,
      "outputs": [
        {
          "output_type": "stream",
          "text": [
            "2020-12-15 18:33:02,204 INFO sqlalchemy.engine.base.OptionEngine SELECT customers.\"FirstName\", customers.\"LastName\", customers.\"Email\" \n",
            "FROM customers ORDER BY customers.\"FirstName\" ASC, customers.\"LastName\" DESC\n",
            "2020-12-15 18:33:02,206 INFO sqlalchemy.engine.base.OptionEngine ()\n"
          ],
          "name": "stdout"
        },
        {
          "output_type": "display_data",
          "data": {
            "text/html": [
              "<div>\n",
              "<style scoped>\n",
              "    .dataframe tbody tr th:only-of-type {\n",
              "        vertical-align: middle;\n",
              "    }\n",
              "\n",
              "    .dataframe tbody tr th {\n",
              "        vertical-align: top;\n",
              "    }\n",
              "\n",
              "    .dataframe thead th {\n",
              "        text-align: right;\n",
              "    }\n",
              "</style>\n",
              "<table border=\"1\" class=\"dataframe\">\n",
              "  <thead>\n",
              "    <tr style=\"text-align: right;\">\n",
              "      <th></th>\n",
              "      <th>FirstName</th>\n",
              "      <th>LastName</th>\n",
              "      <th>Email</th>\n",
              "    </tr>\n",
              "  </thead>\n",
              "  <tbody>\n",
              "    <tr>\n",
              "      <th>0</th>\n",
              "      <td>Lisa</td>\n",
              "      <td>White</td>\n",
              "      <td>lisa@White.com</td>\n",
              "    </tr>\n",
              "    <tr>\n",
              "      <th>1</th>\n",
              "      <td>Lisa</td>\n",
              "      <td>Cohen</td>\n",
              "      <td>lisa@cohen.com</td>\n",
              "    </tr>\n",
              "    <tr>\n",
              "      <th>2</th>\n",
              "      <td>Moshe</td>\n",
              "      <td>Cohen</td>\n",
              "      <td>moshe@cohen.com</td>\n",
              "    </tr>\n",
              "    <tr>\n",
              "      <th>3</th>\n",
              "      <td>Nika</td>\n",
              "      <td>Rave</td>\n",
              "      <td>Nika@rave.com</td>\n",
              "    </tr>\n",
              "  </tbody>\n",
              "</table>\n",
              "</div>"
            ],
            "text/plain": [
              "  FirstName LastName            Email\n",
              "0      Lisa    White   lisa@White.com\n",
              "1      Lisa    Cohen   lisa@cohen.com\n",
              "2     Moshe    Cohen  moshe@cohen.com\n",
              "3      Nika     Rave    Nika@rave.com"
            ]
          },
          "metadata": {
            "tags": []
          }
        }
      ]
    },
    {
      "cell_type": "code",
      "metadata": {
        "colab": {
          "base_uri": "https://localhost:8080/",
          "height": 224
        },
        "id": "3cEc3sCZn8UF",
        "outputId": "7d7fe3f8-0632-4918-d727-7e0a23740fb1"
      },
      "source": [
        "customers_query = customers_query.order_by(desc(Customer.FirstName))\n",
        "\n",
        "display_results(customers_query)"
      ],
      "execution_count": 25,
      "outputs": [
        {
          "output_type": "stream",
          "text": [
            "2020-12-15 18:33:05,683 INFO sqlalchemy.engine.base.OptionEngine SELECT customers.\"FirstName\", customers.\"LastName\", customers.\"Email\" \n",
            "FROM customers ORDER BY customers.\"FirstName\" ASC, customers.\"LastName\" DESC, customers.\"FirstName\" DESC\n",
            "2020-12-15 18:33:05,685 INFO sqlalchemy.engine.base.OptionEngine ()\n"
          ],
          "name": "stdout"
        },
        {
          "output_type": "display_data",
          "data": {
            "text/html": [
              "<div>\n",
              "<style scoped>\n",
              "    .dataframe tbody tr th:only-of-type {\n",
              "        vertical-align: middle;\n",
              "    }\n",
              "\n",
              "    .dataframe tbody tr th {\n",
              "        vertical-align: top;\n",
              "    }\n",
              "\n",
              "    .dataframe thead th {\n",
              "        text-align: right;\n",
              "    }\n",
              "</style>\n",
              "<table border=\"1\" class=\"dataframe\">\n",
              "  <thead>\n",
              "    <tr style=\"text-align: right;\">\n",
              "      <th></th>\n",
              "      <th>FirstName</th>\n",
              "      <th>LastName</th>\n",
              "      <th>Email</th>\n",
              "    </tr>\n",
              "  </thead>\n",
              "  <tbody>\n",
              "    <tr>\n",
              "      <th>0</th>\n",
              "      <td>Lisa</td>\n",
              "      <td>White</td>\n",
              "      <td>lisa@White.com</td>\n",
              "    </tr>\n",
              "    <tr>\n",
              "      <th>1</th>\n",
              "      <td>Lisa</td>\n",
              "      <td>Cohen</td>\n",
              "      <td>lisa@cohen.com</td>\n",
              "    </tr>\n",
              "    <tr>\n",
              "      <th>2</th>\n",
              "      <td>Moshe</td>\n",
              "      <td>Cohen</td>\n",
              "      <td>moshe@cohen.com</td>\n",
              "    </tr>\n",
              "    <tr>\n",
              "      <th>3</th>\n",
              "      <td>Nika</td>\n",
              "      <td>Rave</td>\n",
              "      <td>Nika@rave.com</td>\n",
              "    </tr>\n",
              "  </tbody>\n",
              "</table>\n",
              "</div>"
            ],
            "text/plain": [
              "  FirstName LastName            Email\n",
              "0      Lisa    White   lisa@White.com\n",
              "1      Lisa    Cohen   lisa@cohen.com\n",
              "2     Moshe    Cohen  moshe@cohen.com\n",
              "3      Nika     Rave    Nika@rave.com"
            ]
          },
          "metadata": {
            "tags": []
          }
        }
      ]
    },
    {
      "cell_type": "markdown",
      "metadata": {
        "id": "_JfBzH4FuYxd"
      },
      "source": [
        "**where**\n",
        "Оператор SQL WHERE служит для задания дополнительного условия выборки, операций вставки, редактирования и удаления записей.\n",
        "\n",
        "`where condition`"
      ]
    },
    {
      "cell_type": "code",
      "metadata": {
        "colab": {
          "base_uri": "https://localhost:8080/",
          "height": 179
        },
        "id": "FBvycyqmsheX",
        "outputId": "f0db327c-756f-4ed9-d5e9-86aa6c6d1f6f"
      },
      "source": [
        "customers_query = select([Customer.FirstName, Customer.LastName, Customer.Email])\n",
        "customers_query = customers_query.where(Customer.FirstName == 'Lisa')\n",
        "\n",
        "display_results(customers_query)"
      ],
      "execution_count": 26,
      "outputs": [
        {
          "output_type": "stream",
          "text": [
            "2020-12-15 18:33:08,930 INFO sqlalchemy.engine.base.OptionEngine SELECT customers.\"FirstName\", customers.\"LastName\", customers.\"Email\" \n",
            "FROM customers \n",
            "WHERE customers.\"FirstName\" = ?\n",
            "2020-12-15 18:33:08,931 INFO sqlalchemy.engine.base.OptionEngine ('Lisa',)\n"
          ],
          "name": "stdout"
        },
        {
          "output_type": "display_data",
          "data": {
            "text/html": [
              "<div>\n",
              "<style scoped>\n",
              "    .dataframe tbody tr th:only-of-type {\n",
              "        vertical-align: middle;\n",
              "    }\n",
              "\n",
              "    .dataframe tbody tr th {\n",
              "        vertical-align: top;\n",
              "    }\n",
              "\n",
              "    .dataframe thead th {\n",
              "        text-align: right;\n",
              "    }\n",
              "</style>\n",
              "<table border=\"1\" class=\"dataframe\">\n",
              "  <thead>\n",
              "    <tr style=\"text-align: right;\">\n",
              "      <th></th>\n",
              "      <th>FirstName</th>\n",
              "      <th>LastName</th>\n",
              "      <th>Email</th>\n",
              "    </tr>\n",
              "  </thead>\n",
              "  <tbody>\n",
              "    <tr>\n",
              "      <th>0</th>\n",
              "      <td>Lisa</td>\n",
              "      <td>Cohen</td>\n",
              "      <td>lisa@cohen.com</td>\n",
              "    </tr>\n",
              "    <tr>\n",
              "      <th>1</th>\n",
              "      <td>Lisa</td>\n",
              "      <td>White</td>\n",
              "      <td>lisa@White.com</td>\n",
              "    </tr>\n",
              "  </tbody>\n",
              "</table>\n",
              "</div>"
            ],
            "text/plain": [
              "  FirstName LastName           Email\n",
              "0      Lisa    Cohen  lisa@cohen.com\n",
              "1      Lisa    White  lisa@White.com"
            ]
          },
          "metadata": {
            "tags": []
          }
        }
      ]
    },
    {
      "cell_type": "code",
      "metadata": {
        "id": "UUJsP93ugxUE"
      },
      "source": [
        "customers_query = select([Customer.FirstName, Customer.LastName, Customer.Email])\n",
        "customers_query = customers_query.where(and_(\n",
        "                    users_table.c.name == 'wendy',\n",
        "                    Customer.FirstName == ).order_by(asc(Customer.LastName))"
      ],
      "execution_count": 27,
      "outputs": []
    },
    {
      "cell_type": "code",
      "metadata": {
        "colab": {
          "base_uri": "https://localhost:8080/",
          "height": 179
        },
        "id": "nf78FV4Lga-U",
        "outputId": "ea317ebf-80be-4784-953a-2c4eb15c822e"
      },
      "source": [
        "display_results(customers_query)"
      ],
      "execution_count": 28,
      "outputs": [
        {
          "output_type": "stream",
          "text": [
            "2020-12-15 18:33:16,138 INFO sqlalchemy.engine.base.OptionEngine SELECT customers.\"FirstName\", customers.\"LastName\", customers.\"Email\" \n",
            "FROM customers \n",
            "WHERE customers.\"FirstName\" = ? ORDER BY customers.\"LastName\" ASC\n",
            "2020-12-15 18:33:16,140 INFO sqlalchemy.engine.base.OptionEngine ('Lisa',)\n"
          ],
          "name": "stdout"
        },
        {
          "output_type": "display_data",
          "data": {
            "text/html": [
              "<div>\n",
              "<style scoped>\n",
              "    .dataframe tbody tr th:only-of-type {\n",
              "        vertical-align: middle;\n",
              "    }\n",
              "\n",
              "    .dataframe tbody tr th {\n",
              "        vertical-align: top;\n",
              "    }\n",
              "\n",
              "    .dataframe thead th {\n",
              "        text-align: right;\n",
              "    }\n",
              "</style>\n",
              "<table border=\"1\" class=\"dataframe\">\n",
              "  <thead>\n",
              "    <tr style=\"text-align: right;\">\n",
              "      <th></th>\n",
              "      <th>FirstName</th>\n",
              "      <th>LastName</th>\n",
              "      <th>Email</th>\n",
              "    </tr>\n",
              "  </thead>\n",
              "  <tbody>\n",
              "    <tr>\n",
              "      <th>0</th>\n",
              "      <td>Lisa</td>\n",
              "      <td>Cohen</td>\n",
              "      <td>lisa@cohen.com</td>\n",
              "    </tr>\n",
              "    <tr>\n",
              "      <th>1</th>\n",
              "      <td>Lisa</td>\n",
              "      <td>White</td>\n",
              "      <td>lisa@White.com</td>\n",
              "    </tr>\n",
              "  </tbody>\n",
              "</table>\n",
              "</div>"
            ],
            "text/plain": [
              "  FirstName LastName           Email\n",
              "0      Lisa    Cohen  lisa@cohen.com\n",
              "1      Lisa    White  lisa@White.com"
            ]
          },
          "metadata": {
            "tags": []
          }
        }
      ]
    },
    {
      "cell_type": "markdown",
      "metadata": {
        "id": "hSVfs1IPsQl0"
      },
      "source": [
        "Документация по операторам в SQLAchemy:\n",
        "\n",
        "https://docs.sqlalchemy.org/en/13/core/sqlelement.html"
      ]
    },
    {
      "cell_type": "markdown",
      "metadata": {
        "id": "A7oCKgfNlIrD"
      },
      "source": [
        "## SQLAchemy + Pandas"
      ]
    },
    {
      "cell_type": "code",
      "metadata": {
        "id": "qFRX0AbliZNm"
      },
      "source": [
        "import pandas as pd"
      ],
      "execution_count": 29,
      "outputs": []
    },
    {
      "cell_type": "code",
      "metadata": {
        "colab": {
          "base_uri": "https://localhost:8080/",
          "height": 35
        },
        "id": "Hb5nniFklCHb",
        "outputId": "0fffb085-bc45-4593-f055-ad5596027d1c"
      },
      "source": [
        "#выведем название нашей таблицы\n",
        "Item.__tablename__"
      ],
      "execution_count": 30,
      "outputs": [
        {
          "output_type": "execute_result",
          "data": {
            "application/vnd.google.colaboratory.intrinsic+json": {
              "type": "string"
            },
            "text/plain": [
              "'items'"
            ]
          },
          "metadata": {
            "tags": []
          },
          "execution_count": 30
        }
      ]
    },
    {
      "cell_type": "code",
      "metadata": {
        "colab": {
          "base_uri": "https://localhost:8080/",
          "height": 275
        },
        "id": "47RSBePYiUM2",
        "outputId": "5af186d3-94c2-434f-fbdd-54acdbeab827"
      },
      "source": [
        "df = pd.read_sql('SELECT * FROM customers', conn)\n",
        "df.tail()"
      ],
      "execution_count": 31,
      "outputs": [
        {
          "output_type": "stream",
          "text": [
            "2020-12-15 18:33:33,540 INFO sqlalchemy.engine.base.Engine PRAGMA main.table_info(\"SELECT * FROM customers\")\n",
            "2020-12-15 18:33:33,542 INFO sqlalchemy.engine.base.Engine ()\n",
            "2020-12-15 18:33:33,543 INFO sqlalchemy.engine.base.Engine PRAGMA temp.table_info(\"SELECT * FROM customers\")\n",
            "2020-12-15 18:33:33,545 INFO sqlalchemy.engine.base.Engine ()\n",
            "2020-12-15 18:33:33,546 INFO sqlalchemy.engine.base.Engine SELECT * FROM customers\n",
            "2020-12-15 18:33:33,548 INFO sqlalchemy.engine.base.Engine ()\n"
          ],
          "name": "stdout"
        },
        {
          "output_type": "execute_result",
          "data": {
            "text/html": [
              "<div>\n",
              "<style scoped>\n",
              "    .dataframe tbody tr th:only-of-type {\n",
              "        vertical-align: middle;\n",
              "    }\n",
              "\n",
              "    .dataframe tbody tr th {\n",
              "        vertical-align: top;\n",
              "    }\n",
              "\n",
              "    .dataframe thead th {\n",
              "        text-align: right;\n",
              "    }\n",
              "</style>\n",
              "<table border=\"1\" class=\"dataframe\">\n",
              "  <thead>\n",
              "    <tr style=\"text-align: right;\">\n",
              "      <th></th>\n",
              "      <th>CustomerId</th>\n",
              "      <th>FirstName</th>\n",
              "      <th>LastName</th>\n",
              "      <th>Company</th>\n",
              "      <th>Address</th>\n",
              "      <th>Phone</th>\n",
              "      <th>Email</th>\n",
              "    </tr>\n",
              "  </thead>\n",
              "  <tbody>\n",
              "    <tr>\n",
              "      <th>0</th>\n",
              "      <td>1</td>\n",
              "      <td>Moshe</td>\n",
              "      <td>Cohen</td>\n",
              "      <td>None</td>\n",
              "      <td>Alenbi 99, Tel Aviv</td>\n",
              "      <td>053-5556789</td>\n",
              "      <td>moshe@cohen.com</td>\n",
              "    </tr>\n",
              "    <tr>\n",
              "      <th>1</th>\n",
              "      <td>2</td>\n",
              "      <td>Lisa</td>\n",
              "      <td>Cohen</td>\n",
              "      <td>None</td>\n",
              "      <td>Alenbi 99, Tel Aviv</td>\n",
              "      <td>052-1234565</td>\n",
              "      <td>lisa@cohen.com</td>\n",
              "    </tr>\n",
              "    <tr>\n",
              "      <th>2</th>\n",
              "      <td>3</td>\n",
              "      <td>Nika</td>\n",
              "      <td>Rave</td>\n",
              "      <td>None</td>\n",
              "      <td>Green st, LA</td>\n",
              "      <td>330-1234565</td>\n",
              "      <td>Nika@rave.com</td>\n",
              "    </tr>\n",
              "    <tr>\n",
              "      <th>3</th>\n",
              "      <td>4</td>\n",
              "      <td>Lisa</td>\n",
              "      <td>White</td>\n",
              "      <td>None</td>\n",
              "      <td>Alenbi 66, Tel Aviv</td>\n",
              "      <td>062-1234565</td>\n",
              "      <td>lisa@White.com</td>\n",
              "    </tr>\n",
              "  </tbody>\n",
              "</table>\n",
              "</div>"
            ],
            "text/plain": [
              "   CustomerId FirstName  ...        Phone            Email\n",
              "0           1     Moshe  ...  053-5556789  moshe@cohen.com\n",
              "1           2      Lisa  ...  052-1234565   lisa@cohen.com\n",
              "2           3      Nika  ...  330-1234565    Nika@rave.com\n",
              "3           4      Lisa  ...  062-1234565   lisa@White.com\n",
              "\n",
              "[4 rows x 7 columns]"
            ]
          },
          "metadata": {
            "tags": []
          },
          "execution_count": 31
        }
      ]
    },
    {
      "cell_type": "code",
      "metadata": {
        "colab": {
          "base_uri": "https://localhost:8080/",
          "height": 632
        },
        "id": "8N_pMxycvWZ7",
        "outputId": "3a5e7ae8-241b-4a56-f03f-efa097502962"
      },
      "source": [
        "# Если хотим получить отсортированные значения - ключевая команда ORDER BY\n",
        "sql = \"\"\"\n",
        "SELECT \n",
        "    *\n",
        "FROM\n",
        "    customers\n",
        "ORDER BY \n",
        "    LastName ASC;\n",
        "\"\"\"\n",
        "df = pd.read_sql(sql, conn)\n",
        "\n",
        "df.head()"
      ],
      "execution_count": 32,
      "outputs": [
        {
          "output_type": "stream",
          "text": [
            "2020-12-15 18:33:36,494 INFO sqlalchemy.engine.base.Engine PRAGMA main.table_info(\"\n",
            "SELECT \n",
            "    *\n",
            "FROM\n",
            "    customers\n",
            "ORDER BY \n",
            "    LastName ASC;\n",
            "\")\n",
            "2020-12-15 18:33:36,497 INFO sqlalchemy.engine.base.Engine ()\n",
            "2020-12-15 18:33:36,499 INFO sqlalchemy.engine.base.Engine PRAGMA temp.table_info(\"\n",
            "SELECT \n",
            "    *\n",
            "FROM\n",
            "    customers\n",
            "ORDER BY \n",
            "    LastName ASC;\n",
            "\")\n",
            "2020-12-15 18:33:36,500 INFO sqlalchemy.engine.base.Engine ()\n",
            "2020-12-15 18:33:36,502 INFO sqlalchemy.engine.base.Engine \n",
            "SELECT \n",
            "    *\n",
            "FROM\n",
            "    customers\n",
            "ORDER BY \n",
            "    LastName ASC;\n",
            "\n",
            "2020-12-15 18:33:36,503 INFO sqlalchemy.engine.base.Engine ()\n"
          ],
          "name": "stdout"
        },
        {
          "output_type": "execute_result",
          "data": {
            "text/html": [
              "<div>\n",
              "<style scoped>\n",
              "    .dataframe tbody tr th:only-of-type {\n",
              "        vertical-align: middle;\n",
              "    }\n",
              "\n",
              "    .dataframe tbody tr th {\n",
              "        vertical-align: top;\n",
              "    }\n",
              "\n",
              "    .dataframe thead th {\n",
              "        text-align: right;\n",
              "    }\n",
              "</style>\n",
              "<table border=\"1\" class=\"dataframe\">\n",
              "  <thead>\n",
              "    <tr style=\"text-align: right;\">\n",
              "      <th></th>\n",
              "      <th>CustomerId</th>\n",
              "      <th>FirstName</th>\n",
              "      <th>LastName</th>\n",
              "      <th>Company</th>\n",
              "      <th>Address</th>\n",
              "      <th>Phone</th>\n",
              "      <th>Email</th>\n",
              "    </tr>\n",
              "  </thead>\n",
              "  <tbody>\n",
              "    <tr>\n",
              "      <th>0</th>\n",
              "      <td>1</td>\n",
              "      <td>Moshe</td>\n",
              "      <td>Cohen</td>\n",
              "      <td>None</td>\n",
              "      <td>Alenbi 99, Tel Aviv</td>\n",
              "      <td>053-5556789</td>\n",
              "      <td>moshe@cohen.com</td>\n",
              "    </tr>\n",
              "    <tr>\n",
              "      <th>1</th>\n",
              "      <td>2</td>\n",
              "      <td>Lisa</td>\n",
              "      <td>Cohen</td>\n",
              "      <td>None</td>\n",
              "      <td>Alenbi 99, Tel Aviv</td>\n",
              "      <td>052-1234565</td>\n",
              "      <td>lisa@cohen.com</td>\n",
              "    </tr>\n",
              "    <tr>\n",
              "      <th>2</th>\n",
              "      <td>3</td>\n",
              "      <td>Nika</td>\n",
              "      <td>Rave</td>\n",
              "      <td>None</td>\n",
              "      <td>Green st, LA</td>\n",
              "      <td>330-1234565</td>\n",
              "      <td>Nika@rave.com</td>\n",
              "    </tr>\n",
              "    <tr>\n",
              "      <th>3</th>\n",
              "      <td>4</td>\n",
              "      <td>Lisa</td>\n",
              "      <td>White</td>\n",
              "      <td>None</td>\n",
              "      <td>Alenbi 66, Tel Aviv</td>\n",
              "      <td>062-1234565</td>\n",
              "      <td>lisa@White.com</td>\n",
              "    </tr>\n",
              "  </tbody>\n",
              "</table>\n",
              "</div>"
            ],
            "text/plain": [
              "   CustomerId FirstName  ...        Phone            Email\n",
              "0           1     Moshe  ...  053-5556789  moshe@cohen.com\n",
              "1           2      Lisa  ...  052-1234565   lisa@cohen.com\n",
              "2           3      Nika  ...  330-1234565    Nika@rave.com\n",
              "3           4      Lisa  ...  062-1234565   lisa@White.com\n",
              "\n",
              "[4 rows x 7 columns]"
            ]
          },
          "metadata": {
            "tags": []
          },
          "execution_count": 32
        }
      ]
    },
    {
      "cell_type": "code",
      "metadata": {
        "colab": {
          "base_uri": "https://localhost:8080/",
          "height": 601
        },
        "id": "-UA9_QlHf0ne",
        "outputId": "d7a22693-9ea0-465b-8167-9d6138ae93ff"
      },
      "source": [
        "# Если хотим получить уникальные значения - ключевая команда DISTINCT\n",
        "df = pd.read_sql(\"\"\"\n",
        "SELECT \n",
        "    DISTINCT LastName\n",
        "FROM\n",
        "    customers\n",
        "ORDER BY \n",
        "    LastName;\n",
        "\"\"\", conn)\n",
        "\n",
        "df.head()"
      ],
      "execution_count": 33,
      "outputs": [
        {
          "output_type": "stream",
          "text": [
            "2020-12-15 18:33:40,769 INFO sqlalchemy.engine.base.Engine PRAGMA main.table_info(\"\n",
            "SELECT \n",
            "    DISTINCT LastName\n",
            "FROM\n",
            "    customers\n",
            "ORDER BY \n",
            "    LastName;\n",
            "\")\n",
            "2020-12-15 18:33:40,771 INFO sqlalchemy.engine.base.Engine ()\n",
            "2020-12-15 18:33:40,772 INFO sqlalchemy.engine.base.Engine PRAGMA temp.table_info(\"\n",
            "SELECT \n",
            "    DISTINCT LastName\n",
            "FROM\n",
            "    customers\n",
            "ORDER BY \n",
            "    LastName;\n",
            "\")\n",
            "2020-12-15 18:33:40,774 INFO sqlalchemy.engine.base.Engine ()\n",
            "2020-12-15 18:33:40,775 INFO sqlalchemy.engine.base.Engine \n",
            "SELECT \n",
            "    DISTINCT LastName\n",
            "FROM\n",
            "    customers\n",
            "ORDER BY \n",
            "    LastName;\n",
            "\n",
            "2020-12-15 18:33:40,776 INFO sqlalchemy.engine.base.Engine ()\n"
          ],
          "name": "stdout"
        },
        {
          "output_type": "execute_result",
          "data": {
            "text/html": [
              "<div>\n",
              "<style scoped>\n",
              "    .dataframe tbody tr th:only-of-type {\n",
              "        vertical-align: middle;\n",
              "    }\n",
              "\n",
              "    .dataframe tbody tr th {\n",
              "        vertical-align: top;\n",
              "    }\n",
              "\n",
              "    .dataframe thead th {\n",
              "        text-align: right;\n",
              "    }\n",
              "</style>\n",
              "<table border=\"1\" class=\"dataframe\">\n",
              "  <thead>\n",
              "    <tr style=\"text-align: right;\">\n",
              "      <th></th>\n",
              "      <th>LastName</th>\n",
              "    </tr>\n",
              "  </thead>\n",
              "  <tbody>\n",
              "    <tr>\n",
              "      <th>0</th>\n",
              "      <td>Cohen</td>\n",
              "    </tr>\n",
              "    <tr>\n",
              "      <th>1</th>\n",
              "      <td>Rave</td>\n",
              "    </tr>\n",
              "    <tr>\n",
              "      <th>2</th>\n",
              "      <td>White</td>\n",
              "    </tr>\n",
              "  </tbody>\n",
              "</table>\n",
              "</div>"
            ],
            "text/plain": [
              "  LastName\n",
              "0    Cohen\n",
              "1     Rave\n",
              "2    White"
            ]
          },
          "metadata": {
            "tags": []
          },
          "execution_count": 33
        }
      ]
    },
    {
      "cell_type": "markdown",
      "metadata": {
        "id": "mckZNlhL2NLq"
      },
      "source": [
        "# ДЗ\n",
        " Дедлайн **15.12.2020, 23:59**\n",
        "  \n",
        "- Решить первые 20 задач с сайта https://www.sql-ex.ru (Раздел SELECT(обучающий этап)). Оценивается пропорционально кол-ву выполненных задач. + 20 % (еще 15 задач)\n",
        "\n",
        "- Дополнить таблицу 'items' и 'purchases' 5ью экземплярами (каждую) на Ваш Выбор. Важно: они должны быть привязаны к существующим покупателям Lisa, Nika, Moshe.\n",
        "- При помощи запроса SQLAlchemy вывести все покупки Lisa. Вывести тоже самое при помощи Pandas."
      ]
    },
    {
      "cell_type": "markdown",
      "metadata": {
        "id": "fykV6I7tkAPK"
      },
      "source": [
        "\n",
        "<center><img src='https://github.com/ddvika/Data-Science-School-2020/blob/main/lecture_5/imgs/i-know-sql.jpg?raw=true'></center>"
      ]
    },
    {
      "cell_type": "markdown",
      "metadata": {
        "id": "XrH1434nwSGx"
      },
      "source": [
        "!!!!!Решенные задачи по SQL на сайте sql-ex в виде принстскрина находятся в репозитории в файле с названием безымянный\r\n"
      ]
    },
    {
      "cell_type": "code",
      "metadata": {
        "colab": {
          "base_uri": "https://localhost:8080/"
        },
        "id": "MOV33ahW1id7",
        "outputId": "85d5882e-6367-49c5-d9ba-4493b57262f3"
      },
      "source": [
        "sponge = Item(\r\n",
        "    Name='Sponge', \r\n",
        "    Price=100)\r\n",
        "session.add(sponge)\r\n",
        "session.commit()"
      ],
      "execution_count": 45,
      "outputs": [
        {
          "output_type": "stream",
          "text": [
            "2020-12-15 19:21:26,501 INFO sqlalchemy.engine.base.Engine INSERT INTO items (\"Name\", \"Price\") VALUES (?, ?)\n",
            "2020-12-15 19:21:26,503 INFO sqlalchemy.engine.base.Engine ('Sponge', 100.0)\n",
            "2020-12-15 19:21:26,505 INFO sqlalchemy.engine.base.Engine COMMIT\n"
          ],
          "name": "stdout"
        }
      ]
    },
    {
      "cell_type": "code",
      "metadata": {
        "colab": {
          "base_uri": "https://localhost:8080/"
        },
        "id": "rfvNRc-A2cdP",
        "outputId": "bdbfde44-3449-4ea2-c7ec-9f3a694f59ec"
      },
      "source": [
        "Bob = Item(\r\n",
        "    Name='Bob', \r\n",
        "    Price=110)\r\n",
        "session.add(Bob)\r\n",
        "session.commit()"
      ],
      "execution_count": 46,
      "outputs": [
        {
          "output_type": "stream",
          "text": [
            "2020-12-15 19:22:08,864 INFO sqlalchemy.engine.base.Engine BEGIN (implicit)\n",
            "2020-12-15 19:22:08,865 INFO sqlalchemy.engine.base.Engine INSERT INTO items (\"Name\", \"Price\") VALUES (?, ?)\n",
            "2020-12-15 19:22:08,866 INFO sqlalchemy.engine.base.Engine ('Bob', 110.0)\n",
            "2020-12-15 19:22:08,869 INFO sqlalchemy.engine.base.Engine COMMIT\n"
          ],
          "name": "stdout"
        }
      ]
    },
    {
      "cell_type": "code",
      "metadata": {
        "colab": {
          "base_uri": "https://localhost:8080/"
        },
        "id": "FmgghSqn2nJJ",
        "outputId": "7812498c-ad60-479c-fd45-f777f6018db4"
      },
      "source": [
        "Square = Item(\r\n",
        "    Name='Square', \r\n",
        "    Price=120)\r\n",
        "session.add(Square)\r\n",
        "session.commit()"
      ],
      "execution_count": 47,
      "outputs": [
        {
          "output_type": "stream",
          "text": [
            "2020-12-15 19:22:55,452 INFO sqlalchemy.engine.base.Engine BEGIN (implicit)\n",
            "2020-12-15 19:22:55,454 INFO sqlalchemy.engine.base.Engine INSERT INTO items (\"Name\", \"Price\") VALUES (?, ?)\n",
            "2020-12-15 19:22:55,458 INFO sqlalchemy.engine.base.Engine ('Square', 120.0)\n",
            "2020-12-15 19:22:55,465 INFO sqlalchemy.engine.base.Engine COMMIT\n"
          ],
          "name": "stdout"
        }
      ]
    },
    {
      "cell_type": "code",
      "metadata": {
        "colab": {
          "base_uri": "https://localhost:8080/"
        },
        "id": "FBXQfBX42x-i",
        "outputId": "23f474a6-dd0e-431e-a36e-58a040657d34"
      },
      "source": [
        "Pants = Item(\r\n",
        "    Name='Pants', \r\n",
        "    Price=115)\r\n",
        "session.add(Pants)\r\n",
        "session.commit()"
      ],
      "execution_count": 48,
      "outputs": [
        {
          "output_type": "stream",
          "text": [
            "2020-12-15 19:23:32,520 INFO sqlalchemy.engine.base.Engine BEGIN (implicit)\n",
            "2020-12-15 19:23:32,521 INFO sqlalchemy.engine.base.Engine INSERT INTO items (\"Name\", \"Price\") VALUES (?, ?)\n",
            "2020-12-15 19:23:32,523 INFO sqlalchemy.engine.base.Engine ('Pants', 115.0)\n",
            "2020-12-15 19:23:32,528 INFO sqlalchemy.engine.base.Engine COMMIT\n"
          ],
          "name": "stdout"
        }
      ]
    },
    {
      "cell_type": "code",
      "metadata": {
        "colab": {
          "base_uri": "https://localhost:8080/"
        },
        "id": "49hMuLkF27iL",
        "outputId": "d6bc0c39-0d71-4616-ab36-82b18e4b572d"
      },
      "source": [
        "ahahaha = Item(\r\n",
        "    Name='ahahaha', \r\n",
        "    Price=5000)\r\n",
        "session.add(ahahaha)\r\n",
        "session.commit()"
      ],
      "execution_count": 49,
      "outputs": [
        {
          "output_type": "stream",
          "text": [
            "2020-12-15 19:24:46,056 INFO sqlalchemy.engine.base.Engine BEGIN (implicit)\n",
            "2020-12-15 19:24:46,060 INFO sqlalchemy.engine.base.Engine INSERT INTO items (\"Name\", \"Price\") VALUES (?, ?)\n",
            "2020-12-15 19:24:46,061 INFO sqlalchemy.engine.base.Engine ('ahahaha', 5000.0)\n",
            "2020-12-15 19:24:46,064 INFO sqlalchemy.engine.base.Engine COMMIT\n"
          ],
          "name": "stdout"
        }
      ]
    },
    {
      "cell_type": "code",
      "metadata": {
        "colab": {
          "base_uri": "https://localhost:8080/",
          "height": 612
        },
        "id": "uCJw-iin3MLs",
        "outputId": "97c18f67-3cc7-4ba9-b4ba-ae9293f65348"
      },
      "source": [
        "sqlitems = \"\"\"\r\n",
        "SELECT *\r\n",
        "FROM\r\n",
        "    Items\r\n",
        "\r\n",
        ";\r\n",
        "\"\"\"\r\n",
        "df = pd.read_sql(sqlitems, conn)\r\n",
        "df"
      ],
      "execution_count": 50,
      "outputs": [
        {
          "output_type": "stream",
          "text": [
            "2020-12-15 19:26:02,266 INFO sqlalchemy.engine.base.Engine PRAGMA main.table_info(\"\n",
            "SELECT *\n",
            "FROM\n",
            "    Items\n",
            "\n",
            ";\n",
            "\")\n",
            "2020-12-15 19:26:02,267 INFO sqlalchemy.engine.base.Engine ()\n",
            "2020-12-15 19:26:02,268 INFO sqlalchemy.engine.base.Engine PRAGMA temp.table_info(\"\n",
            "SELECT *\n",
            "FROM\n",
            "    Items\n",
            "\n",
            ";\n",
            "\")\n",
            "2020-12-15 19:26:02,270 INFO sqlalchemy.engine.base.Engine ()\n",
            "2020-12-15 19:26:02,271 INFO sqlalchemy.engine.base.Engine \n",
            "SELECT *\n",
            "FROM\n",
            "    Items\n",
            "\n",
            ";\n",
            "\n",
            "2020-12-15 19:26:02,272 INFO sqlalchemy.engine.base.Engine ()\n"
          ],
          "name": "stdout"
        },
        {
          "output_type": "execute_result",
          "data": {
            "text/html": [
              "<div>\n",
              "<style scoped>\n",
              "    .dataframe tbody tr th:only-of-type {\n",
              "        vertical-align: middle;\n",
              "    }\n",
              "\n",
              "    .dataframe tbody tr th {\n",
              "        vertical-align: top;\n",
              "    }\n",
              "\n",
              "    .dataframe thead th {\n",
              "        text-align: right;\n",
              "    }\n",
              "</style>\n",
              "<table border=\"1\" class=\"dataframe\">\n",
              "  <thead>\n",
              "    <tr style=\"text-align: right;\">\n",
              "      <th></th>\n",
              "      <th>ItemId</th>\n",
              "      <th>Name</th>\n",
              "      <th>Price</th>\n",
              "    </tr>\n",
              "  </thead>\n",
              "  <tbody>\n",
              "    <tr>\n",
              "      <th>0</th>\n",
              "      <td>1</td>\n",
              "      <td>Sponge</td>\n",
              "      <td>100</td>\n",
              "    </tr>\n",
              "    <tr>\n",
              "      <th>1</th>\n",
              "      <td>2</td>\n",
              "      <td>Bob</td>\n",
              "      <td>110</td>\n",
              "    </tr>\n",
              "    <tr>\n",
              "      <th>2</th>\n",
              "      <td>3</td>\n",
              "      <td>Square</td>\n",
              "      <td>120</td>\n",
              "    </tr>\n",
              "    <tr>\n",
              "      <th>3</th>\n",
              "      <td>4</td>\n",
              "      <td>Pants</td>\n",
              "      <td>115</td>\n",
              "    </tr>\n",
              "    <tr>\n",
              "      <th>4</th>\n",
              "      <td>5</td>\n",
              "      <td>ahahaha</td>\n",
              "      <td>5000</td>\n",
              "    </tr>\n",
              "  </tbody>\n",
              "</table>\n",
              "</div>"
            ],
            "text/plain": [
              "   ItemId     Name  Price\n",
              "0       1   Sponge    100\n",
              "1       2      Bob    110\n",
              "2       3   Square    120\n",
              "3       4    Pants    115\n",
              "4       5  ahahaha   5000"
            ]
          },
          "metadata": {
            "tags": []
          },
          "execution_count": 50
        }
      ]
    },
    {
      "cell_type": "code",
      "metadata": {
        "colab": {
          "base_uri": "https://localhost:8080/"
        },
        "id": "9KgiQsQk3kHD",
        "outputId": "f9712b70-4e3b-41b1-b26d-d41d4a785bf5"
      },
      "source": [
        "import datetime as dt\r\n",
        "\r\n",
        "Purchase1 = Purchase(\r\n",
        "    ItemId=1,\r\n",
        "    CustomerId=1,\r\n",
        "    Date=dt.datetime(2020,5,1))\r\n",
        "session.add(Purchase1)\r\n",
        "session.commit()"
      ],
      "execution_count": 71,
      "outputs": [
        {
          "output_type": "stream",
          "text": [
            "2020-12-15 19:49:49,969 INFO sqlalchemy.engine.base.Engine BEGIN (implicit)\n",
            "2020-12-15 19:49:49,971 INFO sqlalchemy.engine.base.Engine INSERT INTO purchases (\"ItemId\", \"CustomerId\", \"Date\") VALUES (?, ?, ?)\n",
            "2020-12-15 19:49:49,971 INFO sqlalchemy.engine.base.Engine (1, 1, '2020-05-01 00:00:00.000000')\n",
            "2020-12-15 19:49:49,973 INFO sqlalchemy.engine.base.Engine COMMIT\n"
          ],
          "name": "stdout"
        }
      ]
    },
    {
      "cell_type": "code",
      "metadata": {
        "colab": {
          "base_uri": "https://localhost:8080/"
        },
        "id": "necox_XN5-bf",
        "outputId": "05f4cb4d-e64e-4fcc-d503-bda4ca9b78fb"
      },
      "source": [
        "Purchase2 = Purchase(\r\n",
        "    ItemId=2,\r\n",
        "    CustomerId=2,\r\n",
        "    Date=dt.datetime(2020,5,2))\r\n",
        "session.add(Purchase2)\r\n",
        "session.commit()"
      ],
      "execution_count": 72,
      "outputs": [
        {
          "output_type": "stream",
          "text": [
            "2020-12-15 19:50:19,536 INFO sqlalchemy.engine.base.Engine BEGIN (implicit)\n",
            "2020-12-15 19:50:19,539 INFO sqlalchemy.engine.base.Engine INSERT INTO purchases (\"ItemId\", \"CustomerId\", \"Date\") VALUES (?, ?, ?)\n",
            "2020-12-15 19:50:19,540 INFO sqlalchemy.engine.base.Engine (2, 2, '2020-05-02 00:00:00.000000')\n",
            "2020-12-15 19:50:19,543 INFO sqlalchemy.engine.base.Engine COMMIT\n"
          ],
          "name": "stdout"
        }
      ]
    },
    {
      "cell_type": "code",
      "metadata": {
        "colab": {
          "base_uri": "https://localhost:8080/"
        },
        "id": "POlAgTT69DUQ",
        "outputId": "c5c9dde8-235a-40f2-a86a-2a2d721775fe"
      },
      "source": [
        "Purchase3 = Purchase(\r\n",
        "    ItemId=3,\r\n",
        "    CustomerId=3,\r\n",
        "    Date=dt.datetime(2020,5,3))\r\n",
        "session.add(Purchase3)\r\n",
        "session.commit()"
      ],
      "execution_count": 73,
      "outputs": [
        {
          "output_type": "stream",
          "text": [
            "2020-12-15 19:50:45,494 INFO sqlalchemy.engine.base.Engine BEGIN (implicit)\n",
            "2020-12-15 19:50:45,496 INFO sqlalchemy.engine.base.Engine INSERT INTO purchases (\"ItemId\", \"CustomerId\", \"Date\") VALUES (?, ?, ?)\n",
            "2020-12-15 19:50:45,496 INFO sqlalchemy.engine.base.Engine (3, 3, '2020-05-03 00:00:00.000000')\n",
            "2020-12-15 19:50:45,498 INFO sqlalchemy.engine.base.Engine COMMIT\n"
          ],
          "name": "stdout"
        }
      ]
    },
    {
      "cell_type": "code",
      "metadata": {
        "colab": {
          "base_uri": "https://localhost:8080/"
        },
        "id": "5M5MNm2D9Iyh",
        "outputId": "b9c1f567-42c7-4170-90b3-8c98fdb12e89"
      },
      "source": [
        "Purchase4 = Purchase(\r\n",
        "    ItemId=4,\r\n",
        "    CustomerId=4,\r\n",
        "    Date=dt.datetime(2020,5,4))\r\n",
        "session.add(Purchase4)\r\n",
        "session.commit()"
      ],
      "execution_count": 74,
      "outputs": [
        {
          "output_type": "stream",
          "text": [
            "2020-12-15 19:51:23,660 INFO sqlalchemy.engine.base.Engine BEGIN (implicit)\n",
            "2020-12-15 19:51:23,661 INFO sqlalchemy.engine.base.Engine INSERT INTO purchases (\"ItemId\", \"CustomerId\", \"Date\") VALUES (?, ?, ?)\n",
            "2020-12-15 19:51:23,663 INFO sqlalchemy.engine.base.Engine (4, 4, '2020-05-04 00:00:00.000000')\n",
            "2020-12-15 19:51:23,666 INFO sqlalchemy.engine.base.Engine COMMIT\n"
          ],
          "name": "stdout"
        }
      ]
    },
    {
      "cell_type": "code",
      "metadata": {
        "colab": {
          "base_uri": "https://localhost:8080/"
        },
        "id": "IW9R6t5v9SOK",
        "outputId": "a1b0127b-f169-4719-83be-f3a9ea7a363e"
      },
      "source": [
        "Purchase5 = Purchase(\r\n",
        "    ItemId=5,\r\n",
        "    CustomerId=4,\r\n",
        "    Date=dt.datetime(2020,5,5))\r\n",
        "session.add(Purchase5)\r\n",
        "session.commit()"
      ],
      "execution_count": 75,
      "outputs": [
        {
          "output_type": "stream",
          "text": [
            "2020-12-15 19:51:44,819 INFO sqlalchemy.engine.base.Engine BEGIN (implicit)\n",
            "2020-12-15 19:51:44,823 INFO sqlalchemy.engine.base.Engine INSERT INTO purchases (\"ItemId\", \"CustomerId\", \"Date\") VALUES (?, ?, ?)\n",
            "2020-12-15 19:51:44,825 INFO sqlalchemy.engine.base.Engine (5, 4, '2020-05-05 00:00:00.000000')\n",
            "2020-12-15 19:51:44,829 INFO sqlalchemy.engine.base.Engine COMMIT\n"
          ],
          "name": "stdout"
        }
      ]
    },
    {
      "cell_type": "code",
      "metadata": {
        "colab": {
          "base_uri": "https://localhost:8080/",
          "height": 179
        },
        "id": "ToMfMZ6hxAGs",
        "outputId": "4e19ccc8-289c-46b8-9012-7d5750ec3f15"
      },
      "source": [
        "LisaID=select([Customer.CustomerId])\r\n",
        "LisaID=LisaID.where(Customer.FirstName == 'Lisa')\r\n",
        "\r\n",
        "display_results(LisaID)"
      ],
      "execution_count": 76,
      "outputs": [
        {
          "output_type": "stream",
          "text": [
            "2020-12-15 19:51:50,159 INFO sqlalchemy.engine.base.OptionEngine SELECT customers.\"CustomerId\" \n",
            "FROM customers \n",
            "WHERE customers.\"FirstName\" = ?\n",
            "2020-12-15 19:51:50,161 INFO sqlalchemy.engine.base.OptionEngine ('Lisa',)\n"
          ],
          "name": "stdout"
        },
        {
          "output_type": "display_data",
          "data": {
            "text/html": [
              "<div>\n",
              "<style scoped>\n",
              "    .dataframe tbody tr th:only-of-type {\n",
              "        vertical-align: middle;\n",
              "    }\n",
              "\n",
              "    .dataframe tbody tr th {\n",
              "        vertical-align: top;\n",
              "    }\n",
              "\n",
              "    .dataframe thead th {\n",
              "        text-align: right;\n",
              "    }\n",
              "</style>\n",
              "<table border=\"1\" class=\"dataframe\">\n",
              "  <thead>\n",
              "    <tr style=\"text-align: right;\">\n",
              "      <th></th>\n",
              "      <th>CustomerId</th>\n",
              "    </tr>\n",
              "  </thead>\n",
              "  <tbody>\n",
              "    <tr>\n",
              "      <th>0</th>\n",
              "      <td>2</td>\n",
              "    </tr>\n",
              "    <tr>\n",
              "      <th>1</th>\n",
              "      <td>4</td>\n",
              "    </tr>\n",
              "  </tbody>\n",
              "</table>\n",
              "</div>"
            ],
            "text/plain": [
              "   CustomerId\n",
              "0           2\n",
              "1           4"
            ]
          },
          "metadata": {
            "tags": []
          }
        }
      ]
    },
    {
      "cell_type": "code",
      "metadata": {
        "colab": {
          "base_uri": "https://localhost:8080/",
          "height": 244
        },
        "id": "HBp7lZR9zpRU",
        "outputId": "9f0f36a8-61e6-4514-f6cd-4b3d4d076075"
      },
      "source": [
        "Lisaid_query=select([Purchase.PurchaseId,Purchase.ItemId,Purchase.CustomerId,Purchase.Date])\r\n",
        "Lisaid_query=Lisaid_query.where((Purchase.CustomerId == LisaID)|(Purchase.CustomerId == 4))\r\n",
        "display_results(Lisaid_query)"
      ],
      "execution_count": 84,
      "outputs": [
        {
          "output_type": "stream",
          "text": [
            "2020-12-15 20:04:37,821 INFO sqlalchemy.engine.base.OptionEngine SELECT purchases.\"PurchaseId\", purchases.\"ItemId\", purchases.\"CustomerId\", purchases.\"Date\" \n",
            "FROM purchases \n",
            "WHERE purchases.\"CustomerId\" = (SELECT customers.\"CustomerId\" \n",
            "FROM customers \n",
            "WHERE customers.\"FirstName\" = ?) OR purchases.\"CustomerId\" = ?\n",
            "2020-12-15 20:04:37,823 INFO sqlalchemy.engine.base.OptionEngine ('Lisa', 4)\n"
          ],
          "name": "stdout"
        },
        {
          "output_type": "display_data",
          "data": {
            "text/html": [
              "<div>\n",
              "<style scoped>\n",
              "    .dataframe tbody tr th:only-of-type {\n",
              "        vertical-align: middle;\n",
              "    }\n",
              "\n",
              "    .dataframe tbody tr th {\n",
              "        vertical-align: top;\n",
              "    }\n",
              "\n",
              "    .dataframe thead th {\n",
              "        text-align: right;\n",
              "    }\n",
              "</style>\n",
              "<table border=\"1\" class=\"dataframe\">\n",
              "  <thead>\n",
              "    <tr style=\"text-align: right;\">\n",
              "      <th></th>\n",
              "      <th>PurchaseId</th>\n",
              "      <th>ItemId</th>\n",
              "      <th>CustomerId</th>\n",
              "      <th>Date</th>\n",
              "    </tr>\n",
              "  </thead>\n",
              "  <tbody>\n",
              "    <tr>\n",
              "      <th>0</th>\n",
              "      <td>3</td>\n",
              "      <td>2</td>\n",
              "      <td>2</td>\n",
              "      <td>2020-05-02</td>\n",
              "    </tr>\n",
              "    <tr>\n",
              "      <th>1</th>\n",
              "      <td>5</td>\n",
              "      <td>4</td>\n",
              "      <td>4</td>\n",
              "      <td>2020-05-04</td>\n",
              "    </tr>\n",
              "    <tr>\n",
              "      <th>2</th>\n",
              "      <td>6</td>\n",
              "      <td>5</td>\n",
              "      <td>4</td>\n",
              "      <td>2020-05-05</td>\n",
              "    </tr>\n",
              "  </tbody>\n",
              "</table>\n",
              "</div>"
            ],
            "text/plain": [
              "   PurchaseId  ItemId  CustomerId       Date\n",
              "0           3       2           2 2020-05-02\n",
              "1           5       4           4 2020-05-04\n",
              "2           6       5           4 2020-05-05"
            ]
          },
          "metadata": {
            "tags": []
          }
        }
      ]
    },
    {
      "cell_type": "code",
      "metadata": {
        "id": "5c34MwqpkCeh",
        "colab": {
          "base_uri": "https://localhost:8080/",
          "height": 550
        },
        "outputId": "a3cace14-a8a9-4f76-e8dc-d003796cd506"
      },
      "source": [
        "sql = \"\"\"\r\n",
        "SELECT *\r\n",
        "FROM\r\n",
        "    Purchases\r\n",
        "WHERE CustomerId in (SELECT CustomerId FROM customers WHERE FirstName = \"Lisa\")\r\n",
        ";\r\n",
        "\"\"\"\r\n",
        "df = pd.read_sql(sql, conn)\r\n",
        "df"
      ],
      "execution_count": 78,
      "outputs": [
        {
          "output_type": "stream",
          "text": [
            "2020-12-15 19:52:20,416 INFO sqlalchemy.engine.base.Engine PRAGMA main.table_info(\"\n",
            "SELECT *\n",
            "FROM\n",
            "    Purchases\n",
            "WHERE CustomerId in (SELECT CustomerId FROM customers WHERE FirstName = \"\"Lisa\"\")\n",
            ";\n",
            "\")\n",
            "2020-12-15 19:52:20,417 INFO sqlalchemy.engine.base.Engine ()\n",
            "2020-12-15 19:52:20,418 INFO sqlalchemy.engine.base.Engine PRAGMA temp.table_info(\"\n",
            "SELECT *\n",
            "FROM\n",
            "    Purchases\n",
            "WHERE CustomerId in (SELECT CustomerId FROM customers WHERE FirstName = \"\"Lisa\"\")\n",
            ";\n",
            "\")\n",
            "2020-12-15 19:52:20,419 INFO sqlalchemy.engine.base.Engine ()\n",
            "2020-12-15 19:52:20,420 INFO sqlalchemy.engine.base.Engine \n",
            "SELECT *\n",
            "FROM\n",
            "    Purchases\n",
            "WHERE CustomerId in (SELECT CustomerId FROM customers WHERE FirstName = \"Lisa\")\n",
            ";\n",
            "\n",
            "2020-12-15 19:52:20,421 INFO sqlalchemy.engine.base.Engine ()\n"
          ],
          "name": "stdout"
        },
        {
          "output_type": "execute_result",
          "data": {
            "text/html": [
              "<div>\n",
              "<style scoped>\n",
              "    .dataframe tbody tr th:only-of-type {\n",
              "        vertical-align: middle;\n",
              "    }\n",
              "\n",
              "    .dataframe tbody tr th {\n",
              "        vertical-align: top;\n",
              "    }\n",
              "\n",
              "    .dataframe thead th {\n",
              "        text-align: right;\n",
              "    }\n",
              "</style>\n",
              "<table border=\"1\" class=\"dataframe\">\n",
              "  <thead>\n",
              "    <tr style=\"text-align: right;\">\n",
              "      <th></th>\n",
              "      <th>PurchaseId</th>\n",
              "      <th>ItemId</th>\n",
              "      <th>CustomerId</th>\n",
              "      <th>Date</th>\n",
              "    </tr>\n",
              "  </thead>\n",
              "  <tbody>\n",
              "    <tr>\n",
              "      <th>0</th>\n",
              "      <td>3</td>\n",
              "      <td>2</td>\n",
              "      <td>2</td>\n",
              "      <td>2020-05-02 00:00:00.000000</td>\n",
              "    </tr>\n",
              "    <tr>\n",
              "      <th>1</th>\n",
              "      <td>5</td>\n",
              "      <td>4</td>\n",
              "      <td>4</td>\n",
              "      <td>2020-05-04 00:00:00.000000</td>\n",
              "    </tr>\n",
              "    <tr>\n",
              "      <th>2</th>\n",
              "      <td>6</td>\n",
              "      <td>5</td>\n",
              "      <td>4</td>\n",
              "      <td>2020-05-05 00:00:00.000000</td>\n",
              "    </tr>\n",
              "  </tbody>\n",
              "</table>\n",
              "</div>"
            ],
            "text/plain": [
              "   PurchaseId  ItemId  CustomerId                        Date\n",
              "0           3       2           2  2020-05-02 00:00:00.000000\n",
              "1           5       4           4  2020-05-04 00:00:00.000000\n",
              "2           6       5           4  2020-05-05 00:00:00.000000"
            ]
          },
          "metadata": {
            "tags": []
          },
          "execution_count": 78
        }
      ]
    }
  ]
}