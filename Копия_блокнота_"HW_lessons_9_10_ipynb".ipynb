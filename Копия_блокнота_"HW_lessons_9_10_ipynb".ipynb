{
  "nbformat": 4,
  "nbformat_minor": 0,
  "metadata": {
    "colab": {
      "name": "Копия блокнота \"HW_lessons_9-10.ipynb\"",
      "provenance": [],
      "collapsed_sections": [],
      "include_colab_link": true
    },
    "kernelspec": {
      "name": "python3",
      "display_name": "Python 3"
    }
  },
  "cells": [
    {
      "cell_type": "markdown",
      "metadata": {
        "id": "view-in-github",
        "colab_type": "text"
      },
      "source": [
        "<a href=\"https://colab.research.google.com/github/Konstantin-Larionov/ds_sb_2020_homework/blob/main/%D0%9A%D0%BE%D0%BF%D0%B8%D1%8F_%D0%B1%D0%BB%D0%BE%D0%BA%D0%BD%D0%BE%D1%82%D0%B0_%22HW_lessons_9_10_ipynb%22.ipynb\" target=\"_parent\"><img src=\"https://colab.research.google.com/assets/colab-badge.svg\" alt=\"Open In Colab\"/></a>"
      ]
    },
    {
      "cell_type": "markdown",
      "metadata": {
        "id": "SgxdX4L0dSw7"
      },
      "source": [
        "# Домашнее задание"
      ]
    },
    {
      "cell_type": "markdown",
      "metadata": {
        "id": "piodEhR7orUF"
      },
      "source": [
        "Ноутбук в колаб: https://colab.research.google.com/drive/1d-vvpJW8IWSPeodFnfaEVaZIQrys8uU0?usp=sharing"
      ]
    },
    {
      "cell_type": "markdown",
      "metadata": {
        "id": "r3_T-pcpnme8"
      },
      "source": [
        "**Дедлайн: 01.01.2021, 23:59**\n"
      ]
    },
    {
      "cell_type": "markdown",
      "metadata": {
        "id": "B2RmFtRDn5vy"
      },
      "source": [
        "Формат отчетности - jupyter notebook. Однако вычислять производные не обязательно в Markdown. Если вычисляете вручную, то дополнительно с ноутбуком, отправляйте pdf-файл с расписанным решением."
      ]
    },
    {
      "cell_type": "markdown",
      "metadata": {
        "id": "aCDx6dKzeEhp"
      },
      "source": [
        "### Пример реализации градиентного спуска: https://github.com/ddvika/Data-Science-School-2020/blob/main/lecture_9/gradient_methods.ipynb"
      ]
    },
    {
      "cell_type": "markdown",
      "metadata": {
        "id": "t-G1btbwoStu"
      },
      "source": [
        "# Задания"
      ]
    },
    {
      "cell_type": "markdown",
      "metadata": {
        "id": "B1XambpmoeIj"
      },
      "source": [
        "Перед выполнением ДЗ посмотрите на ноутбук, прикрепленный по ссылке выше. Там вы найдете реализацию градиентного спуска с постоянным и дробным шагом."
      ]
    },
    {
      "cell_type": "markdown",
      "metadata": {
        "id": "VnSTXgrueAp0"
      },
      "source": [
        "### Задание 1. [1 point]"
      ]
    },
    {
      "cell_type": "markdown",
      "metadata": {
        "id": "-XmQ1AO9f1Qz"
      },
      "source": [
        "Релизуйте градиентный спуск с постоянным шагом и с дробным шагом для функции\n",
        "$$\n",
        "y = x_{1}^{2}+5 x_{2}^{2}\n",
        "$$\n",
        "\n",
        "в произвольно выбранной Вами точке."
      ]
    },
    {
      "cell_type": "code",
      "metadata": {
        "id": "eYGR_-upm1X0"
      },
      "source": [
        "import numpy as np\r\n",
        "import math as mt"
      ],
      "execution_count": 52,
      "outputs": []
    },
    {
      "cell_type": "code",
      "metadata": {
        "id": "LMwt7wOGnCMC"
      },
      "source": [
        "def f(x):\r\n",
        "    return x[0]**2+5*x[1]**2\r\n",
        "    \r\n",
        "def grad_f(x):\r\n",
        "    return np.array([2*x[0], 10*x[1]])"
      ],
      "execution_count": 88,
      "outputs": []
    },
    {
      "cell_type": "code",
      "metadata": {
        "id": "mcPiugAxo8uN"
      },
      "source": [
        "# c постоянным шагом\r\n",
        "\r\n",
        "def grad_descent_const_step(x = np.array([1, 1]), alpha = 0.001, epsilon = 0.05):\r\n",
        "    grad = grad_f(x)\r\n",
        "    n = 0\r\n",
        "    check = 0\r\n",
        "    while (np.linalg.norm(grad) > epsilon) or (check < 3):\r\n",
        "        x = x - alpha*grad\r\n",
        "        grad = grad_f(x)\r\n",
        "        n+=1\r\n",
        "        if (np.linalg.norm(grad) <= epsilon): check +=1\r\n",
        "    print(\"Градиентный спуст с постоянным шагом выполнил {} шагов\".format(n))\r\n",
        "    print(\"Точка с координатами х1 = {}, x2 = {}\".format(x[0], x[1]))\r\n",
        "    return x"
      ],
      "execution_count": 39,
      "outputs": []
    },
    {
      "cell_type": "code",
      "metadata": {
        "colab": {
          "base_uri": "https://localhost:8080/"
        },
        "id": "EGXNwtSYqJSw",
        "outputId": "0d692e8d-2b44-4ee0-d956-5eb9293deea0"
      },
      "source": [
        "x = grad_descent_const_step(alpha = 0.05)"
      ],
      "execution_count": 85,
      "outputs": [
        {
          "output_type": "stream",
          "text": [
            "Градиентный спуст с постоянным шагом выполнил 38 шагов\n",
            "Точка с координатами х1 = 0.018248003631400726, x2 = 3.637978807091713e-12\n"
          ],
          "name": "stdout"
        }
      ]
    },
    {
      "cell_type": "code",
      "metadata": {
        "colab": {
          "base_uri": "https://localhost:8080/"
        },
        "id": "24RpLXbZsw6u",
        "outputId": "0eebe9bd-9c2b-480f-fac4-c3a62f266a04"
      },
      "source": [
        "x = grad_descent_const_step(alpha = 0.01)"
      ],
      "execution_count": 47,
      "outputs": [
        {
          "output_type": "stream",
          "text": [
            "Градиентный спуст с постоянным шагом выполнил 185 шагов\n",
            "Точка с координатами х1 = 0.02381354235199539, x2 = 3.426606593921724e-09\n"
          ],
          "name": "stdout"
        }
      ]
    },
    {
      "cell_type": "code",
      "metadata": {
        "colab": {
          "base_uri": "https://localhost:8080/"
        },
        "id": "L-wDgjg6s1ui",
        "outputId": "12005630-53ba-43ef-be12-950fbd12def8"
      },
      "source": [
        "x = grad_descent_const_step(alpha = 0.0001)"
      ],
      "execution_count": 86,
      "outputs": [
        {
          "output_type": "stream",
          "text": [
            "Градиентный спуст с постоянным шагом выполнил 18445 шагов\n",
            "Точка с координатами х1 = 0.024987765617576436, x2 = 9.670085817114161e-09\n"
          ],
          "name": "stdout"
        }
      ]
    },
    {
      "cell_type": "code",
      "metadata": {
        "id": "PU01Q50OqOGC"
      },
      "source": [
        "# с дробным шагом\r\n",
        "\r\n",
        "def grad_descent_step_splitting(x = np.array([1, 1]), alpha = 1, epsilon = 0.05, ksi = 0.5, lambda_d = 0.35):\r\n",
        "    grad = grad_f(x)\r\n",
        "    n = 0\r\n",
        "    n_alpha = 0\r\n",
        "    alpha_k = alpha\r\n",
        "    x_k0 = x\r\n",
        "    check = 0\r\n",
        "    while np.linalg.norm(grad) > epsilon or check < 3:\r\n",
        "        grad = grad_f(x_k0)\r\n",
        "        x_k1 = x_k0 - alpha_k*grad\r\n",
        "        while f(x_k1) - f(x_k0) > - alpha_k * ksi * (np.linalg.norm(grad)**2):\r\n",
        "            alpha_k *= lambda_d\r\n",
        "            x_k1 = x_k0 - alpha_k*grad\r\n",
        "            n_alpha+=1\r\n",
        "        x_k0 = x_k0 - alpha_k*grad\r\n",
        "        alpha_k = alpha\r\n",
        "        n+=1\r\n",
        "        if (np.linalg.norm(grad) <= epsilon): check +=1\r\n",
        "    x = x_k0\r\n",
        "    print(\"Градиентный спуст с дроблением шага выполнил {} шагов\".format(n))\r\n",
        "    print(\"Выполнено {} итераций дробления шага\".format(n_alpha))\r\n",
        "    print(\"Точка с координатами х1 = {}, x2 = {}\".format(x[0], x[1]))\r\n",
        "    return x"
      ],
      "execution_count": 41,
      "outputs": []
    },
    {
      "cell_type": "code",
      "metadata": {
        "colab": {
          "base_uri": "https://localhost:8080/"
        },
        "id": "8Sm0hK_nqtoi",
        "outputId": "0ff181bc-0ca3-403e-c992-e94102b6310f"
      },
      "source": [
        "a = grad_descent_step_splitting(alpha = 0.05)"
      ],
      "execution_count": 46,
      "outputs": [
        {
          "output_type": "stream",
          "text": [
            "Градиентный спуст с дроблением шага выполнил 39 шагов\n",
            "Выполнено 0 итераций дробления шага\n",
            "Точка с координатами х1 = 0.016423203268260654, x2 = 1.8189894035458565e-12\n"
          ],
          "name": "stdout"
        }
      ]
    },
    {
      "cell_type": "code",
      "metadata": {
        "colab": {
          "base_uri": "https://localhost:8080/"
        },
        "id": "m5q1H5QMtBpq",
        "outputId": "61b9d1e7-b02e-43e0-b471-f137bc0182f7"
      },
      "source": [
        "a = grad_descent_step_splitting(alpha = 0.01)"
      ],
      "execution_count": 50,
      "outputs": [
        {
          "output_type": "stream",
          "text": [
            "Градиентный спуст с дроблением шага выполнил 186 шагов\n",
            "Выполнено 0 итераций дробления шага\n",
            "Точка с координатами х1 = 0.023337271504955483, x2 = 3.0839459345295514e-09\n"
          ],
          "name": "stdout"
        }
      ]
    },
    {
      "cell_type": "code",
      "metadata": {
        "colab": {
          "base_uri": "https://localhost:8080/"
        },
        "id": "Bj40V3CztB9A",
        "outputId": "994806b2-3660-4b75-e3ed-11e39a5e63a6"
      },
      "source": [
        "a = grad_descent_step_splitting(alpha = 0.0001)"
      ],
      "execution_count": 87,
      "outputs": [
        {
          "output_type": "stream",
          "text": [
            "Градиентный спуст с дроблением шага выполнил 18446 шагов\n",
            "Выполнено 0 итераций дробления шага\n",
            "Точка с координатами х1 = 0.02498276806445292, x2 = 9.660415731297047e-09\n"
          ],
          "name": "stdout"
        }
      ]
    },
    {
      "cell_type": "markdown",
      "metadata": {
        "id": "XAXdL_PDgYpS"
      },
      "source": [
        "Поэксперементируйте с разными значениями шага (скорости обучения), попробуйте хотя бы по 2-3 разных значения."
      ]
    },
    {
      "cell_type": "markdown",
      "metadata": {
        "id": "ucbvMBsdgOwV"
      },
      "source": [
        "### Задание 2. [3 points]\n",
        "\n",
        "Для функции из предыдущего задания реализуйте градиентный спуск, в котором значение шага (скорости обучения) будет изменяться по формуле циклического косинусного ожига. ( в англ. литературе - cosine annealing learning rate или cosine decay lr). \n",
        "\n",
        "Доп. литература:\n",
        "- Циклический косинусный отжиг https://habr.com/ru/post/332534/\n",
        "\n",
        "- Пример colise decay в библиотеке Pytorch:\n",
        "https://www.programmersought.com/article/12164650026/"
      ]
    },
    {
      "cell_type": "code",
      "metadata": {
        "id": "5J66QsFCtRZ4"
      },
      "source": [
        "def grad_descent_colise_decay_step(x = np.array([1, 1]), alpha = 0.05):\r\n",
        "    grad = grad_f(x)\r\n",
        "    n = 0\r\n",
        "    ni = 0\r\n",
        "    T=100\r\n",
        "    M=4\r\n",
        "    check = 0\r\n",
        "    while (n<=T) or (check <= M):\r\n",
        "        x = x - alpha*grad\r\n",
        "        grad = grad_f(x)\r\n",
        "        n+=1\r\n",
        "        ni+=1\r\n",
        "        alpha = 0.5*alpha*(1+np.cos(mt.pi*((n-1)%(T/M)/(T/M))))\r\n",
        "        if (ni==(T/M)): \r\n",
        "          check +=1 \r\n",
        "          ni=0\r\n",
        "    print(\"Градиентный спуск с косинусным отжигом выполнил {} шагов\".format(n))\r\n",
        "    print(\"Точка с координатами х1 = {}, x2 = {}\".format(x[0], x[1]))\r\n",
        "    return x"
      ],
      "execution_count": 115,
      "outputs": []
    },
    {
      "cell_type": "code",
      "metadata": {
        "colab": {
          "base_uri": "https://localhost:8080/"
        },
        "id": "2pIsry838NzW",
        "outputId": "40642fdc-9b05-42dd-c2a7-f993c1949995"
      },
      "source": [
        "a = grad_descent_colise_decay_step()"
      ],
      "execution_count": 116,
      "outputs": [
        {
          "output_type": "stream",
          "text": [
            "Градиентный спуск с косинусным отжигом выполнил 125 шагов\n",
            "Точка с координатами х1 = 0.3885146438771136, x2 = 0.0027632454742652617\n"
          ],
          "name": "stdout"
        }
      ]
    },
    {
      "cell_type": "markdown",
      "metadata": {
        "id": "d2Non6JiiVoJ"
      },
      "source": [
        "### Задание 3. [0.75 point]\n",
        "Проверьте работу Вашего градиентного спуска с косинусным отжигом на произвольной функции ( полином должен быть не меньше 3-ьего порядка и задан в пространстве не меньше $R^3$)."
      ]
    },
    {
      "cell_type": "code",
      "metadata": {
        "id": "BP7J6YfrQwin"
      },
      "source": [
        "def grad_descent_colise_decay_step3(x = np.array([1, 1, 1]), alpha = 0.05):\r\n",
        "  grad = grad_f1(x)\r\n",
        "  n = 0\r\n",
        "  ni = 0\r\n",
        "  T=100\r\n",
        "  M=4\r\n",
        "  check = 0\r\n",
        "  while (n<=T) or (check <= M):\r\n",
        "    x = x - alpha*grad\r\n",
        "    grad = grad_f1(x)\r\n",
        "    n+=1\r\n",
        "    ni+=1\r\n",
        "    alpha = 0.5*alpha*(1+np.cos(mt.pi*((n-1)%(T/M)/(T/M))))\r\n",
        "    if (ni==(T/M)): \r\n",
        "      check +=1 \r\n",
        "      ni=0\r\n",
        "    print(\"Градиентный спуст с косинусным отжигом выполнил {} шагов\".format(n))\r\n",
        "    print(\"Точка с координатами х1 = {}, x2 = {}, x3 = {}\".format(x[0], x[1],x[2]))\r\n",
        "    return x"
      ],
      "execution_count": 117,
      "outputs": []
    },
    {
      "cell_type": "code",
      "metadata": {
        "colab": {
          "base_uri": "https://localhost:8080/"
        },
        "id": "WHrFPvwX8s_D",
        "outputId": "0b293d67-c940-49a8-ccf5-6ca7b8f4b06b"
      },
      "source": [
        "def f1(x):\r\n",
        "    return x[0]**2+2*x[1]**2+x[2]**2\r\n",
        "    \r\n",
        "def grad_f1(x):\r\n",
        "    return np.array([2*x[0], 4*x[1], 2*x[2]])\r\n",
        "\r\n",
        "a = grad_descent_colise_decay_step3()"
      ],
      "execution_count": 118,
      "outputs": [
        {
          "output_type": "stream",
          "text": [
            "Градиентный спуст с косинусным отжигом выполнил 1 шагов\n",
            "Точка с координатами х1 = 0.9, x2 = 0.8, x3 = 0.9\n"
          ],
          "name": "stdout"
        }
      ]
    },
    {
      "cell_type": "markdown",
      "metadata": {
        "id": "UpONErtji81D"
      },
      "source": [
        "### Задание 4.\n",
        "Дана следующая плотность вероятности для случайной величины Х:\n",
        "$$\n",
        "f(x)=\\left\\{\\begin{array}{r}\n",
        "0 \\text { npu } x \\leq \\pi \\\\\n",
        "-\\cos x \\text { npu } \\pi<x \\leq \\frac{3}{2} \\pi \\\\\n",
        "\\text { 0 npu } x>\\frac{3}{2} \\pi\n",
        "\\end{array}\\right.\n",
        "$$\n",
        "\n",
        "1. Постройте график данной плотности вероятности **[0.25 point]**\n",
        "\n",
        "2. Определить вероятность попадания случайной величины X в интервал $\\left[\\pi, \\frac{5}{4} \\pi\\right]$ **[0.75 point]**\n",
        "\n",
        "3. Найти математическое ожидание и дисперсию случайной величины X . **[0.75 point]**\n",
        "\n",
        "Так как мы не проходили интегрирование, то в 2 и 3 пунктах можете использовать\n",
        "wolfram alpha (https://www.wolframalpha.com) для интегрирования. "
      ]
    },
    {
      "cell_type": "code",
      "metadata": {
        "colab": {
          "base_uri": "https://localhost:8080/",
          "height": 374
        },
        "id": "YqM1Fzc6LOWI",
        "outputId": "edff855c-a0a4-4863-c524-b44129f0d460"
      },
      "source": [
        "#4\r\n",
        "#1)\r\n",
        "import math as mt\r\n",
        "import matplotlib.pyplot as plt\r\n",
        "import numpy as np\r\n",
        "\r\n",
        "x = np.arange(0,7,0.01)\r\n",
        "def f(x):\r\n",
        "  if x>mt.pi and x<=(mt.pi*1.5): y=-1*mt.cos(x)\r\n",
        "  else: y=0\r\n",
        "  return y\r\n",
        "y=list(map(f,x))\r\n",
        "\r\n",
        "plt.figure(figsize = (10, 6))\r\n",
        "plt.plot(x, y, label='плотность распределения вероятности')\r\n",
        "plt.legend()\r\n",
        "plt.show()\r\n",
        "\r\n",
        "#2) для определения вероятности попадания нужно взять определенный интеграл от функции на отрезке [pi;5pi/4]: integrate -cos(x) dx from x=pi to 5pi/4 = 0.70711\r\n",
        "#3) M = integrate -x*cos(x) dx from x=pi to 3pi/2 = 3.7124\r\n",
        "#D = integrate -x^2*cos(x) dx from x=pi to 3pi/2 - 3.7124^2 = 13.923 - 13.781 = 0.141"
      ],
      "execution_count": 30,
      "outputs": [
        {
          "output_type": "display_data",
          "data": {
            "image/png": "[encoded data removed]",
            "text/plain": [
              "<Figure size 720x432 with 1 Axes>"
            ]
          },
          "metadata": {
            "tags": [],
            "needs_background": "light"
          }
        }
      ]
    },
    {
      "cell_type": "markdown",
      "metadata": {
        "id": "-LrqILMHkgTd"
      },
      "source": [
        "### Задание 5 [1.5 point]\n",
        "\n",
        " Случайная величина Х задана функцией распределения F(x).\n",
        "\n",
        " $$F(x)=\\left\\{\\begin{array}{c}0, x \\leq 1 \\\\ x-1,1<x \\leq 2 \\\\ 1, x>2\\end{array}\\right.$$\n",
        "\n",
        " 1. Является ли случайная величина Х непрерывной?\n",
        "\n",
        " 2. имеет ли случайная величина Х плотность вероятности f(X)? Если имеет, найти ее. \n",
        " 3. постройте графики f(X) и F(X), если такое возможно.\n"
      ]
    },
    {
      "cell_type": "code",
      "metadata": {
        "colab": {
          "base_uri": "https://localhost:8080/",
          "height": 374
        },
        "id": "MwNm9M04eXD5",
        "outputId": "bb4f0cb7-7aca-4a6a-98e0-024d8275690c"
      },
      "source": [
        "#5\r\n",
        "#1) Да, функция непрерывна\r\n",
        "#2) Да, f(x) = F'(x) => f(x) = 1, x in (1;2]; f(x) = 0, x not in (1;2]\r\n",
        "import matplotlib.pyplot as plt\r\n",
        "import numpy as np\r\n",
        "def F(x):\r\n",
        "  if x<=1: y=0 #не могу понять в чем затык\r\n",
        "  elif x>1 and x<=2: y=x-1\r\n",
        "  else: y=1\r\n",
        "  return y\r\n",
        "def f(x):\r\n",
        "  if x<=1: y=0\r\n",
        "  elif x>1 and x<=2: y=1\r\n",
        "  else: y=0\r\n",
        "  return y\r\n",
        "\r\n",
        "x = np.arange(0,3,0.01)\r\n",
        "y1=list(map(F,x))\r\n",
        "y2=list(map(f,x))\r\n",
        "\r\n",
        "plt.figure(figsize = (10, 6))\r\n",
        "plt.plot(x, y2, label='плотность распределения вероятности')\r\n",
        "plt.plot(x, y1, label='функция распределения вероятности')\r\n",
        "plt.legend()\r\n",
        "plt.show()\r\n"
      ],
      "execution_count": 26,
      "outputs": [
        {
          "output_type": "display_data",
          "data": {
            "image/png": "[encoded data removed]",
            "text/plain": [
              "<Figure size 720x432 with 1 Axes>"
            ]
          },
          "metadata": {
            "tags": [],
            "needs_background": "light"
          }
        }
      ]
    },
    {
      "cell_type": "markdown",
      "metadata": {
        "id": "xzQy9iYWmGD5"
      },
      "source": [
        "### Задание 6\n",
        "\n",
        "Рассмотрим несбалансированный набор данных с соотношением меньшего класса к большему 1: 100, где 100 экземпляров принадлежит меньшему классу, а 10 000 большему.\n",
        "\n",
        "Модель ML делает прогнозы и предсказывает 120 примеров как принадлежащих к классу меньшинства, 90 из которых верны, а 30 - неверны.\n",
        "\n",
        "Найти:\n",
        "\n",
        "- Precision **[0.5 point]**\n",
        "- Recall **[0.5 point]**\n",
        "- $F_1$ метрику **[0.5 point]**"
      ]
    },
    {
      "cell_type": "code",
      "metadata": {
        "id": "dnkSjI5tdWJe",
        "colab": {
          "base_uri": "https://localhost:8080/"
        },
        "outputId": "021f7836-d9e3-4b63-be11-f31b7da5d3cc"
      },
      "source": [
        "#6\r\n",
        "TP = 90\r\n",
        "FP = 30\r\n",
        "FN = 100-90\r\n",
        "precission = TP/(TP+FP)\r\n",
        "recall = TP/(TP+FN)\r\n",
        "F1 = (2*precission*recall)/(precission+recall)\r\n",
        "print('precission: {}\\nrecall: {}\\nF1: {}'.format(precission,recall,F1))"
      ],
      "execution_count": null,
      "outputs": [
        {
          "output_type": "stream",
          "text": [
            "precission: 0.75\n",
            "recall: 0.9\n",
            "F1: 0.8181818181818182\n"
          ],
          "name": "stdout"
        }
      ]
    },
    {
      "cell_type": "code",
      "metadata": {
        "id": "Mye_Q-jgdP0g"
      },
      "source": [
        ""
      ],
      "execution_count": null,
      "outputs": []
    }
  ]
}