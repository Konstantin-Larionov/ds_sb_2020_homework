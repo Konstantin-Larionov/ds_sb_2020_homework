{
  "nbformat": 4,
  "nbformat_minor": 0,
  "metadata": {
    "colab": {
      "name": "Untitled0.ipynb",
      "provenance": [],
      "toc_visible": true,
      "mount_file_id": "14Zy-AbjSRfgiA4IQ6PSvJiwXQoEbhOmw",
      "authorship_tag": "ABX9TyMx/eLl4Ss81y7jqr5MmZLk",
      "include_colab_link": true
    },
    "kernelspec": {
      "name": "python3",
      "display_name": "Python 3"
    }
  },
  "cells": [
    {
      "cell_type": "markdown",
      "metadata": {
        "id": "view-in-github",
        "colab_type": "text"
      },
      "source": [
        "<a href=\"https://colab.research.google.com/github/Konstantin-Larionov/ds_sb_2020_homework/blob/main/%D0%98%D1%82%D0%BE%D0%B3%D0%BE%D0%B2%D1%8B%D0%B9%20%D0%BF%D1%80%D0%BE%D0%B5%D0%BA%D1%82.ipynb\" target=\"_parent\"><img src=\"https://colab.research.google.com/assets/colab-badge.svg\" alt=\"Open In Colab\"/></a>"
      ]
    },
    {
      "cell_type": "markdown",
      "metadata": {
        "id": "Peva22dp1ljU"
      },
      "source": [
        "# Обзор зарплат аналитиков данных"
      ]
    },
    {
      "cell_type": "markdown",
      "metadata": {
        "id": "AX4hVQPo0nM1"
      },
      "source": [
        "В данном датасете представлены вакансии аналитиков данных с оценкой Glassdoor. В ходе анализа мы попробуем кластеризировать вилки зарплат и применить алгоритмы классификации для определения кластера.\r\n",
        "Посмотрим на наш датасет."
      ]
    },
    {
      "cell_type": "code",
      "metadata": {
        "id": "P9jtQfdssQ0G"
      },
      "source": [
        "import pandas as pd\r\n",
        "import numpy as np\r\n",
        "import matplotlib.pyplot as plt\r\n",
        "import seaborn as sns\r\n",
        "import sklearn\r\n",
        "from mpl_toolkits.mplot3d import Axes3D\r\n",
        "from imblearn.over_sampling import SMOTE, ADASYN\r\n",
        "from sklearn.model_selection import GridSearchCV, RandomizedSearchCV, train_test_split\r\n",
        "from sklearn import metrics\r\n",
        "from sklearn.model_selection import train_test_split\r\n",
        "from sklearn.neighbors import KNeighborsClassifier"
      ],
      "execution_count": 460,
      "outputs": []
    },
    {
      "cell_type": "code",
      "metadata": {
        "id": "bWAconLUrV4m"
      },
      "source": [
        "df = pd.read_csv( './DataAnalyst.csv')"
      ],
      "execution_count": 461,
      "outputs": []
    },
    {
      "cell_type": "code",
      "metadata": {
        "colab": {
          "base_uri": "https://localhost:8080/",
          "height": 510
        },
        "id": "2Ty343bEsYZo",
        "outputId": "91493cea-52dd-4f96-84be-f27f41c9328f"
      },
      "source": [
        "df.head(5)"
      ],
      "execution_count": 462,
      "outputs": [
        {
          "output_type": "execute_result",
          "data": {
            "text/html": [
              "<div>\n",
              "<style scoped>\n",
              "    .dataframe tbody tr th:only-of-type {\n",
              "        vertical-align: middle;\n",
              "    }\n",
              "\n",
              "    .dataframe tbody tr th {\n",
              "        vertical-align: top;\n",
              "    }\n",
              "\n",
              "    .dataframe thead th {\n",
              "        text-align: right;\n",
              "    }\n",
              "</style>\n",
              "<table border=\"1\" class=\"dataframe\">\n",
              "  <thead>\n",
              "    <tr style=\"text-align: right;\">\n",
              "      <th></th>\n",
              "      <th>Unnamed: 0</th>\n",
              "      <th>Job Title</th>\n",
              "      <th>Salary Estimate</th>\n",
              "      <th>Job Description</th>\n",
              "      <th>Rating</th>\n",
              "      <th>Company Name</th>\n",
              "      <th>Location</th>\n",
              "      <th>Headquarters</th>\n",
              "      <th>Size</th>\n",
              "      <th>Founded</th>\n",
              "      <th>Type of ownership</th>\n",
              "      <th>Industry</th>\n",
              "      <th>Sector</th>\n",
              "      <th>Revenue</th>\n",
              "      <th>Competitors</th>\n",
              "      <th>Easy Apply</th>\n",
              "    </tr>\n",
              "  </thead>\n",
              "  <tbody>\n",
              "    <tr>\n",
              "      <th>0</th>\n",
              "      <td>0</td>\n",
              "      <td>Data Analyst, Center on Immigration and Justic...</td>\n",
              "      <td>$37K-$66K (Glassdoor est.)</td>\n",
              "      <td>Are you eager to roll up your sleeves and harn...</td>\n",
              "      <td>3.2</td>\n",
              "      <td>Vera Institute of Justice\\n3.2</td>\n",
              "      <td>New York, NY</td>\n",
              "      <td>New York, NY</td>\n",
              "      <td>201 to 500 employees</td>\n",
              "      <td>1961</td>\n",
              "      <td>Nonprofit Organization</td>\n",
              "      <td>Social Assistance</td>\n",
              "      <td>Non-Profit</td>\n",
              "      <td>$100 to $500 million (USD)</td>\n",
              "      <td>-1</td>\n",
              "      <td>True</td>\n",
              "    </tr>\n",
              "    <tr>\n",
              "      <th>1</th>\n",
              "      <td>1</td>\n",
              "      <td>Quality Data Analyst</td>\n",
              "      <td>$37K-$66K (Glassdoor est.)</td>\n",
              "      <td>Overview\\n\\nProvides analytical and technical ...</td>\n",
              "      <td>3.8</td>\n",
              "      <td>Visiting Nurse Service of New York\\n3.8</td>\n",
              "      <td>New York, NY</td>\n",
              "      <td>New York, NY</td>\n",
              "      <td>10000+ employees</td>\n",
              "      <td>1893</td>\n",
              "      <td>Nonprofit Organization</td>\n",
              "      <td>Health Care Services &amp; Hospitals</td>\n",
              "      <td>Health Care</td>\n",
              "      <td>$2 to $5 billion (USD)</td>\n",
              "      <td>-1</td>\n",
              "      <td>-1</td>\n",
              "    </tr>\n",
              "    <tr>\n",
              "      <th>2</th>\n",
              "      <td>2</td>\n",
              "      <td>Senior Data Analyst, Insights &amp; Analytics Team...</td>\n",
              "      <td>$37K-$66K (Glassdoor est.)</td>\n",
              "      <td>We’re looking for a Senior Data Analyst who ha...</td>\n",
              "      <td>3.4</td>\n",
              "      <td>Squarespace\\n3.4</td>\n",
              "      <td>New York, NY</td>\n",
              "      <td>New York, NY</td>\n",
              "      <td>1001 to 5000 employees</td>\n",
              "      <td>2003</td>\n",
              "      <td>Company - Private</td>\n",
              "      <td>Internet</td>\n",
              "      <td>Information Technology</td>\n",
              "      <td>Unknown / Non-Applicable</td>\n",
              "      <td>GoDaddy</td>\n",
              "      <td>-1</td>\n",
              "    </tr>\n",
              "    <tr>\n",
              "      <th>3</th>\n",
              "      <td>3</td>\n",
              "      <td>Data Analyst</td>\n",
              "      <td>$37K-$66K (Glassdoor est.)</td>\n",
              "      <td>Requisition NumberRR-0001939\\nRemote:Yes\\nWe c...</td>\n",
              "      <td>4.1</td>\n",
              "      <td>Celerity\\n4.1</td>\n",
              "      <td>New York, NY</td>\n",
              "      <td>McLean, VA</td>\n",
              "      <td>201 to 500 employees</td>\n",
              "      <td>2002</td>\n",
              "      <td>Subsidiary or Business Segment</td>\n",
              "      <td>IT Services</td>\n",
              "      <td>Information Technology</td>\n",
              "      <td>$50 to $100 million (USD)</td>\n",
              "      <td>-1</td>\n",
              "      <td>-1</td>\n",
              "    </tr>\n",
              "    <tr>\n",
              "      <th>4</th>\n",
              "      <td>4</td>\n",
              "      <td>Reporting Data Analyst</td>\n",
              "      <td>$37K-$66K (Glassdoor est.)</td>\n",
              "      <td>ABOUT FANDUEL GROUP\\n\\nFanDuel Group is a worl...</td>\n",
              "      <td>3.9</td>\n",
              "      <td>FanDuel\\n3.9</td>\n",
              "      <td>New York, NY</td>\n",
              "      <td>New York, NY</td>\n",
              "      <td>501 to 1000 employees</td>\n",
              "      <td>2009</td>\n",
              "      <td>Company - Private</td>\n",
              "      <td>Sports &amp; Recreation</td>\n",
              "      <td>Arts, Entertainment &amp; Recreation</td>\n",
              "      <td>$100 to $500 million (USD)</td>\n",
              "      <td>DraftKings</td>\n",
              "      <td>True</td>\n",
              "    </tr>\n",
              "  </tbody>\n",
              "</table>\n",
              "</div>"
            ],
            "text/plain": [
              "   Unnamed: 0  ... Easy Apply\n",
              "0           0  ...       True\n",
              "1           1  ...         -1\n",
              "2           2  ...         -1\n",
              "3           3  ...         -1\n",
              "4           4  ...       True\n",
              "\n",
              "[5 rows x 16 columns]"
            ]
          },
          "metadata": {
            "tags": []
          },
          "execution_count": 462
        }
      ]
    },
    {
      "cell_type": "markdown",
      "metadata": {
        "id": "WEkfmT2O13TV"
      },
      "source": [
        "Видим, что некоторые поля заполнены значением -1, что соответствует отсутствию данных. Заменим их на Nan для дальнейшей работы и отчистим данные."
      ]
    },
    {
      "cell_type": "code",
      "metadata": {
        "id": "YUPi7iBmsrWc"
      },
      "source": [
        "df.drop(['Unnamed: 0'], axis=1,inplace=True)"
      ],
      "execution_count": 463,
      "outputs": []
    },
    {
      "cell_type": "code",
      "metadata": {
        "id": "_9qvmtlqCXZ1"
      },
      "source": [
        "df=df.replace(-1,np.nan)\r\n",
        "df=df.replace(-1.0,np.nan)\r\n",
        "df=df.replace('-1',np.nan)"
      ],
      "execution_count": 464,
      "outputs": []
    },
    {
      "cell_type": "code",
      "metadata": {
        "colab": {
          "base_uri": "https://localhost:8080/"
        },
        "id": "Tys2rcNHDpUJ",
        "outputId": "964fa12b-1fc5-4c0d-c7ab-9a9d16072d1b"
      },
      "source": [
        "df.info()"
      ],
      "execution_count": 465,
      "outputs": [
        {
          "output_type": "stream",
          "text": [
            "<class 'pandas.core.frame.DataFrame'>\n",
            "RangeIndex: 2253 entries, 0 to 2252\n",
            "Data columns (total 15 columns):\n",
            " #   Column             Non-Null Count  Dtype  \n",
            "---  ------             --------------  -----  \n",
            " 0   Job Title          2253 non-null   object \n",
            " 1   Salary Estimate    2252 non-null   object \n",
            " 2   Job Description    2253 non-null   object \n",
            " 3   Rating             1981 non-null   float64\n",
            " 4   Company Name       2252 non-null   object \n",
            " 5   Location           2253 non-null   object \n",
            " 6   Headquarters       2081 non-null   object \n",
            " 7   Size               2090 non-null   object \n",
            " 8   Founded            1593 non-null   float64\n",
            " 9   Type of ownership  2090 non-null   object \n",
            " 10  Industry           1900 non-null   object \n",
            " 11  Sector             1900 non-null   object \n",
            " 12  Revenue            2090 non-null   object \n",
            " 13  Competitors        521 non-null    object \n",
            " 14  Easy Apply         80 non-null     object \n",
            "dtypes: float64(2), object(13)\n",
            "memory usage: 264.1+ KB\n"
          ],
          "name": "stdout"
        }
      ]
    },
    {
      "cell_type": "code",
      "metadata": {
        "colab": {
          "base_uri": "https://localhost:8080/",
          "height": 964
        },
        "id": "T4ZpxYkWDCc_",
        "outputId": "557fa9e1-1f0c-4954-ba88-aebc04cfef7b"
      },
      "source": [
        "import seaborn as sns\r\n",
        "from matplotlib.pyplot import figure\r\n",
        "\r\n",
        "figure(figsize = (10, 15))\r\n",
        "sns.heatmap(df.isnull(), cbar=False)"
      ],
      "execution_count": 466,
      "outputs": [
        {
          "output_type": "execute_result",
          "data": {
            "text/plain": [
              "<matplotlib.axes._subplots.AxesSubplot at 0x7f0a4a572390>"
            ]
          },
          "metadata": {
            "tags": []
          },
          "execution_count": 466
        },
        {
          "output_type": "display_data",
          "data": {
            "image/png": "[encoded data removed]",
            "text/plain": [
              "<Figure size 720x1080 with 1 Axes>"
            ]
          },
          "metadata": {
            "tags": []
          }
        }
      ]
    },
    {
      "cell_type": "markdown",
      "metadata": {
        "id": "9Kq8y4ig2YkK"
      },
      "source": [
        "Удалим ненужные столбцы и строки с Nan значениями"
      ]
    },
    {
      "cell_type": "code",
      "metadata": {
        "colab": {
          "base_uri": "https://localhost:8080/"
        },
        "id": "bHCdG7wVGNKK",
        "outputId": "813c0688-10c1-4d45-ca8f-a17fd8f9be34"
      },
      "source": [
        "df.columns[:]"
      ],
      "execution_count": 467,
      "outputs": [
        {
          "output_type": "execute_result",
          "data": {
            "text/plain": [
              "Index(['Job Title', 'Salary Estimate', 'Job Description', 'Rating',\n",
              "       'Company Name', 'Location', 'Headquarters', 'Size', 'Founded',\n",
              "       'Type of ownership', 'Industry', 'Sector', 'Revenue', 'Competitors',\n",
              "       'Easy Apply'],\n",
              "      dtype='object')"
            ]
          },
          "metadata": {
            "tags": []
          },
          "execution_count": 467
        }
      ]
    },
    {
      "cell_type": "code",
      "metadata": {
        "id": "LZU8zc9zGX2q"
      },
      "source": [
        "cols_to_drop = ['Easy Apply', 'Competitors', 'Founded']"
      ],
      "execution_count": 468,
      "outputs": []
    },
    {
      "cell_type": "code",
      "metadata": {
        "id": "fG3MZYpbGuxQ"
      },
      "source": [
        "df.drop(columns = cols_to_drop, inplace=True)\r\n",
        "df.dropna(inplace=True)"
      ],
      "execution_count": 469,
      "outputs": []
    },
    {
      "cell_type": "code",
      "metadata": {
        "colab": {
          "base_uri": "https://localhost:8080/"
        },
        "id": "akT6zI19Gx66",
        "outputId": "13c6be76-fce6-482f-90c2-b3b5d5272799"
      },
      "source": [
        "df.info()"
      ],
      "execution_count": 470,
      "outputs": [
        {
          "output_type": "stream",
          "text": [
            "<class 'pandas.core.frame.DataFrame'>\n",
            "Int64Index: 1854 entries, 0 to 2252\n",
            "Data columns (total 12 columns):\n",
            " #   Column             Non-Null Count  Dtype  \n",
            "---  ------             --------------  -----  \n",
            " 0   Job Title          1854 non-null   object \n",
            " 1   Salary Estimate    1854 non-null   object \n",
            " 2   Job Description    1854 non-null   object \n",
            " 3   Rating             1854 non-null   float64\n",
            " 4   Company Name       1854 non-null   object \n",
            " 5   Location           1854 non-null   object \n",
            " 6   Headquarters       1854 non-null   object \n",
            " 7   Size               1854 non-null   object \n",
            " 8   Type of ownership  1854 non-null   object \n",
            " 9   Industry           1854 non-null   object \n",
            " 10  Sector             1854 non-null   object \n",
            " 11  Revenue            1854 non-null   object \n",
            "dtypes: float64(1), object(11)\n",
            "memory usage: 188.3+ KB\n"
          ],
          "name": "stdout"
        }
      ]
    },
    {
      "cell_type": "code",
      "metadata": {
        "colab": {
          "base_uri": "https://localhost:8080/",
          "height": 964
        },
        "id": "wlAdztDNG598",
        "outputId": "202b3de8-e46f-473d-cd5f-340478cde124"
      },
      "source": [
        "figure(figsize = (10, 15))\r\n",
        "sns.heatmap(df.isnull(), cbar=False)"
      ],
      "execution_count": 473,
      "outputs": [
        {
          "output_type": "execute_result",
          "data": {
            "text/plain": [
              "<matplotlib.axes._subplots.AxesSubplot at 0x7f0a4a566518>"
            ]
          },
          "metadata": {
            "tags": []
          },
          "execution_count": 473
        },
        {
          "output_type": "display_data",
          "data": {
            "image/png": "[encoded data removed]",
            "text/plain": [
              "<Figure size 720x1080 with 1 Axes>"
            ]
          },
          "metadata": {
            "tags": []
          }
        }
      ]
    },
    {
      "cell_type": "markdown",
      "metadata": {
        "id": "E9SMWoVF2j8d"
      },
      "source": [
        "Данные отчищены, получим из столбца Salary Estimate числовые данные по заработной плате"
      ]
    },
    {
      "cell_type": "code",
      "metadata": {
        "colab": {
          "base_uri": "https://localhost:8080/",
          "height": 374
        },
        "id": "On4BXC_H_QWC",
        "outputId": "11a43839-117a-416f-cb33-0e4f4bd79cdb"
      },
      "source": [
        "df1 = df.copy()\r\n",
        "df1.head(5)"
      ],
      "execution_count": 474,
      "outputs": [
        {
          "output_type": "execute_result",
          "data": {
            "text/html": [
              "<div>\n",
              "<style scoped>\n",
              "    .dataframe tbody tr th:only-of-type {\n",
              "        vertical-align: middle;\n",
              "    }\n",
              "\n",
              "    .dataframe tbody tr th {\n",
              "        vertical-align: top;\n",
              "    }\n",
              "\n",
              "    .dataframe thead th {\n",
              "        text-align: right;\n",
              "    }\n",
              "</style>\n",
              "<table border=\"1\" class=\"dataframe\">\n",
              "  <thead>\n",
              "    <tr style=\"text-align: right;\">\n",
              "      <th></th>\n",
              "      <th>Job Title</th>\n",
              "      <th>Salary Estimate</th>\n",
              "      <th>Job Description</th>\n",
              "      <th>Rating</th>\n",
              "      <th>Company Name</th>\n",
              "      <th>Location</th>\n",
              "      <th>Headquarters</th>\n",
              "      <th>Size</th>\n",
              "      <th>Type of ownership</th>\n",
              "      <th>Industry</th>\n",
              "      <th>Sector</th>\n",
              "      <th>Revenue</th>\n",
              "    </tr>\n",
              "  </thead>\n",
              "  <tbody>\n",
              "    <tr>\n",
              "      <th>0</th>\n",
              "      <td>Data Analyst, Center on Immigration and Justic...</td>\n",
              "      <td>$37K-$66K (Glassdoor est.)</td>\n",
              "      <td>Are you eager to roll up your sleeves and harn...</td>\n",
              "      <td>3.2</td>\n",
              "      <td>Vera Institute of Justice\\n3.2</td>\n",
              "      <td>New York, NY</td>\n",
              "      <td>New York, NY</td>\n",
              "      <td>201 to 500 employees</td>\n",
              "      <td>Nonprofit Organization</td>\n",
              "      <td>Social Assistance</td>\n",
              "      <td>Non-Profit</td>\n",
              "      <td>$100 to $500 million (USD)</td>\n",
              "    </tr>\n",
              "    <tr>\n",
              "      <th>1</th>\n",
              "      <td>Quality Data Analyst</td>\n",
              "      <td>$37K-$66K (Glassdoor est.)</td>\n",
              "      <td>Overview\\n\\nProvides analytical and technical ...</td>\n",
              "      <td>3.8</td>\n",
              "      <td>Visiting Nurse Service of New York\\n3.8</td>\n",
              "      <td>New York, NY</td>\n",
              "      <td>New York, NY</td>\n",
              "      <td>10000+ employees</td>\n",
              "      <td>Nonprofit Organization</td>\n",
              "      <td>Health Care Services &amp; Hospitals</td>\n",
              "      <td>Health Care</td>\n",
              "      <td>$2 to $5 billion (USD)</td>\n",
              "    </tr>\n",
              "    <tr>\n",
              "      <th>2</th>\n",
              "      <td>Senior Data Analyst, Insights &amp; Analytics Team...</td>\n",
              "      <td>$37K-$66K (Glassdoor est.)</td>\n",
              "      <td>We’re looking for a Senior Data Analyst who ha...</td>\n",
              "      <td>3.4</td>\n",
              "      <td>Squarespace\\n3.4</td>\n",
              "      <td>New York, NY</td>\n",
              "      <td>New York, NY</td>\n",
              "      <td>1001 to 5000 employees</td>\n",
              "      <td>Company - Private</td>\n",
              "      <td>Internet</td>\n",
              "      <td>Information Technology</td>\n",
              "      <td>Unknown / Non-Applicable</td>\n",
              "    </tr>\n",
              "    <tr>\n",
              "      <th>3</th>\n",
              "      <td>Data Analyst</td>\n",
              "      <td>$37K-$66K (Glassdoor est.)</td>\n",
              "      <td>Requisition NumberRR-0001939\\nRemote:Yes\\nWe c...</td>\n",
              "      <td>4.1</td>\n",
              "      <td>Celerity\\n4.1</td>\n",
              "      <td>New York, NY</td>\n",
              "      <td>McLean, VA</td>\n",
              "      <td>201 to 500 employees</td>\n",
              "      <td>Subsidiary or Business Segment</td>\n",
              "      <td>IT Services</td>\n",
              "      <td>Information Technology</td>\n",
              "      <td>$50 to $100 million (USD)</td>\n",
              "    </tr>\n",
              "    <tr>\n",
              "      <th>4</th>\n",
              "      <td>Reporting Data Analyst</td>\n",
              "      <td>$37K-$66K (Glassdoor est.)</td>\n",
              "      <td>ABOUT FANDUEL GROUP\\n\\nFanDuel Group is a worl...</td>\n",
              "      <td>3.9</td>\n",
              "      <td>FanDuel\\n3.9</td>\n",
              "      <td>New York, NY</td>\n",
              "      <td>New York, NY</td>\n",
              "      <td>501 to 1000 employees</td>\n",
              "      <td>Company - Private</td>\n",
              "      <td>Sports &amp; Recreation</td>\n",
              "      <td>Arts, Entertainment &amp; Recreation</td>\n",
              "      <td>$100 to $500 million (USD)</td>\n",
              "    </tr>\n",
              "  </tbody>\n",
              "</table>\n",
              "</div>"
            ],
            "text/plain": [
              "                                           Job Title  ...                     Revenue\n",
              "0  Data Analyst, Center on Immigration and Justic...  ...  $100 to $500 million (USD)\n",
              "1                               Quality Data Analyst  ...      $2 to $5 billion (USD)\n",
              "2  Senior Data Analyst, Insights & Analytics Team...  ...    Unknown / Non-Applicable\n",
              "3                                       Data Analyst  ...   $50 to $100 million (USD)\n",
              "4                             Reporting Data Analyst  ...  $100 to $500 million (USD)\n",
              "\n",
              "[5 rows x 12 columns]"
            ]
          },
          "metadata": {
            "tags": []
          },
          "execution_count": 474
        }
      ]
    },
    {
      "cell_type": "code",
      "metadata": {
        "colab": {
          "base_uri": "https://localhost:8080/",
          "height": 493
        },
        "id": "t16EqPKR6-ir",
        "outputId": "3735496d-2738-46c4-8ebb-06b54e72eb62"
      },
      "source": [
        "\r\n",
        "#Separate values for create new two fields from them:\r\n",
        "df1['Company Name'],_ = df['Company Name'].str.split('\\n',1).str\r\n",
        "df1['Salary Estimate'],_= df['Salary Estimate'].str.split('(',1).str\r\n",
        "df1['Min Salary'],df1['Max Salary']= df1['Salary Estimate'].str.split('-').str\r\n",
        "\r\n",
        "# Created values Max Salary and Min Salary as well as data cleaning with strip methods from string class\r\n",
        "# Replace withe spaces for nan values through the numpy.\r\n",
        "clean_salary = lambda x: x.replace('', np.nan).str.strip().str.lstrip('$').str.rstrip('K').fillna(0).astype(int)\r\n",
        "df1['Min Salary'] = clean_salary(df1['Min Salary'])\r\n",
        "df1['Max Salary'] = clean_salary(df1['Max Salary'])\r\n",
        "df1['Avg Salary'] = (df1['Min Salary']+df1['Max Salary']) /2\r\n",
        "# Empty Field 'Salary Estimate' but created Max and Min salary.\r\n",
        "df1 = df1.drop(['Salary Estimate'],axis = 1)\r\n",
        "\r\n",
        "# Show 'df1' with the changes realized previously. \r\n",
        "df1.head()"
      ],
      "execution_count": 475,
      "outputs": [
        {
          "output_type": "stream",
          "text": [
            "/usr/local/lib/python3.6/dist-packages/ipykernel_launcher.py:3: FutureWarning: Columnar iteration over characters will be deprecated in future releases.\n",
            "  This is separate from the ipykernel package so we can avoid doing imports until\n",
            "/usr/local/lib/python3.6/dist-packages/ipykernel_launcher.py:4: FutureWarning: Columnar iteration over characters will be deprecated in future releases.\n",
            "  after removing the cwd from sys.path.\n",
            "/usr/local/lib/python3.6/dist-packages/ipykernel_launcher.py:5: FutureWarning: Columnar iteration over characters will be deprecated in future releases.\n",
            "  \"\"\"\n"
          ],
          "name": "stderr"
        },
        {
          "output_type": "execute_result",
          "data": {
            "text/html": [
              "<div>\n",
              "<style scoped>\n",
              "    .dataframe tbody tr th:only-of-type {\n",
              "        vertical-align: middle;\n",
              "    }\n",
              "\n",
              "    .dataframe tbody tr th {\n",
              "        vertical-align: top;\n",
              "    }\n",
              "\n",
              "    .dataframe thead th {\n",
              "        text-align: right;\n",
              "    }\n",
              "</style>\n",
              "<table border=\"1\" class=\"dataframe\">\n",
              "  <thead>\n",
              "    <tr style=\"text-align: right;\">\n",
              "      <th></th>\n",
              "      <th>Job Title</th>\n",
              "      <th>Job Description</th>\n",
              "      <th>Rating</th>\n",
              "      <th>Company Name</th>\n",
              "      <th>Location</th>\n",
              "      <th>Headquarters</th>\n",
              "      <th>Size</th>\n",
              "      <th>Type of ownership</th>\n",
              "      <th>Industry</th>\n",
              "      <th>Sector</th>\n",
              "      <th>Revenue</th>\n",
              "      <th>Min Salary</th>\n",
              "      <th>Max Salary</th>\n",
              "      <th>Avg Salary</th>\n",
              "    </tr>\n",
              "  </thead>\n",
              "  <tbody>\n",
              "    <tr>\n",
              "      <th>0</th>\n",
              "      <td>Data Analyst, Center on Immigration and Justic...</td>\n",
              "      <td>Are you eager to roll up your sleeves and harn...</td>\n",
              "      <td>3.2</td>\n",
              "      <td>Vera Institute of Justice</td>\n",
              "      <td>New York, NY</td>\n",
              "      <td>New York, NY</td>\n",
              "      <td>201 to 500 employees</td>\n",
              "      <td>Nonprofit Organization</td>\n",
              "      <td>Social Assistance</td>\n",
              "      <td>Non-Profit</td>\n",
              "      <td>$100 to $500 million (USD)</td>\n",
              "      <td>37</td>\n",
              "      <td>66</td>\n",
              "      <td>51.5</td>\n",
              "    </tr>\n",
              "    <tr>\n",
              "      <th>1</th>\n",
              "      <td>Quality Data Analyst</td>\n",
              "      <td>Overview\\n\\nProvides analytical and technical ...</td>\n",
              "      <td>3.8</td>\n",
              "      <td>Visiting Nurse Service of New York</td>\n",
              "      <td>New York, NY</td>\n",
              "      <td>New York, NY</td>\n",
              "      <td>10000+ employees</td>\n",
              "      <td>Nonprofit Organization</td>\n",
              "      <td>Health Care Services &amp; Hospitals</td>\n",
              "      <td>Health Care</td>\n",
              "      <td>$2 to $5 billion (USD)</td>\n",
              "      <td>37</td>\n",
              "      <td>66</td>\n",
              "      <td>51.5</td>\n",
              "    </tr>\n",
              "    <tr>\n",
              "      <th>2</th>\n",
              "      <td>Senior Data Analyst, Insights &amp; Analytics Team...</td>\n",
              "      <td>We’re looking for a Senior Data Analyst who ha...</td>\n",
              "      <td>3.4</td>\n",
              "      <td>Squarespace</td>\n",
              "      <td>New York, NY</td>\n",
              "      <td>New York, NY</td>\n",
              "      <td>1001 to 5000 employees</td>\n",
              "      <td>Company - Private</td>\n",
              "      <td>Internet</td>\n",
              "      <td>Information Technology</td>\n",
              "      <td>Unknown / Non-Applicable</td>\n",
              "      <td>37</td>\n",
              "      <td>66</td>\n",
              "      <td>51.5</td>\n",
              "    </tr>\n",
              "    <tr>\n",
              "      <th>3</th>\n",
              "      <td>Data Analyst</td>\n",
              "      <td>Requisition NumberRR-0001939\\nRemote:Yes\\nWe c...</td>\n",
              "      <td>4.1</td>\n",
              "      <td>Celerity</td>\n",
              "      <td>New York, NY</td>\n",
              "      <td>McLean, VA</td>\n",
              "      <td>201 to 500 employees</td>\n",
              "      <td>Subsidiary or Business Segment</td>\n",
              "      <td>IT Services</td>\n",
              "      <td>Information Technology</td>\n",
              "      <td>$50 to $100 million (USD)</td>\n",
              "      <td>37</td>\n",
              "      <td>66</td>\n",
              "      <td>51.5</td>\n",
              "    </tr>\n",
              "    <tr>\n",
              "      <th>4</th>\n",
              "      <td>Reporting Data Analyst</td>\n",
              "      <td>ABOUT FANDUEL GROUP\\n\\nFanDuel Group is a worl...</td>\n",
              "      <td>3.9</td>\n",
              "      <td>FanDuel</td>\n",
              "      <td>New York, NY</td>\n",
              "      <td>New York, NY</td>\n",
              "      <td>501 to 1000 employees</td>\n",
              "      <td>Company - Private</td>\n",
              "      <td>Sports &amp; Recreation</td>\n",
              "      <td>Arts, Entertainment &amp; Recreation</td>\n",
              "      <td>$100 to $500 million (USD)</td>\n",
              "      <td>37</td>\n",
              "      <td>66</td>\n",
              "      <td>51.5</td>\n",
              "    </tr>\n",
              "  </tbody>\n",
              "</table>\n",
              "</div>"
            ],
            "text/plain": [
              "                                           Job Title  ... Avg Salary\n",
              "0  Data Analyst, Center on Immigration and Justic...  ...       51.5\n",
              "1                               Quality Data Analyst  ...       51.5\n",
              "2  Senior Data Analyst, Insights & Analytics Team...  ...       51.5\n",
              "3                                       Data Analyst  ...       51.5\n",
              "4                             Reporting Data Analyst  ...       51.5\n",
              "\n",
              "[5 rows x 14 columns]"
            ]
          },
          "metadata": {
            "tags": []
          },
          "execution_count": 475
        }
      ]
    },
    {
      "cell_type": "code",
      "metadata": {
        "colab": {
          "base_uri": "https://localhost:8080/",
          "height": 297
        },
        "id": "nvfG6tBq_327",
        "outputId": "a8f072bc-4597-4f75-ed38-d994e20ceeec"
      },
      "source": [
        "df1.describe()"
      ],
      "execution_count": 476,
      "outputs": [
        {
          "output_type": "execute_result",
          "data": {
            "text/html": [
              "<div>\n",
              "<style scoped>\n",
              "    .dataframe tbody tr th:only-of-type {\n",
              "        vertical-align: middle;\n",
              "    }\n",
              "\n",
              "    .dataframe tbody tr th {\n",
              "        vertical-align: top;\n",
              "    }\n",
              "\n",
              "    .dataframe thead th {\n",
              "        text-align: right;\n",
              "    }\n",
              "</style>\n",
              "<table border=\"1\" class=\"dataframe\">\n",
              "  <thead>\n",
              "    <tr style=\"text-align: right;\">\n",
              "      <th></th>\n",
              "      <th>Rating</th>\n",
              "      <th>Min Salary</th>\n",
              "      <th>Max Salary</th>\n",
              "      <th>Avg Salary</th>\n",
              "    </tr>\n",
              "  </thead>\n",
              "  <tbody>\n",
              "    <tr>\n",
              "      <th>count</th>\n",
              "      <td>1854.000000</td>\n",
              "      <td>1854.000000</td>\n",
              "      <td>1854.000000</td>\n",
              "      <td>1854.000000</td>\n",
              "    </tr>\n",
              "    <tr>\n",
              "      <th>mean</th>\n",
              "      <td>3.737055</td>\n",
              "      <td>54.124595</td>\n",
              "      <td>89.896980</td>\n",
              "      <td>72.010787</td>\n",
              "    </tr>\n",
              "    <tr>\n",
              "      <th>std</th>\n",
              "      <td>0.641632</td>\n",
              "      <td>19.521118</td>\n",
              "      <td>29.592459</td>\n",
              "      <td>23.734498</td>\n",
              "    </tr>\n",
              "    <tr>\n",
              "      <th>min</th>\n",
              "      <td>1.000000</td>\n",
              "      <td>24.000000</td>\n",
              "      <td>38.000000</td>\n",
              "      <td>33.500000</td>\n",
              "    </tr>\n",
              "    <tr>\n",
              "      <th>25%</th>\n",
              "      <td>3.300000</td>\n",
              "      <td>41.000000</td>\n",
              "      <td>69.000000</td>\n",
              "      <td>58.000000</td>\n",
              "    </tr>\n",
              "    <tr>\n",
              "      <th>50%</th>\n",
              "      <td>3.700000</td>\n",
              "      <td>50.000000</td>\n",
              "      <td>87.000000</td>\n",
              "      <td>68.500000</td>\n",
              "    </tr>\n",
              "    <tr>\n",
              "      <th>75%</th>\n",
              "      <td>4.100000</td>\n",
              "      <td>63.000000</td>\n",
              "      <td>104.000000</td>\n",
              "      <td>80.500000</td>\n",
              "    </tr>\n",
              "    <tr>\n",
              "      <th>max</th>\n",
              "      <td>5.000000</td>\n",
              "      <td>113.000000</td>\n",
              "      <td>190.000000</td>\n",
              "      <td>150.000000</td>\n",
              "    </tr>\n",
              "  </tbody>\n",
              "</table>\n",
              "</div>"
            ],
            "text/plain": [
              "            Rating   Min Salary   Max Salary   Avg Salary\n",
              "count  1854.000000  1854.000000  1854.000000  1854.000000\n",
              "mean      3.737055    54.124595    89.896980    72.010787\n",
              "std       0.641632    19.521118    29.592459    23.734498\n",
              "min       1.000000    24.000000    38.000000    33.500000\n",
              "25%       3.300000    41.000000    69.000000    58.000000\n",
              "50%       3.700000    50.000000    87.000000    68.500000\n",
              "75%       4.100000    63.000000   104.000000    80.500000\n",
              "max       5.000000   113.000000   190.000000   150.000000"
            ]
          },
          "metadata": {
            "tags": []
          },
          "execution_count": 476
        }
      ]
    },
    {
      "cell_type": "markdown",
      "metadata": {
        "id": "1yPKElNd27Q1"
      },
      "source": [
        "# Кластеризация данных"
      ]
    },
    {
      "cell_type": "markdown",
      "metadata": {
        "id": "cCcMMs3k3BF7"
      },
      "source": [
        "Посмотрим на вилки заработных плат"
      ]
    },
    {
      "cell_type": "code",
      "metadata": {
        "id": "uqju5jP7X3nk"
      },
      "source": [
        "dfkluster = df1[['Min Salary','Max Salary']]"
      ],
      "execution_count": 477,
      "outputs": []
    },
    {
      "cell_type": "code",
      "metadata": {
        "colab": {
          "base_uri": "https://localhost:8080/",
          "height": 643
        },
        "id": "ARwo6WxPHoRh",
        "outputId": "842793c7-6084-42ae-cda7-c57a337fa4fb"
      },
      "source": [
        "%pylab inline\r\n",
        "\r\n",
        "# именно вот эта волшебная строчка делает наши графики\r\n",
        "# довольно эстетичными с точки зрения ценителя хорошего дизайна\r\n",
        "plt.style.use('ggplot')\r\n",
        "\r\n",
        "from sklearn.datasets import make_blobs\r\n",
        "from sklearn.datasets import make_circles\r\n",
        "\r\n",
        "# эта строчка просто задает размер графика\r\n",
        "plt.figure(figsize=(10, 10))\r\n",
        "\r\n",
        "\r\n",
        "# тут мы говорим, что хотим вывести 1-й график в 1-й строчке, в которой всего 3 графика\r\n",
        "plt.subplot(111)\r\n",
        "# и выводим его\r\n",
        "plt.scatter(dfkluster['Min Salary'], dfkluster['Max Salary'], edgecolors='face')\r\n",
        "plt.title(u\"Данные по зарплатам\", fontsize=15)\r\n",
        "\r\n"
      ],
      "execution_count": 491,
      "outputs": [
        {
          "output_type": "stream",
          "text": [
            "Populating the interactive namespace from numpy and matplotlib\n"
          ],
          "name": "stdout"
        },
        {
          "output_type": "execute_result",
          "data": {
            "text/plain": [
              "Text(0.5, 1.0, 'Данные по зарплатам')"
            ]
          },
          "metadata": {
            "tags": []
          },
          "execution_count": 491
        },
        {
          "output_type": "display_data",
          "data": {
            "image/png": "[encoded data removed]",
            "text/plain": [
              "<Figure size 720x720 with 1 Axes>"
            ]
          },
          "metadata": {
            "tags": []
          }
        }
      ]
    },
    {
      "cell_type": "markdown",
      "metadata": {
        "id": "z0aX6Jfg3kl_"
      },
      "source": [
        "Ожидаемо видим линейную зависимость минимальной и максимальной предложенной заработной платы, кластеризируем точки на три типа: низкая, средняя, высокая"
      ]
    },
    {
      "cell_type": "code",
      "metadata": {
        "id": "6zIiXhSGkTFM"
      },
      "source": [
        "dataset = np.array(dfkluster)"
      ],
      "execution_count": 492,
      "outputs": []
    },
    {
      "cell_type": "code",
      "metadata": {
        "id": "weqZ7Pj73mJ4"
      },
      "source": [
        ""
      ],
      "execution_count": null,
      "outputs": []
    },
    {
      "cell_type": "markdown",
      "metadata": {
        "id": "jAq4-KmN399h"
      },
      "source": [
        " **K-means**"
      ]
    },
    {
      "cell_type": "code",
      "metadata": {
        "colab": {
          "base_uri": "https://localhost:8080/",
          "height": 276
        },
        "id": "K0yh8bRBbHAE",
        "outputId": "fc855933-4600-4fde-d526-141c62a1b4ae"
      },
      "source": [
        "import numpy as np\r\n",
        "import matplotlib.pyplot as plt\r\n",
        "\r\n",
        "from sklearn.metrics import silhouette_score\r\n",
        "from sklearn import cluster, datasets, mixture\r\n",
        "from sklearn.neighbors import kneighbors_graph\r\n",
        "\r\n",
        "def cluster_plots(set1, set2, colours1 = 'gray', colours2 = 'gray', \r\n",
        "                  title1 = 'Dataset 1',  title2 = 'Dataset 2'):\r\n",
        "    fig,(ax1,ax2) = plt.subplots(1, 2)\r\n",
        "    fig.set_size_inches(6, 3)\r\n",
        "    ax1.set_title(title1,fontsize=14)\r\n",
        "    ax1.set_xlim(min(set1[:,0]), max(set1[:,0]))\r\n",
        "    ax1.set_ylim(min(set1[:,1]), max(set1[:,1]))\r\n",
        "    ax1.scatter(set1[:, 0], set1[:, 1],s=8,lw=0,c= colours1)\r\n",
        "    ax2.set_title(title2,fontsize=14)\r\n",
        "    ax2.set_xlim(min(set2[:,0]), max(set2[:,0]))\r\n",
        "    ax2.set_ylim(min(set2[:,1]), max(set2[:,1]))\r\n",
        "    ax2.scatter(set2[:, 0], set2[:, 1],s=8,lw=0,c=colours2)\r\n",
        "    fig.tight_layout()\r\n",
        "    plt.show()\r\n",
        "\r\n",
        "\r\n",
        "\r\n",
        "kmeans_dataset = cluster.KMeans(n_clusters=3, max_iter=500, \r\n",
        "                                 init='k-means++',n_init=50).fit_predict(dataset)\r\n",
        "print(*[\"Cluster \"+str(i)+\": \"+ str(sum(kmeans_dataset==i)) for i in range(3)], sep='\\n')\r\n",
        "cluster_plots(dataset, dataset, \r\n",
        "              kmeans_dataset, kmeans_dataset)"
      ],
      "execution_count": 493,
      "outputs": [
        {
          "output_type": "stream",
          "text": [
            "Cluster 0: 749\n",
            "Cluster 1: 290\n",
            "Cluster 2: 815\n"
          ],
          "name": "stdout"
        },
        {
          "output_type": "display_data",
          "data": {
            "image/png": "[encoded data removed]",
            "text/plain": [
              "<Figure size 432x216 with 2 Axes>"
            ]
          },
          "metadata": {
            "tags": []
          }
        }
      ]
    },
    {
      "cell_type": "markdown",
      "metadata": {
        "id": "5ODkF7hY4Gtd"
      },
      "source": [
        "K-means достаточно неплохо разделил наши данные"
      ]
    },
    {
      "cell_type": "markdown",
      "metadata": {
        "id": "FqkUS9nB4Nnz"
      },
      "source": [
        "**EM-алгоритм (Expectation–maximization algorithm)**"
      ]
    },
    {
      "cell_type": "code",
      "metadata": {
        "colab": {
          "base_uri": "https://localhost:8080/",
          "height": 225
        },
        "id": "h1DQPJRvnFuY",
        "outputId": "06d219e5-bd77-4123-ed4f-f033842588b3"
      },
      "source": [
        "em_dataset = mixture.GaussianMixture(n_components=3, covariance_type='full').fit(dataset)\r\n",
        "\r\n",
        "cluster_plots(dataset, dataset, em_dataset.predict(dataset),  em_dataset.predict(dataset))"
      ],
      "execution_count": 494,
      "outputs": [
        {
          "output_type": "display_data",
          "data": {
            "image/png": "[encoded data removed]",
            "text/plain": [
              "<Figure size 432x216 with 2 Axes>"
            ]
          },
          "metadata": {
            "tags": []
          }
        }
      ]
    },
    {
      "cell_type": "markdown",
      "metadata": {
        "id": "XWDOhVaH4S9f"
      },
      "source": [
        "EM-алгоритм показал совершенно не тот результат, который нам нужен"
      ]
    },
    {
      "cell_type": "markdown",
      "metadata": {
        "id": "9TFsXKie4i1C"
      },
      "source": [
        "**Hierarchical Clustering**"
      ]
    },
    {
      "cell_type": "code",
      "metadata": {
        "colab": {
          "base_uri": "https://localhost:8080/",
          "height": 293
        },
        "id": "X1utNM56njCC",
        "outputId": "66d6083d-af67-46fb-a008-2a5d7551badc"
      },
      "source": [
        "\r\n",
        "hc_dataset1 = cluster.AgglomerativeClustering(n_clusters=3, affinity='euclidean', \r\n",
        "                                              linkage='ward').fit_predict(dataset)\r\n",
        "hc_dataset2 = cluster.AgglomerativeClustering(n_clusters=3, affinity='euclidean', \r\n",
        "                                              linkage='average').fit_predict(dataset)\r\n",
        "print(\"Dataset\")\r\n",
        "print(*[\"Cluster \"+str(i)+\": \"+ str(sum(hc_dataset1==i)) for i in range(3)], sep='\\n')\r\n",
        "cluster_plots(dataset, dataset, hc_dataset1, hc_dataset2)"
      ],
      "execution_count": 495,
      "outputs": [
        {
          "output_type": "stream",
          "text": [
            "Dataset\n",
            "Cluster 0: 418\n",
            "Cluster 1: 749\n",
            "Cluster 2: 687\n"
          ],
          "name": "stdout"
        },
        {
          "output_type": "display_data",
          "data": {
            "image/png": "[encoded data removed]",
            "text/plain": [
              "<Figure size 432x216 with 2 Axes>"
            ]
          },
          "metadata": {
            "tags": []
          }
        }
      ]
    },
    {
      "cell_type": "markdown",
      "metadata": {
        "id": "aCx7y3ge4-pn"
      },
      "source": [
        "Алгоритм ward отработал хорошо, показал более сбалансированные классы, чем K-means"
      ]
    },
    {
      "cell_type": "code",
      "metadata": {
        "colab": {
          "base_uri": "https://localhost:8080/",
          "height": 279
        },
        "id": "lZQOuz12ouse",
        "outputId": "e49a0de4-0d8a-4372-943d-3b0ee00a989a"
      },
      "source": [
        "hc_dataset2 = cluster.AgglomerativeClustering(n_clusters=3, affinity='euclidean', \r\n",
        "                                              linkage='complete').fit_predict(dataset)\r\n",
        "connect = kneighbors_graph(dataset, n_neighbors=5, include_self=False)\r\n",
        "hc_dataset2_connectivity = cluster.AgglomerativeClustering(n_clusters=3, affinity='euclidean', \r\n",
        "                                              linkage='complete',connectivity=connect).fit_predict(dataset)\r\n",
        "cluster_plots(dataset, dataset,hc_dataset2,hc_dataset2_connectivity,\r\n",
        "             title1='Without Connectivity', title2='With Connectivity')"
      ],
      "execution_count": 497,
      "outputs": [
        {
          "output_type": "stream",
          "text": [
            "/usr/local/lib/python3.6/dist-packages/sklearn/cluster/_agglomerative.py:478: UserWarning: the number of connected components of the connectivity matrix is 82 > 1. Completing it to avoid stopping the tree early.\n",
            "  affinity=affinity)\n"
          ],
          "name": "stderr"
        },
        {
          "output_type": "display_data",
          "data": {
            "image/png": "[encoded data removed]",
            "text/plain": [
              "<Figure size 432x216 with 2 Axes>"
            ]
          },
          "metadata": {
            "tags": []
          }
        }
      ]
    },
    {
      "cell_type": "markdown",
      "metadata": {
        "id": "9OHL_2wl5d0G"
      },
      "source": [
        "Представленные выше варианты показали слишком большой кластер низких зарплат"
      ]
    },
    {
      "cell_type": "markdown",
      "metadata": {
        "id": "H7p12OjK5lNq"
      },
      "source": [
        "**Meanshift**"
      ]
    },
    {
      "cell_type": "code",
      "metadata": {
        "colab": {
          "base_uri": "https://localhost:8080/",
          "height": 259
        },
        "id": "08vF-EszpHJm",
        "outputId": "df271559-edde-4b8a-d2ca-b7133d79b889"
      },
      "source": [
        "# implementing Mean Shift clustering in python\r\n",
        "# auto-calculate bandwidths with estimate_bandwidth\r\n",
        "bandwidths = [cluster.estimate_bandwidth(dataset, quantile=0.25) \r\n",
        "                         for dataset in [dataset, dataset]]\r\n",
        "meanshifts = [cluster.MeanShift(bandwidth=band, bin_seeding=True).fit(dataset) \r\n",
        "              for dataset,band in zip([dataset,dataset],bandwidths)]\r\n",
        "# print number of clusters for each dataset\r\n",
        "print(*[\"Dataset\"+str(i+1)+\": \"+ str(max(meanshifts[i].labels_)+1) + \" clusters\" \r\n",
        "        for i in range(2)], sep='\\n')\r\n",
        "# plot cluster output\r\n",
        "cluster_plots(dataset, dataset, meanshifts[0].predict(dataset), meanshifts[1].predict(dataset))"
      ],
      "execution_count": 498,
      "outputs": [
        {
          "output_type": "stream",
          "text": [
            "Dataset1: 3 clusters\n",
            "Dataset2: 3 clusters\n"
          ],
          "name": "stdout"
        },
        {
          "output_type": "display_data",
          "data": {
            "image/png": "[encoded data removed]",
            "text/plain": [
              "<Figure size 432x216 with 2 Axes>"
            ]
          },
          "metadata": {
            "tags": []
          }
        }
      ]
    },
    {
      "cell_type": "markdown",
      "metadata": {
        "id": "_i1LMbzP5sAi"
      },
      "source": [
        "Алгоритм построил крайне несбалансированные классы"
      ]
    },
    {
      "cell_type": "markdown",
      "metadata": {
        "id": "ei1D41FP6e1l"
      },
      "source": [
        "# Использование моделей классификации"
      ]
    },
    {
      "cell_type": "markdown",
      "metadata": {
        "id": "dxYfhzst9mSm"
      },
      "source": [
        "Используем результат работы алгоритма Hierarchical Clustering как целевого признака для моделей классификации"
      ]
    },
    {
      "cell_type": "code",
      "metadata": {
        "colab": {
          "base_uri": "https://localhost:8080/",
          "height": 716
        },
        "id": "VRP-dqevumwC",
        "outputId": "8cf5b43b-9504-4ea8-cffd-4b674460395e"
      },
      "source": [
        "df2=df1.copy()\r\n",
        "df2['Salary type'] = hc_dataset1\r\n",
        "df2.head(10)"
      ],
      "execution_count": 506,
      "outputs": [
        {
          "output_type": "execute_result",
          "data": {
            "text/html": [
              "<div>\n",
              "<style scoped>\n",
              "    .dataframe tbody tr th:only-of-type {\n",
              "        vertical-align: middle;\n",
              "    }\n",
              "\n",
              "    .dataframe tbody tr th {\n",
              "        vertical-align: top;\n",
              "    }\n",
              "\n",
              "    .dataframe thead th {\n",
              "        text-align: right;\n",
              "    }\n",
              "</style>\n",
              "<table border=\"1\" class=\"dataframe\">\n",
              "  <thead>\n",
              "    <tr style=\"text-align: right;\">\n",
              "      <th></th>\n",
              "      <th>Job Title</th>\n",
              "      <th>Job Description</th>\n",
              "      <th>Rating</th>\n",
              "      <th>Company Name</th>\n",
              "      <th>Location</th>\n",
              "      <th>Headquarters</th>\n",
              "      <th>Size</th>\n",
              "      <th>Type of ownership</th>\n",
              "      <th>Industry</th>\n",
              "      <th>Sector</th>\n",
              "      <th>Revenue</th>\n",
              "      <th>Min Salary</th>\n",
              "      <th>Max Salary</th>\n",
              "      <th>Avg Salary</th>\n",
              "      <th>Salary type</th>\n",
              "    </tr>\n",
              "  </thead>\n",
              "  <tbody>\n",
              "    <tr>\n",
              "      <th>0</th>\n",
              "      <td>Data Analyst, Center on Immigration and Justic...</td>\n",
              "      <td>Are you eager to roll up your sleeves and harn...</td>\n",
              "      <td>3.2</td>\n",
              "      <td>Vera Institute of Justice</td>\n",
              "      <td>New York, NY</td>\n",
              "      <td>New York, NY</td>\n",
              "      <td>201 to 500 employees</td>\n",
              "      <td>Nonprofit Organization</td>\n",
              "      <td>Social Assistance</td>\n",
              "      <td>Non-Profit</td>\n",
              "      <td>$100 to $500 million (USD)</td>\n",
              "      <td>37</td>\n",
              "      <td>66</td>\n",
              "      <td>51.5</td>\n",
              "      <td>1</td>\n",
              "    </tr>\n",
              "    <tr>\n",
              "      <th>1</th>\n",
              "      <td>Quality Data Analyst</td>\n",
              "      <td>Overview\\n\\nProvides analytical and technical ...</td>\n",
              "      <td>3.8</td>\n",
              "      <td>Visiting Nurse Service of New York</td>\n",
              "      <td>New York, NY</td>\n",
              "      <td>New York, NY</td>\n",
              "      <td>10000+ employees</td>\n",
              "      <td>Nonprofit Organization</td>\n",
              "      <td>Health Care Services &amp; Hospitals</td>\n",
              "      <td>Health Care</td>\n",
              "      <td>$2 to $5 billion (USD)</td>\n",
              "      <td>37</td>\n",
              "      <td>66</td>\n",
              "      <td>51.5</td>\n",
              "      <td>1</td>\n",
              "    </tr>\n",
              "    <tr>\n",
              "      <th>2</th>\n",
              "      <td>Senior Data Analyst, Insights &amp; Analytics Team...</td>\n",
              "      <td>We’re looking for a Senior Data Analyst who ha...</td>\n",
              "      <td>3.4</td>\n",
              "      <td>Squarespace</td>\n",
              "      <td>New York, NY</td>\n",
              "      <td>New York, NY</td>\n",
              "      <td>1001 to 5000 employees</td>\n",
              "      <td>Company - Private</td>\n",
              "      <td>Internet</td>\n",
              "      <td>Information Technology</td>\n",
              "      <td>Unknown / Non-Applicable</td>\n",
              "      <td>37</td>\n",
              "      <td>66</td>\n",
              "      <td>51.5</td>\n",
              "      <td>1</td>\n",
              "    </tr>\n",
              "    <tr>\n",
              "      <th>3</th>\n",
              "      <td>Data Analyst</td>\n",
              "      <td>Requisition NumberRR-0001939\\nRemote:Yes\\nWe c...</td>\n",
              "      <td>4.1</td>\n",
              "      <td>Celerity</td>\n",
              "      <td>New York, NY</td>\n",
              "      <td>McLean, VA</td>\n",
              "      <td>201 to 500 employees</td>\n",
              "      <td>Subsidiary or Business Segment</td>\n",
              "      <td>IT Services</td>\n",
              "      <td>Information Technology</td>\n",
              "      <td>$50 to $100 million (USD)</td>\n",
              "      <td>37</td>\n",
              "      <td>66</td>\n",
              "      <td>51.5</td>\n",
              "      <td>1</td>\n",
              "    </tr>\n",
              "    <tr>\n",
              "      <th>4</th>\n",
              "      <td>Reporting Data Analyst</td>\n",
              "      <td>ABOUT FANDUEL GROUP\\n\\nFanDuel Group is a worl...</td>\n",
              "      <td>3.9</td>\n",
              "      <td>FanDuel</td>\n",
              "      <td>New York, NY</td>\n",
              "      <td>New York, NY</td>\n",
              "      <td>501 to 1000 employees</td>\n",
              "      <td>Company - Private</td>\n",
              "      <td>Sports &amp; Recreation</td>\n",
              "      <td>Arts, Entertainment &amp; Recreation</td>\n",
              "      <td>$100 to $500 million (USD)</td>\n",
              "      <td>37</td>\n",
              "      <td>66</td>\n",
              "      <td>51.5</td>\n",
              "      <td>1</td>\n",
              "    </tr>\n",
              "    <tr>\n",
              "      <th>5</th>\n",
              "      <td>Data Analyst</td>\n",
              "      <td>About Cubist\\nCubist Systematic Strategies is ...</td>\n",
              "      <td>3.9</td>\n",
              "      <td>Point72</td>\n",
              "      <td>New York, NY</td>\n",
              "      <td>Stamford, CT</td>\n",
              "      <td>1001 to 5000 employees</td>\n",
              "      <td>Company - Private</td>\n",
              "      <td>Investment Banking &amp; Asset Management</td>\n",
              "      <td>Finance</td>\n",
              "      <td>Unknown / Non-Applicable</td>\n",
              "      <td>37</td>\n",
              "      <td>66</td>\n",
              "      <td>51.5</td>\n",
              "      <td>1</td>\n",
              "    </tr>\n",
              "    <tr>\n",
              "      <th>6</th>\n",
              "      <td>Business/Data Analyst (FP&amp;A)</td>\n",
              "      <td>Two Sigma is a different kind of investment ma...</td>\n",
              "      <td>4.4</td>\n",
              "      <td>Two Sigma</td>\n",
              "      <td>New York, NY</td>\n",
              "      <td>New York, NY</td>\n",
              "      <td>1001 to 5000 employees</td>\n",
              "      <td>Company - Private</td>\n",
              "      <td>Investment Banking &amp; Asset Management</td>\n",
              "      <td>Finance</td>\n",
              "      <td>Unknown / Non-Applicable</td>\n",
              "      <td>37</td>\n",
              "      <td>66</td>\n",
              "      <td>51.5</td>\n",
              "      <td>1</td>\n",
              "    </tr>\n",
              "    <tr>\n",
              "      <th>7</th>\n",
              "      <td>Data Science Analyst</td>\n",
              "      <td>Data Science Analyst\\n\\nJob Details\\nLevel\\nEx...</td>\n",
              "      <td>3.7</td>\n",
              "      <td>GNY Insurance Companies</td>\n",
              "      <td>New York, NY</td>\n",
              "      <td>New York, NY</td>\n",
              "      <td>201 to 500 employees</td>\n",
              "      <td>Company - Private</td>\n",
              "      <td>Insurance Carriers</td>\n",
              "      <td>Insurance</td>\n",
              "      <td>$100 to $500 million (USD)</td>\n",
              "      <td>37</td>\n",
              "      <td>66</td>\n",
              "      <td>51.5</td>\n",
              "      <td>1</td>\n",
              "    </tr>\n",
              "    <tr>\n",
              "      <th>8</th>\n",
              "      <td>Data Analyst</td>\n",
              "      <td>The Data Analyst is an integral member of the ...</td>\n",
              "      <td>4.0</td>\n",
              "      <td>DMGT</td>\n",
              "      <td>New York, NY</td>\n",
              "      <td>London, United Kingdom</td>\n",
              "      <td>5001 to 10000 employees</td>\n",
              "      <td>Company - Public</td>\n",
              "      <td>Venture Capital &amp; Private Equity</td>\n",
              "      <td>Finance</td>\n",
              "      <td>$1 to $2 billion (USD)</td>\n",
              "      <td>37</td>\n",
              "      <td>66</td>\n",
              "      <td>51.5</td>\n",
              "      <td>1</td>\n",
              "    </tr>\n",
              "    <tr>\n",
              "      <th>9</th>\n",
              "      <td>Data Analyst, Merchant Health</td>\n",
              "      <td>About Us\\n\\nRiskified is the AI platform power...</td>\n",
              "      <td>4.4</td>\n",
              "      <td>Riskified</td>\n",
              "      <td>New York, NY</td>\n",
              "      <td>New York, NY</td>\n",
              "      <td>501 to 1000 employees</td>\n",
              "      <td>Company - Private</td>\n",
              "      <td>Research &amp; Development</td>\n",
              "      <td>Business Services</td>\n",
              "      <td>Unknown / Non-Applicable</td>\n",
              "      <td>37</td>\n",
              "      <td>66</td>\n",
              "      <td>51.5</td>\n",
              "      <td>1</td>\n",
              "    </tr>\n",
              "  </tbody>\n",
              "</table>\n",
              "</div>"
            ],
            "text/plain": [
              "                                           Job Title  ... Salary type\n",
              "0  Data Analyst, Center on Immigration and Justic...  ...           1\n",
              "1                               Quality Data Analyst  ...           1\n",
              "2  Senior Data Analyst, Insights & Analytics Team...  ...           1\n",
              "3                                       Data Analyst  ...           1\n",
              "4                             Reporting Data Analyst  ...           1\n",
              "5                                       Data Analyst  ...           1\n",
              "6                       Business/Data Analyst (FP&A)  ...           1\n",
              "7                               Data Science Analyst  ...           1\n",
              "8                                       Data Analyst  ...           1\n",
              "9                      Data Analyst, Merchant Health  ...           1\n",
              "\n",
              "[10 rows x 15 columns]"
            ]
          },
          "metadata": {
            "tags": []
          },
          "execution_count": 506
        }
      ]
    },
    {
      "cell_type": "markdown",
      "metadata": {
        "id": "rinsXpm091rq"
      },
      "source": [
        "Посмотрим на распределение средних зарплат по кластерам, чтобы убедиться что данная кластеризация имеет смысл"
      ]
    },
    {
      "cell_type": "code",
      "metadata": {
        "colab": {
          "base_uri": "https://localhost:8080/",
          "height": 409
        },
        "id": "pPAbjmB9qZUl",
        "outputId": "5c3e8802-bd90-48e1-9074-60c5e4cef7b5"
      },
      "source": [
        "plt.figure(figsize=(6, 6))\r\n",
        "\r\n",
        "\r\n",
        "# тут мы говорим, что хотим вывести 1-й график в 1-й строчке, в которой всего 3 графика\r\n",
        "plt.subplot(111)\r\n",
        "# и выводим его\r\n",
        "plt.scatter(df2['Salary type'], df2['Avg Salary'], edgecolors='face')\r\n",
        "plt.title(u\"Распределение зарплат по классам\", fontsize=15)"
      ],
      "execution_count": 508,
      "outputs": [
        {
          "output_type": "execute_result",
          "data": {
            "text/plain": [
              "Text(0.5, 1.0, 'Распределение зарплат по классам')"
            ]
          },
          "metadata": {
            "tags": []
          },
          "execution_count": 508
        },
        {
          "output_type": "display_data",
          "data": {
            "image/png": "[encoded data removed]",
            "text/plain": [
              "<Figure size 432x432 with 1 Axes>"
            ]
          },
          "metadata": {
            "tags": []
          }
        }
      ]
    },
    {
      "cell_type": "markdown",
      "metadata": {
        "id": "-h1gj3Dn-sR7"
      },
      "source": [
        "Отчистим данные от лишних столбцов и перекодируем признаки"
      ]
    },
    {
      "cell_type": "code",
      "metadata": {
        "id": "dY5oLj0OIXht"
      },
      "source": [
        "cols_to_drop1 = ['Min Salary', 'Max Salary', 'Avg Salary','Job Title','Job Description','Company Name']"
      ],
      "execution_count": 511,
      "outputs": []
    },
    {
      "cell_type": "code",
      "metadata": {
        "id": "fSYd0mbVIvER"
      },
      "source": [
        "df2.drop(columns = cols_to_drop1, inplace=True)"
      ],
      "execution_count": 512,
      "outputs": []
    },
    {
      "cell_type": "code",
      "metadata": {
        "colab": {
          "base_uri": "https://localhost:8080/",
          "height": 204
        },
        "id": "wLfUx_hTINv6",
        "outputId": "9af84ce7-5436-407e-8e52-2ffb19809a75"
      },
      "source": [
        "from sklearn import preprocessing\r\n",
        "\r\n",
        "def number_encode_features(init_df):\r\n",
        "    result = init_df.copy() \r\n",
        "    encoders = {}\r\n",
        "    for column in result.columns:\r\n",
        "        if result.dtypes[column] == np.object: \r\n",
        "            encoders[column] = preprocessing.LabelEncoder() \r\n",
        "            result[column] = encoders[column].fit_transform(result[column]) \r\n",
        "    return result, encoders\r\n",
        "\r\n",
        "df2, encoders = number_encode_features(df2)  \r\n",
        "df2.head() "
      ],
      "execution_count": 513,
      "outputs": [
        {
          "output_type": "execute_result",
          "data": {
            "text/html": [
              "<div>\n",
              "<style scoped>\n",
              "    .dataframe tbody tr th:only-of-type {\n",
              "        vertical-align: middle;\n",
              "    }\n",
              "\n",
              "    .dataframe tbody tr th {\n",
              "        vertical-align: top;\n",
              "    }\n",
              "\n",
              "    .dataframe thead th {\n",
              "        text-align: right;\n",
              "    }\n",
              "</style>\n",
              "<table border=\"1\" class=\"dataframe\">\n",
              "  <thead>\n",
              "    <tr style=\"text-align: right;\">\n",
              "      <th></th>\n",
              "      <th>Rating</th>\n",
              "      <th>Location</th>\n",
              "      <th>Headquarters</th>\n",
              "      <th>Size</th>\n",
              "      <th>Type of ownership</th>\n",
              "      <th>Industry</th>\n",
              "      <th>Sector</th>\n",
              "      <th>Revenue</th>\n",
              "      <th>Salary type</th>\n",
              "    </tr>\n",
              "  </thead>\n",
              "  <tbody>\n",
              "    <tr>\n",
              "      <th>0</th>\n",
              "      <td>3.2</td>\n",
              "      <td>142</td>\n",
              "      <td>251</td>\n",
              "      <td>3</td>\n",
              "      <td>7</td>\n",
              "      <td>71</td>\n",
              "      <td>16</td>\n",
              "      <td>4</td>\n",
              "      <td>1</td>\n",
              "    </tr>\n",
              "    <tr>\n",
              "      <th>1</th>\n",
              "      <td>3.8</td>\n",
              "      <td>142</td>\n",
              "      <td>251</td>\n",
              "      <td>1</td>\n",
              "      <td>7</td>\n",
              "      <td>42</td>\n",
              "      <td>10</td>\n",
              "      <td>5</td>\n",
              "      <td>1</td>\n",
              "    </tr>\n",
              "    <tr>\n",
              "      <th>2</th>\n",
              "      <td>3.4</td>\n",
              "      <td>142</td>\n",
              "      <td>251</td>\n",
              "      <td>2</td>\n",
              "      <td>1</td>\n",
              "      <td>51</td>\n",
              "      <td>11</td>\n",
              "      <td>12</td>\n",
              "      <td>1</td>\n",
              "    </tr>\n",
              "    <tr>\n",
              "      <th>3</th>\n",
              "      <td>4.1</td>\n",
              "      <td>142</td>\n",
              "      <td>209</td>\n",
              "      <td>3</td>\n",
              "      <td>12</td>\n",
              "      <td>47</td>\n",
              "      <td>11</td>\n",
              "      <td>9</td>\n",
              "      <td>1</td>\n",
              "    </tr>\n",
              "    <tr>\n",
              "      <th>4</th>\n",
              "      <td>3.9</td>\n",
              "      <td>142</td>\n",
              "      <td>251</td>\n",
              "      <td>5</td>\n",
              "      <td>1</td>\n",
              "      <td>73</td>\n",
              "      <td>2</td>\n",
              "      <td>4</td>\n",
              "      <td>1</td>\n",
              "    </tr>\n",
              "  </tbody>\n",
              "</table>\n",
              "</div>"
            ],
            "text/plain": [
              "   Rating  Location  Headquarters  Size  ...  Industry  Sector  Revenue  Salary type\n",
              "0     3.2       142           251     3  ...        71      16        4            1\n",
              "1     3.8       142           251     1  ...        42      10        5            1\n",
              "2     3.4       142           251     2  ...        51      11       12            1\n",
              "3     4.1       142           209     3  ...        47      11        9            1\n",
              "4     3.9       142           251     5  ...        73       2        4            1\n",
              "\n",
              "[5 rows x 9 columns]"
            ]
          },
          "metadata": {
            "tags": []
          },
          "execution_count": 513
        }
      ]
    },
    {
      "cell_type": "code",
      "metadata": {
        "colab": {
          "base_uri": "https://localhost:8080/"
        },
        "id": "WCbxekf1I8dT",
        "outputId": "582b147d-3b55-45fd-f2ce-b1e32a1c7b5e"
      },
      "source": [
        "encoders"
      ],
      "execution_count": 514,
      "outputs": [
        {
          "output_type": "execute_result",
          "data": {
            "text/plain": [
              "{'Headquarters': LabelEncoder(),\n",
              " 'Industry': LabelEncoder(),\n",
              " 'Location': LabelEncoder(),\n",
              " 'Revenue': LabelEncoder(),\n",
              " 'Sector': LabelEncoder(),\n",
              " 'Size': LabelEncoder(),\n",
              " 'Type of ownership': LabelEncoder()}"
            ]
          },
          "metadata": {
            "tags": []
          },
          "execution_count": 514
        }
      ]
    },
    {
      "cell_type": "markdown",
      "metadata": {
        "id": "jdSt2_Jx-5-f"
      },
      "source": [
        "Выделим целевую переменную"
      ]
    },
    {
      "cell_type": "code",
      "metadata": {
        "colab": {
          "base_uri": "https://localhost:8080/"
        },
        "id": "33yZZFbhJA2L",
        "outputId": "7d90ffea-a76c-4b60-df5b-06af60f6542e"
      },
      "source": [
        "y = np.array(df2['Salary type'])\r\n",
        "del df2['Salary type']\r\n",
        "\r\n",
        "print(y)\r\n",
        "len(y)"
      ],
      "execution_count": 515,
      "outputs": [
        {
          "output_type": "stream",
          "text": [
            "[1 1 1 ... 0 0 0]\n"
          ],
          "name": "stdout"
        },
        {
          "output_type": "execute_result",
          "data": {
            "text/plain": [
              "1854"
            ]
          },
          "metadata": {
            "tags": []
          },
          "execution_count": 515
        }
      ]
    },
    {
      "cell_type": "markdown",
      "metadata": {
        "id": "TitICtrW-1dy"
      },
      "source": [
        "Посмотрим описательную статистику наших признаков"
      ]
    },
    {
      "cell_type": "code",
      "metadata": {
        "colab": {
          "base_uri": "https://localhost:8080/",
          "height": 297
        },
        "id": "SYrpgypUJTdb",
        "outputId": "8a978682-f725-449f-e7bc-cf6671ac85c7"
      },
      "source": [
        "df2.describe()"
      ],
      "execution_count": 516,
      "outputs": [
        {
          "output_type": "execute_result",
          "data": {
            "text/html": [
              "<div>\n",
              "<style scoped>\n",
              "    .dataframe tbody tr th:only-of-type {\n",
              "        vertical-align: middle;\n",
              "    }\n",
              "\n",
              "    .dataframe tbody tr th {\n",
              "        vertical-align: top;\n",
              "    }\n",
              "\n",
              "    .dataframe thead th {\n",
              "        text-align: right;\n",
              "    }\n",
              "</style>\n",
              "<table border=\"1\" class=\"dataframe\">\n",
              "  <thead>\n",
              "    <tr style=\"text-align: right;\">\n",
              "      <th></th>\n",
              "      <th>Rating</th>\n",
              "      <th>Location</th>\n",
              "      <th>Headquarters</th>\n",
              "      <th>Size</th>\n",
              "      <th>Type of ownership</th>\n",
              "      <th>Industry</th>\n",
              "      <th>Sector</th>\n",
              "      <th>Revenue</th>\n",
              "    </tr>\n",
              "  </thead>\n",
              "  <tbody>\n",
              "    <tr>\n",
              "      <th>count</th>\n",
              "      <td>1854.000000</td>\n",
              "      <td>1854.000000</td>\n",
              "      <td>1854.000000</td>\n",
              "      <td>1854.000000</td>\n",
              "      <td>1854.000000</td>\n",
              "      <td>1854.000000</td>\n",
              "      <td>1854.000000</td>\n",
              "      <td>1854.000000</td>\n",
              "    </tr>\n",
              "    <tr>\n",
              "      <th>mean</th>\n",
              "      <td>3.737055</td>\n",
              "      <td>117.752427</td>\n",
              "      <td>218.056095</td>\n",
              "      <td>2.927184</td>\n",
              "      <td>2.347357</td>\n",
              "      <td>43.220604</td>\n",
              "      <td>8.646710</td>\n",
              "      <td>6.815534</td>\n",
              "    </tr>\n",
              "    <tr>\n",
              "      <th>std</th>\n",
              "      <td>0.641632</td>\n",
              "      <td>59.114702</td>\n",
              "      <td>113.982001</td>\n",
              "      <td>2.110183</td>\n",
              "      <td>2.844628</td>\n",
              "      <td>23.693728</td>\n",
              "      <td>4.484644</td>\n",
              "      <td>4.019174</td>\n",
              "    </tr>\n",
              "    <tr>\n",
              "      <th>min</th>\n",
              "      <td>1.000000</td>\n",
              "      <td>0.000000</td>\n",
              "      <td>0.000000</td>\n",
              "      <td>0.000000</td>\n",
              "      <td>0.000000</td>\n",
              "      <td>0.000000</td>\n",
              "      <td>0.000000</td>\n",
              "      <td>0.000000</td>\n",
              "    </tr>\n",
              "    <tr>\n",
              "      <th>25%</th>\n",
              "      <td>3.300000</td>\n",
              "      <td>56.000000</td>\n",
              "      <td>118.000000</td>\n",
              "      <td>1.000000</td>\n",
              "      <td>1.000000</td>\n",
              "      <td>19.000000</td>\n",
              "      <td>4.000000</td>\n",
              "      <td>3.000000</td>\n",
              "    </tr>\n",
              "    <tr>\n",
              "      <th>50%</th>\n",
              "      <td>3.700000</td>\n",
              "      <td>135.000000</td>\n",
              "      <td>251.000000</td>\n",
              "      <td>2.000000</td>\n",
              "      <td>1.000000</td>\n",
              "      <td>47.000000</td>\n",
              "      <td>10.000000</td>\n",
              "      <td>6.000000</td>\n",
              "    </tr>\n",
              "    <tr>\n",
              "      <th>75%</th>\n",
              "      <td>4.100000</td>\n",
              "      <td>170.000000</td>\n",
              "      <td>317.000000</td>\n",
              "      <td>5.000000</td>\n",
              "      <td>2.000000</td>\n",
              "      <td>61.000000</td>\n",
              "      <td>11.000000</td>\n",
              "      <td>11.000000</td>\n",
              "    </tr>\n",
              "    <tr>\n",
              "      <th>max</th>\n",
              "      <td>5.000000</td>\n",
              "      <td>230.000000</td>\n",
              "      <td>413.000000</td>\n",
              "      <td>7.000000</td>\n",
              "      <td>13.000000</td>\n",
              "      <td>87.000000</td>\n",
              "      <td>23.000000</td>\n",
              "      <td>12.000000</td>\n",
              "    </tr>\n",
              "  </tbody>\n",
              "</table>\n",
              "</div>"
            ],
            "text/plain": [
              "            Rating     Location  ...       Sector      Revenue\n",
              "count  1854.000000  1854.000000  ...  1854.000000  1854.000000\n",
              "mean      3.737055   117.752427  ...     8.646710     6.815534\n",
              "std       0.641632    59.114702  ...     4.484644     4.019174\n",
              "min       1.000000     0.000000  ...     0.000000     0.000000\n",
              "25%       3.300000    56.000000  ...     4.000000     3.000000\n",
              "50%       3.700000   135.000000  ...    10.000000     6.000000\n",
              "75%       4.100000   170.000000  ...    11.000000    11.000000\n",
              "max       5.000000   230.000000  ...    23.000000    12.000000\n",
              "\n",
              "[8 rows x 8 columns]"
            ]
          },
          "metadata": {
            "tags": []
          },
          "execution_count": 516
        }
      ]
    },
    {
      "cell_type": "code",
      "metadata": {
        "colab": {
          "base_uri": "https://localhost:8080/",
          "height": 887
        },
        "id": "k1DTEyPZKWhP",
        "outputId": "90526c51-1db0-45c9-a09a-91d7c9e98168"
      },
      "source": [
        "df2.hist(figsize=(25,12))"
      ],
      "execution_count": 517,
      "outputs": [
        {
          "output_type": "execute_result",
          "data": {
            "text/plain": [
              "array([[<matplotlib.axes._subplots.AxesSubplot object at 0x7f0a49826908>,\n",
              "        <matplotlib.axes._subplots.AxesSubplot object at 0x7f0a49844b70>,\n",
              "        <matplotlib.axes._subplots.AxesSubplot object at 0x7f0a497f4eb8>],\n",
              "       [<matplotlib.axes._subplots.AxesSubplot object at 0x7f0a497ad278>,\n",
              "        <matplotlib.axes._subplots.AxesSubplot object at 0x7f0a497dd5f8>,\n",
              "        <matplotlib.axes._subplots.AxesSubplot object at 0x7f0a4978b978>],\n",
              "       [<matplotlib.axes._subplots.AxesSubplot object at 0x7f0a4973bcf8>,\n",
              "        <matplotlib.axes._subplots.AxesSubplot object at 0x7f0a496fe080>,\n",
              "        <matplotlib.axes._subplots.AxesSubplot object at 0x7f0a496fe0f0>]],\n",
              "      dtype=object)"
            ]
          },
          "metadata": {
            "tags": []
          },
          "execution_count": 517
        },
        {
          "output_type": "display_data",
          "data": {
            "image/png": "[encoded data removed]",
            "text/plain": [
              "<Figure size 1800x864 with 9 Axes>"
            ]
          },
          "metadata": {
            "tags": []
          }
        }
      ]
    },
    {
      "cell_type": "code",
      "metadata": {
        "colab": {
          "base_uri": "https://localhost:8080/",
          "height": 627
        },
        "id": "M2lo-i-YKlQW",
        "outputId": "6cd5d6db-654d-4f22-d68f-95b06ee210e3"
      },
      "source": [
        "plt.subplots(figsize=(10,10))\r\n",
        "df2, encoders = number_encode_features(df2)\r\n",
        "sns.heatmap(df2.corr(), square=True)\r\n",
        "plt.show()"
      ],
      "execution_count": 518,
      "outputs": [
        {
          "output_type": "display_data",
          "data": {
            "image/png": "[encoded data removed]",
            "text/plain": [
              "<Figure size 720x720 with 2 Axes>"
            ]
          },
          "metadata": {
            "tags": []
          }
        }
      ]
    },
    {
      "cell_type": "markdown",
      "metadata": {
        "id": "QpyEnrQ5_K2q"
      },
      "source": [
        "Нормализуем данные и разделим выборку на обучающую и тестовую"
      ]
    },
    {
      "cell_type": "code",
      "metadata": {
        "colab": {
          "base_uri": "https://localhost:8080/"
        },
        "id": "zAU442cUKtnH",
        "outputId": "9d2e45ec-90a8-466a-bd61-4ac5d1ea252e"
      },
      "source": [
        "from sklearn.preprocessing import scale\r\n",
        "X = np.array(df2)\r\n",
        "X = scale(np.array(X, dtype='float'), with_std=True, with_mean=True)\r\n",
        "\r\n",
        "X"
      ],
      "execution_count": 519,
      "outputs": [
        {
          "output_type": "execute_result",
          "data": {
            "text/plain": [
              "array([[-0.83724004,  0.41028905,  0.28910524, ...,  1.172753  ,\n",
              "         1.64010211, -0.70071457],\n",
              "       [ 0.09812786,  0.41028905,  0.28910524, ..., -0.05152981,\n",
              "         0.30184231, -0.45184009],\n",
              "       [-0.52545074,  0.41028905,  0.28910524, ...,  0.32842002,\n",
              "         0.52488561,  1.29028132],\n",
              "       ...,\n",
              "       [-1.30492399, -1.3325564 , -1.34317162, ...,  1.84821937,\n",
              "        -1.03641749, -0.94958906],\n",
              "       [-0.99313469, -1.3325564 ,  1.5264764 , ..., -0.60034625,\n",
              "         0.52488561, -0.2029656 ],\n",
              "       [-0.52545074, -1.48484387, -1.48358254, ..., -0.05152981,\n",
              "         0.30184231, -0.45184009]])"
            ]
          },
          "metadata": {
            "tags": []
          },
          "execution_count": 519
        }
      ]
    },
    {
      "cell_type": "code",
      "metadata": {
        "id": "bcfTqJjmKy3y"
      },
      "source": [
        "X_train, X_test, y_train, y_test = train_test_split(X, y, test_size=0.15)"
      ],
      "execution_count": 520,
      "outputs": []
    },
    {
      "cell_type": "code",
      "metadata": {
        "colab": {
          "base_uri": "https://localhost:8080/"
        },
        "id": "lZJqrBDpK2I5",
        "outputId": "c74a4293-661b-4d34-d2bd-9a9d5bf6a084"
      },
      "source": [
        "X_train.shape, y_train.shape"
      ],
      "execution_count": 521,
      "outputs": [
        {
          "output_type": "execute_result",
          "data": {
            "text/plain": [
              "((1575, 8), (1575,))"
            ]
          },
          "metadata": {
            "tags": []
          },
          "execution_count": 521
        }
      ]
    },
    {
      "cell_type": "markdown",
      "metadata": {
        "id": "ME-lle5d_VZr"
      },
      "source": [
        "**SVM**"
      ]
    },
    {
      "cell_type": "code",
      "metadata": {
        "id": "bg7senE7K-_r"
      },
      "source": [
        "from sklearn.svm import SVC"
      ],
      "execution_count": 522,
      "outputs": []
    },
    {
      "cell_type": "code",
      "metadata": {
        "colab": {
          "base_uri": "https://localhost:8080/"
        },
        "id": "6N4Kgx5KLCF9",
        "outputId": "cdc50b35-df3c-454b-a428-1539668bbbc0"
      },
      "source": [
        "alg = SVC()\r\n",
        "\r\n",
        "grid = {'C': np.array(np.linspace(-5, 5, 10), dtype='float'),\r\n",
        "        'kernel': ['linear', 'poly', 'rbf', 'sigmoid'],\r\n",
        "        }\r\n",
        "\r\n",
        "gs = GridSearchCV(alg, grid, verbose=2, n_jobs = -1, scoring = 'f1_macro')\r\n",
        "gs.fit(X_train, y_train,)\r\n",
        "gs.best_params_, gs.best_score_"
      ],
      "execution_count": 523,
      "outputs": [
        {
          "output_type": "stream",
          "text": [
            "Fitting 5 folds for each of 40 candidates, totalling 200 fits\n"
          ],
          "name": "stdout"
        },
        {
          "output_type": "stream",
          "text": [
            "[Parallel(n_jobs=-1)]: Using backend LokyBackend with 2 concurrent workers.\n",
            "[Parallel(n_jobs=-1)]: Done 200 out of 200 | elapsed:    9.1s finished\n"
          ],
          "name": "stderr"
        },
        {
          "output_type": "execute_result",
          "data": {
            "text/plain": [
              "({'C': 5.0, 'kernel': 'rbf'}, 0.396809449756666)"
            ]
          },
          "metadata": {
            "tags": []
          },
          "execution_count": 523
        }
      ]
    },
    {
      "cell_type": "code",
      "metadata": {
        "id": "MZ6Fn1JwLMgp"
      },
      "source": [
        "alg = SVC(C =  5, kernel = 'rbf')\r\n",
        "alg.fit(X_train, y_train)\r\n",
        "preds = alg.predict(X_test)"
      ],
      "execution_count": 524,
      "outputs": []
    },
    {
      "cell_type": "code",
      "metadata": {
        "colab": {
          "base_uri": "https://localhost:8080/"
        },
        "id": "l3YgzpONLWU7",
        "outputId": "25f6263b-3775-4f12-b925-20b04d8cf485"
      },
      "source": [
        "from sklearn import metrics\r\n",
        "\r\n",
        "print(metrics.classification_report(y_test, preds))"
      ],
      "execution_count": 525,
      "outputs": [
        {
          "output_type": "stream",
          "text": [
            "              precision    recall  f1-score   support\n",
            "\n",
            "           0       0.41      0.21      0.28        75\n",
            "           1       0.42      0.53      0.47       109\n",
            "           2       0.34      0.37      0.36        95\n",
            "\n",
            "    accuracy                           0.39       279\n",
            "   macro avg       0.39      0.37      0.37       279\n",
            "weighted avg       0.39      0.39      0.38       279\n",
            "\n"
          ],
          "name": "stdout"
        }
      ]
    },
    {
      "cell_type": "markdown",
      "metadata": {
        "id": "SCI2hdoK_qKv"
      },
      "source": [
        "Результаты слабые, модель не обладает предсказательной силой"
      ]
    },
    {
      "cell_type": "markdown",
      "metadata": {
        "id": "EY-8CLoM_-FK"
      },
      "source": [
        "**логистическая регрессия**"
      ]
    },
    {
      "cell_type": "code",
      "metadata": {
        "id": "3kKkZNCKLtFO"
      },
      "source": [
        "from sklearn.linear_model import LogisticRegression\r\n",
        "\r\n",
        "clf = LogisticRegression(class_weight = 'balanced')\r\n",
        "\r\n",
        "clf.fit(X_train, y_train)\r\n",
        "\r\n",
        "predictions = clf.predict(X_test)"
      ],
      "execution_count": 529,
      "outputs": []
    },
    {
      "cell_type": "code",
      "metadata": {
        "colab": {
          "base_uri": "https://localhost:8080/"
        },
        "id": "DR8hrSi5NcN5",
        "outputId": "829be416-4a9f-402e-a57f-921f2a403b20"
      },
      "source": [
        "# опознал диагнозы 3,6, но по 2 диагнозу несколько хуже\r\n",
        "print(metrics.classification_report(y_test, predictions))"
      ],
      "execution_count": 530,
      "outputs": [
        {
          "output_type": "stream",
          "text": [
            "              precision    recall  f1-score   support\n",
            "\n",
            "           0       0.37      0.64      0.47        75\n",
            "           1       0.51      0.49      0.50       109\n",
            "           2       0.39      0.19      0.26        95\n",
            "\n",
            "    accuracy                           0.43       279\n",
            "   macro avg       0.42      0.44      0.41       279\n",
            "weighted avg       0.43      0.43      0.41       279\n",
            "\n"
          ],
          "name": "stdout"
        }
      ]
    },
    {
      "cell_type": "markdown",
      "metadata": {
        "id": "ZFsfnjBgAJ4T"
      },
      "source": [
        "Модель тоже слабая"
      ]
    },
    {
      "cell_type": "markdown",
      "metadata": {
        "id": "4cAmdnhGANIU"
      },
      "source": [
        "**knn**"
      ]
    },
    {
      "cell_type": "code",
      "metadata": {
        "id": "GN2P4VJqNp5R"
      },
      "source": [
        "from sklearn import dummy\r\n",
        "\r\n",
        "\r\n",
        "knn = KNeighborsClassifier(n_neighbors=2) \r\n",
        "\r\n",
        "clf_knn = knn.fit(X_train, y_train)\r\n",
        "clf_mp = dummy.DummyClassifier(\"most_frequent\").fit(X_train, y_train)"
      ],
      "execution_count": 531,
      "outputs": []
    },
    {
      "cell_type": "code",
      "metadata": {
        "id": "Ahc0K0QCNwKj"
      },
      "source": [
        "predictions = clf_knn.predict(X_test)\r\n",
        "y_mp = clf_mp.predict(X_test)"
      ],
      "execution_count": 532,
      "outputs": []
    },
    {
      "cell_type": "code",
      "metadata": {
        "colab": {
          "base_uri": "https://localhost:8080/"
        },
        "id": "4pDjQ2qqN0Me",
        "outputId": "bc2f5fa1-daed-4089-9af5-7ef7ca9e5091"
      },
      "source": [
        "print(metrics.classification_report(y_test, predictions))"
      ],
      "execution_count": 533,
      "outputs": [
        {
          "output_type": "stream",
          "text": [
            "              precision    recall  f1-score   support\n",
            "\n",
            "           0       0.32      0.40      0.35        75\n",
            "           1       0.38      0.48      0.42       109\n",
            "           2       0.31      0.16      0.21        95\n",
            "\n",
            "    accuracy                           0.35       279\n",
            "   macro avg       0.34      0.34      0.33       279\n",
            "weighted avg       0.34      0.35      0.33       279\n",
            "\n"
          ],
          "name": "stdout"
        }
      ]
    },
    {
      "cell_type": "markdown",
      "metadata": {
        "id": "MWMGg__aAWuo"
      },
      "source": [
        "Модель еще хуже чем остальные"
      ]
    },
    {
      "cell_type": "markdown",
      "metadata": {
        "id": "wsXdl0cBAsEa"
      },
      "source": [
        "# Работа с текстовыми данными"
      ]
    },
    {
      "cell_type": "markdown",
      "metadata": {
        "id": "CtZLq3CxAwrn"
      },
      "source": [
        "В этом разделе попробуем оценить предсказательную возможность NLP моделей по описанию вакансии и названию должности. Подготовим датасет."
      ]
    },
    {
      "cell_type": "code",
      "metadata": {
        "colab": {
          "base_uri": "https://localhost:8080/",
          "height": 391
        },
        "id": "Ko35iQ5larZN",
        "outputId": "8a55e128-18cf-4ff2-915d-e598efc6a7fb"
      },
      "source": [
        "df3 = df1.copy()\r\n",
        "df3['Salary type'] = hc_dataset1\r\n",
        "df3.head(5)"
      ],
      "execution_count": 534,
      "outputs": [
        {
          "output_type": "execute_result",
          "data": {
            "text/html": [
              "<div>\n",
              "<style scoped>\n",
              "    .dataframe tbody tr th:only-of-type {\n",
              "        vertical-align: middle;\n",
              "    }\n",
              "\n",
              "    .dataframe tbody tr th {\n",
              "        vertical-align: top;\n",
              "    }\n",
              "\n",
              "    .dataframe thead th {\n",
              "        text-align: right;\n",
              "    }\n",
              "</style>\n",
              "<table border=\"1\" class=\"dataframe\">\n",
              "  <thead>\n",
              "    <tr style=\"text-align: right;\">\n",
              "      <th></th>\n",
              "      <th>Job Title</th>\n",
              "      <th>Job Description</th>\n",
              "      <th>Rating</th>\n",
              "      <th>Company Name</th>\n",
              "      <th>Location</th>\n",
              "      <th>Headquarters</th>\n",
              "      <th>Size</th>\n",
              "      <th>Type of ownership</th>\n",
              "      <th>Industry</th>\n",
              "      <th>Sector</th>\n",
              "      <th>Revenue</th>\n",
              "      <th>Min Salary</th>\n",
              "      <th>Max Salary</th>\n",
              "      <th>Avg Salary</th>\n",
              "      <th>Salary type</th>\n",
              "    </tr>\n",
              "  </thead>\n",
              "  <tbody>\n",
              "    <tr>\n",
              "      <th>0</th>\n",
              "      <td>Data Analyst, Center on Immigration and Justic...</td>\n",
              "      <td>Are you eager to roll up your sleeves and harn...</td>\n",
              "      <td>3.2</td>\n",
              "      <td>Vera Institute of Justice</td>\n",
              "      <td>New York, NY</td>\n",
              "      <td>New York, NY</td>\n",
              "      <td>201 to 500 employees</td>\n",
              "      <td>Nonprofit Organization</td>\n",
              "      <td>Social Assistance</td>\n",
              "      <td>Non-Profit</td>\n",
              "      <td>$100 to $500 million (USD)</td>\n",
              "      <td>37</td>\n",
              "      <td>66</td>\n",
              "      <td>51.5</td>\n",
              "      <td>1</td>\n",
              "    </tr>\n",
              "    <tr>\n",
              "      <th>1</th>\n",
              "      <td>Quality Data Analyst</td>\n",
              "      <td>Overview\\n\\nProvides analytical and technical ...</td>\n",
              "      <td>3.8</td>\n",
              "      <td>Visiting Nurse Service of New York</td>\n",
              "      <td>New York, NY</td>\n",
              "      <td>New York, NY</td>\n",
              "      <td>10000+ employees</td>\n",
              "      <td>Nonprofit Organization</td>\n",
              "      <td>Health Care Services &amp; Hospitals</td>\n",
              "      <td>Health Care</td>\n",
              "      <td>$2 to $5 billion (USD)</td>\n",
              "      <td>37</td>\n",
              "      <td>66</td>\n",
              "      <td>51.5</td>\n",
              "      <td>1</td>\n",
              "    </tr>\n",
              "    <tr>\n",
              "      <th>2</th>\n",
              "      <td>Senior Data Analyst, Insights &amp; Analytics Team...</td>\n",
              "      <td>We’re looking for a Senior Data Analyst who ha...</td>\n",
              "      <td>3.4</td>\n",
              "      <td>Squarespace</td>\n",
              "      <td>New York, NY</td>\n",
              "      <td>New York, NY</td>\n",
              "      <td>1001 to 5000 employees</td>\n",
              "      <td>Company - Private</td>\n",
              "      <td>Internet</td>\n",
              "      <td>Information Technology</td>\n",
              "      <td>Unknown / Non-Applicable</td>\n",
              "      <td>37</td>\n",
              "      <td>66</td>\n",
              "      <td>51.5</td>\n",
              "      <td>1</td>\n",
              "    </tr>\n",
              "    <tr>\n",
              "      <th>3</th>\n",
              "      <td>Data Analyst</td>\n",
              "      <td>Requisition NumberRR-0001939\\nRemote:Yes\\nWe c...</td>\n",
              "      <td>4.1</td>\n",
              "      <td>Celerity</td>\n",
              "      <td>New York, NY</td>\n",
              "      <td>McLean, VA</td>\n",
              "      <td>201 to 500 employees</td>\n",
              "      <td>Subsidiary or Business Segment</td>\n",
              "      <td>IT Services</td>\n",
              "      <td>Information Technology</td>\n",
              "      <td>$50 to $100 million (USD)</td>\n",
              "      <td>37</td>\n",
              "      <td>66</td>\n",
              "      <td>51.5</td>\n",
              "      <td>1</td>\n",
              "    </tr>\n",
              "    <tr>\n",
              "      <th>4</th>\n",
              "      <td>Reporting Data Analyst</td>\n",
              "      <td>ABOUT FANDUEL GROUP\\n\\nFanDuel Group is a worl...</td>\n",
              "      <td>3.9</td>\n",
              "      <td>FanDuel</td>\n",
              "      <td>New York, NY</td>\n",
              "      <td>New York, NY</td>\n",
              "      <td>501 to 1000 employees</td>\n",
              "      <td>Company - Private</td>\n",
              "      <td>Sports &amp; Recreation</td>\n",
              "      <td>Arts, Entertainment &amp; Recreation</td>\n",
              "      <td>$100 to $500 million (USD)</td>\n",
              "      <td>37</td>\n",
              "      <td>66</td>\n",
              "      <td>51.5</td>\n",
              "      <td>1</td>\n",
              "    </tr>\n",
              "  </tbody>\n",
              "</table>\n",
              "</div>"
            ],
            "text/plain": [
              "                                           Job Title  ... Salary type\n",
              "0  Data Analyst, Center on Immigration and Justic...  ...           1\n",
              "1                               Quality Data Analyst  ...           1\n",
              "2  Senior Data Analyst, Insights & Analytics Team...  ...           1\n",
              "3                                       Data Analyst  ...           1\n",
              "4                             Reporting Data Analyst  ...           1\n",
              "\n",
              "[5 rows x 15 columns]"
            ]
          },
          "metadata": {
            "tags": []
          },
          "execution_count": 534
        }
      ]
    },
    {
      "cell_type": "code",
      "metadata": {
        "id": "-xBW8JWDbTV_"
      },
      "source": [
        "cols_to_drop2 = ['Rating', 'Company Name', 'Location','Headquarters','Size','Type of ownership','Industry','Sector','Revenue','Min Salary','Max Salary','Avg Salary']"
      ],
      "execution_count": 535,
      "outputs": []
    },
    {
      "cell_type": "code",
      "metadata": {
        "id": "S1hIz-kkbZ9Z"
      },
      "source": [
        "df3.drop(columns = cols_to_drop2, inplace=True)"
      ],
      "execution_count": 536,
      "outputs": []
    },
    {
      "cell_type": "code",
      "metadata": {
        "colab": {
          "base_uri": "https://localhost:8080/",
          "height": 142
        },
        "id": "VhlVFIRWcDnK",
        "outputId": "0e5f44f1-fbd8-4ae7-fe65-74ffc5426abf"
      },
      "source": [
        "df3.head(3)"
      ],
      "execution_count": 537,
      "outputs": [
        {
          "output_type": "execute_result",
          "data": {
            "text/html": [
              "<div>\n",
              "<style scoped>\n",
              "    .dataframe tbody tr th:only-of-type {\n",
              "        vertical-align: middle;\n",
              "    }\n",
              "\n",
              "    .dataframe tbody tr th {\n",
              "        vertical-align: top;\n",
              "    }\n",
              "\n",
              "    .dataframe thead th {\n",
              "        text-align: right;\n",
              "    }\n",
              "</style>\n",
              "<table border=\"1\" class=\"dataframe\">\n",
              "  <thead>\n",
              "    <tr style=\"text-align: right;\">\n",
              "      <th></th>\n",
              "      <th>Job Title</th>\n",
              "      <th>Job Description</th>\n",
              "      <th>Salary type</th>\n",
              "    </tr>\n",
              "  </thead>\n",
              "  <tbody>\n",
              "    <tr>\n",
              "      <th>0</th>\n",
              "      <td>Data Analyst, Center on Immigration and Justic...</td>\n",
              "      <td>Are you eager to roll up your sleeves and harn...</td>\n",
              "      <td>1</td>\n",
              "    </tr>\n",
              "    <tr>\n",
              "      <th>1</th>\n",
              "      <td>Quality Data Analyst</td>\n",
              "      <td>Overview\\n\\nProvides analytical and technical ...</td>\n",
              "      <td>1</td>\n",
              "    </tr>\n",
              "    <tr>\n",
              "      <th>2</th>\n",
              "      <td>Senior Data Analyst, Insights &amp; Analytics Team...</td>\n",
              "      <td>We’re looking for a Senior Data Analyst who ha...</td>\n",
              "      <td>1</td>\n",
              "    </tr>\n",
              "  </tbody>\n",
              "</table>\n",
              "</div>"
            ],
            "text/plain": [
              "                                           Job Title  ... Salary type\n",
              "0  Data Analyst, Center on Immigration and Justic...  ...           1\n",
              "1                               Quality Data Analyst  ...           1\n",
              "2  Senior Data Analyst, Insights & Analytics Team...  ...           1\n",
              "\n",
              "[3 rows x 3 columns]"
            ]
          },
          "metadata": {
            "tags": []
          },
          "execution_count": 537
        }
      ]
    },
    {
      "cell_type": "code",
      "metadata": {
        "colab": {
          "base_uri": "https://localhost:8080/",
          "height": 173
        },
        "id": "jLjrburLsur5",
        "outputId": "5e821aec-3b6f-44ca-a0df-94a6d9831da0"
      },
      "source": [
        "dfplt = df3.groupby('Salary type').count()[['Job Title']]\r\n",
        "dfplt"
      ],
      "execution_count": 538,
      "outputs": [
        {
          "output_type": "execute_result",
          "data": {
            "text/html": [
              "<div>\n",
              "<style scoped>\n",
              "    .dataframe tbody tr th:only-of-type {\n",
              "        vertical-align: middle;\n",
              "    }\n",
              "\n",
              "    .dataframe tbody tr th {\n",
              "        vertical-align: top;\n",
              "    }\n",
              "\n",
              "    .dataframe thead th {\n",
              "        text-align: right;\n",
              "    }\n",
              "</style>\n",
              "<table border=\"1\" class=\"dataframe\">\n",
              "  <thead>\n",
              "    <tr style=\"text-align: right;\">\n",
              "      <th></th>\n",
              "      <th>Job Title</th>\n",
              "    </tr>\n",
              "    <tr>\n",
              "      <th>Salary type</th>\n",
              "      <th></th>\n",
              "    </tr>\n",
              "  </thead>\n",
              "  <tbody>\n",
              "    <tr>\n",
              "      <th>0</th>\n",
              "      <td>418</td>\n",
              "    </tr>\n",
              "    <tr>\n",
              "      <th>1</th>\n",
              "      <td>749</td>\n",
              "    </tr>\n",
              "    <tr>\n",
              "      <th>2</th>\n",
              "      <td>687</td>\n",
              "    </tr>\n",
              "  </tbody>\n",
              "</table>\n",
              "</div>"
            ],
            "text/plain": [
              "             Job Title\n",
              "Salary type           \n",
              "0                  418\n",
              "1                  749\n",
              "2                  687"
            ]
          },
          "metadata": {
            "tags": []
          },
          "execution_count": 538
        }
      ]
    },
    {
      "cell_type": "markdown",
      "metadata": {
        "id": "HNuCc_qRzX3L"
      },
      "source": [
        "Опробуем работу разных моделей по описанию работы"
      ]
    },
    {
      "cell_type": "code",
      "metadata": {
        "colab": {
          "base_uri": "https://localhost:8080/"
        },
        "id": "L3MrF_vhfKQX",
        "outputId": "1f32086f-06cc-4656-9ac5-194c46bb39e4"
      },
      "source": [
        "from sklearn.feature_extraction.text import CountVectorizer\r\n",
        "\r\n",
        "vectorizer = CountVectorizer(binary=True)\r\n",
        "vectorizer.fit(df3['Job Description'])\r\n"
      ],
      "execution_count": 678,
      "outputs": [
        {
          "output_type": "execute_result",
          "data": {
            "text/plain": [
              "CountVectorizer(analyzer='word', binary=True, decode_error='strict',\n",
              "                dtype=<class 'numpy.int64'>, encoding='utf-8', input='content',\n",
              "                lowercase=True, max_df=1.0, max_features=None, min_df=1,\n",
              "                ngram_range=(1, 1), preprocessor=None, stop_words=None,\n",
              "                strip_accents=None, token_pattern='(?u)\\\\b\\\\w\\\\w+\\\\b',\n",
              "                tokenizer=None, vocabulary=None)"
            ]
          },
          "metadata": {
            "tags": []
          },
          "execution_count": 678
        }
      ]
    },
    {
      "cell_type": "code",
      "metadata": {
        "colab": {
          "base_uri": "https://localhost:8080/"
        },
        "id": "Vvew6ZqGfNLZ",
        "outputId": "4ca2dc18-a828-499c-d444-eafa5c258f9c"
      },
      "source": [
        "len(vectorizer.vocabulary_)"
      ],
      "execution_count": 679,
      "outputs": [
        {
          "output_type": "execute_result",
          "data": {
            "text/plain": [
              "18353"
            ]
          },
          "metadata": {
            "tags": []
          },
          "execution_count": 679
        }
      ]
    },
    {
      "cell_type": "code",
      "metadata": {
        "id": "tfxsxHGycH1h"
      },
      "source": [
        "from sklearn.model_selection import train_test_split\r\n",
        "\r\n",
        "df_train, df_test = train_test_split(df3, test_size=0.2, shuffle=False)"
      ],
      "execution_count": 680,
      "outputs": []
    },
    {
      "cell_type": "code",
      "metadata": {
        "colab": {
          "base_uri": "https://localhost:8080/"
        },
        "id": "nVo3iTQVdFQx",
        "outputId": "fa135833-5470-4b5e-f406-2ca78e45b176"
      },
      "source": [
        "df_train.shape, df_test.shape"
      ],
      "execution_count": 681,
      "outputs": [
        {
          "output_type": "execute_result",
          "data": {
            "text/plain": [
              "((1483, 3), (371, 3))"
            ]
          },
          "metadata": {
            "tags": []
          },
          "execution_count": 681
        }
      ]
    },
    {
      "cell_type": "code",
      "metadata": {
        "id": "QjnT8sbpdJdg"
      },
      "source": [
        "X_train = vectorizer.transform(df_train['Job Description'])\r\n",
        "X_test = vectorizer.transform(df_test['Job Description'])"
      ],
      "execution_count": 682,
      "outputs": []
    },
    {
      "cell_type": "code",
      "metadata": {
        "colab": {
          "base_uri": "https://localhost:8080/"
        },
        "id": "qXHMEJ-LdKyP",
        "outputId": "764a3a27-2557-4430-ab48-28e9b06e23af"
      },
      "source": [
        "X_train.shape, X_test.shape"
      ],
      "execution_count": 684,
      "outputs": [
        {
          "output_type": "execute_result",
          "data": {
            "text/plain": [
              "((1483, 18353), (371, 18353))"
            ]
          },
          "metadata": {
            "tags": []
          },
          "execution_count": 684
        }
      ]
    },
    {
      "cell_type": "markdown",
      "metadata": {
        "id": "YywvQQc2Eoze"
      },
      "source": [
        "**Count vectorizacion**"
      ]
    },
    {
      "cell_type": "code",
      "metadata": {
        "id": "OsDuga0BgWek"
      },
      "source": [
        "from sklearn.naive_bayes import ComplementNB, MultinomialNB, BernoulliNB, CategoricalNB, GaussianNB"
      ],
      "execution_count": 685,
      "outputs": []
    },
    {
      "cell_type": "code",
      "metadata": {
        "id": "8Yev9sS-dOry"
      },
      "source": [
        "clf1 = MultinomialNB().fit(X_train, df_train['Salary type'])"
      ],
      "execution_count": 686,
      "outputs": []
    },
    {
      "cell_type": "code",
      "metadata": {
        "colab": {
          "base_uri": "https://localhost:8080/"
        },
        "id": "-dDTf4zpdYS0",
        "outputId": "1f4b0dd6-8708-4b6f-aaf9-20f091b327ab"
      },
      "source": [
        "# выбрать n лучших (по вероятностям) слов для каждого класса\r\n",
        "def show_top(classifier, vectorizer, n, categories=('0', '1','2')):\r\n",
        "    # получаем слова\r\n",
        "    feature_names = np.asarray(vectorizer.get_feature_names())\r\n",
        "    # проходимлся по словам\r\n",
        "    for i, category in enumerate(categories):\r\n",
        "        # выбираем лучшие по вероятностям\r\n",
        "        top = np.argsort(classifier.feature_log_prob_[i])[-n:]\r\n",
        "        print(\"%s: %s\" % (category, \" \".join(feature_names[top])))\r\n",
        "\r\n",
        "# отобразим 20 топовых слов\r\n",
        "show_top(clf1, vectorizer, 20)"
      ],
      "execution_count": 687,
      "outputs": [
        {
          "output_type": "stream",
          "text": [
            "0: team will years business as work analyst is on skills or for experience the data with of in to and\n",
            "1: will an on years business skills analyst as is work or experience for with the in of data and to\n",
            "2: will be years business skills on analyst as work is or experience for the of in with to data and\n"
          ],
          "name": "stdout"
        }
      ]
    },
    {
      "cell_type": "code",
      "metadata": {
        "colab": {
          "base_uri": "https://localhost:8080/"
        },
        "id": "fTnOECsNe49p",
        "outputId": "d450351a-f649-44d9-b3e4-34ca13cbf390"
      },
      "source": [
        "\r\n",
        "from sklearn.metrics import classification_report\r\n",
        "\r\n",
        "predicts = clf.predict(X_train)\r\n",
        "# train\r\n",
        "print(classification_report(df_train['Salary type'], predicts, target_names=['высокая','низкая','средняя']))"
      ],
      "execution_count": 688,
      "outputs": [
        {
          "output_type": "stream",
          "text": [
            "              precision    recall  f1-score   support\n",
            "\n",
            "     высокая       0.89      0.62      0.73       319\n",
            "      низкая       0.81      0.94      0.87       622\n",
            "     средняя       0.86      0.85      0.86       542\n",
            "\n",
            "    accuracy                           0.84      1483\n",
            "   macro avg       0.85      0.81      0.82      1483\n",
            "weighted avg       0.85      0.84      0.84      1483\n",
            "\n"
          ],
          "name": "stdout"
        }
      ]
    },
    {
      "cell_type": "code",
      "metadata": {
        "colab": {
          "base_uri": "https://localhost:8080/"
        },
        "id": "qhBBkIkIqzFZ",
        "outputId": "460f923b-b20c-4ff1-ce15-1624c58d325e"
      },
      "source": [
        "predicts = clf.predict(X_test)\r\n",
        "print(classification_report(df_test['Salary type'], predicts, target_names=['высокая','низкая','средняя']))"
      ],
      "execution_count": 689,
      "outputs": [
        {
          "output_type": "stream",
          "text": [
            "              precision    recall  f1-score   support\n",
            "\n",
            "     высокая       0.38      0.10      0.16        99\n",
            "      низкая       0.38      0.44      0.41       127\n",
            "     средняя       0.42      0.57      0.48       145\n",
            "\n",
            "    accuracy                           0.40       371\n",
            "   macro avg       0.39      0.37      0.35       371\n",
            "weighted avg       0.39      0.40      0.37       371\n",
            "\n"
          ],
          "name": "stdout"
        }
      ]
    },
    {
      "cell_type": "code",
      "metadata": {
        "id": "rwwHn5x-kdm3"
      },
      "source": [
        "count_vect = CountVectorizer(binary=False).fit(df3['Job Description'])\r\n",
        "\r\n",
        "X_train_counts = count_vect.transform(df_train['Job Description'])\r\n",
        "X_test_counts = count_vect.transform(df_test['Job Description'])"
      ],
      "execution_count": 690,
      "outputs": []
    },
    {
      "cell_type": "code",
      "metadata": {
        "colab": {
          "base_uri": "https://localhost:8080/"
        },
        "id": "eXQnZOTakeNh",
        "outputId": "1353d97c-0f61-441b-de77-079559d0ceb7"
      },
      "source": [
        "# представление 42го отзыва\r\n",
        "dict(zip(count_vect.inverse_transform(X_train_counts[182])[0], X_train_counts[0].data))"
      ],
      "execution_count": 691,
      "outputs": [
        {
          "output_type": "execute_result",
          "data": {
            "text/plain": [
              "{'122': 1,\n",
              " '150': 1,\n",
              " '2020': 1,\n",
              " '23': 1,\n",
              " 'about': 1,\n",
              " 'acceptable': 1,\n",
              " 'across': 1,\n",
              " 'action': 1,\n",
              " 'activities': 2,\n",
              " 'administration': 1,\n",
              " 'advancement': 4,\n",
              " 'affirmative': 1,\n",
              " 'again': 1,\n",
              " 'against': 2,\n",
              " 'age': 1,\n",
              " 'all': 2,\n",
              " 'also': 1,\n",
              " 'an': 1,\n",
              " 'analysis': 1,\n",
              " 'analyst': 1,\n",
              " 'analystbased': 1,\n",
              " 'and': 1,\n",
              " 'answering': 1,\n",
              " 'any': 1,\n",
              " 'applicant': 1,\n",
              " 'applicants': 1,\n",
              " 'application': 1,\n",
              " 'applying': 6,\n",
              " 'are': 4,\n",
              " 'art': 5,\n",
              " 'as': 1,\n",
              " 'assigned': 61,\n",
              " 'assists': 1,\n",
              " 'assure': 3,\n",
              " 'at': 2,\n",
              " 'auditing': 2,\n",
              " 'audits': 9,\n",
              " 'authorities': 1,\n",
              " 'banknote': 5,\n",
              " 'banks': 1,\n",
              " 'basis': 2,\n",
              " 'be': 2,\n",
              " 'because': 1,\n",
              " 'both': 3,\n",
              " 'branch': 1,\n",
              " 'branches': 1,\n",
              " 'brinks': 1,\n",
              " 'btc': 1,\n",
              " 'business': 1,\n",
              " 'businesses': 1,\n",
              " 'by': 1,\n",
              " 'candidates': 5,\n",
              " 'career': 1,\n",
              " 'chain': 1,\n",
              " 'challenging': 1,\n",
              " 'characteristic': 1,\n",
              " 'charges': 1,\n",
              " 'choice': 4,\n",
              " 'class': 1,\n",
              " 'closely': 1,\n",
              " 'color': 1,\n",
              " 'committed': 1,\n",
              " 'communication': 1,\n",
              " 'communications': 3,\n",
              " 'communities': 1,\n",
              " 'company': 1,\n",
              " 'complete': 2,\n",
              " 'completion': 1,\n",
              " 'compliance': 7,\n",
              " 'components': 1,\n",
              " 'conduct': 4,\n",
              " 'confirming': 1,\n",
              " 'consideration': 1,\n",
              " 'considered': 1,\n",
              " 'considering': 3,\n",
              " 'consolidated': 1,\n",
              " 'contact': 1,\n",
              " 'continents': 1,\n",
              " 'controls': 1,\n",
              " 'coordination': 2,\n",
              " 'cost': 2,\n",
              " 'countries': 1,\n",
              " 'creation': 1,\n",
              " 'currency': 1,\n",
              " 'customers': 1,\n",
              " 'daily': 1,\n",
              " 'data': 1,\n",
              " 'date': 1,\n",
              " 'deem': 1,\n",
              " 'deliver': 3,\n",
              " 'delivery': 1,\n",
              " 'department': 1,\n",
              " 'departments': 1,\n",
              " 'description': 1,\n",
              " 'develop': 3,\n",
              " 'development': 1,\n",
              " 'disability': 1,\n",
              " 'discriminate': 1,\n",
              " 'division': 1,\n",
              " 'do': 1,\n",
              " 'document': 2,\n",
              " 'drug': 1,\n",
              " 'duties': 1,\n",
              " 'earned': 4,\n",
              " 'efficiencies': 1,\n",
              " 'email': 1,\n",
              " 'employee': 2,\n",
              " 'employees': 2,\n",
              " 'employer': 1,\n",
              " 'employment': 19,\n",
              " 'ensure': 4,\n",
              " 'entire': 2,\n",
              " 'entry': 3,\n",
              " 'equal': 1,\n",
              " 'esignature': 1,\n",
              " 'every': 1,\n",
              " 'execution': 1,\n",
              " 'facebook': 1,\n",
              " 'federal': 1,\n",
              " 'financial': 1,\n",
              " 'findings': 1,\n",
              " 'finished': 3,\n",
              " 'fit': 1,\n",
              " 'follow': 1,\n",
              " 'for': 1,\n",
              " 'free': 1,\n",
              " 'from': 1,\n",
              " 'full': 1,\n",
              " 'future': 1,\n",
              " 'gathering': 1,\n",
              " 'gender': 1,\n",
              " 'genetic': 1,\n",
              " 'global': 3,\n",
              " 'going': 2,\n",
              " 'goods': 1,\n",
              " 'growth': 1,\n",
              " 'handling': 1,\n",
              " 'has': 2,\n",
              " 'have': 1,\n",
              " 'here': 1,\n",
              " 'highest': 1,\n",
              " 'history': 1,\n",
              " 'honors': 1,\n",
              " 'identity': 1,\n",
              " 'implementation': 1,\n",
              " 'implemented': 1,\n",
              " 'improvement': 1,\n",
              " 'in': 1,\n",
              " 'inc': 2,\n",
              " 'includes': 1,\n",
              " 'including': 1,\n",
              " 'industries': 1,\n",
              " 'information': 1,\n",
              " 'initiatives': 1,\n",
              " 'inquiries': 1,\n",
              " 'institutions': 1,\n",
              " 'inter': 1,\n",
              " 'interest': 1,\n",
              " 'irregularities': 1,\n",
              " 'is': 1,\n",
              " 'it': 1,\n",
              " 'its': 1,\n",
              " 'jewelry': 2,\n",
              " 'jfk': 2,\n",
              " 'job': 1,\n",
              " 'join': 1,\n",
              " 'jun': 1,\n",
              " 'key': 1,\n",
              " 'large': 3,\n",
              " 'law': 2,\n",
              " 'leader': 2,\n",
              " 'lean': 1,\n",
              " 'learn': 1,\n",
              " 'level': 1,\n",
              " 'levels': 1,\n",
              " 'like': 17,\n",
              " 'local': 1,\n",
              " 'location': 1,\n",
              " 'locations': 1,\n",
              " 'logistic': 1,\n",
              " 'logistics': 1,\n",
              " 'made': 1,\n",
              " 'maintained': 1,\n",
              " 'makes': 1,\n",
              " 'management': 1,\n",
              " 'many': 6,\n",
              " 'marital': 1,\n",
              " 'materials': 1,\n",
              " 'measures': 1,\n",
              " 'metal': 2,\n",
              " 'metrics': 4,\n",
              " 'mining': 1,\n",
              " 'monitoring': 1,\n",
              " 'more': 2,\n",
              " 'must': 1,\n",
              " 'name': 1,\n",
              " 'national': 2,\n",
              " 'necessary': 1,\n",
              " 'needed': 1,\n",
              " 'network': 2,\n",
              " 'new': 4,\n",
              " 'next': 7,\n",
              " 'not': 1,\n",
              " 'notify': 1,\n",
              " 'objectively': 3,\n",
              " 'obtain': 2,\n",
              " 'of': 18,\n",
              " 'offering': 1,\n",
              " 'on': 2,\n",
              " 'operating': 1,\n",
              " 'operational': 1,\n",
              " 'opportunities': 2,\n",
              " 'opportunity': 1,\n",
              " 'or': 1,\n",
              " 'orientation': 1,\n",
              " 'origin': 1,\n",
              " 'other': 1,\n",
              " 'our': 1,\n",
              " 'out': 1,\n",
              " 'over': 1,\n",
              " 'overall': 2,\n",
              " 'packets': 2,\n",
              " 'page': 1,\n",
              " 'participate': 1,\n",
              " 'passion': 1,\n",
              " 'people': 1,\n",
              " 'perform': 1,\n",
              " 'performance': 1,\n",
              " 'personnel': 1,\n",
              " 'pharmaceutical': 1,\n",
              " 'pod': 9,\n",
              " 'position': 2,\n",
              " 'posted': 2,\n",
              " 'precious': 1,\n",
              " 'premier': 1,\n",
              " 'prescreening': 11,\n",
              " 'pride': 1,\n",
              " 'primary': 3,\n",
              " 'private': 1,\n",
              " 'procedural': 2,\n",
              " 'process': 1,\n",
              " 'processing': 6,\n",
              " 'products': 3,\n",
              " 'programs': 1,\n",
              " 'promise': 1,\n",
              " 'proof': 1,\n",
              " 'protected': 1,\n",
              " 'proud': 1,\n",
              " 'provide': 1,\n",
              " 'provider': 1,\n",
              " 'providing': 1,\n",
              " 'public': 1,\n",
              " 'qualified': 4,\n",
              " 'questions': 1,\n",
              " 'race': 1,\n",
              " 'raw': 1,\n",
              " 'receive': 1,\n",
              " 'received': 3,\n",
              " 'regard': 1,\n",
              " 'regulatory': 1,\n",
              " 'related': 1,\n",
              " 'relevant': 1,\n",
              " 'religion': 1,\n",
              " 'report': 1,\n",
              " 'reports': 1,\n",
              " 'requirements': 1,\n",
              " 'respect': 3,\n",
              " 'responsibilities': 1,\n",
              " 'responsible': 1,\n",
              " 'review': 1,\n",
              " 'savings': 1,\n",
              " 'scale': 1,\n",
              " 'sectors': 2,\n",
              " 'secure': 1,\n",
              " 'security': 1,\n",
              " 'serve': 2,\n",
              " 'service': 1,\n",
              " 'services': 2,\n",
              " 'sex': 4,\n",
              " 'sexual': 1,\n",
              " 'share': 1,\n",
              " 'should': 1,\n",
              " 'so': 19,\n",
              " 'solutions': 14,\n",
              " 'specializes': 1,\n",
              " 'staff': 1,\n",
              " 'state': 2,\n",
              " 'status': 2,\n",
              " 'stay': 2,\n",
              " 'such': 2,\n",
              " 'summaries': 1,\n",
              " 'summary': 8,\n",
              " 'support': 1,\n",
              " 'system': 2,\n",
              " 'take': 2,\n",
              " 'talent': 1,\n",
              " 'team': 5,\n",
              " 'than': 2,\n",
              " 'thank': 1,\n",
              " 'that': 1,\n",
              " 'the': 1,\n",
              " 'this': 1,\n",
              " 'throughout': 1,\n",
              " 'time': 1,\n",
              " 'title': 1,\n",
              " 'to': 1,\n",
              " 'tqm': 2,\n",
              " 'tracking': 1,\n",
              " 'training': 1,\n",
              " 'transportation': 1,\n",
              " 'travel': 2,\n",
              " 'trust': 1,\n",
              " 'trusted': 1,\n",
              " 'twitter': 1,\n",
              " 'type': 2,\n",
              " 'up': 4,\n",
              " 'upon': 1,\n",
              " 'us': 4,\n",
              " 'usbgs': 5,\n",
              " 'used': 1,\n",
              " 'valuable': 1,\n",
              " 'value': 2,\n",
              " 'valued': 1,\n",
              " 'varies': 2,\n",
              " 'various': 1,\n",
              " 'veteran': 1,\n",
              " 'we': 1,\n",
              " 'were': 1,\n",
              " 'weve': 1,\n",
              " 'whats': 1,\n",
              " 'which': 1,\n",
              " 'why': 1,\n",
              " 'will': 2,\n",
              " 'with': 1,\n",
              " 'within': 1,\n",
              " 'without': 5,\n",
              " 'work': 1,\n",
              " 'workplace': 1,\n",
              " 'world': 2,\n",
              " 'worlds': 8,\n",
              " 'years': 1,\n",
              " 'york': 1,\n",
              " 'you': 1,\n",
              " 'your': 2}"
            ]
          },
          "metadata": {
            "tags": []
          },
          "execution_count": 691
        }
      ]
    },
    {
      "cell_type": "code",
      "metadata": {
        "id": "q4V46zDmkh7j"
      },
      "source": [
        "# обучим\r\n",
        "clf = MultinomialNB().fit(X_train_counts, df_train['Salary type'])"
      ],
      "execution_count": 692,
      "outputs": []
    },
    {
      "cell_type": "code",
      "metadata": {
        "colab": {
          "base_uri": "https://localhost:8080/"
        },
        "id": "tPGZNuJVkkUX",
        "outputId": "1867ab1b-7b3e-4be1-add7-24e9d300c8b4"
      },
      "source": [
        "# train\r\n",
        "predicts = clf.predict(X_train_counts)\r\n",
        "print(classification_report(df_train['Salary type'], predicts))"
      ],
      "execution_count": 693,
      "outputs": [
        {
          "output_type": "stream",
          "text": [
            "              precision    recall  f1-score   support\n",
            "\n",
            "           0       0.86      0.71      0.78       319\n",
            "           1       0.83      0.92      0.87       622\n",
            "           2       0.86      0.83      0.84       542\n",
            "\n",
            "    accuracy                           0.84      1483\n",
            "   macro avg       0.85      0.82      0.83      1483\n",
            "weighted avg       0.85      0.84      0.84      1483\n",
            "\n"
          ],
          "name": "stdout"
        }
      ]
    },
    {
      "cell_type": "code",
      "metadata": {
        "colab": {
          "base_uri": "https://localhost:8080/"
        },
        "id": "ctxUrNURkoN_",
        "outputId": "2b5bc99c-82ad-4f98-d1b3-825c979ef45c"
      },
      "source": [
        "# test\r\n",
        "# конвертируем тестовые слова\r\n",
        "predicts = clf.predict(count_vect.transform(df_test['Job Description']))\r\n",
        "print(classification_report(df_test['Salary type'], predicts))"
      ],
      "execution_count": 694,
      "outputs": [
        {
          "output_type": "stream",
          "text": [
            "              precision    recall  f1-score   support\n",
            "\n",
            "           0       0.38      0.14      0.21        99\n",
            "           1       0.37      0.40      0.39       127\n",
            "           2       0.40      0.54      0.46       145\n",
            "\n",
            "    accuracy                           0.39       371\n",
            "   macro avg       0.38      0.36      0.35       371\n",
            "weighted avg       0.39      0.39      0.37       371\n",
            "\n"
          ],
          "name": "stdout"
        }
      ]
    },
    {
      "cell_type": "code",
      "metadata": {
        "colab": {
          "base_uri": "https://localhost:8080/"
        },
        "id": "V6mXLIrswDJ2",
        "outputId": "64f866ad-9f36-4ec1-8699-96596e9097e8"
      },
      "source": [
        "!pip install --user -U nltk"
      ],
      "execution_count": 695,
      "outputs": [
        {
          "output_type": "stream",
          "text": [
            "Requirement already up-to-date: nltk in /root/.local/lib/python3.6/site-packages (3.5)\n",
            "Requirement already satisfied, skipping upgrade: joblib in /usr/local/lib/python3.6/dist-packages (from nltk) (1.0.0)\n",
            "Requirement already satisfied, skipping upgrade: regex in /usr/local/lib/python3.6/dist-packages (from nltk) (2019.12.20)\n",
            "Requirement already satisfied, skipping upgrade: tqdm in /usr/local/lib/python3.6/dist-packages (from nltk) (4.41.1)\n",
            "Requirement already satisfied, skipping upgrade: click in /usr/local/lib/python3.6/dist-packages (from nltk) (7.1.2)\n"
          ],
          "name": "stdout"
        }
      ]
    },
    {
      "cell_type": "code",
      "metadata": {
        "colab": {
          "base_uri": "https://localhost:8080/"
        },
        "id": "psHhegvxwD_E",
        "outputId": "4bfd6c1a-f6fb-4fed-9540-47cc26571e76"
      },
      "source": [
        "\r\n",
        "import nltk\r\n",
        "nltk.download(\"stopwords\")"
      ],
      "execution_count": 696,
      "outputs": [
        {
          "output_type": "stream",
          "text": [
            "[nltk_data] Downloading package stopwords to /root/nltk_data...\n",
            "[nltk_data]   Package stopwords is already up-to-date!\n"
          ],
          "name": "stdout"
        },
        {
          "output_type": "execute_result",
          "data": {
            "text/plain": [
              "True"
            ]
          },
          "metadata": {
            "tags": []
          },
          "execution_count": 696
        }
      ]
    },
    {
      "cell_type": "code",
      "metadata": {
        "id": "L1FeLBzGwEOD"
      },
      "source": [
        "from sklearn.feature_extraction.stop_words import ENGLISH_STOP_WORDS"
      ],
      "execution_count": 697,
      "outputs": []
    },
    {
      "cell_type": "code",
      "metadata": {
        "id": "FYEZ8-3AwEf7"
      },
      "source": [
        "\r\n",
        "from nltk.corpus import stopwords\r\n",
        "stopWords = stopwords.words('english')"
      ],
      "execution_count": 698,
      "outputs": []
    },
    {
      "cell_type": "code",
      "metadata": {
        "id": "I4zRdLdHwEzZ"
      },
      "source": [
        "count_vect = CountVectorizer(stop_words=stopWords + list(ENGLISH_STOP_WORDS), binary=False).fit(df3['Job Description'])"
      ],
      "execution_count": 699,
      "outputs": []
    },
    {
      "cell_type": "code",
      "metadata": {
        "id": "7PJ_SsgbwNT1"
      },
      "source": [
        "\r\n",
        "X_train_counts = count_vect.transform(df_train['Job Description'])\r\n",
        "X_test_counts = count_vect.transform(df_test['Job Description'])"
      ],
      "execution_count": 757,
      "outputs": []
    },
    {
      "cell_type": "code",
      "metadata": {
        "id": "z6I3eDYpwNld"
      },
      "source": [
        "clf1 = MultinomialNB().fit(X_train_counts, df_train['Salary type'])"
      ],
      "execution_count": 758,
      "outputs": []
    },
    {
      "cell_type": "code",
      "metadata": {
        "colab": {
          "base_uri": "https://localhost:8080/"
        },
        "id": "iuGOVgRnwN3v",
        "outputId": "d68827d1-5bbf-4928-9a97-30f39011a4d7"
      },
      "source": [
        "\r\n",
        "predicts = clf1.predict(X_test_counts)\r\n",
        "print(classification_report(df_test['Salary type'], predicts))"
      ],
      "execution_count": 759,
      "outputs": [
        {
          "output_type": "stream",
          "text": [
            "              precision    recall  f1-score   support\n",
            "\n",
            "           0       0.41      0.30      0.34        74\n",
            "           1       0.52      0.60      0.55       154\n",
            "           2       0.47      0.46      0.47       143\n",
            "\n",
            "    accuracy                           0.49       371\n",
            "   macro avg       0.47      0.45      0.46       371\n",
            "weighted avg       0.48      0.49      0.48       371\n",
            "\n"
          ],
          "name": "stdout"
        }
      ]
    },
    {
      "cell_type": "markdown",
      "metadata": {
        "id": "QiqrKC3NFCPQ"
      },
      "source": [
        "**TF-IDF**"
      ]
    },
    {
      "cell_type": "code",
      "metadata": {
        "id": "vyhXDArGlnEx"
      },
      "source": [
        "from sklearn.feature_extraction.text import TfidfVectorizer\r\n",
        "\r\n",
        "# vectorizer = TfidfVectorizer(stop_words=stopWords + list(ENGLISH_STOP_WORDS))\r\n",
        "vectorizer = TfidfVectorizer()\r\n",
        "vectorizer = vectorizer.fit(df3['Job Description'])"
      ],
      "execution_count": 704,
      "outputs": []
    },
    {
      "cell_type": "code",
      "metadata": {
        "id": "wWeX1VCfloLx"
      },
      "source": [
        "X_train_vectors = vectorizer.transform(df_train['Job Description'])\r\n",
        "X_test_vectors = vectorizer.transform(df_test['Job Description'])"
      ],
      "execution_count": 705,
      "outputs": []
    },
    {
      "cell_type": "code",
      "metadata": {
        "colab": {
          "base_uri": "https://localhost:8080/"
        },
        "id": "9yMkBcoXlofq",
        "outputId": "52fb5080-d60e-4808-9ff1-ae4b8607fcb4"
      },
      "source": [
        "num = 1300\r\n",
        "X_train_vectors[num].data"
      ],
      "execution_count": 706,
      "outputs": [
        {
          "output_type": "execute_result",
          "data": {
            "text/plain": [
              "array([0.31618079, 0.06192752, 0.03941734, 0.16659534, 0.07715219,\n",
              "       0.20944769, 0.08829654, 0.20099603, 0.188252  , 0.14190096,\n",
              "       0.12478183, 0.24921017, 0.14419715, 0.06439507, 0.12708231,\n",
              "       0.07549733, 0.12560079, 0.09019863, 0.14691644, 0.15290329,\n",
              "       0.12748529, 0.10384745, 0.04728341, 0.15648309, 0.07800429,\n",
              "       0.06455992, 0.15647068, 0.05481707, 0.12020839, 0.1147047 ,\n",
              "       0.05732542, 0.12601701, 0.11729904, 0.1209333 , 0.1346785 ,\n",
              "       0.08099174, 0.14190096, 0.0724784 , 0.11115128, 0.06870225,\n",
              "       0.13263068, 0.07818142, 0.1156659 , 0.08837391, 0.188252  ,\n",
              "       0.10662743, 0.06659627, 0.28130195, 0.10202725, 0.17784003,\n",
              "       0.0967482 , 0.11828359, 0.12539438, 0.10315458, 0.07673734,\n",
              "       0.11501644])"
            ]
          },
          "metadata": {
            "tags": []
          },
          "execution_count": 706
        }
      ]
    },
    {
      "cell_type": "code",
      "metadata": {
        "colab": {
          "base_uri": "https://localhost:8080/"
        },
        "id": "1ykR4RYQloqr",
        "outputId": "d1f95f6e-67ff-435d-c702-52c7a5fdc37d"
      },
      "source": [
        "vectorizer.inverse_transform(X_train_vectors[num])[0][np.argsort(X_train_vectors[num].data)]"
      ],
      "execution_count": 707,
      "outputs": [
        {
          "output_type": "execute_result",
          "data": {
            "text/plain": [
              "array(['with', 'on', 'management', 'job', 'working', 'responsibilities',\n",
              "       'new', 'communication', 'develop', 'excel', 'qualifications',\n",
              "       'and', 'to', 'not', 'description', 'experience', 'stakeholders',\n",
              "       'customer', 'product', 'but', 'closely', 'areas', 'operational',\n",
              "       'cross', 'document', 'limited', 'additional', 'data', 'in',\n",
              "       'basic', 'maintaining', 'identifying', 'sales', 'automation',\n",
              "       'public', 'includes', 'reporting', 'or', 'details', 'google',\n",
              "       'setting', 'excellence', 'roles', 'processes', 'preparation',\n",
              "       'millions', 'of', 'train', 'client', 'cultural', 'sheets',\n",
              "       'speaking', 'streamlining', 'rows', 'comment', 'year'],\n",
              "      dtype='<U46')"
            ]
          },
          "metadata": {
            "tags": []
          },
          "execution_count": 707
        }
      ]
    },
    {
      "cell_type": "code",
      "metadata": {
        "id": "tQ6_29T-lo1H"
      },
      "source": [
        "clf = MultinomialNB().fit(X_train_vectors, df_train['Salary type'])"
      ],
      "execution_count": 708,
      "outputs": []
    },
    {
      "cell_type": "code",
      "metadata": {
        "colab": {
          "base_uri": "https://localhost:8080/"
        },
        "id": "PMUQrJVmlyTE",
        "outputId": "32ec8938-9134-4179-b9a8-0dbd7bcd6bdf"
      },
      "source": [
        "show_top(clf, vectorizer, 20)"
      ],
      "execution_count": 709,
      "outputs": [
        {
          "output_type": "stream",
          "text": [
            "0: team management work on we skills our as is business or for experience with in of the data to and\n",
            "1: skills on analysis as we you work our is business experience for or with in of the data to and\n",
            "2: analysis skills on work you as we our is business or experience for with in of data the to and\n"
          ],
          "name": "stdout"
        }
      ]
    },
    {
      "cell_type": "code",
      "metadata": {
        "colab": {
          "base_uri": "https://localhost:8080/"
        },
        "id": "i2RVMp0-lygP",
        "outputId": "774854d6-566c-40b4-cd48-19d98a848c97"
      },
      "source": [
        "predicts = clf.predict(vectorizer.transform(df_test['Job Description']))\r\n",
        "print(classification_report(df_test['Salary type'], predicts))"
      ],
      "execution_count": 710,
      "outputs": [
        {
          "output_type": "stream",
          "text": [
            "              precision    recall  f1-score   support\n",
            "\n",
            "           0       0.00      0.00      0.00        99\n",
            "           1       0.34      0.93      0.50       127\n",
            "           2       0.45      0.07      0.12       145\n",
            "\n",
            "    accuracy                           0.35       371\n",
            "   macro avg       0.26      0.33      0.21       371\n",
            "weighted avg       0.29      0.35      0.22       371\n",
            "\n"
          ],
          "name": "stdout"
        },
        {
          "output_type": "stream",
          "text": [
            "/usr/local/lib/python3.6/dist-packages/sklearn/metrics/_classification.py:1272: UndefinedMetricWarning: Precision and F-score are ill-defined and being set to 0.0 in labels with no predicted samples. Use `zero_division` parameter to control this behavior.\n",
            "  _warn_prf(average, modifier, msg_start, len(result))\n"
          ],
          "name": "stderr"
        }
      ]
    },
    {
      "cell_type": "code",
      "metadata": {
        "id": "N4sbyr-olyvx"
      },
      "source": [
        ""
      ],
      "execution_count": null,
      "outputs": []
    },
    {
      "cell_type": "markdown",
      "metadata": {
        "id": "sis6R2MRzIkj"
      },
      "source": [
        "Опробуем работу разных моделей по названию позиции"
      ]
    },
    {
      "cell_type": "code",
      "metadata": {
        "colab": {
          "base_uri": "https://localhost:8080/"
        },
        "id": "92d1COhmzMzz",
        "outputId": "659e3918-f06d-4b1e-8899-ae1353b82860"
      },
      "source": [
        "from sklearn.feature_extraction.text import CountVectorizer\r\n",
        "\r\n",
        "vectorizer = CountVectorizer(binary=True)\r\n",
        "vectorizer.fit(df3['Job Title'])"
      ],
      "execution_count": 711,
      "outputs": [
        {
          "output_type": "execute_result",
          "data": {
            "text/plain": [
              "CountVectorizer(analyzer='word', binary=True, decode_error='strict',\n",
              "                dtype=<class 'numpy.int64'>, encoding='utf-8', input='content',\n",
              "                lowercase=True, max_df=1.0, max_features=None, min_df=1,\n",
              "                ngram_range=(1, 1), preprocessor=None, stop_words=None,\n",
              "                strip_accents=None, token_pattern='(?u)\\\\b\\\\w\\\\w+\\\\b',\n",
              "                tokenizer=None, vocabulary=None)"
            ]
          },
          "metadata": {
            "tags": []
          },
          "execution_count": 711
        }
      ]
    },
    {
      "cell_type": "code",
      "metadata": {
        "colab": {
          "base_uri": "https://localhost:8080/"
        },
        "id": "XkXekMaIzOmP",
        "outputId": "98261460-db5e-4671-8d03-88be93f3d0bf"
      },
      "source": [
        "len(vectorizer.vocabulary_)"
      ],
      "execution_count": 712,
      "outputs": [
        {
          "output_type": "execute_result",
          "data": {
            "text/plain": [
              "913"
            ]
          },
          "metadata": {
            "tags": []
          },
          "execution_count": 712
        }
      ]
    },
    {
      "cell_type": "code",
      "metadata": {
        "id": "7kRdgcS0zOyr"
      },
      "source": [
        "from sklearn.model_selection import train_test_split\r\n",
        "\r\n",
        "df_train, df_test = train_test_split(df3, test_size=0.2, shuffle=True)"
      ],
      "execution_count": 713,
      "outputs": []
    },
    {
      "cell_type": "code",
      "metadata": {
        "colab": {
          "base_uri": "https://localhost:8080/"
        },
        "id": "_n3V3_2vzPBx",
        "outputId": "d8a16b89-8305-46a6-94ab-6307394cb7ed"
      },
      "source": [
        "df_train.shape, df_test.shape"
      ],
      "execution_count": 714,
      "outputs": [
        {
          "output_type": "execute_result",
          "data": {
            "text/plain": [
              "((1483, 3), (371, 3))"
            ]
          },
          "metadata": {
            "tags": []
          },
          "execution_count": 714
        }
      ]
    },
    {
      "cell_type": "code",
      "metadata": {
        "id": "LdtjPCwRzPYT"
      },
      "source": [
        "X_train = vectorizer.transform(df_train['Job Title'])\r\n",
        "X_test = vectorizer.transform(df_test['Job Title'])"
      ],
      "execution_count": 715,
      "outputs": []
    },
    {
      "cell_type": "code",
      "metadata": {
        "colab": {
          "base_uri": "https://localhost:8080/"
        },
        "id": "XLW3kddYzPy7",
        "outputId": "63198f1e-9294-4635-d974-d7d73b408164"
      },
      "source": [
        "X_train.shape, X_test.shape"
      ],
      "execution_count": 716,
      "outputs": [
        {
          "output_type": "execute_result",
          "data": {
            "text/plain": [
              "((1483, 913), (371, 913))"
            ]
          },
          "metadata": {
            "tags": []
          },
          "execution_count": 716
        }
      ]
    },
    {
      "cell_type": "code",
      "metadata": {
        "id": "dY1ILtQLzQG_"
      },
      "source": [
        "from sklearn.naive_bayes import ComplementNB, MultinomialNB, BernoulliNB, CategoricalNB, GaussianNB"
      ],
      "execution_count": 717,
      "outputs": []
    },
    {
      "cell_type": "code",
      "metadata": {
        "id": "9Cc_BsqCzQRr"
      },
      "source": [
        "clf = MultinomialNB().fit(X_train, df_train['Salary type'])"
      ],
      "execution_count": 718,
      "outputs": []
    },
    {
      "cell_type": "code",
      "metadata": {
        "colab": {
          "base_uri": "https://localhost:8080/"
        },
        "id": "ozb4QWdzzQcF",
        "outputId": "f1b05383-5fde-4134-f09e-b696793d9411"
      },
      "source": [
        "# выбрать n лучших (по вероятностям) слов для каждого класса\r\n",
        "def show_top(classifier, vectorizer, n, categories=('0', '1','2')):\r\n",
        "    # получаем слова\r\n",
        "    feature_names = np.asarray(vectorizer.get_feature_names())\r\n",
        "    # проходимлся по словам\r\n",
        "    for i, category in enumerate(categories):\r\n",
        "        # выбираем лучшие по вероятностям\r\n",
        "        top = np.argsort(classifier.feature_log_prob_[i])[-n:]\r\n",
        "        print(\"%s: %s\" % (category, \" \".join(feature_names[top])))\r\n",
        "\r\n",
        "# отобразим 20 топовых слов\r\n",
        "show_top(clf, vectorizer, 20)"
      ],
      "execution_count": 719,
      "outputs": [
        {
          "output_type": "stream",
          "text": [
            "0: warehouse research manager management systems marketing quality operations financial master healthcare analytics lead reporting and business sr senior analyst data\n",
            "1: science bi operations management ii sql with healthcare reporting governance financial analytics and quality junior sr business senior analyst data\n",
            "2: operations governance warehouse ii security programmer engineer with junior management lead reporting quality and analytics sr business senior analyst data\n"
          ],
          "name": "stdout"
        }
      ]
    },
    {
      "cell_type": "code",
      "metadata": {
        "colab": {
          "base_uri": "https://localhost:8080/"
        },
        "id": "A3ojBcnZzQm5",
        "outputId": "c53701de-f48f-4625-e7d6-adaf3f088db9"
      },
      "source": [
        "\r\n",
        "from sklearn.metrics import classification_report\r\n",
        "\r\n",
        "predicts = clf.predict(X_train)\r\n",
        "# train\r\n",
        "print(classification_report(df_train['Salary type'], predicts, target_names=['высокая','низкая','средняя']))"
      ],
      "execution_count": 720,
      "outputs": [
        {
          "output_type": "stream",
          "text": [
            "              precision    recall  f1-score   support\n",
            "\n",
            "     высокая       0.88      0.26      0.40       344\n",
            "      низкая       0.56      0.86      0.67       595\n",
            "     средняя       0.67      0.57      0.62       544\n",
            "\n",
            "    accuracy                           0.61      1483\n",
            "   macro avg       0.70      0.56      0.56      1483\n",
            "weighted avg       0.67      0.61      0.59      1483\n",
            "\n"
          ],
          "name": "stdout"
        }
      ]
    },
    {
      "cell_type": "code",
      "metadata": {
        "colab": {
          "base_uri": "https://localhost:8080/"
        },
        "id": "1InnFg0lzQx0",
        "outputId": "0a0de5c8-aba7-4c18-aefd-6e0ef3867fa4"
      },
      "source": [
        "predicts = clf.predict(X_test)\r\n",
        "print(classification_report(df_test['Salary type'], predicts, target_names=['высокая','низкая','средняя']))"
      ],
      "execution_count": 721,
      "outputs": [
        {
          "output_type": "stream",
          "text": [
            "              precision    recall  f1-score   support\n",
            "\n",
            "     высокая       0.17      0.05      0.08        74\n",
            "      низкая       0.47      0.68      0.55       154\n",
            "     средняя       0.44      0.38      0.41       143\n",
            "\n",
            "    accuracy                           0.44       371\n",
            "   macro avg       0.36      0.37      0.35       371\n",
            "weighted avg       0.40      0.44      0.40       371\n",
            "\n"
          ],
          "name": "stdout"
        }
      ]
    },
    {
      "cell_type": "code",
      "metadata": {
        "id": "IWhMD1vfzQ75"
      },
      "source": [
        "count_vect = CountVectorizer(binary=False).fit(df3['Job Title'])\r\n",
        "\r\n",
        "X_train_counts = count_vect.transform(df_train['Job Title'])\r\n",
        "X_test_counts = count_vect.transform(df_test['Job Title'])"
      ],
      "execution_count": 722,
      "outputs": []
    },
    {
      "cell_type": "code",
      "metadata": {
        "colab": {
          "base_uri": "https://localhost:8080/"
        },
        "id": "0ZM0CxKezRQD",
        "outputId": "1a0716eb-5095-4a16-f721-ffe3e6bbb4f1"
      },
      "source": [
        "# представление 42го отзыва\r\n",
        "dict(zip(count_vect.inverse_transform(X_train_counts[182])[0], X_train_counts[0].data))"
      ],
      "execution_count": 723,
      "outputs": [
        {
          "output_type": "execute_result",
          "data": {
            "text/plain": [
              "{'analyst': 1, 'data': 1, 'growth': 1}"
            ]
          },
          "metadata": {
            "tags": []
          },
          "execution_count": 723
        }
      ]
    },
    {
      "cell_type": "code",
      "metadata": {
        "id": "pNYkbZ-MzRlB"
      },
      "source": [
        "clf = MultinomialNB().fit(X_train_counts, df_train['Salary type'])"
      ],
      "execution_count": 724,
      "outputs": []
    },
    {
      "cell_type": "code",
      "metadata": {
        "colab": {
          "base_uri": "https://localhost:8080/"
        },
        "id": "03HL4xy0zR0p",
        "outputId": "bdf0ab32-4b9c-45d1-e72b-617b911eb4f2"
      },
      "source": [
        "# train\r\n",
        "predicts = clf.predict(X_train_counts)\r\n",
        "print(classification_report(df_train['Salary type'], predicts))"
      ],
      "execution_count": 725,
      "outputs": [
        {
          "output_type": "stream",
          "text": [
            "              precision    recall  f1-score   support\n",
            "\n",
            "           0       0.87      0.26      0.40       344\n",
            "           1       0.56      0.85      0.67       595\n",
            "           2       0.66      0.58      0.62       544\n",
            "\n",
            "    accuracy                           0.61      1483\n",
            "   macro avg       0.70      0.56      0.56      1483\n",
            "weighted avg       0.67      0.61      0.59      1483\n",
            "\n"
          ],
          "name": "stdout"
        }
      ]
    },
    {
      "cell_type": "code",
      "metadata": {
        "colab": {
          "base_uri": "https://localhost:8080/"
        },
        "id": "hVe3bKz0zSEe",
        "outputId": "5b959933-8ae4-4a46-fb31-9e77b826dd9a"
      },
      "source": [
        "# test\r\n",
        "# конвертируем тестовые слова\r\n",
        "predicts = clf.predict(count_vect.transform(df_test['Job Title']))\r\n",
        "print(classification_report(df_test['Salary type'], predicts))"
      ],
      "execution_count": 726,
      "outputs": [
        {
          "output_type": "stream",
          "text": [
            "              precision    recall  f1-score   support\n",
            "\n",
            "           0       0.17      0.05      0.08        74\n",
            "           1       0.46      0.64      0.54       154\n",
            "           2       0.42      0.38      0.40       143\n",
            "\n",
            "    accuracy                           0.43       371\n",
            "   macro avg       0.35      0.36      0.34       371\n",
            "weighted avg       0.39      0.43      0.39       371\n",
            "\n"
          ],
          "name": "stdout"
        }
      ]
    },
    {
      "cell_type": "code",
      "metadata": {
        "colab": {
          "base_uri": "https://localhost:8080/"
        },
        "id": "IWCAwPR3zSQd",
        "outputId": "b9063e0e-b3fa-4cea-97ec-3e55a28ead6f"
      },
      "source": [
        "\r\n",
        "import nltk\r\n",
        "nltk.download(\"stopwords\")"
      ],
      "execution_count": 727,
      "outputs": [
        {
          "output_type": "stream",
          "text": [
            "[nltk_data] Downloading package stopwords to /root/nltk_data...\n",
            "[nltk_data]   Package stopwords is already up-to-date!\n"
          ],
          "name": "stdout"
        },
        {
          "output_type": "execute_result",
          "data": {
            "text/plain": [
              "True"
            ]
          },
          "metadata": {
            "tags": []
          },
          "execution_count": 727
        }
      ]
    },
    {
      "cell_type": "code",
      "metadata": {
        "id": "CqnJXCbxzScU"
      },
      "source": [
        "from sklearn.feature_extraction.stop_words import ENGLISH_STOP_WORDS"
      ],
      "execution_count": 728,
      "outputs": []
    },
    {
      "cell_type": "code",
      "metadata": {
        "id": "K-zrrZ-VzStG"
      },
      "source": [
        "\r\n",
        "from nltk.corpus import stopwords\r\n",
        "stopWords = stopwords.words('english')"
      ],
      "execution_count": 729,
      "outputs": []
    },
    {
      "cell_type": "code",
      "metadata": {
        "id": "7fpYqRcIzS8w"
      },
      "source": [
        "count_vect = CountVectorizer(stop_words=stopWords + list(ENGLISH_STOP_WORDS), binary=False).fit(df3['Job Description'])"
      ],
      "execution_count": 730,
      "outputs": []
    },
    {
      "cell_type": "code",
      "metadata": {
        "id": "9d8v1NN0zTTM"
      },
      "source": [
        "\r\n",
        "X_train_counts = count_vect.transform(df_train['Job Title'])\r\n",
        "X_test_counts = count_vect.transform(df_test['Job Title'])"
      ],
      "execution_count": 731,
      "outputs": []
    },
    {
      "cell_type": "code",
      "metadata": {
        "id": "1T9q_q3izTeY"
      },
      "source": [
        "clf = MultinomialNB().fit(X_train_counts, df_train['Salary type'])"
      ],
      "execution_count": 732,
      "outputs": []
    },
    {
      "cell_type": "code",
      "metadata": {
        "colab": {
          "base_uri": "https://localhost:8080/"
        },
        "id": "2-H925qtzTpU",
        "outputId": "b1ac99b0-3671-48f6-d71a-8c04b4066752"
      },
      "source": [
        "\r\n",
        "predicts = clf.predict(X_test_counts)\r\n",
        "print(classification_report(df_test['Salary type'], predicts))"
      ],
      "execution_count": 733,
      "outputs": [
        {
          "output_type": "stream",
          "text": [
            "              precision    recall  f1-score   support\n",
            "\n",
            "           0       0.00      0.00      0.00        74\n",
            "           1       0.45      0.73      0.55       154\n",
            "           2       0.45      0.37      0.40       143\n",
            "\n",
            "    accuracy                           0.44       371\n",
            "   macro avg       0.30      0.37      0.32       371\n",
            "weighted avg       0.36      0.44      0.39       371\n",
            "\n"
          ],
          "name": "stdout"
        }
      ]
    },
    {
      "cell_type": "code",
      "metadata": {
        "id": "AJpUup6EzT24"
      },
      "source": [
        "from sklearn.feature_extraction.text import TfidfVectorizer\r\n",
        "\r\n",
        "# vectorizer = TfidfVectorizer(stop_words=stopWords + list(ENGLISH_STOP_WORDS))\r\n",
        "vectorizer = TfidfVectorizer()\r\n",
        "vectorizer = vectorizer.fit(df3['Job Title'])"
      ],
      "execution_count": 734,
      "outputs": []
    },
    {
      "cell_type": "code",
      "metadata": {
        "id": "SXaHhQUh00rf"
      },
      "source": [
        "X_train_vectors = vectorizer.transform(df_train['Job Title'])\r\n",
        "X_test_vectors = vectorizer.transform(df_test['Job Title'])"
      ],
      "execution_count": 735,
      "outputs": []
    },
    {
      "cell_type": "code",
      "metadata": {
        "colab": {
          "base_uri": "https://localhost:8080/"
        },
        "id": "lBE62ZnV003i",
        "outputId": "984737b2-2f1d-41da-c4e2-4a491f2d651a"
      },
      "source": [
        "num = 1300\r\n",
        "X_train_vectors[num].data"
      ],
      "execution_count": 736,
      "outputs": [
        {
          "output_type": "execute_result",
          "data": {
            "text/plain": [
              "array([0.90576973, 0.29948922, 0.29981229])"
            ]
          },
          "metadata": {
            "tags": []
          },
          "execution_count": 736
        }
      ]
    },
    {
      "cell_type": "code",
      "metadata": {
        "colab": {
          "base_uri": "https://localhost:8080/"
        },
        "id": "slrwyGxv01Dy",
        "outputId": "8adc3ffe-a45d-41f1-b8e7-64510e7379af"
      },
      "source": [
        "vectorizer.inverse_transform(X_train_vectors[num])[0][np.argsort(X_train_vectors[num].data)]"
      ],
      "execution_count": 737,
      "outputs": [
        {
          "output_type": "execute_result",
          "data": {
            "text/plain": [
              "array(['data', 'analyst', 'senior'], dtype='<U16')"
            ]
          },
          "metadata": {
            "tags": []
          },
          "execution_count": 737
        }
      ]
    },
    {
      "cell_type": "code",
      "metadata": {
        "id": "Vj5C-2Ff01OC"
      },
      "source": [
        "clf2 = MultinomialNB().fit(X_train_vectors, df_train['Salary type'])"
      ],
      "execution_count": 738,
      "outputs": []
    },
    {
      "cell_type": "code",
      "metadata": {
        "colab": {
          "base_uri": "https://localhost:8080/"
        },
        "id": "maNHBoth01dI",
        "outputId": "207d7f9f-b2b5-4f1c-f5ab-8379fb7d3825"
      },
      "source": [
        "show_top(clf2, vectorizer, 20)"
      ],
      "execution_count": 739,
      "outputs": [
        {
          "output_type": "stream",
          "text": [
            "0: research iii junior governance systems master marketing financial quality operations healthcare analytics reporting and lead sr business senior analyst data\n",
            "1: iii management operations product financial science and ii sql healthcare analytics reporting governance sr quality junior business senior analyst data\n",
            "2: marketing warehouse intelligence governance programmer security engineer ii and analytics quality management lead reporting junior sr business senior data analyst\n"
          ],
          "name": "stdout"
        }
      ]
    },
    {
      "cell_type": "code",
      "metadata": {
        "colab": {
          "base_uri": "https://localhost:8080/"
        },
        "id": "E_4VfWmd01sy",
        "outputId": "97891dde-e23b-45a7-ec36-e0f8ae27c2df"
      },
      "source": [
        "predicts = clf2.predict(vectorizer.transform(df_test['Job Title']))\r\n",
        "print(classification_report(df_test['Salary type'], predicts))"
      ],
      "execution_count": 740,
      "outputs": [
        {
          "output_type": "stream",
          "text": [
            "              precision    recall  f1-score   support\n",
            "\n",
            "           0       0.23      0.04      0.07        74\n",
            "           1       0.44      0.64      0.52       154\n",
            "           2       0.41      0.38      0.39       143\n",
            "\n",
            "    accuracy                           0.42       371\n",
            "   macro avg       0.36      0.35      0.33       371\n",
            "weighted avg       0.39      0.42      0.38       371\n",
            "\n"
          ],
          "name": "stdout"
        }
      ]
    },
    {
      "cell_type": "markdown",
      "metadata": {
        "id": "yx3YHZKe4Pmh"
      },
      "source": [
        "Значимых результатов по итогам работы моделей добиться не удалось"
      ]
    }
  ]
}