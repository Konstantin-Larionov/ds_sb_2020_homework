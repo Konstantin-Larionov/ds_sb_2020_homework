{
  "nbformat": 4,
  "nbformat_minor": 0,
  "metadata": {
    "colab": {
      "name": "Копия блокнота \"Большое_ДЗ_2.ipynb\"",
      "provenance": [],
      "collapsed_sections": [],
      "toc_visible": true,
      "include_colab_link": true
    },
    "kernelspec": {
      "name": "python3",
      "display_name": "Python 3"
    }
  },
  "cells": [
    {
      "cell_type": "markdown",
      "metadata": {
        "id": "view-in-github",
        "colab_type": "text"
      },
      "source": [
        "<a href=\"https://colab.research.google.com/github/Konstantin-Larionov/ds_sb_2020_homework/blob/main/%D0%9A%D0%BE%D0%BF%D0%B8%D1%8F_%D0%B1%D0%BB%D0%BE%D0%BA%D0%BD%D0%BE%D1%82%D0%B0_%22%D0%91%D0%BE%D0%BB%D1%8C%D1%88%D0%BE%D0%B5_%D0%94%D0%97_2_ipynb%22.ipynb\" target=\"_parent\"><img src=\"https://colab.research.google.com/assets/colab-badge.svg\" alt=\"Open In Colab\"/></a>"
      ]
    },
    {
      "cell_type": "markdown",
      "metadata": {
        "id": "PtRJ8Lka-cuI"
      },
      "source": [
        "<h2 style=\"text-align: center;\"><b>Большое домашнее задание 2. Участие в соревнованиях на Kaggle. Работа с нерепрезентативными данными.\n",
        "</b></h2>\n",
        "\n",
        "ДЗ в колабе: https://colab.research.google.com/drive/18Hi97eESCrXYht-7SIoj_19pwcZhl17Y?usp=sharing\n",
        "\n",
        "В этом домашнем задании нам нужно применить в реальном соревновании накопленные знания по машинному обучению и анализу данных!\n",
        "\n",
        "- Нужно будет провести предобработку [данных с Kaggle](https://www.kaggle.com/sid321axn/thoraric-surgery). Затем нужно будет предсказать колонку DGN (диагноз). Это задача классификации. \n",
        "- Описание датасета (что значит признаки): https://archive.ics.uci.edu/ml/datasets/Thoracic+Surgery+Data \n",
        "- Не забудьте провести анализ данных перед тем, как применять ML-модели! Вам нужно сначала понять, с чем Вы имеете дело, поискать зависимости в данных, понять природу этих зависимостей, и только после этого уже подбирать алгоритмы. Данные с подвохом! Внимательно смотрите на распределения признаков в каждом из классов!\n",
        "- В качестве основы можно использовать наработки с занятий. Необходимо попробовать сделать аугментацию данных, т.к. данных очень мало, для обучения содержательных моделей их не хватит.\n",
        "- Попробуйте kNN, логистическую регрессию, SVM. Поэкспериментируйте с добавлением композитных признаков (например, полиномиальных), выбором ядра (для SVM). Подберите гиперпараметры по кросс-валидации (GridSearchCV или RandomSearchCV, второй вариант предпочтительнее).  \n",
        "- Достичь идеального качества Вам не удастся, да и гнаться за этим не стоит. Гораздо важнее провести вдумчивый анализ и показать, что Вы разобрались в теме.\n",
        "\n",
        "**Правила:**\n",
        "\n",
        "- **Дедлайн один:** 29 января 23:59. Решения, отправленные позже, проверяться не будут, кроме случаев наличия уважительной причины.\n",
        "\n",
        "\n",
        "\n",
        "Решения, размещенные на каких-либо интернет-ресурсах, не принимаются.\n",
        " При написании кода придерживайтесь `pep8` и используйте `type hints`.\n",
        "\n",
        "**После жесткого дедлайна задания не принимаются. Так как дальше будет работа только над проектом**"
      ]
    },
    {
      "cell_type": "code",
      "metadata": {
        "id": "gfXnteaCG0Ag"
      },
      "source": [
        "import pandas as pd\r\n",
        "import numpy as np\r\n",
        "import matplotlib.pyplot as plt\r\n",
        "import seaborn as sns\r\n",
        "import sklearn\r\n",
        "from mpl_toolkits.mplot3d import Axes3D\r\n",
        "from imblearn.over_sampling import SMOTE, ADASYN\r\n",
        "from sklearn.model_selection import GridSearchCV, RandomizedSearchCV, train_test_split\r\n",
        "from sklearn import metrics\r\n",
        "from sklearn.model_selection import train_test_split\r\n",
        "from sklearn.neighbors import KNeighborsClassifier\r\n"
      ],
      "execution_count": 226,
      "outputs": []
    },
    {
      "cell_type": "code",
      "metadata": {
        "id": "Q3iHNKutoHqL"
      },
      "source": [
        "df = pd.read_csv( './ThoraricSurgery.csv')"
      ],
      "execution_count": 227,
      "outputs": []
    },
    {
      "cell_type": "code",
      "metadata": {
        "colab": {
          "base_uri": "https://localhost:8080/",
          "height": 204
        },
        "id": "YuZ71Kq4qXrf",
        "outputId": "8bbceaf8-17d0-4c71-c0ca-f0ac3b030f3a"
      },
      "source": [
        "#посмотрим на датасет\r\n",
        "df.head(5)"
      ],
      "execution_count": 228,
      "outputs": [
        {
          "output_type": "execute_result",
          "data": {
            "text/html": [
              "<div>\n",
              "<style scoped>\n",
              "    .dataframe tbody tr th:only-of-type {\n",
              "        vertical-align: middle;\n",
              "    }\n",
              "\n",
              "    .dataframe tbody tr th {\n",
              "        vertical-align: top;\n",
              "    }\n",
              "\n",
              "    .dataframe thead th {\n",
              "        text-align: right;\n",
              "    }\n",
              "</style>\n",
              "<table border=\"1\" class=\"dataframe\">\n",
              "  <thead>\n",
              "    <tr style=\"text-align: right;\">\n",
              "      <th></th>\n",
              "      <th>id</th>\n",
              "      <th>DGN</th>\n",
              "      <th>PRE4</th>\n",
              "      <th>PRE5</th>\n",
              "      <th>PRE6</th>\n",
              "      <th>PRE7</th>\n",
              "      <th>PRE8</th>\n",
              "      <th>PRE9</th>\n",
              "      <th>PRE10</th>\n",
              "      <th>PRE11</th>\n",
              "      <th>PRE14</th>\n",
              "      <th>PRE17</th>\n",
              "      <th>PRE19</th>\n",
              "      <th>PRE25</th>\n",
              "      <th>PRE30</th>\n",
              "      <th>PRE32</th>\n",
              "      <th>AGE</th>\n",
              "      <th>Risk1Yr</th>\n",
              "    </tr>\n",
              "  </thead>\n",
              "  <tbody>\n",
              "    <tr>\n",
              "      <th>0</th>\n",
              "      <td>1</td>\n",
              "      <td>DGN2</td>\n",
              "      <td>2.88</td>\n",
              "      <td>2.16</td>\n",
              "      <td>PRZ1</td>\n",
              "      <td>F</td>\n",
              "      <td>F</td>\n",
              "      <td>F</td>\n",
              "      <td>T</td>\n",
              "      <td>T</td>\n",
              "      <td>OC14</td>\n",
              "      <td>F</td>\n",
              "      <td>F</td>\n",
              "      <td>F</td>\n",
              "      <td>T</td>\n",
              "      <td>F</td>\n",
              "      <td>60</td>\n",
              "      <td>F</td>\n",
              "    </tr>\n",
              "    <tr>\n",
              "      <th>1</th>\n",
              "      <td>2</td>\n",
              "      <td>DGN3</td>\n",
              "      <td>3.40</td>\n",
              "      <td>1.88</td>\n",
              "      <td>PRZ0</td>\n",
              "      <td>F</td>\n",
              "      <td>F</td>\n",
              "      <td>F</td>\n",
              "      <td>F</td>\n",
              "      <td>F</td>\n",
              "      <td>OC12</td>\n",
              "      <td>F</td>\n",
              "      <td>F</td>\n",
              "      <td>F</td>\n",
              "      <td>T</td>\n",
              "      <td>F</td>\n",
              "      <td>51</td>\n",
              "      <td>F</td>\n",
              "    </tr>\n",
              "    <tr>\n",
              "      <th>2</th>\n",
              "      <td>3</td>\n",
              "      <td>DGN3</td>\n",
              "      <td>2.76</td>\n",
              "      <td>2.08</td>\n",
              "      <td>PRZ1</td>\n",
              "      <td>F</td>\n",
              "      <td>F</td>\n",
              "      <td>F</td>\n",
              "      <td>T</td>\n",
              "      <td>F</td>\n",
              "      <td>OC11</td>\n",
              "      <td>F</td>\n",
              "      <td>F</td>\n",
              "      <td>F</td>\n",
              "      <td>T</td>\n",
              "      <td>F</td>\n",
              "      <td>59</td>\n",
              "      <td>F</td>\n",
              "    </tr>\n",
              "    <tr>\n",
              "      <th>3</th>\n",
              "      <td>4</td>\n",
              "      <td>DGN3</td>\n",
              "      <td>3.68</td>\n",
              "      <td>3.04</td>\n",
              "      <td>PRZ0</td>\n",
              "      <td>F</td>\n",
              "      <td>F</td>\n",
              "      <td>F</td>\n",
              "      <td>F</td>\n",
              "      <td>F</td>\n",
              "      <td>OC11</td>\n",
              "      <td>F</td>\n",
              "      <td>F</td>\n",
              "      <td>F</td>\n",
              "      <td>F</td>\n",
              "      <td>F</td>\n",
              "      <td>54</td>\n",
              "      <td>F</td>\n",
              "    </tr>\n",
              "    <tr>\n",
              "      <th>4</th>\n",
              "      <td>5</td>\n",
              "      <td>DGN3</td>\n",
              "      <td>2.44</td>\n",
              "      <td>0.96</td>\n",
              "      <td>PRZ2</td>\n",
              "      <td>F</td>\n",
              "      <td>T</td>\n",
              "      <td>F</td>\n",
              "      <td>T</td>\n",
              "      <td>T</td>\n",
              "      <td>OC11</td>\n",
              "      <td>F</td>\n",
              "      <td>F</td>\n",
              "      <td>F</td>\n",
              "      <td>T</td>\n",
              "      <td>F</td>\n",
              "      <td>73</td>\n",
              "      <td>T</td>\n",
              "    </tr>\n",
              "  </tbody>\n",
              "</table>\n",
              "</div>"
            ],
            "text/plain": [
              "   id   DGN  PRE4  PRE5  PRE6 PRE7  ... PRE19 PRE25 PRE30 PRE32 AGE Risk1Yr\n",
              "0   1  DGN2  2.88  2.16  PRZ1    F  ...     F     F     T     F  60       F\n",
              "1   2  DGN3  3.40  1.88  PRZ0    F  ...     F     F     T     F  51       F\n",
              "2   3  DGN3  2.76  2.08  PRZ1    F  ...     F     F     T     F  59       F\n",
              "3   4  DGN3  3.68  3.04  PRZ0    F  ...     F     F     F     F  54       F\n",
              "4   5  DGN3  2.44  0.96  PRZ2    F  ...     F     F     T     F  73       T\n",
              "\n",
              "[5 rows x 18 columns]"
            ]
          },
          "metadata": {
            "tags": []
          },
          "execution_count": 228
        }
      ]
    },
    {
      "cell_type": "code",
      "metadata": {
        "colab": {
          "base_uri": "https://localhost:8080/",
          "height": 204
        },
        "id": "7ZvgzYJ42a4v",
        "outputId": "8c84d751-5004-4d08-fc56-2e8a1c028d22"
      },
      "source": [
        "#удалим параметр id, тк он лишний\r\n",
        "del df['id']\r\n",
        "\r\n",
        "df.head(5)"
      ],
      "execution_count": 229,
      "outputs": [
        {
          "output_type": "execute_result",
          "data": {
            "text/html": [
              "<div>\n",
              "<style scoped>\n",
              "    .dataframe tbody tr th:only-of-type {\n",
              "        vertical-align: middle;\n",
              "    }\n",
              "\n",
              "    .dataframe tbody tr th {\n",
              "        vertical-align: top;\n",
              "    }\n",
              "\n",
              "    .dataframe thead th {\n",
              "        text-align: right;\n",
              "    }\n",
              "</style>\n",
              "<table border=\"1\" class=\"dataframe\">\n",
              "  <thead>\n",
              "    <tr style=\"text-align: right;\">\n",
              "      <th></th>\n",
              "      <th>DGN</th>\n",
              "      <th>PRE4</th>\n",
              "      <th>PRE5</th>\n",
              "      <th>PRE6</th>\n",
              "      <th>PRE7</th>\n",
              "      <th>PRE8</th>\n",
              "      <th>PRE9</th>\n",
              "      <th>PRE10</th>\n",
              "      <th>PRE11</th>\n",
              "      <th>PRE14</th>\n",
              "      <th>PRE17</th>\n",
              "      <th>PRE19</th>\n",
              "      <th>PRE25</th>\n",
              "      <th>PRE30</th>\n",
              "      <th>PRE32</th>\n",
              "      <th>AGE</th>\n",
              "      <th>Risk1Yr</th>\n",
              "    </tr>\n",
              "  </thead>\n",
              "  <tbody>\n",
              "    <tr>\n",
              "      <th>0</th>\n",
              "      <td>DGN2</td>\n",
              "      <td>2.88</td>\n",
              "      <td>2.16</td>\n",
              "      <td>PRZ1</td>\n",
              "      <td>F</td>\n",
              "      <td>F</td>\n",
              "      <td>F</td>\n",
              "      <td>T</td>\n",
              "      <td>T</td>\n",
              "      <td>OC14</td>\n",
              "      <td>F</td>\n",
              "      <td>F</td>\n",
              "      <td>F</td>\n",
              "      <td>T</td>\n",
              "      <td>F</td>\n",
              "      <td>60</td>\n",
              "      <td>F</td>\n",
              "    </tr>\n",
              "    <tr>\n",
              "      <th>1</th>\n",
              "      <td>DGN3</td>\n",
              "      <td>3.40</td>\n",
              "      <td>1.88</td>\n",
              "      <td>PRZ0</td>\n",
              "      <td>F</td>\n",
              "      <td>F</td>\n",
              "      <td>F</td>\n",
              "      <td>F</td>\n",
              "      <td>F</td>\n",
              "      <td>OC12</td>\n",
              "      <td>F</td>\n",
              "      <td>F</td>\n",
              "      <td>F</td>\n",
              "      <td>T</td>\n",
              "      <td>F</td>\n",
              "      <td>51</td>\n",
              "      <td>F</td>\n",
              "    </tr>\n",
              "    <tr>\n",
              "      <th>2</th>\n",
              "      <td>DGN3</td>\n",
              "      <td>2.76</td>\n",
              "      <td>2.08</td>\n",
              "      <td>PRZ1</td>\n",
              "      <td>F</td>\n",
              "      <td>F</td>\n",
              "      <td>F</td>\n",
              "      <td>T</td>\n",
              "      <td>F</td>\n",
              "      <td>OC11</td>\n",
              "      <td>F</td>\n",
              "      <td>F</td>\n",
              "      <td>F</td>\n",
              "      <td>T</td>\n",
              "      <td>F</td>\n",
              "      <td>59</td>\n",
              "      <td>F</td>\n",
              "    </tr>\n",
              "    <tr>\n",
              "      <th>3</th>\n",
              "      <td>DGN3</td>\n",
              "      <td>3.68</td>\n",
              "      <td>3.04</td>\n",
              "      <td>PRZ0</td>\n",
              "      <td>F</td>\n",
              "      <td>F</td>\n",
              "      <td>F</td>\n",
              "      <td>F</td>\n",
              "      <td>F</td>\n",
              "      <td>OC11</td>\n",
              "      <td>F</td>\n",
              "      <td>F</td>\n",
              "      <td>F</td>\n",
              "      <td>F</td>\n",
              "      <td>F</td>\n",
              "      <td>54</td>\n",
              "      <td>F</td>\n",
              "    </tr>\n",
              "    <tr>\n",
              "      <th>4</th>\n",
              "      <td>DGN3</td>\n",
              "      <td>2.44</td>\n",
              "      <td>0.96</td>\n",
              "      <td>PRZ2</td>\n",
              "      <td>F</td>\n",
              "      <td>T</td>\n",
              "      <td>F</td>\n",
              "      <td>T</td>\n",
              "      <td>T</td>\n",
              "      <td>OC11</td>\n",
              "      <td>F</td>\n",
              "      <td>F</td>\n",
              "      <td>F</td>\n",
              "      <td>T</td>\n",
              "      <td>F</td>\n",
              "      <td>73</td>\n",
              "      <td>T</td>\n",
              "    </tr>\n",
              "  </tbody>\n",
              "</table>\n",
              "</div>"
            ],
            "text/plain": [
              "    DGN  PRE4  PRE5  PRE6 PRE7 PRE8  ... PRE19 PRE25 PRE30 PRE32 AGE Risk1Yr\n",
              "0  DGN2  2.88  2.16  PRZ1    F    F  ...     F     F     T     F  60       F\n",
              "1  DGN3  3.40  1.88  PRZ0    F    F  ...     F     F     T     F  51       F\n",
              "2  DGN3  2.76  2.08  PRZ1    F    F  ...     F     F     T     F  59       F\n",
              "3  DGN3  3.68  3.04  PRZ0    F    F  ...     F     F     F     F  54       F\n",
              "4  DGN3  2.44  0.96  PRZ2    F    T  ...     F     F     T     F  73       T\n",
              "\n",
              "[5 rows x 17 columns]"
            ]
          },
          "metadata": {
            "tags": []
          },
          "execution_count": 229
        }
      ]
    },
    {
      "cell_type": "code",
      "metadata": {
        "id": "JePglyNz3Unz"
      },
      "source": [
        "#для удобства переименуем наши колонки соответсвенно их смыслу\r\n",
        "new_columns = ['диагноз','емкость_легких','объем_выдоха','шкала_зуброда','боль','кровохаркание','одышка',\r\n",
        "       'кашель','слабость','размер_опухоли','диабет','ИМ','заболевания_периферических_артерий','курение','астматик','возраст','риск_смерти']\r\n",
        "df.columns = new_columns"
      ],
      "execution_count": 230,
      "outputs": []
    },
    {
      "cell_type": "code",
      "metadata": {
        "colab": {
          "base_uri": "https://localhost:8080/"
        },
        "id": "F5MjQNW8rzUN",
        "outputId": "d39b6e5c-d68c-4150-c0cc-cbcc1aa5dd14"
      },
      "source": [
        "#смотрим есть ли пропуски\r\n",
        "df.info()"
      ],
      "execution_count": 231,
      "outputs": [
        {
          "output_type": "stream",
          "text": [
            "<class 'pandas.core.frame.DataFrame'>\n",
            "RangeIndex: 470 entries, 0 to 469\n",
            "Data columns (total 17 columns):\n",
            " #   Column                              Non-Null Count  Dtype  \n",
            "---  ------                              --------------  -----  \n",
            " 0   диагноз                             470 non-null    object \n",
            " 1   емкость_легких                      470 non-null    float64\n",
            " 2   объем_выдоха                        470 non-null    float64\n",
            " 3   шкала_зуброда                       470 non-null    object \n",
            " 4   боль                                470 non-null    object \n",
            " 5   кровохаркание                       470 non-null    object \n",
            " 6   одышка                              470 non-null    object \n",
            " 7   кашель                              470 non-null    object \n",
            " 8   слабость                            470 non-null    object \n",
            " 9   размер_опухоли                      470 non-null    object \n",
            " 10  диабет                              470 non-null    object \n",
            " 11  ИМ                                  470 non-null    object \n",
            " 12  заболевания_периферических_артерий  470 non-null    object \n",
            " 13  курение                             470 non-null    object \n",
            " 14  астматик                            470 non-null    object \n",
            " 15  возраст                             470 non-null    int64  \n",
            " 16  риск_смерти                         470 non-null    object \n",
            "dtypes: float64(2), int64(1), object(14)\n",
            "memory usage: 62.5+ KB\n"
          ],
          "name": "stdout"
        }
      ]
    },
    {
      "cell_type": "code",
      "metadata": {
        "colab": {
          "base_uri": "https://localhost:8080/",
          "height": 297
        },
        "id": "00ZxQplIr9iu",
        "outputId": "fd2855de-0116-4bbd-8591-67b31aafb4c2"
      },
      "source": [
        "#описательная статистика числовых данных\r\n",
        "df.describe()"
      ],
      "execution_count": 232,
      "outputs": [
        {
          "output_type": "execute_result",
          "data": {
            "text/html": [
              "<div>\n",
              "<style scoped>\n",
              "    .dataframe tbody tr th:only-of-type {\n",
              "        vertical-align: middle;\n",
              "    }\n",
              "\n",
              "    .dataframe tbody tr th {\n",
              "        vertical-align: top;\n",
              "    }\n",
              "\n",
              "    .dataframe thead th {\n",
              "        text-align: right;\n",
              "    }\n",
              "</style>\n",
              "<table border=\"1\" class=\"dataframe\">\n",
              "  <thead>\n",
              "    <tr style=\"text-align: right;\">\n",
              "      <th></th>\n",
              "      <th>емкость_легких</th>\n",
              "      <th>объем_выдоха</th>\n",
              "      <th>возраст</th>\n",
              "    </tr>\n",
              "  </thead>\n",
              "  <tbody>\n",
              "    <tr>\n",
              "      <th>count</th>\n",
              "      <td>470.000000</td>\n",
              "      <td>470.000000</td>\n",
              "      <td>470.000000</td>\n",
              "    </tr>\n",
              "    <tr>\n",
              "      <th>mean</th>\n",
              "      <td>3.281638</td>\n",
              "      <td>4.568702</td>\n",
              "      <td>62.534043</td>\n",
              "    </tr>\n",
              "    <tr>\n",
              "      <th>std</th>\n",
              "      <td>0.871395</td>\n",
              "      <td>11.767857</td>\n",
              "      <td>8.706902</td>\n",
              "    </tr>\n",
              "    <tr>\n",
              "      <th>min</th>\n",
              "      <td>1.440000</td>\n",
              "      <td>0.960000</td>\n",
              "      <td>21.000000</td>\n",
              "    </tr>\n",
              "    <tr>\n",
              "      <th>25%</th>\n",
              "      <td>2.600000</td>\n",
              "      <td>1.960000</td>\n",
              "      <td>57.000000</td>\n",
              "    </tr>\n",
              "    <tr>\n",
              "      <th>50%</th>\n",
              "      <td>3.160000</td>\n",
              "      <td>2.400000</td>\n",
              "      <td>62.000000</td>\n",
              "    </tr>\n",
              "    <tr>\n",
              "      <th>75%</th>\n",
              "      <td>3.807500</td>\n",
              "      <td>3.080000</td>\n",
              "      <td>69.000000</td>\n",
              "    </tr>\n",
              "    <tr>\n",
              "      <th>max</th>\n",
              "      <td>6.300000</td>\n",
              "      <td>86.300000</td>\n",
              "      <td>87.000000</td>\n",
              "    </tr>\n",
              "  </tbody>\n",
              "</table>\n",
              "</div>"
            ],
            "text/plain": [
              "       емкость_легких  объем_выдоха     возраст\n",
              "count      470.000000    470.000000  470.000000\n",
              "mean         3.281638      4.568702   62.534043\n",
              "std          0.871395     11.767857    8.706902\n",
              "min          1.440000      0.960000   21.000000\n",
              "25%          2.600000      1.960000   57.000000\n",
              "50%          3.160000      2.400000   62.000000\n",
              "75%          3.807500      3.080000   69.000000\n",
              "max          6.300000     86.300000   87.000000"
            ]
          },
          "metadata": {
            "tags": []
          },
          "execution_count": 232
        }
      ]
    },
    {
      "cell_type": "code",
      "metadata": {
        "colab": {
          "base_uri": "https://localhost:8080/",
          "height": 296
        },
        "id": "4c7uyYfs7yRa",
        "outputId": "df460dc9-b57e-457c-abed-bd4aaba2e5e3"
      },
      "source": [
        "#видим аномальные значения для объема выдоха - большая разница между max и третьим процентилем. Посмотрим зависимость на графике\r\n",
        "sns.regplot(x=df['емкость_легких'], y=df['объем_выдоха'], fit_reg=False)"
      ],
      "execution_count": 233,
      "outputs": [
        {
          "output_type": "execute_result",
          "data": {
            "text/plain": [
              "<matplotlib.axes._subplots.AxesSubplot at 0x7f30c847f780>"
            ]
          },
          "metadata": {
            "tags": []
          },
          "execution_count": 233
        },
        {
          "output_type": "display_data",
          "data": {
            "image/png": "[encoded data removed]",
            "text/plain": [
              "<Figure size 432x288 with 1 Axes>"
            ]
          },
          "metadata": {
            "tags": [],
            "needs_background": "light"
          }
        }
      ]
    },
    {
      "cell_type": "code",
      "metadata": {
        "colab": {
          "base_uri": "https://localhost:8080/",
          "height": 297
        },
        "id": "T27UHM7q92CA",
        "outputId": "556db51c-1fec-4086-83d9-a06552ba3da5"
      },
      "source": [
        "#Добавим столбец, показывающий соотношение объема вдоха к емкости легких и посмотрим его статистику\r\n",
        "df['соотношение']=df['объем_выдоха']/df['емкость_легких']\r\n",
        "df.describe()"
      ],
      "execution_count": 234,
      "outputs": [
        {
          "output_type": "execute_result",
          "data": {
            "text/html": [
              "<div>\n",
              "<style scoped>\n",
              "    .dataframe tbody tr th:only-of-type {\n",
              "        vertical-align: middle;\n",
              "    }\n",
              "\n",
              "    .dataframe tbody tr th {\n",
              "        vertical-align: top;\n",
              "    }\n",
              "\n",
              "    .dataframe thead th {\n",
              "        text-align: right;\n",
              "    }\n",
              "</style>\n",
              "<table border=\"1\" class=\"dataframe\">\n",
              "  <thead>\n",
              "    <tr style=\"text-align: right;\">\n",
              "      <th></th>\n",
              "      <th>емкость_легких</th>\n",
              "      <th>объем_выдоха</th>\n",
              "      <th>возраст</th>\n",
              "      <th>соотношение</th>\n",
              "    </tr>\n",
              "  </thead>\n",
              "  <tbody>\n",
              "    <tr>\n",
              "      <th>count</th>\n",
              "      <td>470.000000</td>\n",
              "      <td>470.000000</td>\n",
              "      <td>470.000000</td>\n",
              "      <td>470.000000</td>\n",
              "    </tr>\n",
              "    <tr>\n",
              "      <th>mean</th>\n",
              "      <td>3.281638</td>\n",
              "      <td>4.568702</td>\n",
              "      <td>62.534043</td>\n",
              "      <td>1.469587</td>\n",
              "    </tr>\n",
              "    <tr>\n",
              "      <th>std</th>\n",
              "      <td>0.871395</td>\n",
              "      <td>11.767857</td>\n",
              "      <td>8.706902</td>\n",
              "      <td>4.236025</td>\n",
              "    </tr>\n",
              "    <tr>\n",
              "      <th>min</th>\n",
              "      <td>1.440000</td>\n",
              "      <td>0.960000</td>\n",
              "      <td>21.000000</td>\n",
              "      <td>0.265957</td>\n",
              "    </tr>\n",
              "    <tr>\n",
              "      <th>25%</th>\n",
              "      <td>2.600000</td>\n",
              "      <td>1.960000</td>\n",
              "      <td>57.000000</td>\n",
              "      <td>0.713354</td>\n",
              "    </tr>\n",
              "    <tr>\n",
              "      <th>50%</th>\n",
              "      <td>3.160000</td>\n",
              "      <td>2.400000</td>\n",
              "      <td>62.000000</td>\n",
              "      <td>0.773837</td>\n",
              "    </tr>\n",
              "    <tr>\n",
              "      <th>75%</th>\n",
              "      <td>3.807500</td>\n",
              "      <td>3.080000</td>\n",
              "      <td>69.000000</td>\n",
              "      <td>0.830686</td>\n",
              "    </tr>\n",
              "    <tr>\n",
              "      <th>max</th>\n",
              "      <td>6.300000</td>\n",
              "      <td>86.300000</td>\n",
              "      <td>87.000000</td>\n",
              "      <td>47.417582</td>\n",
              "    </tr>\n",
              "  </tbody>\n",
              "</table>\n",
              "</div>"
            ],
            "text/plain": [
              "       емкость_легких  объем_выдоха     возраст  соотношение\n",
              "count      470.000000    470.000000  470.000000   470.000000\n",
              "mean         3.281638      4.568702   62.534043     1.469587\n",
              "std          0.871395     11.767857    8.706902     4.236025\n",
              "min          1.440000      0.960000   21.000000     0.265957\n",
              "25%          2.600000      1.960000   57.000000     0.713354\n",
              "50%          3.160000      2.400000   62.000000     0.773837\n",
              "75%          3.807500      3.080000   69.000000     0.830686\n",
              "max          6.300000     86.300000   87.000000    47.417582"
            ]
          },
          "metadata": {
            "tags": []
          },
          "execution_count": 234
        }
      ]
    },
    {
      "cell_type": "code",
      "metadata": {
        "colab": {
          "base_uri": "https://localhost:8080/",
          "height": 534
        },
        "id": "dNVXlypZ-fBh",
        "outputId": "534145f1-8fbd-46c4-b135-58d9ee9127f5"
      },
      "source": [
        "#Объем выдыхаемого воздуха не может значительно привышать емкость легких, в наших данных есть аномалии\r\n",
        "df[df['соотношение']>1.4]"
      ],
      "execution_count": 235,
      "outputs": [
        {
          "output_type": "execute_result",
          "data": {
            "text/html": [
              "<div>\n",
              "<style scoped>\n",
              "    .dataframe tbody tr th:only-of-type {\n",
              "        vertical-align: middle;\n",
              "    }\n",
              "\n",
              "    .dataframe tbody tr th {\n",
              "        vertical-align: top;\n",
              "    }\n",
              "\n",
              "    .dataframe thead th {\n",
              "        text-align: right;\n",
              "    }\n",
              "</style>\n",
              "<table border=\"1\" class=\"dataframe\">\n",
              "  <thead>\n",
              "    <tr style=\"text-align: right;\">\n",
              "      <th></th>\n",
              "      <th>диагноз</th>\n",
              "      <th>емкость_легких</th>\n",
              "      <th>объем_выдоха</th>\n",
              "      <th>шкала_зуброда</th>\n",
              "      <th>боль</th>\n",
              "      <th>кровохаркание</th>\n",
              "      <th>одышка</th>\n",
              "      <th>кашель</th>\n",
              "      <th>слабость</th>\n",
              "      <th>размер_опухоли</th>\n",
              "      <th>диабет</th>\n",
              "      <th>ИМ</th>\n",
              "      <th>заболевания_периферических_артерий</th>\n",
              "      <th>курение</th>\n",
              "      <th>астматик</th>\n",
              "      <th>возраст</th>\n",
              "      <th>риск_смерти</th>\n",
              "      <th>соотношение</th>\n",
              "    </tr>\n",
              "  </thead>\n",
              "  <tbody>\n",
              "    <tr>\n",
              "      <th>25</th>\n",
              "      <td>DGN5</td>\n",
              "      <td>4.56</td>\n",
              "      <td>72.80</td>\n",
              "      <td>PRZ0</td>\n",
              "      <td>T</td>\n",
              "      <td>T</td>\n",
              "      <td>F</td>\n",
              "      <td>T</td>\n",
              "      <td>F</td>\n",
              "      <td>OC12</td>\n",
              "      <td>F</td>\n",
              "      <td>F</td>\n",
              "      <td>F</td>\n",
              "      <td>T</td>\n",
              "      <td>F</td>\n",
              "      <td>57</td>\n",
              "      <td>F</td>\n",
              "      <td>15.964912</td>\n",
              "    </tr>\n",
              "    <tr>\n",
              "      <th>89</th>\n",
              "      <td>DGN3</td>\n",
              "      <td>2.83</td>\n",
              "      <td>66.40</td>\n",
              "      <td>PRZ1</td>\n",
              "      <td>T</td>\n",
              "      <td>T</td>\n",
              "      <td>T</td>\n",
              "      <td>T</td>\n",
              "      <td>F</td>\n",
              "      <td>OC12</td>\n",
              "      <td>F</td>\n",
              "      <td>F</td>\n",
              "      <td>F</td>\n",
              "      <td>T</td>\n",
              "      <td>F</td>\n",
              "      <td>75</td>\n",
              "      <td>F</td>\n",
              "      <td>23.462898</td>\n",
              "    </tr>\n",
              "    <tr>\n",
              "      <th>98</th>\n",
              "      <td>DGN3</td>\n",
              "      <td>2.63</td>\n",
              "      <td>67.30</td>\n",
              "      <td>PRZ1</td>\n",
              "      <td>F</td>\n",
              "      <td>F</td>\n",
              "      <td>T</td>\n",
              "      <td>T</td>\n",
              "      <td>F</td>\n",
              "      <td>OC11</td>\n",
              "      <td>F</td>\n",
              "      <td>F</td>\n",
              "      <td>F</td>\n",
              "      <td>T</td>\n",
              "      <td>F</td>\n",
              "      <td>54</td>\n",
              "      <td>F</td>\n",
              "      <td>25.589354</td>\n",
              "    </tr>\n",
              "    <tr>\n",
              "      <th>112</th>\n",
              "      <td>DGN3</td>\n",
              "      <td>3.68</td>\n",
              "      <td>64.10</td>\n",
              "      <td>PRZ0</td>\n",
              "      <td>F</td>\n",
              "      <td>F</td>\n",
              "      <td>F</td>\n",
              "      <td>F</td>\n",
              "      <td>F</td>\n",
              "      <td>OC12</td>\n",
              "      <td>F</td>\n",
              "      <td>F</td>\n",
              "      <td>F</td>\n",
              "      <td>T</td>\n",
              "      <td>F</td>\n",
              "      <td>60</td>\n",
              "      <td>F</td>\n",
              "      <td>17.418478</td>\n",
              "    </tr>\n",
              "    <tr>\n",
              "      <th>132</th>\n",
              "      <td>DGN2</td>\n",
              "      <td>2.50</td>\n",
              "      <td>71.10</td>\n",
              "      <td>PRZ0</td>\n",
              "      <td>F</td>\n",
              "      <td>F</td>\n",
              "      <td>T</td>\n",
              "      <td>F</td>\n",
              "      <td>F</td>\n",
              "      <td>OC13</td>\n",
              "      <td>F</td>\n",
              "      <td>F</td>\n",
              "      <td>F</td>\n",
              "      <td>T</td>\n",
              "      <td>F</td>\n",
              "      <td>64</td>\n",
              "      <td>T</td>\n",
              "      <td>28.440000</td>\n",
              "    </tr>\n",
              "    <tr>\n",
              "      <th>215</th>\n",
              "      <td>DGN2</td>\n",
              "      <td>2.66</td>\n",
              "      <td>8.56</td>\n",
              "      <td>PRZ1</td>\n",
              "      <td>F</td>\n",
              "      <td>T</td>\n",
              "      <td>F</td>\n",
              "      <td>T</td>\n",
              "      <td>F</td>\n",
              "      <td>OC12</td>\n",
              "      <td>F</td>\n",
              "      <td>F</td>\n",
              "      <td>F</td>\n",
              "      <td>T</td>\n",
              "      <td>F</td>\n",
              "      <td>61</td>\n",
              "      <td>F</td>\n",
              "      <td>3.218045</td>\n",
              "    </tr>\n",
              "    <tr>\n",
              "      <th>255</th>\n",
              "      <td>DGN3</td>\n",
              "      <td>3.72</td>\n",
              "      <td>78.30</td>\n",
              "      <td>PRZ0</td>\n",
              "      <td>T</td>\n",
              "      <td>F</td>\n",
              "      <td>F</td>\n",
              "      <td>T</td>\n",
              "      <td>F</td>\n",
              "      <td>OC12</td>\n",
              "      <td>F</td>\n",
              "      <td>F</td>\n",
              "      <td>F</td>\n",
              "      <td>T</td>\n",
              "      <td>F</td>\n",
              "      <td>44</td>\n",
              "      <td>F</td>\n",
              "      <td>21.048387</td>\n",
              "    </tr>\n",
              "    <tr>\n",
              "      <th>319</th>\n",
              "      <td>DGN3</td>\n",
              "      <td>2.10</td>\n",
              "      <td>69.10</td>\n",
              "      <td>PRZ0</td>\n",
              "      <td>F</td>\n",
              "      <td>F</td>\n",
              "      <td>F</td>\n",
              "      <td>F</td>\n",
              "      <td>F</td>\n",
              "      <td>OC11</td>\n",
              "      <td>F</td>\n",
              "      <td>F</td>\n",
              "      <td>F</td>\n",
              "      <td>T</td>\n",
              "      <td>F</td>\n",
              "      <td>62</td>\n",
              "      <td>F</td>\n",
              "      <td>32.904762</td>\n",
              "    </tr>\n",
              "    <tr>\n",
              "      <th>325</th>\n",
              "      <td>DGN4</td>\n",
              "      <td>5.03</td>\n",
              "      <td>79.30</td>\n",
              "      <td>PRZ1</td>\n",
              "      <td>F</td>\n",
              "      <td>F</td>\n",
              "      <td>T</td>\n",
              "      <td>F</td>\n",
              "      <td>F</td>\n",
              "      <td>OC11</td>\n",
              "      <td>F</td>\n",
              "      <td>F</td>\n",
              "      <td>F</td>\n",
              "      <td>F</td>\n",
              "      <td>F</td>\n",
              "      <td>38</td>\n",
              "      <td>F</td>\n",
              "      <td>15.765408</td>\n",
              "    </tr>\n",
              "    <tr>\n",
              "      <th>330</th>\n",
              "      <td>DGN2</td>\n",
              "      <td>2.94</td>\n",
              "      <td>76.00</td>\n",
              "      <td>PRZ1</td>\n",
              "      <td>F</td>\n",
              "      <td>T</td>\n",
              "      <td>T</td>\n",
              "      <td>T</td>\n",
              "      <td>F</td>\n",
              "      <td>OC12</td>\n",
              "      <td>F</td>\n",
              "      <td>F</td>\n",
              "      <td>F</td>\n",
              "      <td>F</td>\n",
              "      <td>F</td>\n",
              "      <td>61</td>\n",
              "      <td>F</td>\n",
              "      <td>25.850340</td>\n",
              "    </tr>\n",
              "    <tr>\n",
              "      <th>349</th>\n",
              "      <td>DGN4</td>\n",
              "      <td>1.82</td>\n",
              "      <td>86.30</td>\n",
              "      <td>PRZ0</td>\n",
              "      <td>F</td>\n",
              "      <td>F</td>\n",
              "      <td>F</td>\n",
              "      <td>F</td>\n",
              "      <td>F</td>\n",
              "      <td>OC12</td>\n",
              "      <td>F</td>\n",
              "      <td>F</td>\n",
              "      <td>F</td>\n",
              "      <td>F</td>\n",
              "      <td>F</td>\n",
              "      <td>67</td>\n",
              "      <td>F</td>\n",
              "      <td>47.417582</td>\n",
              "    </tr>\n",
              "    <tr>\n",
              "      <th>352</th>\n",
              "      <td>DGN3</td>\n",
              "      <td>2.94</td>\n",
              "      <td>73.30</td>\n",
              "      <td>PRZ1</td>\n",
              "      <td>F</td>\n",
              "      <td>T</td>\n",
              "      <td>T</td>\n",
              "      <td>F</td>\n",
              "      <td>F</td>\n",
              "      <td>OC12</td>\n",
              "      <td>F</td>\n",
              "      <td>F</td>\n",
              "      <td>F</td>\n",
              "      <td>F</td>\n",
              "      <td>F</td>\n",
              "      <td>60</td>\n",
              "      <td>F</td>\n",
              "      <td>24.931973</td>\n",
              "    </tr>\n",
              "    <tr>\n",
              "      <th>353</th>\n",
              "      <td>DGN3</td>\n",
              "      <td>3.24</td>\n",
              "      <td>52.30</td>\n",
              "      <td>PRZ0</td>\n",
              "      <td>F</td>\n",
              "      <td>F</td>\n",
              "      <td>F</td>\n",
              "      <td>F</td>\n",
              "      <td>F</td>\n",
              "      <td>OC12</td>\n",
              "      <td>T</td>\n",
              "      <td>F</td>\n",
              "      <td>F</td>\n",
              "      <td>T</td>\n",
              "      <td>F</td>\n",
              "      <td>55</td>\n",
              "      <td>F</td>\n",
              "      <td>16.141975</td>\n",
              "    </tr>\n",
              "    <tr>\n",
              "      <th>438</th>\n",
              "      <td>DGN5</td>\n",
              "      <td>3.67</td>\n",
              "      <td>76.80</td>\n",
              "      <td>PRZ0</td>\n",
              "      <td>T</td>\n",
              "      <td>T</td>\n",
              "      <td>F</td>\n",
              "      <td>T</td>\n",
              "      <td>F</td>\n",
              "      <td>OC12</td>\n",
              "      <td>F</td>\n",
              "      <td>F</td>\n",
              "      <td>F</td>\n",
              "      <td>F</td>\n",
              "      <td>F</td>\n",
              "      <td>61</td>\n",
              "      <td>F</td>\n",
              "      <td>20.926431</td>\n",
              "    </tr>\n",
              "    <tr>\n",
              "      <th>444</th>\n",
              "      <td>DGN3</td>\n",
              "      <td>2.56</td>\n",
              "      <td>60.90</td>\n",
              "      <td>PRZ0</td>\n",
              "      <td>F</td>\n",
              "      <td>F</td>\n",
              "      <td>F</td>\n",
              "      <td>F</td>\n",
              "      <td>F</td>\n",
              "      <td>OC11</td>\n",
              "      <td>F</td>\n",
              "      <td>F</td>\n",
              "      <td>F</td>\n",
              "      <td>T</td>\n",
              "      <td>F</td>\n",
              "      <td>50</td>\n",
              "      <td>F</td>\n",
              "      <td>23.789062</td>\n",
              "    </tr>\n",
              "  </tbody>\n",
              "</table>\n",
              "</div>"
            ],
            "text/plain": [
              "    диагноз  емкость_легких  объем_выдоха  ... возраст риск_смерти соотношение\n",
              "25     DGN5            4.56         72.80  ...      57           F   15.964912\n",
              "89     DGN3            2.83         66.40  ...      75           F   23.462898\n",
              "98     DGN3            2.63         67.30  ...      54           F   25.589354\n",
              "112    DGN3            3.68         64.10  ...      60           F   17.418478\n",
              "132    DGN2            2.50         71.10  ...      64           T   28.440000\n",
              "215    DGN2            2.66          8.56  ...      61           F    3.218045\n",
              "255    DGN3            3.72         78.30  ...      44           F   21.048387\n",
              "319    DGN3            2.10         69.10  ...      62           F   32.904762\n",
              "325    DGN4            5.03         79.30  ...      38           F   15.765408\n",
              "330    DGN2            2.94         76.00  ...      61           F   25.850340\n",
              "349    DGN4            1.82         86.30  ...      67           F   47.417582\n",
              "352    DGN3            2.94         73.30  ...      60           F   24.931973\n",
              "353    DGN3            3.24         52.30  ...      55           F   16.141975\n",
              "438    DGN5            3.67         76.80  ...      61           F   20.926431\n",
              "444    DGN3            2.56         60.90  ...      50           F   23.789062\n",
              "\n",
              "[15 rows x 18 columns]"
            ]
          },
          "metadata": {
            "tags": []
          },
          "execution_count": 235
        }
      ]
    },
    {
      "cell_type": "code",
      "metadata": {
        "id": "Ub0G5wBnBEiI"
      },
      "source": [
        "# приведем наши выбросы к медиане\r\n",
        "df.loc[df['соотношение']>1.4, ['объем_выдоха']] = df['емкость_легких']*0.77"
      ],
      "execution_count": 236,
      "outputs": []
    },
    {
      "cell_type": "code",
      "metadata": {
        "colab": {
          "base_uri": "https://localhost:8080/",
          "height": 279
        },
        "id": "LfSGmLcFFgP8",
        "outputId": "b00f36be-7a79-4051-f264-335284fe060f"
      },
      "source": [
        "#посмотрим на график взаимосвязи переменных теперь\r\n",
        "sns.regplot(x=df['емкость_легких'], y=df['объем_выдоха'], fit_reg=False)\r\n",
        "plt.show()"
      ],
      "execution_count": 237,
      "outputs": [
        {
          "output_type": "display_data",
          "data": {
            "image/png": "[encoded data removed]",
            "text/plain": [
              "<Figure size 432x288 with 1 Axes>"
            ]
          },
          "metadata": {
            "tags": [],
            "needs_background": "light"
          }
        }
      ]
    },
    {
      "cell_type": "code",
      "metadata": {
        "id": "We6feSggFmJU"
      },
      "source": [
        "# пока оставим наш столбец в датасете, но пересчитаем его\r\n",
        "del df['соотношение']\r\n",
        "df['соотношение']=df['объем_выдоха']/df['емкость_легких']"
      ],
      "execution_count": 238,
      "outputs": []
    },
    {
      "cell_type": "code",
      "metadata": {
        "colab": {
          "base_uri": "https://localhost:8080/",
          "height": 297
        },
        "id": "jfGchNvgOKcm",
        "outputId": "a40098e6-34f4-472c-fc8d-1f0ac8f14712"
      },
      "source": [
        "#посмотрим на распределение диагнозов. Видим сильную ассиметрию в данных\r\n",
        "dfdgn = df.groupby('диагноз').count()[['возраст']]\r\n",
        "dfdgn"
      ],
      "execution_count": 239,
      "outputs": [
        {
          "output_type": "execute_result",
          "data": {
            "text/html": [
              "<div>\n",
              "<style scoped>\n",
              "    .dataframe tbody tr th:only-of-type {\n",
              "        vertical-align: middle;\n",
              "    }\n",
              "\n",
              "    .dataframe tbody tr th {\n",
              "        vertical-align: top;\n",
              "    }\n",
              "\n",
              "    .dataframe thead th {\n",
              "        text-align: right;\n",
              "    }\n",
              "</style>\n",
              "<table border=\"1\" class=\"dataframe\">\n",
              "  <thead>\n",
              "    <tr style=\"text-align: right;\">\n",
              "      <th></th>\n",
              "      <th>возраст</th>\n",
              "    </tr>\n",
              "    <tr>\n",
              "      <th>диагноз</th>\n",
              "      <th></th>\n",
              "    </tr>\n",
              "  </thead>\n",
              "  <tbody>\n",
              "    <tr>\n",
              "      <th>DGN1</th>\n",
              "      <td>1</td>\n",
              "    </tr>\n",
              "    <tr>\n",
              "      <th>DGN2</th>\n",
              "      <td>52</td>\n",
              "    </tr>\n",
              "    <tr>\n",
              "      <th>DGN3</th>\n",
              "      <td>349</td>\n",
              "    </tr>\n",
              "    <tr>\n",
              "      <th>DGN4</th>\n",
              "      <td>47</td>\n",
              "    </tr>\n",
              "    <tr>\n",
              "      <th>DGN5</th>\n",
              "      <td>15</td>\n",
              "    </tr>\n",
              "    <tr>\n",
              "      <th>DGN6</th>\n",
              "      <td>4</td>\n",
              "    </tr>\n",
              "    <tr>\n",
              "      <th>DGN8</th>\n",
              "      <td>2</td>\n",
              "    </tr>\n",
              "  </tbody>\n",
              "</table>\n",
              "</div>"
            ],
            "text/plain": [
              "         возраст\n",
              "диагноз         \n",
              "DGN1           1\n",
              "DGN2          52\n",
              "DGN3         349\n",
              "DGN4          47\n",
              "DGN5          15\n",
              "DGN6           4\n",
              "DGN8           2"
            ]
          },
          "metadata": {
            "tags": []
          },
          "execution_count": 239
        }
      ]
    },
    {
      "cell_type": "code",
      "metadata": {
        "colab": {
          "base_uri": "https://localhost:8080/",
          "height": 224
        },
        "id": "ycmpaOXasmGj",
        "outputId": "94c83419-96cd-4b71-bcc3-fc488f43a40d"
      },
      "source": [
        "#перекодируем категориальные признаки, используя код с занятия\r\n",
        "from sklearn import preprocessing\r\n",
        "\r\n",
        "def number_encode_features(init_df):\r\n",
        "    result = init_df.copy() \r\n",
        "    encoders = {}\r\n",
        "    for column in result.columns:\r\n",
        "        if result.dtypes[column] == np.object: \r\n",
        "            encoders[column] = preprocessing.LabelEncoder() \r\n",
        "            result[column] = encoders[column].fit_transform(result[column]) \r\n",
        "    return result, encoders\r\n",
        "\r\n",
        "ed, encoders = number_encode_features(df)  \r\n",
        "ed.head() "
      ],
      "execution_count": 240,
      "outputs": [
        {
          "output_type": "execute_result",
          "data": {
            "text/html": [
              "<div>\n",
              "<style scoped>\n",
              "    .dataframe tbody tr th:only-of-type {\n",
              "        vertical-align: middle;\n",
              "    }\n",
              "\n",
              "    .dataframe tbody tr th {\n",
              "        vertical-align: top;\n",
              "    }\n",
              "\n",
              "    .dataframe thead th {\n",
              "        text-align: right;\n",
              "    }\n",
              "</style>\n",
              "<table border=\"1\" class=\"dataframe\">\n",
              "  <thead>\n",
              "    <tr style=\"text-align: right;\">\n",
              "      <th></th>\n",
              "      <th>диагноз</th>\n",
              "      <th>емкость_легких</th>\n",
              "      <th>объем_выдоха</th>\n",
              "      <th>шкала_зуброда</th>\n",
              "      <th>боль</th>\n",
              "      <th>кровохаркание</th>\n",
              "      <th>одышка</th>\n",
              "      <th>кашель</th>\n",
              "      <th>слабость</th>\n",
              "      <th>размер_опухоли</th>\n",
              "      <th>диабет</th>\n",
              "      <th>ИМ</th>\n",
              "      <th>заболевания_периферических_артерий</th>\n",
              "      <th>курение</th>\n",
              "      <th>астматик</th>\n",
              "      <th>возраст</th>\n",
              "      <th>риск_смерти</th>\n",
              "      <th>соотношение</th>\n",
              "    </tr>\n",
              "  </thead>\n",
              "  <tbody>\n",
              "    <tr>\n",
              "      <th>0</th>\n",
              "      <td>1</td>\n",
              "      <td>2.88</td>\n",
              "      <td>2.16</td>\n",
              "      <td>1</td>\n",
              "      <td>0</td>\n",
              "      <td>0</td>\n",
              "      <td>0</td>\n",
              "      <td>1</td>\n",
              "      <td>1</td>\n",
              "      <td>3</td>\n",
              "      <td>0</td>\n",
              "      <td>0</td>\n",
              "      <td>0</td>\n",
              "      <td>1</td>\n",
              "      <td>0</td>\n",
              "      <td>60</td>\n",
              "      <td>0</td>\n",
              "      <td>0.750000</td>\n",
              "    </tr>\n",
              "    <tr>\n",
              "      <th>1</th>\n",
              "      <td>2</td>\n",
              "      <td>3.40</td>\n",
              "      <td>1.88</td>\n",
              "      <td>0</td>\n",
              "      <td>0</td>\n",
              "      <td>0</td>\n",
              "      <td>0</td>\n",
              "      <td>0</td>\n",
              "      <td>0</td>\n",
              "      <td>1</td>\n",
              "      <td>0</td>\n",
              "      <td>0</td>\n",
              "      <td>0</td>\n",
              "      <td>1</td>\n",
              "      <td>0</td>\n",
              "      <td>51</td>\n",
              "      <td>0</td>\n",
              "      <td>0.552941</td>\n",
              "    </tr>\n",
              "    <tr>\n",
              "      <th>2</th>\n",
              "      <td>2</td>\n",
              "      <td>2.76</td>\n",
              "      <td>2.08</td>\n",
              "      <td>1</td>\n",
              "      <td>0</td>\n",
              "      <td>0</td>\n",
              "      <td>0</td>\n",
              "      <td>1</td>\n",
              "      <td>0</td>\n",
              "      <td>0</td>\n",
              "      <td>0</td>\n",
              "      <td>0</td>\n",
              "      <td>0</td>\n",
              "      <td>1</td>\n",
              "      <td>0</td>\n",
              "      <td>59</td>\n",
              "      <td>0</td>\n",
              "      <td>0.753623</td>\n",
              "    </tr>\n",
              "    <tr>\n",
              "      <th>3</th>\n",
              "      <td>2</td>\n",
              "      <td>3.68</td>\n",
              "      <td>3.04</td>\n",
              "      <td>0</td>\n",
              "      <td>0</td>\n",
              "      <td>0</td>\n",
              "      <td>0</td>\n",
              "      <td>0</td>\n",
              "      <td>0</td>\n",
              "      <td>0</td>\n",
              "      <td>0</td>\n",
              "      <td>0</td>\n",
              "      <td>0</td>\n",
              "      <td>0</td>\n",
              "      <td>0</td>\n",
              "      <td>54</td>\n",
              "      <td>0</td>\n",
              "      <td>0.826087</td>\n",
              "    </tr>\n",
              "    <tr>\n",
              "      <th>4</th>\n",
              "      <td>2</td>\n",
              "      <td>2.44</td>\n",
              "      <td>0.96</td>\n",
              "      <td>2</td>\n",
              "      <td>0</td>\n",
              "      <td>1</td>\n",
              "      <td>0</td>\n",
              "      <td>1</td>\n",
              "      <td>1</td>\n",
              "      <td>0</td>\n",
              "      <td>0</td>\n",
              "      <td>0</td>\n",
              "      <td>0</td>\n",
              "      <td>1</td>\n",
              "      <td>0</td>\n",
              "      <td>73</td>\n",
              "      <td>1</td>\n",
              "      <td>0.393443</td>\n",
              "    </tr>\n",
              "  </tbody>\n",
              "</table>\n",
              "</div>"
            ],
            "text/plain": [
              "   диагноз  емкость_легких  объем_выдоха  ...  возраст  риск_смерти  соотношение\n",
              "0        1            2.88          2.16  ...       60            0     0.750000\n",
              "1        2            3.40          1.88  ...       51            0     0.552941\n",
              "2        2            2.76          2.08  ...       59            0     0.753623\n",
              "3        2            3.68          3.04  ...       54            0     0.826087\n",
              "4        2            2.44          0.96  ...       73            1     0.393443\n",
              "\n",
              "[5 rows x 18 columns]"
            ]
          },
          "metadata": {
            "tags": []
          },
          "execution_count": 240
        }
      ]
    },
    {
      "cell_type": "code",
      "metadata": {
        "colab": {
          "base_uri": "https://localhost:8080/"
        },
        "id": "uyhtLp0GvIlI",
        "outputId": "4f92e8ed-4126-4afd-be70-357f74804830"
      },
      "source": [
        "encoders"
      ],
      "execution_count": 241,
      "outputs": [
        {
          "output_type": "execute_result",
          "data": {
            "text/plain": [
              "{'ИМ': LabelEncoder(),\n",
              " 'астматик': LabelEncoder(),\n",
              " 'боль': LabelEncoder(),\n",
              " 'диабет': LabelEncoder(),\n",
              " 'диагноз': LabelEncoder(),\n",
              " 'заболевания_периферических_артерий': LabelEncoder(),\n",
              " 'кашель': LabelEncoder(),\n",
              " 'кровохаркание': LabelEncoder(),\n",
              " 'курение': LabelEncoder(),\n",
              " 'одышка': LabelEncoder(),\n",
              " 'размер_опухоли': LabelEncoder(),\n",
              " 'риск_смерти': LabelEncoder(),\n",
              " 'слабость': LabelEncoder(),\n",
              " 'шкала_зуброда': LabelEncoder()}"
            ]
          },
          "metadata": {
            "tags": []
          },
          "execution_count": 241
        }
      ]
    },
    {
      "cell_type": "code",
      "metadata": {
        "colab": {
          "base_uri": "https://localhost:8080/"
        },
        "id": "MeAUAqmt1OeS",
        "outputId": "8735ed0e-8a99-4987-98f5-075dc8a10931"
      },
      "source": [
        "#выделим целевую переменную\r\n",
        "y = np.array(ed['диагноз'])\r\n",
        "del ed['диагноз']\r\n",
        "\r\n",
        "print(y)\r\n",
        "len(y)"
      ],
      "execution_count": 242,
      "outputs": [
        {
          "output_type": "stream",
          "text": [
            "[1 2 2 2 2 2 2 1 2 2 2 2 2 1 2 2 1 1 2 2 2 3 2 2 6 4 2 2 2 5 2 2 4 2 1 2 2\n",
            " 2 2 2 4 1 2 4 2 2 2 2 2 2 2 2 2 3 2 3 2 2 3 2 2 2 2 2 1 2 2 3 2 2 2 2 2 3\n",
            " 2 2 2 2 2 2 2 2 2 2 2 2 2 2 4 2 3 2 2 2 2 2 3 5 2 2 2 2 3 2 2 4 2 2 2 2 1\n",
            " 2 2 2 2 3 3 2 3 2 1 2 1 3 2 2 2 2 3 1 2 1 1 2 2 2 1 2 2 2 1 2 2 3 1 2 2 2\n",
            " 2 2 2 2 2 2 2 2 2 2 2 2 2 2 2 1 1 2 1 2 2 2 2 1 1 2 2 2 2 2 2 2 2 2 2 2 2\n",
            " 4 2 3 2 3 2 2 1 2 2 2 2 2 2 3 2 2 1 1 2 2 2 2 2 1 2 2 2 2 2 1 1 2 2 2 4 3\n",
            " 2 2 2 3 2 2 2 2 2 4 2 2 2 2 2 2 4 2 2 2 1 2 2 2 3 2 3 2 2 2 2 2 2 2 2 2 2\n",
            " 2 2 2 2 3 2 2 2 2 2 2 2 4 2 3 1 2 2 2 2 2 2 2 2 1 2 2 3 2 2 2 2 2 0 2 1 2\n",
            " 2 2 2 2 2 2 2 2 2 2 4 2 2 2 3 2 2 2 3 1 2 2 2 2 2 2 2 1 3 3 2 2 2 3 1 2 2\n",
            " 3 1 2 2 3 2 2 2 2 3 2 2 1 1 2 1 3 2 2 2 2 2 2 2 2 2 3 2 2 2 2 2 2 2 4 5 2\n",
            " 2 2 2 2 2 2 2 2 2 3 2 2 3 2 2 2 2 3 2 1 2 1 3 2 3 3 2 2 1 2 2 2 2 2 1 5 2\n",
            " 1 2 2 1 2 2 1 2 2 2 2 1 3 4 1 2 2 3 2 2 2 2 2 2 2 2 2 2 2 2 2 4 2 2 1 1 2\n",
            " 2 2 6 1 2 2 2 3 2 2 2 3 2 2 2 2 3 2 2 3 2 1 2 2 2 2]\n"
          ],
          "name": "stdout"
        },
        {
          "output_type": "execute_result",
          "data": {
            "text/plain": [
              "470"
            ]
          },
          "metadata": {
            "tags": []
          },
          "execution_count": 242
        }
      ]
    },
    {
      "cell_type": "code",
      "metadata": {
        "colab": {
          "base_uri": "https://localhost:8080/",
          "height": 1000
        },
        "id": "JVPpaoS1vNA8",
        "outputId": "81ca1536-e0d5-4707-f735-d0390f4a05b2"
      },
      "source": [
        "#посмотрим распределение и описательную статистику наших признаков, большинство из них сильно ассиметричны\r\n",
        "ed.hist(figsize=(25,12))"
      ],
      "execution_count": 243,
      "outputs": [
        {
          "output_type": "execute_result",
          "data": {
            "text/plain": [
              "array([[<matplotlib.axes._subplots.AxesSubplot object at 0x7f30c8c2cef0>,\n",
              "        <matplotlib.axes._subplots.AxesSubplot object at 0x7f30d1f4a9b0>,\n",
              "        <matplotlib.axes._subplots.AxesSubplot object at 0x7f30c87cd828>,\n",
              "        <matplotlib.axes._subplots.AxesSubplot object at 0x7f30c847f0f0>],\n",
              "       [<matplotlib.axes._subplots.AxesSubplot object at 0x7f30c8485208>,\n",
              "        <matplotlib.axes._subplots.AxesSubplot object at 0x7f30c87f1780>,\n",
              "        <matplotlib.axes._subplots.AxesSubplot object at 0x7f30c864b128>,\n",
              "        <matplotlib.axes._subplots.AxesSubplot object at 0x7f30c854eac8>],\n",
              "       [<matplotlib.axes._subplots.AxesSubplot object at 0x7f30c854e860>,\n",
              "        <matplotlib.axes._subplots.AxesSubplot object at 0x7f30c8406860>,\n",
              "        <matplotlib.axes._subplots.AxesSubplot object at 0x7f30c8335be0>,\n",
              "        <matplotlib.axes._subplots.AxesSubplot object at 0x7f30c82eae48>],\n",
              "       [<matplotlib.axes._subplots.AxesSubplot object at 0x7f30c82a90f0>,\n",
              "        <matplotlib.axes._subplots.AxesSubplot object at 0x7f30c825d358>,\n",
              "        <matplotlib.axes._subplots.AxesSubplot object at 0x7f30c828f5c0>,\n",
              "        <matplotlib.axes._subplots.AxesSubplot object at 0x7f30c8243828>],\n",
              "       [<matplotlib.axes._subplots.AxesSubplot object at 0x7f30c81f6a90>,\n",
              "        <matplotlib.axes._subplots.AxesSubplot object at 0x7f30c81abcf8>,\n",
              "        <matplotlib.axes._subplots.AxesSubplot object at 0x7f30c8160f60>,\n",
              "        <matplotlib.axes._subplots.AxesSubplot object at 0x7f30c811f208>]],\n",
              "      dtype=object)"
            ]
          },
          "metadata": {
            "tags": []
          },
          "execution_count": 243
        },
        {
          "output_type": "display_data",
          "data": {
            "image/png": "[encoded data removed]",
            "text/plain": [
              "<Figure size 1800x864 with 20 Axes>"
            ]
          },
          "metadata": {
            "tags": [],
            "needs_background": "light"
          }
        }
      ]
    },
    {
      "cell_type": "code",
      "metadata": {
        "colab": {
          "base_uri": "https://localhost:8080/",
          "height": 317
        },
        "id": "V_VACJiA2oat",
        "outputId": "49d59a05-5723-4735-8c88-9be4073e9734"
      },
      "source": [
        "ed.describe()"
      ],
      "execution_count": 244,
      "outputs": [
        {
          "output_type": "execute_result",
          "data": {
            "text/html": [
              "<div>\n",
              "<style scoped>\n",
              "    .dataframe tbody tr th:only-of-type {\n",
              "        vertical-align: middle;\n",
              "    }\n",
              "\n",
              "    .dataframe tbody tr th {\n",
              "        vertical-align: top;\n",
              "    }\n",
              "\n",
              "    .dataframe thead th {\n",
              "        text-align: right;\n",
              "    }\n",
              "</style>\n",
              "<table border=\"1\" class=\"dataframe\">\n",
              "  <thead>\n",
              "    <tr style=\"text-align: right;\">\n",
              "      <th></th>\n",
              "      <th>емкость_легких</th>\n",
              "      <th>объем_выдоха</th>\n",
              "      <th>шкала_зуброда</th>\n",
              "      <th>боль</th>\n",
              "      <th>кровохаркание</th>\n",
              "      <th>одышка</th>\n",
              "      <th>кашель</th>\n",
              "      <th>слабость</th>\n",
              "      <th>размер_опухоли</th>\n",
              "      <th>диабет</th>\n",
              "      <th>ИМ</th>\n",
              "      <th>заболевания_периферических_артерий</th>\n",
              "      <th>курение</th>\n",
              "      <th>астматик</th>\n",
              "      <th>возраст</th>\n",
              "      <th>риск_смерти</th>\n",
              "      <th>соотношение</th>\n",
              "    </tr>\n",
              "  </thead>\n",
              "  <tbody>\n",
              "    <tr>\n",
              "      <th>count</th>\n",
              "      <td>470.000000</td>\n",
              "      <td>470.000000</td>\n",
              "      <td>470.000000</td>\n",
              "      <td>470.000000</td>\n",
              "      <td>470.000000</td>\n",
              "      <td>470.000000</td>\n",
              "      <td>470.000000</td>\n",
              "      <td>470.000000</td>\n",
              "      <td>470.000000</td>\n",
              "      <td>470.000000</td>\n",
              "      <td>470.000000</td>\n",
              "      <td>470.000000</td>\n",
              "      <td>470.000000</td>\n",
              "      <td>470.000000</td>\n",
              "      <td>470.000000</td>\n",
              "      <td>470.000000</td>\n",
              "      <td>470.000000</td>\n",
              "    </tr>\n",
              "    <tr>\n",
              "      <th>mean</th>\n",
              "      <td>3.281638</td>\n",
              "      <td>2.512399</td>\n",
              "      <td>0.780851</td>\n",
              "      <td>0.065957</td>\n",
              "      <td>0.144681</td>\n",
              "      <td>0.065957</td>\n",
              "      <td>0.687234</td>\n",
              "      <td>0.165957</td>\n",
              "      <td>0.736170</td>\n",
              "      <td>0.074468</td>\n",
              "      <td>0.004255</td>\n",
              "      <td>0.017021</td>\n",
              "      <td>0.821277</td>\n",
              "      <td>0.004255</td>\n",
              "      <td>62.534043</td>\n",
              "      <td>0.148936</td>\n",
              "      <td>0.764652</td>\n",
              "    </tr>\n",
              "    <tr>\n",
              "      <th>std</th>\n",
              "      <td>0.871395</td>\n",
              "      <td>0.768012</td>\n",
              "      <td>0.535375</td>\n",
              "      <td>0.248472</td>\n",
              "      <td>0.352154</td>\n",
              "      <td>0.248472</td>\n",
              "      <td>0.464114</td>\n",
              "      <td>0.372439</td>\n",
              "      <td>0.702243</td>\n",
              "      <td>0.262811</td>\n",
              "      <td>0.065163</td>\n",
              "      <td>0.129488</td>\n",
              "      <td>0.383529</td>\n",
              "      <td>0.065163</td>\n",
              "      <td>8.706902</td>\n",
              "      <td>0.356405</td>\n",
              "      <td>0.103924</td>\n",
              "    </tr>\n",
              "    <tr>\n",
              "      <th>min</th>\n",
              "      <td>1.440000</td>\n",
              "      <td>0.960000</td>\n",
              "      <td>0.000000</td>\n",
              "      <td>0.000000</td>\n",
              "      <td>0.000000</td>\n",
              "      <td>0.000000</td>\n",
              "      <td>0.000000</td>\n",
              "      <td>0.000000</td>\n",
              "      <td>0.000000</td>\n",
              "      <td>0.000000</td>\n",
              "      <td>0.000000</td>\n",
              "      <td>0.000000</td>\n",
              "      <td>0.000000</td>\n",
              "      <td>0.000000</td>\n",
              "      <td>21.000000</td>\n",
              "      <td>0.000000</td>\n",
              "      <td>0.265957</td>\n",
              "    </tr>\n",
              "    <tr>\n",
              "      <th>25%</th>\n",
              "      <td>2.600000</td>\n",
              "      <td>1.960000</td>\n",
              "      <td>0.000000</td>\n",
              "      <td>0.000000</td>\n",
              "      <td>0.000000</td>\n",
              "      <td>0.000000</td>\n",
              "      <td>0.000000</td>\n",
              "      <td>0.000000</td>\n",
              "      <td>0.000000</td>\n",
              "      <td>0.000000</td>\n",
              "      <td>0.000000</td>\n",
              "      <td>0.000000</td>\n",
              "      <td>1.000000</td>\n",
              "      <td>0.000000</td>\n",
              "      <td>57.000000</td>\n",
              "      <td>0.000000</td>\n",
              "      <td>0.713354</td>\n",
              "    </tr>\n",
              "    <tr>\n",
              "      <th>50%</th>\n",
              "      <td>3.160000</td>\n",
              "      <td>2.360000</td>\n",
              "      <td>1.000000</td>\n",
              "      <td>0.000000</td>\n",
              "      <td>0.000000</td>\n",
              "      <td>0.000000</td>\n",
              "      <td>1.000000</td>\n",
              "      <td>0.000000</td>\n",
              "      <td>1.000000</td>\n",
              "      <td>0.000000</td>\n",
              "      <td>0.000000</td>\n",
              "      <td>0.000000</td>\n",
              "      <td>1.000000</td>\n",
              "      <td>0.000000</td>\n",
              "      <td>62.000000</td>\n",
              "      <td>0.000000</td>\n",
              "      <td>0.770000</td>\n",
              "    </tr>\n",
              "    <tr>\n",
              "      <th>75%</th>\n",
              "      <td>3.807500</td>\n",
              "      <td>2.960000</td>\n",
              "      <td>1.000000</td>\n",
              "      <td>0.000000</td>\n",
              "      <td>0.000000</td>\n",
              "      <td>0.000000</td>\n",
              "      <td>1.000000</td>\n",
              "      <td>0.000000</td>\n",
              "      <td>1.000000</td>\n",
              "      <td>0.000000</td>\n",
              "      <td>0.000000</td>\n",
              "      <td>0.000000</td>\n",
              "      <td>1.000000</td>\n",
              "      <td>0.000000</td>\n",
              "      <td>69.000000</td>\n",
              "      <td>0.000000</td>\n",
              "      <td>0.824126</td>\n",
              "    </tr>\n",
              "    <tr>\n",
              "      <th>max</th>\n",
              "      <td>6.300000</td>\n",
              "      <td>5.480000</td>\n",
              "      <td>2.000000</td>\n",
              "      <td>1.000000</td>\n",
              "      <td>1.000000</td>\n",
              "      <td>1.000000</td>\n",
              "      <td>1.000000</td>\n",
              "      <td>1.000000</td>\n",
              "      <td>3.000000</td>\n",
              "      <td>1.000000</td>\n",
              "      <td>1.000000</td>\n",
              "      <td>1.000000</td>\n",
              "      <td>1.000000</td>\n",
              "      <td>1.000000</td>\n",
              "      <td>87.000000</td>\n",
              "      <td>1.000000</td>\n",
              "      <td>1.210526</td>\n",
              "    </tr>\n",
              "  </tbody>\n",
              "</table>\n",
              "</div>"
            ],
            "text/plain": [
              "       емкость_легких  объем_выдоха  ...  риск_смерти  соотношение\n",
              "count      470.000000    470.000000  ...   470.000000   470.000000\n",
              "mean         3.281638      2.512399  ...     0.148936     0.764652\n",
              "std          0.871395      0.768012  ...     0.356405     0.103924\n",
              "min          1.440000      0.960000  ...     0.000000     0.265957\n",
              "25%          2.600000      1.960000  ...     0.000000     0.713354\n",
              "50%          3.160000      2.360000  ...     0.000000     0.770000\n",
              "75%          3.807500      2.960000  ...     0.000000     0.824126\n",
              "max          6.300000      5.480000  ...     1.000000     1.210526\n",
              "\n",
              "[8 rows x 17 columns]"
            ]
          },
          "metadata": {
            "tags": []
          },
          "execution_count": 244
        }
      ]
    },
    {
      "cell_type": "code",
      "metadata": {
        "colab": {
          "base_uri": "https://localhost:8080/",
          "height": 746
        },
        "id": "uhE5AIwAgSfb",
        "outputId": "e0aa3de4-8145-4b2b-f42c-cb5a7cfcb603"
      },
      "source": [
        "#построим матрицу корреляции признаков, есть выраженные связи\r\n",
        "plt.subplots(figsize=(10,10))\r\n",
        "ed, encoders = number_encode_features(ed)\r\n",
        "sns.heatmap(ed.corr(), square=True)\r\n",
        "plt.show()"
      ],
      "execution_count": 245,
      "outputs": [
        {
          "output_type": "display_data",
          "data": {
            "image/png": "[encoded data removed]",
            "text/plain": [
              "<Figure size 720x720 with 2 Axes>"
            ]
          },
          "metadata": {
            "tags": [],
            "needs_background": "light"
          }
        }
      ]
    },
    {
      "cell_type": "code",
      "metadata": {
        "id": "5jKbUNuXltVn"
      },
      "source": [
        "#удалим объем выдоха\r\n",
        "del ed['объем_выдоха']"
      ],
      "execution_count": 246,
      "outputs": []
    },
    {
      "cell_type": "code",
      "metadata": {
        "colab": {
          "base_uri": "https://localhost:8080/"
        },
        "id": "LgARL_MrguFE",
        "outputId": "0f331652-4301-4ae1-ad81-3ff8939bbe24"
      },
      "source": [
        "#создадим обучающую выборку, нормализуем данные\r\n",
        "from sklearn.preprocessing import scale\r\n",
        "X = np.array(ed)\r\n",
        "X = scale(np.array(X, dtype='float'), with_std=True, with_mean=True)\r\n",
        "\r\n",
        "X"
      ],
      "execution_count": 247,
      "outputs": [
        {
          "output_type": "execute_result",
          "data": {
            "text/plain": [
              "array([[-0.46140527,  0.4097736 , -0.26573489, ..., -0.29134848,\n",
              "        -0.41833001, -0.14113695],\n",
              "       [ 0.13597486, -1.46006711, -0.26573489, ..., -1.32611263,\n",
              "        -0.41833001, -2.03934632],\n",
              "       [-0.59926222,  0.4097736 , -0.26573489, ..., -0.40632228,\n",
              "        -0.41833001, -0.10623585],\n",
              "       ...,\n",
              "       [-0.277596  ,  0.4097736 , -0.26573489, ..., -1.21113883,\n",
              "        -0.41833001, -0.77486749],\n",
              "       [-1.51830858,  0.4097736 , -0.26573489, ...,  1.89315359,\n",
              "        -0.41833001,  0.89093851],\n",
              "       [ 1.65240135, -1.46006711, -0.26573489, ..., -1.32611263,\n",
              "        -0.41833001, -0.10032041]])"
            ]
          },
          "metadata": {
            "tags": []
          },
          "execution_count": 247
        }
      ]
    },
    {
      "cell_type": "code",
      "metadata": {
        "id": "fNGhzj9Mu2nw"
      },
      "source": [
        "X_train, X_test, y_train, y_test = train_test_split(X, y, test_size=0.15)"
      ],
      "execution_count": 300,
      "outputs": []
    },
    {
      "cell_type": "code",
      "metadata": {
        "id": "OoO1B62IVYVi"
      },
      "source": [
        "#аугментация\r\n",
        "def oversample_data(X, y):\r\n",
        "    return ADASYN(sampling_strategy='not majority').fit_resample(np.array(X), np.array(y))"
      ],
      "execution_count": 301,
      "outputs": []
    },
    {
      "cell_type": "code",
      "metadata": {
        "id": "3eDe6h13cViY"
      },
      "source": [
        "def augment_data(X, y):\r\n",
        "    try:\r\n",
        "        X, y = oversample_data(X, y)\r\n",
        "    except:\r\n",
        "        pass\r\n",
        "    return X, y"
      ],
      "execution_count": 302,
      "outputs": []
    },
    {
      "cell_type": "code",
      "metadata": {
        "colab": {
          "base_uri": "https://localhost:8080/"
        },
        "id": "1IyuqrcWynt8",
        "outputId": "c45f993a-50f8-4fcb-814b-87b19a8e5dee"
      },
      "source": [
        "X_train, y_train = augment_data(X_train, y_train)"
      ],
      "execution_count": 303,
      "outputs": [
        {
          "output_type": "stream",
          "text": [
            "/usr/local/lib/python3.6/dist-packages/sklearn/utils/deprecation.py:87: FutureWarning: Function safe_indexing is deprecated; safe_indexing is deprecated in version 0.22 and will be removed in version 0.24.\n",
            "  warnings.warn(msg, category=FutureWarning)\n"
          ],
          "name": "stderr"
        }
      ]
    },
    {
      "cell_type": "code",
      "metadata": {
        "colab": {
          "base_uri": "https://localhost:8080/"
        },
        "id": "GnYk6ykUcWQv",
        "outputId": "d1439e51-3bb5-4583-fbc6-b053531c8f71"
      },
      "source": [
        "X_train.shape, y_train.shape"
      ],
      "execution_count": 304,
      "outputs": [
        {
          "output_type": "execute_result",
          "data": {
            "text/plain": [
              "((399, 16), (399,))"
            ]
          },
          "metadata": {
            "tags": []
          },
          "execution_count": 304
        }
      ]
    },
    {
      "cell_type": "code",
      "metadata": {
        "id": "1brmkeqTnbd6"
      },
      "source": [
        "#SVM\r\n",
        "from sklearn.svm import SVC"
      ],
      "execution_count": 305,
      "outputs": []
    },
    {
      "cell_type": "code",
      "metadata": {
        "colab": {
          "base_uri": "https://localhost:8080/"
        },
        "id": "KLIorLZKnby9",
        "outputId": "0864e507-5767-473b-d553-6897b6be2c5c"
      },
      "source": [
        "alg = SVC()\r\n",
        "\r\n",
        "grid = {'C': np.array(np.linspace(-5, 5, 10), dtype='float'),\r\n",
        "        'kernel': ['linear', 'poly', 'rbf', 'sigmoid'],\r\n",
        "        }\r\n",
        "\r\n",
        "gs = GridSearchCV(alg, grid, verbose=2, n_jobs = -1, scoring = 'f1_macro')\r\n",
        "gs.fit(X_train, y_train,)\r\n",
        "gs.best_params_, gs.best_score_"
      ],
      "execution_count": 306,
      "outputs": [
        {
          "output_type": "stream",
          "text": [
            "Fitting 5 folds for each of 40 candidates, totalling 200 fits\n"
          ],
          "name": "stdout"
        },
        {
          "output_type": "stream",
          "text": [
            "/usr/local/lib/python3.6/dist-packages/sklearn/model_selection/_split.py:667: UserWarning: The least populated class in y has only 1 members, which is less than n_splits=5.\n",
            "  % (min_groups, self.n_splits)), UserWarning)\n",
            "[Parallel(n_jobs=-1)]: Using backend LokyBackend with 2 concurrent workers.\n",
            "[Parallel(n_jobs=-1)]: Done 200 out of 200 | elapsed:    1.1s finished\n"
          ],
          "name": "stderr"
        },
        {
          "output_type": "execute_result",
          "data": {
            "text/plain": [
              "({'C': 5.0, 'kernel': 'poly'}, 0.22611437135919293)"
            ]
          },
          "metadata": {
            "tags": []
          },
          "execution_count": 306
        }
      ]
    },
    {
      "cell_type": "code",
      "metadata": {
        "id": "q9P1AJSrncHh"
      },
      "source": [
        "alg = SVC(C =  5.0, kernel = 'poly')\r\n",
        "alg.fit(X_train, y_train)\r\n",
        "preds = alg.predict(X_test)"
      ],
      "execution_count": 307,
      "outputs": []
    },
    {
      "cell_type": "code",
      "metadata": {
        "colab": {
          "base_uri": "https://localhost:8080/"
        },
        "id": "MDFB2r07nchv",
        "outputId": "0027fa74-7a9b-488f-9bce-58c163cd54f2"
      },
      "source": [
        "# относительно неплохие результаты только для признака 2\r\n",
        "from sklearn import metrics\r\n",
        "\r\n",
        "print(metrics.classification_report(y_test, preds))"
      ],
      "execution_count": 308,
      "outputs": [
        {
          "output_type": "stream",
          "text": [
            "              precision    recall  f1-score   support\n",
            "\n",
            "           1       0.20      0.12      0.15         8\n",
            "           2       0.64      0.89      0.74        44\n",
            "           3       0.00      0.00      0.00        13\n",
            "           4       0.50      0.25      0.33         4\n",
            "           5       0.00      0.00      0.00         1\n",
            "           6       0.00      0.00      0.00         1\n",
            "\n",
            "    accuracy                           0.58        71\n",
            "   macro avg       0.22      0.21      0.21        71\n",
            "weighted avg       0.45      0.58      0.50        71\n",
            "\n"
          ],
          "name": "stdout"
        },
        {
          "output_type": "stream",
          "text": [
            "/usr/local/lib/python3.6/dist-packages/sklearn/metrics/_classification.py:1272: UndefinedMetricWarning: Precision and F-score are ill-defined and being set to 0.0 in labels with no predicted samples. Use `zero_division` parameter to control this behavior.\n",
            "  _warn_prf(average, modifier, msg_start, len(result))\n"
          ],
          "name": "stderr"
        }
      ]
    },
    {
      "cell_type": "code",
      "metadata": {
        "colab": {
          "base_uri": "https://localhost:8080/"
        },
        "id": "Kmrnc_3Lrxnm",
        "outputId": "448cbb5c-5241-4b77-b213-c77c894ba919"
      },
      "source": [
        "alg = SVC()\r\n",
        "\r\n",
        "grid = {'C': np.array(np.linspace(-5, 5, 10), dtype='float'),\r\n",
        "        'kernel': ['linear', 'poly', 'rbf', 'sigmoid'],\r\n",
        "        }\r\n",
        "\r\n",
        "gs =RandomizedSearchCV(alg, grid, verbose=2, n_jobs = -1, scoring = 'f1_macro')\r\n",
        "gs.fit(X_train, y_train,)\r\n",
        "gs.best_params_, gs.best_score_"
      ],
      "execution_count": 309,
      "outputs": [
        {
          "output_type": "stream",
          "text": [
            "Fitting 5 folds for each of 10 candidates, totalling 50 fits\n"
          ],
          "name": "stdout"
        },
        {
          "output_type": "stream",
          "text": [
            "/usr/local/lib/python3.6/dist-packages/sklearn/model_selection/_split.py:667: UserWarning: The least populated class in y has only 1 members, which is less than n_splits=5.\n",
            "  % (min_groups, self.n_splits)), UserWarning)\n",
            "[Parallel(n_jobs=-1)]: Using backend LokyBackend with 2 concurrent workers.\n",
            "[Parallel(n_jobs=-1)]: Done  50 out of  50 | elapsed:    0.4s finished\n"
          ],
          "name": "stderr"
        },
        {
          "output_type": "execute_result",
          "data": {
            "text/plain": [
              "({'C': 5.0, 'kernel': 'rbf'}, 0.2105299121239666)"
            ]
          },
          "metadata": {
            "tags": []
          },
          "execution_count": 309
        }
      ]
    },
    {
      "cell_type": "code",
      "metadata": {
        "id": "wKJ08kDnrx9n"
      },
      "source": [
        "alg = SVC(C =  5.0, kernel = 'rbf')\r\n",
        "alg.fit(X_train, y_train)\r\n",
        "preds = alg.predict(X_test)"
      ],
      "execution_count": 317,
      "outputs": []
    },
    {
      "cell_type": "code",
      "metadata": {
        "colab": {
          "base_uri": "https://localhost:8080/"
        },
        "id": "ait67WCmryMd",
        "outputId": "0a6e153f-0e34-4e72-9650-70290e00b48a"
      },
      "source": [
        "# не смог обнаружить диагноз 4, рещультаты хуже чем при использовании GridSearchCV\r\n",
        "from sklearn import metrics\r\n",
        "\r\n",
        "print(metrics.classification_report(y_test, preds))"
      ],
      "execution_count": 318,
      "outputs": [
        {
          "output_type": "stream",
          "text": [
            "              precision    recall  f1-score   support\n",
            "\n",
            "           1       0.14      0.12      0.13         8\n",
            "           2       0.63      0.89      0.74        44\n",
            "           3       0.00      0.00      0.00        13\n",
            "           4       0.00      0.00      0.00         4\n",
            "           5       0.00      0.00      0.00         1\n",
            "           6       0.00      0.00      0.00         1\n",
            "\n",
            "    accuracy                           0.56        71\n",
            "   macro avg       0.13      0.17      0.14        71\n",
            "weighted avg       0.41      0.56      0.47        71\n",
            "\n"
          ],
          "name": "stdout"
        },
        {
          "output_type": "stream",
          "text": [
            "/usr/local/lib/python3.6/dist-packages/sklearn/metrics/_classification.py:1272: UndefinedMetricWarning: Precision and F-score are ill-defined and being set to 0.0 in labels with no predicted samples. Use `zero_division` parameter to control this behavior.\n",
            "  _warn_prf(average, modifier, msg_start, len(result))\n"
          ],
          "name": "stderr"
        }
      ]
    },
    {
      "cell_type": "code",
      "metadata": {
        "id": "WS4EtngJsUSO"
      },
      "source": [
        "#логистическая регрессия\r\n",
        "from sklearn.linear_model import LogisticRegression\r\n",
        "\r\n",
        "clf = LogisticRegression(class_weight = 'balanced')\r\n",
        "\r\n",
        "clf.fit(X_train, y_train)\r\n",
        "\r\n",
        "predictions = clf.predict(X_test)"
      ],
      "execution_count": 319,
      "outputs": []
    },
    {
      "cell_type": "code",
      "metadata": {
        "colab": {
          "base_uri": "https://localhost:8080/"
        },
        "id": "FY0S5HkQsUvD",
        "outputId": "dbf35509-65da-4233-99aa-2f0a2c9bf57f"
      },
      "source": [
        "# опознал диагнозы 3,6, но по 2 диагнозу несколько хуже\r\n",
        "print(metrics.classification_report(y_test, preds))"
      ],
      "execution_count": 320,
      "outputs": [
        {
          "output_type": "stream",
          "text": [
            "              precision    recall  f1-score   support\n",
            "\n",
            "           0       0.00      0.00      0.00         0\n",
            "           1       0.20      0.38      0.26         8\n",
            "           2       0.87      0.30      0.44        44\n",
            "           3       0.23      0.23      0.23        13\n",
            "           4       0.33      0.75      0.46         4\n",
            "           5       0.00      0.00      0.00         1\n",
            "           6       1.00      1.00      1.00         1\n",
            "\n",
            "    accuracy                           0.32        71\n",
            "   macro avg       0.38      0.38      0.34        71\n",
            "weighted avg       0.63      0.32      0.38        71\n",
            "\n"
          ],
          "name": "stdout"
        },
        {
          "output_type": "stream",
          "text": [
            "/usr/local/lib/python3.6/dist-packages/sklearn/metrics/_classification.py:1272: UndefinedMetricWarning: Recall and F-score are ill-defined and being set to 0.0 in labels with no true samples. Use `zero_division` parameter to control this behavior.\n",
            "  _warn_prf(average, modifier, msg_start, len(result))\n"
          ],
          "name": "stderr"
        }
      ]
    },
    {
      "cell_type": "code",
      "metadata": {
        "id": "Mapo4R_J1KeF"
      },
      "source": [
        "#KNN\r\n",
        "from sklearn import dummy\r\n",
        "\r\n",
        "\r\n",
        "knn = KNeighborsClassifier(n_neighbors=2) \r\n",
        "\r\n",
        "clf_knn = knn.fit(X_train, y_train)\r\n",
        "clf_mp = dummy.DummyClassifier(\"most_frequent\").fit(X_train, y_train)"
      ],
      "execution_count": 339,
      "outputs": []
    },
    {
      "cell_type": "code",
      "metadata": {
        "id": "MV5DKtKZ274t"
      },
      "source": [
        "predictions = clf_knn.predict(X_test)\r\n",
        "y_mp = clf_mp.predict(X_test)"
      ],
      "execution_count": 343,
      "outputs": []
    },
    {
      "cell_type": "code",
      "metadata": {
        "colab": {
          "base_uri": "https://localhost:8080/"
        },
        "id": "uYykNjzx2vK9",
        "outputId": "c08ac64b-4d07-40db-b151-e4877888ead5"
      },
      "source": [
        "#результаты в целом хуже чем у логистической регрессии\r\n",
        "print(metrics.classification_report(y_test, predictions))"
      ],
      "execution_count": 344,
      "outputs": [
        {
          "output_type": "stream",
          "text": [
            "              precision    recall  f1-score   support\n",
            "\n",
            "           0       0.00      0.00      0.00         0\n",
            "           1       0.12      0.25      0.16         8\n",
            "           2       0.59      0.66      0.62        44\n",
            "           3       0.25      0.08      0.12        13\n",
            "           4       0.00      0.00      0.00         4\n",
            "           5       0.00      0.00      0.00         1\n",
            "           6       0.00      0.00      0.00         1\n",
            "\n",
            "    accuracy                           0.45        71\n",
            "   macro avg       0.14      0.14      0.13        71\n",
            "weighted avg       0.43      0.45      0.43        71\n",
            "\n"
          ],
          "name": "stdout"
        },
        {
          "output_type": "stream",
          "text": [
            "/usr/local/lib/python3.6/dist-packages/sklearn/metrics/_classification.py:1272: UndefinedMetricWarning: Precision and F-score are ill-defined and being set to 0.0 in labels with no predicted samples. Use `zero_division` parameter to control this behavior.\n",
            "  _warn_prf(average, modifier, msg_start, len(result))\n",
            "/usr/local/lib/python3.6/dist-packages/sklearn/metrics/_classification.py:1272: UndefinedMetricWarning: Recall and F-score are ill-defined and being set to 0.0 in labels with no true samples. Use `zero_division` parameter to control this behavior.\n",
            "  _warn_prf(average, modifier, msg_start, len(result))\n"
          ],
          "name": "stderr"
        }
      ]
    }
  ]
}